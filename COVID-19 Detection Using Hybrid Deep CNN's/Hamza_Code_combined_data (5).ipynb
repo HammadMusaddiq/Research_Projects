{
 "cells": [
  {
   "cell_type": "code",
   "execution_count": null,
   "id": "b86adf80",
   "metadata": {},
   "outputs": [],
   "source": [
    "#https://www.tensorflow.org/tutorials/images/transfer_learning#data_preprocessing"
   ]
  },
  {
   "cell_type": "code",
   "execution_count": 1,
   "id": "5380d5df",
   "metadata": {
    "id": "5380d5df"
   },
   "outputs": [],
   "source": [
    "import pandas as pd\n",
    "import numpy as np\n",
    "import math"
   ]
  },
  {
   "cell_type": "code",
   "execution_count": 2,
   "id": "cd10b90d",
   "metadata": {
    "id": "cd10b90d"
   },
   "outputs": [],
   "source": [
    "from sklearn.model_selection import train_test_split\n",
    "from sklearn.metrics import classification_report\n",
    "from sklearn.metrics import accuracy_score\n",
    "from sklearn.metrics import confusion_matrix\n",
    "from sklearn.preprocessing import MinMaxScaler\n",
    "from sklearn.preprocessing import LabelEncoder\n",
    "from sklearn.model_selection import RepeatedStratifiedKFold"
   ]
  },
  {
   "cell_type": "code",
   "execution_count": 3,
   "id": "7a30730a",
   "metadata": {
    "id": "7a30730a"
   },
   "outputs": [],
   "source": [
    "import keras\n",
    "from tensorflow.keras.models import Sequential\n",
    "from tensorflow.keras.layers import Conv2D,Flatten,MaxPooling2D,Dropout,Dense,Activation,BatchNormalization"
   ]
  },
  {
   "cell_type": "code",
   "execution_count": 4,
   "id": "1bdede3d",
   "metadata": {
    "id": "1bdede3d"
   },
   "outputs": [],
   "source": [
    "import tensorflow as tf\n",
    "from tensorflow.keras.preprocessing.image import load_img, img_to_array\n",
    "from tensorflow.keras.utils import to_categorical\n",
    "import tensorflow_hub as hub\n",
    "from tensorflow.keras.optimizers import Adam\n",
    "from tensorflow.keras.optimizers.schedules import ExponentialDecay"
   ]
  },
  {
   "cell_type": "code",
   "execution_count": 100,
   "id": "84b09238",
   "metadata": {
    "id": "84b09238"
   },
   "outputs": [],
   "source": [
    "from tqdm import tqdm\n",
    "from tabulate import tabulate\n",
    "from matplotlib import pyplot as plt"
   ]
  },
  {
   "cell_type": "code",
   "execution_count": 6,
   "id": "cbe0c3b7",
   "metadata": {
    "id": "cbe0c3b7"
   },
   "outputs": [],
   "source": [
    "# selecting random number of images from multiple folders and copying it to the destination folder\n",
    "# Combined Prediction (take new sample and make combine data)\n",
    "\n",
    "import os\n",
    "import shutil\n",
    "import glob\n",
    "import random\n",
    "# ctscan_covid_data = random.sample(glob.glob(\"Custom_Data/CT_Scan/Covid/CT_COVID/*.png\"), 330)\n",
    "# ctscan_normal_data = random.sample(glob.glob(\"Custom_Data/CT_Scan/Normal/CT_nonCOVID/*\"), 330)\n",
    "\n",
    "# ultrasound_covid_data = random.sample(glob.glob(\"Custom_Data/ultrasound/Covid/*\"), 330)\n",
    "# ultrasound_normal_data = random.sample(glob.glob(\"Custom_Data/ultrasound/Normal/*.jpg\"), 330)\n",
    "\n",
    "# xray_covid_data = random.sample(glob.glob(\"Custom_Data/X_ray/Covid/*.png\"), 330)\n",
    "# xray_normal_data = random.sample(glob.glob(\"Custom_Data/X_ray/Normal/*.png\"), 330)\n",
    "\n",
    "ctscan_covid_data = random.sample(glob.glob(\"Hamza_Custom_Data/CT_Scan/Covid/*.png\"), 330)\n",
    "ctscan_normal_data = random.sample(glob.glob(\"Hamza_Custom_Data/CT_Scan/Normal/*\"), 330)   \n",
    "\n",
    "ultrasound_covid_data = random.sample(glob.glob(\"Hamza_Custom_Data/Ultra_Sound/Covid/*\"), 330)\n",
    "ultrasound_normal_data = random.sample(glob.glob(\"Hamza_Custom_Data/Ultra_Sound/Normal/*.jpg\"), 330)\n",
    "\n",
    "xray_covid_data = random.sample(glob.glob(\"Hamza_Custom_Data/X_Ray/Covid/*.png\"), 330)\n",
    "xray_normal_data = random.sample(glob.glob(\"Hamza_Custom_Data/X_Ray/Normal/*.png\"), 330)\n",
    "\n",
    "covid_list=[ctscan_covid_data,ultrasound_covid_data,xray_covid_data]\n",
    "\n",
    "normal_list = [ctscan_normal_data, ultrasound_normal_data,xray_normal_data]\n",
    "\n",
    "if os.path.isdir('Data/Covid'):\n",
    "    shutil.rmtree('Data/Covid')\n",
    "    \n",
    "if os.path.isdir('Data/Normal'):\n",
    "    shutil.rmtree('Data/Normal')\n",
    "\n",
    "for data in covid_list:\n",
    "    dest = 'Data/Covid'\n",
    "    if not os.path.isdir('Data/Covid'):\n",
    "        os.makedirs(dest)\n",
    "    for imgs in data:\n",
    "        shutil.copy(imgs, dest)\n",
    "\n",
    "for data in normal_list:\n",
    "    dest = 'Data/Normal' \n",
    "    if not os.path.isdir('Data/Normal'):\n",
    "          os.makedirs(dest)\n",
    "    for imgs in data:\n",
    "        shutil.copy(imgs, dest)"
   ]
  },
  {
   "cell_type": "code",
   "execution_count": 6,
   "id": "f7d589a7",
   "metadata": {
    "id": "f7d589a7"
   },
   "outputs": [],
   "source": [
    "# pre-processing (image shape)\n",
    "# X shape in 3 dimensions\n",
    "# Y has 2 classes (Covid, Normal)\n",
    "# make train and test data\n",
    "\n",
    "class Dataset:\n",
    "    def __init__(self, data_root: str, *, test_size: float, img_size: int, seed: int = 0) -> None:\n",
    "        self.label2index = {}\n",
    "        self.index2label = {}\n",
    "        \n",
    "        # Discover the class label names.\n",
    "        class_labels = os.listdir(data_root)\n",
    "        self.nclasses = len(class_labels)\n",
    "        X, y = [], []\n",
    "        \n",
    "        for label_index, label in enumerate(class_labels):\n",
    "            # Load the images for this class label.\n",
    "            self.label2index[label_index] = label\n",
    "            self.index2label[label] = label_index\n",
    "            \n",
    "            img_names = os.listdir(os.path.join(data_root, label))\n",
    "            for img_name in img_names:\n",
    "                img_path = os.path.join(data_root, label, img_name)\n",
    "                img = load_img(img_path, target_size=(img_size, img_size, 3))\n",
    "                X.append(img_to_array(img))\n",
    "                y.append(label_index)\n",
    "        \n",
    "        X = np.array(X)\n",
    "        y = np.array(y)\n",
    "        one_hot_y = to_categorical(y, num_classes=self.nclasses)\n",
    "        \n",
    "        # Make a stratified split.\n",
    "        self.X_train, self.X_test, self.labels_train, self.labels_test, self.y_train, self.y_test = train_test_split(\n",
    "            X, y, one_hot_y, test_size=test_size, random_state=seed, stratify=y)"
   ]
  },
  {
   "cell_type": "code",
   "execution_count": 7,
   "id": "70ad25ed",
   "metadata": {
    "colab": {
     "base_uri": "https://localhost:8080/"
    },
    "id": "70ad25ed",
    "outputId": "ceebd03a-c68e-494f-8bb7-4d52bebfb574"
   },
   "outputs": [
    {
     "name": "stdout",
     "output_type": "stream",
     "text": [
      "(1386, 224, 224, 3) (1386, 2)\n",
      "(594, 224, 224, 3) (594, 2)\n"
     ]
    }
   ],
   "source": [
    "# (660*3) * 0.7 = 1386\n",
    "import os\n",
    "import shutil\n",
    "import glob\n",
    "import random\n",
    "data = Dataset(\"Data/\", test_size=0.3, img_size=224)\n",
    "print(data.X_train.shape, data.y_train.shape)\n",
    "print(data.X_test.shape, data.y_test.shape)"
   ]
  },
  {
   "cell_type": "code",
   "execution_count": 13,
   "id": "9357c763",
   "metadata": {},
   "outputs": [
    {
     "name": "stdout",
     "output_type": "stream",
     "text": [
      "(224, 224, 3)\n"
     ]
    }
   ],
   "source": [
    "print(data.X_train.shape[1:4])"
   ]
  },
  {
   "cell_type": "code",
   "execution_count": 15,
   "id": "90db7ea7",
   "metadata": {},
   "outputs": [],
   "source": [
    "mobinet_model = tf.keras.applications.MobileNetV2(input_shape=data.X_train.shape[1:4], include_top=False, weights='imagenet')"
   ]
  },
  {
   "cell_type": "code",
   "execution_count": 16,
   "id": "fb6b3bb2",
   "metadata": {},
   "outputs": [
    {
     "name": "stdout",
     "output_type": "stream",
     "text": [
      "Downloading data from https://storage.googleapis.com/tensorflow/keras-applications/resnet/resnet101v2_weights_tf_dim_ordering_tf_kernels_notop.h5\n",
      "171319296/171317808 [==============================] - 365s 2us/step\n",
      "171327488/171317808 [==============================] - 365s 2us/step\n"
     ]
    }
   ],
   "source": [
    "resnet_model = tf.keras.applications.ResNet101V2(input_shape=data.X_train.shape[1:4], include_top=False, weights='imagenet')"
   ]
  },
  {
   "cell_type": "code",
   "execution_count": 18,
   "id": "f22597f3",
   "metadata": {},
   "outputs": [
    {
     "name": "stdout",
     "output_type": "stream",
     "text": [
      "Downloading data from https://storage.googleapis.com/tensorflow/keras-applications/vgg19/vgg19_weights_tf_dim_ordering_tf_kernels_notop.h5\n",
      "80142336/80134624 [==============================] - 188s 2us/step\n",
      "80150528/80134624 [==============================] - 188s 2us/step\n"
     ]
    }
   ],
   "source": [
    "vgg_model = tf.keras.applications.vgg19.VGG19(input_shape=data.X_train.shape[1:4], include_top=False, weights='imagenet')"
   ]
  },
  {
   "cell_type": "code",
   "execution_count": 10,
   "id": "FuhCijq7mxKy",
   "metadata": {
    "id": "FuhCijq7mxKy",
    "scrolled": true
   },
   "outputs": [],
   "source": [
    "# feature extractor model resnet 101 v2\n",
    "# model = hub.KerasLayer(\"https://tfhub.dev/google/bit/m-r101x1/1\", trainable=False)"
   ]
  },
  {
   "cell_type": "code",
   "execution_count": 93,
   "id": "b1dcb4c7",
   "metadata": {
    "colab": {
     "base_uri": "https://localhost:8080/",
     "height": 536
    },
    "id": "b1dcb4c7",
    "outputId": "4637b29a-a5fb-4a4a-d0e0-55b8a583f993",
    "scrolled": true
   },
   "outputs": [
    {
     "ename": "KeyboardInterrupt",
     "evalue": "",
     "output_type": "error",
     "traceback": [
      "\u001b[1;31m---------------------------------------------------------------------------\u001b[0m",
      "\u001b[1;31mKeyboardInterrupt\u001b[0m                         Traceback (most recent call last)",
      "\u001b[1;32m<ipython-input-93-ec883affba6a>\u001b[0m in \u001b[0;36m<module>\u001b[1;34m\u001b[0m\n\u001b[1;32m----> 1\u001b[1;33m \u001b[0mcovid_train_embedding\u001b[0m \u001b[1;33m=\u001b[0m \u001b[0mmobinet_model\u001b[0m\u001b[1;33m(\u001b[0m\u001b[0mdata\u001b[0m\u001b[1;33m.\u001b[0m\u001b[0mX_train\u001b[0m\u001b[1;33m)\u001b[0m\u001b[1;33m\u001b[0m\u001b[1;33m\u001b[0m\u001b[0m\n\u001b[0m\u001b[0;32m      2\u001b[0m \u001b[1;31m#covid_test_embedding = mobinet_model(data.X_test)\u001b[0m\u001b[1;33m\u001b[0m\u001b[1;33m\u001b[0m\u001b[1;33m\u001b[0m\u001b[0m\n\u001b[0;32m      3\u001b[0m \u001b[0mprint\u001b[0m\u001b[1;33m(\u001b[0m\u001b[0mcovid_train_embedding\u001b[0m\u001b[1;33m.\u001b[0m\u001b[0mshape\u001b[0m\u001b[1;33m)\u001b[0m\u001b[1;33m\u001b[0m\u001b[1;33m\u001b[0m\u001b[0m\n",
      "\u001b[1;32mC:\\ProgramData\\Anaconda3\\lib\\site-packages\\keras\\engine\\base_layer.py\u001b[0m in \u001b[0;36m__call__\u001b[1;34m(self, *args, **kwargs)\u001b[0m\n\u001b[0;32m   1035\u001b[0m         with autocast_variable.enable_auto_cast_variables(\n\u001b[0;32m   1036\u001b[0m             self._compute_dtype_object):\n\u001b[1;32m-> 1037\u001b[1;33m           \u001b[0moutputs\u001b[0m \u001b[1;33m=\u001b[0m \u001b[0mcall_fn\u001b[0m\u001b[1;33m(\u001b[0m\u001b[0minputs\u001b[0m\u001b[1;33m,\u001b[0m \u001b[1;33m*\u001b[0m\u001b[0margs\u001b[0m\u001b[1;33m,\u001b[0m \u001b[1;33m**\u001b[0m\u001b[0mkwargs\u001b[0m\u001b[1;33m)\u001b[0m\u001b[1;33m\u001b[0m\u001b[1;33m\u001b[0m\u001b[0m\n\u001b[0m\u001b[0;32m   1038\u001b[0m \u001b[1;33m\u001b[0m\u001b[0m\n\u001b[0;32m   1039\u001b[0m         \u001b[1;32mif\u001b[0m \u001b[0mself\u001b[0m\u001b[1;33m.\u001b[0m\u001b[0m_activity_regularizer\u001b[0m\u001b[1;33m:\u001b[0m\u001b[1;33m\u001b[0m\u001b[1;33m\u001b[0m\u001b[0m\n",
      "\u001b[1;32mC:\\ProgramData\\Anaconda3\\lib\\site-packages\\keras\\engine\\functional.py\u001b[0m in \u001b[0;36mcall\u001b[1;34m(self, inputs, training, mask)\u001b[0m\n\u001b[0;32m    412\u001b[0m         \u001b[0ma\u001b[0m \u001b[0mlist\u001b[0m \u001b[0mof\u001b[0m \u001b[0mtensors\u001b[0m \u001b[1;32mif\u001b[0m \u001b[0mthere\u001b[0m \u001b[0mare\u001b[0m \u001b[0mmore\u001b[0m \u001b[0mthan\u001b[0m \u001b[0mone\u001b[0m \u001b[0moutputs\u001b[0m\u001b[1;33m.\u001b[0m\u001b[1;33m\u001b[0m\u001b[1;33m\u001b[0m\u001b[0m\n\u001b[0;32m    413\u001b[0m     \"\"\"\n\u001b[1;32m--> 414\u001b[1;33m     return self._run_internal_graph(\n\u001b[0m\u001b[0;32m    415\u001b[0m         inputs, training=training, mask=mask)\n\u001b[0;32m    416\u001b[0m \u001b[1;33m\u001b[0m\u001b[0m\n",
      "\u001b[1;32mC:\\ProgramData\\Anaconda3\\lib\\site-packages\\keras\\engine\\functional.py\u001b[0m in \u001b[0;36m_run_internal_graph\u001b[1;34m(self, inputs, training, mask)\u001b[0m\n\u001b[0;32m    548\u001b[0m \u001b[1;33m\u001b[0m\u001b[0m\n\u001b[0;32m    549\u001b[0m         \u001b[0margs\u001b[0m\u001b[1;33m,\u001b[0m \u001b[0mkwargs\u001b[0m \u001b[1;33m=\u001b[0m \u001b[0mnode\u001b[0m\u001b[1;33m.\u001b[0m\u001b[0mmap_arguments\u001b[0m\u001b[1;33m(\u001b[0m\u001b[0mtensor_dict\u001b[0m\u001b[1;33m)\u001b[0m\u001b[1;33m\u001b[0m\u001b[1;33m\u001b[0m\u001b[0m\n\u001b[1;32m--> 550\u001b[1;33m         \u001b[0moutputs\u001b[0m \u001b[1;33m=\u001b[0m \u001b[0mnode\u001b[0m\u001b[1;33m.\u001b[0m\u001b[0mlayer\u001b[0m\u001b[1;33m(\u001b[0m\u001b[1;33m*\u001b[0m\u001b[0margs\u001b[0m\u001b[1;33m,\u001b[0m \u001b[1;33m**\u001b[0m\u001b[0mkwargs\u001b[0m\u001b[1;33m)\u001b[0m\u001b[1;33m\u001b[0m\u001b[1;33m\u001b[0m\u001b[0m\n\u001b[0m\u001b[0;32m    551\u001b[0m \u001b[1;33m\u001b[0m\u001b[0m\n\u001b[0;32m    552\u001b[0m         \u001b[1;31m# Update tensor_dict.\u001b[0m\u001b[1;33m\u001b[0m\u001b[1;33m\u001b[0m\u001b[1;33m\u001b[0m\u001b[0m\n",
      "\u001b[1;32mC:\\ProgramData\\Anaconda3\\lib\\site-packages\\keras\\engine\\base_layer.py\u001b[0m in \u001b[0;36m__call__\u001b[1;34m(self, *args, **kwargs)\u001b[0m\n\u001b[0;32m   1035\u001b[0m         with autocast_variable.enable_auto_cast_variables(\n\u001b[0;32m   1036\u001b[0m             self._compute_dtype_object):\n\u001b[1;32m-> 1037\u001b[1;33m           \u001b[0moutputs\u001b[0m \u001b[1;33m=\u001b[0m \u001b[0mcall_fn\u001b[0m\u001b[1;33m(\u001b[0m\u001b[0minputs\u001b[0m\u001b[1;33m,\u001b[0m \u001b[1;33m*\u001b[0m\u001b[0margs\u001b[0m\u001b[1;33m,\u001b[0m \u001b[1;33m**\u001b[0m\u001b[0mkwargs\u001b[0m\u001b[1;33m)\u001b[0m\u001b[1;33m\u001b[0m\u001b[1;33m\u001b[0m\u001b[0m\n\u001b[0m\u001b[0;32m   1038\u001b[0m \u001b[1;33m\u001b[0m\u001b[0m\n\u001b[0;32m   1039\u001b[0m         \u001b[1;32mif\u001b[0m \u001b[0mself\u001b[0m\u001b[1;33m.\u001b[0m\u001b[0m_activity_regularizer\u001b[0m\u001b[1;33m:\u001b[0m\u001b[1;33m\u001b[0m\u001b[1;33m\u001b[0m\u001b[0m\n",
      "\u001b[1;32mC:\\ProgramData\\Anaconda3\\lib\\site-packages\\keras\\layers\\normalization\\batch_normalization.py\u001b[0m in \u001b[0;36mcall\u001b[1;34m(self, inputs, training)\u001b[0m\n\u001b[0;32m    753\u001b[0m \u001b[1;33m\u001b[0m\u001b[0m\n\u001b[0;32m    754\u001b[0m     \u001b[1;32mif\u001b[0m \u001b[0mself\u001b[0m\u001b[1;33m.\u001b[0m\u001b[0mfused\u001b[0m\u001b[1;33m:\u001b[0m\u001b[1;33m\u001b[0m\u001b[1;33m\u001b[0m\u001b[0m\n\u001b[1;32m--> 755\u001b[1;33m       \u001b[0moutputs\u001b[0m \u001b[1;33m=\u001b[0m \u001b[0mself\u001b[0m\u001b[1;33m.\u001b[0m\u001b[0m_fused_batch_norm\u001b[0m\u001b[1;33m(\u001b[0m\u001b[0minputs\u001b[0m\u001b[1;33m,\u001b[0m \u001b[0mtraining\u001b[0m\u001b[1;33m=\u001b[0m\u001b[0mtraining\u001b[0m\u001b[1;33m)\u001b[0m\u001b[1;33m\u001b[0m\u001b[1;33m\u001b[0m\u001b[0m\n\u001b[0m\u001b[0;32m    756\u001b[0m       \u001b[1;32mif\u001b[0m \u001b[0mself\u001b[0m\u001b[1;33m.\u001b[0m\u001b[0mvirtual_batch_size\u001b[0m \u001b[1;32mis\u001b[0m \u001b[1;32mnot\u001b[0m \u001b[1;32mNone\u001b[0m\u001b[1;33m:\u001b[0m\u001b[1;33m\u001b[0m\u001b[1;33m\u001b[0m\u001b[0m\n\u001b[0;32m    757\u001b[0m         \u001b[1;31m# Currently never reaches here since fused_batch_norm does not support\u001b[0m\u001b[1;33m\u001b[0m\u001b[1;33m\u001b[0m\u001b[1;33m\u001b[0m\u001b[0m\n",
      "\u001b[1;32mC:\\ProgramData\\Anaconda3\\lib\\site-packages\\keras\\layers\\normalization\\batch_normalization.py\u001b[0m in \u001b[0;36m_fused_batch_norm\u001b[1;34m(self, inputs, training)\u001b[0m\n\u001b[0;32m    609\u001b[0m       \u001b[1;31m# pylint: enable=g-long-lambda\u001b[0m\u001b[1;33m\u001b[0m\u001b[1;33m\u001b[0m\u001b[1;33m\u001b[0m\u001b[0m\n\u001b[0;32m    610\u001b[0m \u001b[1;33m\u001b[0m\u001b[0m\n\u001b[1;32m--> 611\u001b[1;33m     output, mean, variance = control_flow_util.smart_cond(\n\u001b[0m\u001b[0;32m    612\u001b[0m         training, train_op, _fused_batch_norm_inference)\n\u001b[0;32m    613\u001b[0m     \u001b[0mvariance\u001b[0m \u001b[1;33m=\u001b[0m \u001b[0m_maybe_add_or_remove_bessels_correction\u001b[0m\u001b[1;33m(\u001b[0m\u001b[0mvariance\u001b[0m\u001b[1;33m,\u001b[0m \u001b[0mremove\u001b[0m\u001b[1;33m=\u001b[0m\u001b[1;32mTrue\u001b[0m\u001b[1;33m)\u001b[0m\u001b[1;33m\u001b[0m\u001b[1;33m\u001b[0m\u001b[0m\n",
      "\u001b[1;32mC:\\ProgramData\\Anaconda3\\lib\\site-packages\\keras\\utils\\control_flow_util.py\u001b[0m in \u001b[0;36msmart_cond\u001b[1;34m(pred, true_fn, false_fn, name)\u001b[0m\n\u001b[0;32m    103\u001b[0m     return tf.cond(\n\u001b[0;32m    104\u001b[0m         pred, true_fn=true_fn, false_fn=false_fn, name=name)\n\u001b[1;32m--> 105\u001b[1;33m   return tf.__internal__.smart_cond.smart_cond(\n\u001b[0m\u001b[0;32m    106\u001b[0m       pred, true_fn=true_fn, false_fn=false_fn, name=name)\n\u001b[0;32m    107\u001b[0m \u001b[1;33m\u001b[0m\u001b[0m\n",
      "\u001b[1;32mC:\\ProgramData\\Anaconda3\\lib\\site-packages\\tensorflow\\python\\framework\\smart_cond.py\u001b[0m in \u001b[0;36msmart_cond\u001b[1;34m(pred, true_fn, false_fn, name)\u001b[0m\n\u001b[0;32m     56\u001b[0m       \u001b[1;32mreturn\u001b[0m \u001b[0mtrue_fn\u001b[0m\u001b[1;33m(\u001b[0m\u001b[1;33m)\u001b[0m\u001b[1;33m\u001b[0m\u001b[1;33m\u001b[0m\u001b[0m\n\u001b[0;32m     57\u001b[0m     \u001b[1;32melse\u001b[0m\u001b[1;33m:\u001b[0m\u001b[1;33m\u001b[0m\u001b[1;33m\u001b[0m\u001b[0m\n\u001b[1;32m---> 58\u001b[1;33m       \u001b[1;32mreturn\u001b[0m \u001b[0mfalse_fn\u001b[0m\u001b[1;33m(\u001b[0m\u001b[1;33m)\u001b[0m\u001b[1;33m\u001b[0m\u001b[1;33m\u001b[0m\u001b[0m\n\u001b[0m\u001b[0;32m     59\u001b[0m   \u001b[1;32melse\u001b[0m\u001b[1;33m:\u001b[0m\u001b[1;33m\u001b[0m\u001b[1;33m\u001b[0m\u001b[0m\n\u001b[0;32m     60\u001b[0m     return control_flow_ops.cond(pred, true_fn=true_fn, false_fn=false_fn,\n",
      "\u001b[1;32mC:\\ProgramData\\Anaconda3\\lib\\site-packages\\keras\\layers\\normalization\\batch_normalization.py\u001b[0m in \u001b[0;36m_fused_batch_norm_inference\u001b[1;34m()\u001b[0m\n\u001b[0;32m    591\u001b[0m \u001b[1;33m\u001b[0m\u001b[0m\n\u001b[0;32m    592\u001b[0m     \u001b[1;32mdef\u001b[0m \u001b[0m_fused_batch_norm_inference\u001b[0m\u001b[1;33m(\u001b[0m\u001b[1;33m)\u001b[0m\u001b[1;33m:\u001b[0m\u001b[1;33m\u001b[0m\u001b[1;33m\u001b[0m\u001b[0m\n\u001b[1;32m--> 593\u001b[1;33m       return tf.compat.v1.nn.fused_batch_norm(\n\u001b[0m\u001b[0;32m    594\u001b[0m           \u001b[0minputs\u001b[0m\u001b[1;33m,\u001b[0m\u001b[1;33m\u001b[0m\u001b[1;33m\u001b[0m\u001b[0m\n\u001b[0;32m    595\u001b[0m           \u001b[0mgamma\u001b[0m\u001b[1;33m,\u001b[0m\u001b[1;33m\u001b[0m\u001b[1;33m\u001b[0m\u001b[0m\n",
      "\u001b[1;32mC:\\ProgramData\\Anaconda3\\lib\\site-packages\\tensorflow\\python\\util\\dispatch.py\u001b[0m in \u001b[0;36mwrapper\u001b[1;34m(*args, **kwargs)\u001b[0m\n\u001b[0;32m    204\u001b[0m     \u001b[1;34m\"\"\"Call target, and fall back on dispatchers if there is a TypeError.\"\"\"\u001b[0m\u001b[1;33m\u001b[0m\u001b[1;33m\u001b[0m\u001b[0m\n\u001b[0;32m    205\u001b[0m     \u001b[1;32mtry\u001b[0m\u001b[1;33m:\u001b[0m\u001b[1;33m\u001b[0m\u001b[1;33m\u001b[0m\u001b[0m\n\u001b[1;32m--> 206\u001b[1;33m       \u001b[1;32mreturn\u001b[0m \u001b[0mtarget\u001b[0m\u001b[1;33m(\u001b[0m\u001b[1;33m*\u001b[0m\u001b[0margs\u001b[0m\u001b[1;33m,\u001b[0m \u001b[1;33m**\u001b[0m\u001b[0mkwargs\u001b[0m\u001b[1;33m)\u001b[0m\u001b[1;33m\u001b[0m\u001b[1;33m\u001b[0m\u001b[0m\n\u001b[0m\u001b[0;32m    207\u001b[0m     \u001b[1;32mexcept\u001b[0m \u001b[1;33m(\u001b[0m\u001b[0mTypeError\u001b[0m\u001b[1;33m,\u001b[0m \u001b[0mValueError\u001b[0m\u001b[1;33m)\u001b[0m\u001b[1;33m:\u001b[0m\u001b[1;33m\u001b[0m\u001b[1;33m\u001b[0m\u001b[0m\n\u001b[0;32m    208\u001b[0m       \u001b[1;31m# Note: convert_to_eager_tensor currently raises a ValueError, not a\u001b[0m\u001b[1;33m\u001b[0m\u001b[1;33m\u001b[0m\u001b[1;33m\u001b[0m\u001b[0m\n",
      "\u001b[1;32mC:\\ProgramData\\Anaconda3\\lib\\site-packages\\tensorflow\\python\\ops\\nn_impl.py\u001b[0m in \u001b[0;36mfused_batch_norm\u001b[1;34m(x, scale, offset, mean, variance, epsilon, data_format, is_training, name, exponential_avg_factor)\u001b[0m\n\u001b[0;32m   1666\u001b[0m   \u001b[0mepsilon\u001b[0m \u001b[1;33m=\u001b[0m \u001b[0mepsilon\u001b[0m \u001b[1;32mif\u001b[0m \u001b[0mepsilon\u001b[0m \u001b[1;33m>\u001b[0m \u001b[0mmin_epsilon\u001b[0m \u001b[1;32melse\u001b[0m \u001b[0mmin_epsilon\u001b[0m\u001b[1;33m\u001b[0m\u001b[1;33m\u001b[0m\u001b[0m\n\u001b[0;32m   1667\u001b[0m \u001b[1;33m\u001b[0m\u001b[0m\n\u001b[1;32m-> 1668\u001b[1;33m   y, running_mean, running_var, _, _, _ = gen_nn_ops.fused_batch_norm_v3(\n\u001b[0m\u001b[0;32m   1669\u001b[0m       \u001b[0mx\u001b[0m\u001b[1;33m,\u001b[0m\u001b[1;33m\u001b[0m\u001b[1;33m\u001b[0m\u001b[0m\n\u001b[0;32m   1670\u001b[0m       \u001b[0mscale\u001b[0m\u001b[1;33m,\u001b[0m\u001b[1;33m\u001b[0m\u001b[1;33m\u001b[0m\u001b[0m\n",
      "\u001b[1;32mC:\\ProgramData\\Anaconda3\\lib\\site-packages\\tensorflow\\python\\ops\\gen_nn_ops.py\u001b[0m in \u001b[0;36mfused_batch_norm_v3\u001b[1;34m(x, scale, offset, mean, variance, epsilon, exponential_avg_factor, data_format, is_training, name)\u001b[0m\n\u001b[0;32m   4260\u001b[0m   \u001b[1;32mif\u001b[0m \u001b[0mtld\u001b[0m\u001b[1;33m.\u001b[0m\u001b[0mis_eager\u001b[0m\u001b[1;33m:\u001b[0m\u001b[1;33m\u001b[0m\u001b[1;33m\u001b[0m\u001b[0m\n\u001b[0;32m   4261\u001b[0m     \u001b[1;32mtry\u001b[0m\u001b[1;33m:\u001b[0m\u001b[1;33m\u001b[0m\u001b[1;33m\u001b[0m\u001b[0m\n\u001b[1;32m-> 4262\u001b[1;33m       _result = pywrap_tfe.TFE_Py_FastPathExecute(\n\u001b[0m\u001b[0;32m   4263\u001b[0m         \u001b[0m_ctx\u001b[0m\u001b[1;33m,\u001b[0m \u001b[1;34m\"FusedBatchNormV3\"\u001b[0m\u001b[1;33m,\u001b[0m \u001b[0mname\u001b[0m\u001b[1;33m,\u001b[0m \u001b[0mx\u001b[0m\u001b[1;33m,\u001b[0m \u001b[0mscale\u001b[0m\u001b[1;33m,\u001b[0m \u001b[0moffset\u001b[0m\u001b[1;33m,\u001b[0m \u001b[0mmean\u001b[0m\u001b[1;33m,\u001b[0m \u001b[0mvariance\u001b[0m\u001b[1;33m,\u001b[0m\u001b[1;33m\u001b[0m\u001b[1;33m\u001b[0m\u001b[0m\n\u001b[0;32m   4264\u001b[0m         \u001b[1;34m\"epsilon\"\u001b[0m\u001b[1;33m,\u001b[0m \u001b[0mepsilon\u001b[0m\u001b[1;33m,\u001b[0m \u001b[1;34m\"exponential_avg_factor\"\u001b[0m\u001b[1;33m,\u001b[0m \u001b[0mexponential_avg_factor\u001b[0m\u001b[1;33m,\u001b[0m\u001b[1;33m\u001b[0m\u001b[1;33m\u001b[0m\u001b[0m\n",
      "\u001b[1;31mKeyboardInterrupt\u001b[0m: "
     ]
    }
   ],
   "source": [
    "covid_train_embedding = mobinet_model(data.X_train)\n",
    "#covid_test_embedding = mobinet_model(data.X_test)\n",
    "print(covid_train_embedding.shape)"
   ]
  },
  {
   "cell_type": "code",
   "execution_count": 27,
   "id": "88ebe407",
   "metadata": {},
   "outputs": [
    {
     "name": "stdout",
     "output_type": "stream",
     "text": [
      "Model: \"mobilenetv2_1.00_224\"\n",
      "__________________________________________________________________________________________________\n",
      "Layer (type)                    Output Shape         Param #     Connected to                     \n",
      "==================================================================================================\n",
      "input_2 (InputLayer)            [(None, 224, 224, 3) 0                                            \n",
      "__________________________________________________________________________________________________\n",
      "Conv1 (Conv2D)                  (None, 112, 112, 32) 864         input_2[0][0]                    \n",
      "__________________________________________________________________________________________________\n",
      "bn_Conv1 (BatchNormalization)   (None, 112, 112, 32) 128         Conv1[0][0]                      \n",
      "__________________________________________________________________________________________________\n",
      "Conv1_relu (ReLU)               (None, 112, 112, 32) 0           bn_Conv1[0][0]                   \n",
      "__________________________________________________________________________________________________\n",
      "expanded_conv_depthwise (Depthw (None, 112, 112, 32) 288         Conv1_relu[0][0]                 \n",
      "__________________________________________________________________________________________________\n",
      "expanded_conv_depthwise_BN (Bat (None, 112, 112, 32) 128         expanded_conv_depthwise[0][0]    \n",
      "__________________________________________________________________________________________________\n",
      "expanded_conv_depthwise_relu (R (None, 112, 112, 32) 0           expanded_conv_depthwise_BN[0][0] \n",
      "__________________________________________________________________________________________________\n",
      "expanded_conv_project (Conv2D)  (None, 112, 112, 16) 512         expanded_conv_depthwise_relu[0][0\n",
      "__________________________________________________________________________________________________\n",
      "expanded_conv_project_BN (Batch (None, 112, 112, 16) 64          expanded_conv_project[0][0]      \n",
      "__________________________________________________________________________________________________\n",
      "block_1_expand (Conv2D)         (None, 112, 112, 96) 1536        expanded_conv_project_BN[0][0]   \n",
      "__________________________________________________________________________________________________\n",
      "block_1_expand_BN (BatchNormali (None, 112, 112, 96) 384         block_1_expand[0][0]             \n",
      "__________________________________________________________________________________________________\n",
      "block_1_expand_relu (ReLU)      (None, 112, 112, 96) 0           block_1_expand_BN[0][0]          \n",
      "__________________________________________________________________________________________________\n",
      "block_1_pad (ZeroPadding2D)     (None, 113, 113, 96) 0           block_1_expand_relu[0][0]        \n",
      "__________________________________________________________________________________________________\n",
      "block_1_depthwise (DepthwiseCon (None, 56, 56, 96)   864         block_1_pad[0][0]                \n",
      "__________________________________________________________________________________________________\n",
      "block_1_depthwise_BN (BatchNorm (None, 56, 56, 96)   384         block_1_depthwise[0][0]          \n",
      "__________________________________________________________________________________________________\n",
      "block_1_depthwise_relu (ReLU)   (None, 56, 56, 96)   0           block_1_depthwise_BN[0][0]       \n",
      "__________________________________________________________________________________________________\n",
      "block_1_project (Conv2D)        (None, 56, 56, 24)   2304        block_1_depthwise_relu[0][0]     \n",
      "__________________________________________________________________________________________________\n",
      "block_1_project_BN (BatchNormal (None, 56, 56, 24)   96          block_1_project[0][0]            \n",
      "__________________________________________________________________________________________________\n",
      "block_2_expand (Conv2D)         (None, 56, 56, 144)  3456        block_1_project_BN[0][0]         \n",
      "__________________________________________________________________________________________________\n",
      "block_2_expand_BN (BatchNormali (None, 56, 56, 144)  576         block_2_expand[0][0]             \n",
      "__________________________________________________________________________________________________\n",
      "block_2_expand_relu (ReLU)      (None, 56, 56, 144)  0           block_2_expand_BN[0][0]          \n",
      "__________________________________________________________________________________________________\n",
      "block_2_depthwise (DepthwiseCon (None, 56, 56, 144)  1296        block_2_expand_relu[0][0]        \n",
      "__________________________________________________________________________________________________\n",
      "block_2_depthwise_BN (BatchNorm (None, 56, 56, 144)  576         block_2_depthwise[0][0]          \n",
      "__________________________________________________________________________________________________\n",
      "block_2_depthwise_relu (ReLU)   (None, 56, 56, 144)  0           block_2_depthwise_BN[0][0]       \n",
      "__________________________________________________________________________________________________\n",
      "block_2_project (Conv2D)        (None, 56, 56, 24)   3456        block_2_depthwise_relu[0][0]     \n",
      "__________________________________________________________________________________________________\n",
      "block_2_project_BN (BatchNormal (None, 56, 56, 24)   96          block_2_project[0][0]            \n",
      "__________________________________________________________________________________________________\n",
      "block_2_add (Add)               (None, 56, 56, 24)   0           block_1_project_BN[0][0]         \n",
      "                                                                 block_2_project_BN[0][0]         \n",
      "__________________________________________________________________________________________________\n",
      "block_3_expand (Conv2D)         (None, 56, 56, 144)  3456        block_2_add[0][0]                \n",
      "__________________________________________________________________________________________________\n",
      "block_3_expand_BN (BatchNormali (None, 56, 56, 144)  576         block_3_expand[0][0]             \n",
      "__________________________________________________________________________________________________\n",
      "block_3_expand_relu (ReLU)      (None, 56, 56, 144)  0           block_3_expand_BN[0][0]          \n",
      "__________________________________________________________________________________________________\n",
      "block_3_pad (ZeroPadding2D)     (None, 57, 57, 144)  0           block_3_expand_relu[0][0]        \n",
      "__________________________________________________________________________________________________\n",
      "block_3_depthwise (DepthwiseCon (None, 28, 28, 144)  1296        block_3_pad[0][0]                \n",
      "__________________________________________________________________________________________________\n",
      "block_3_depthwise_BN (BatchNorm (None, 28, 28, 144)  576         block_3_depthwise[0][0]          \n",
      "__________________________________________________________________________________________________\n",
      "block_3_depthwise_relu (ReLU)   (None, 28, 28, 144)  0           block_3_depthwise_BN[0][0]       \n",
      "__________________________________________________________________________________________________\n",
      "block_3_project (Conv2D)        (None, 28, 28, 32)   4608        block_3_depthwise_relu[0][0]     \n",
      "__________________________________________________________________________________________________\n",
      "block_3_project_BN (BatchNormal (None, 28, 28, 32)   128         block_3_project[0][0]            \n",
      "__________________________________________________________________________________________________\n",
      "block_4_expand (Conv2D)         (None, 28, 28, 192)  6144        block_3_project_BN[0][0]         \n",
      "__________________________________________________________________________________________________\n",
      "block_4_expand_BN (BatchNormali (None, 28, 28, 192)  768         block_4_expand[0][0]             \n",
      "__________________________________________________________________________________________________\n",
      "block_4_expand_relu (ReLU)      (None, 28, 28, 192)  0           block_4_expand_BN[0][0]          \n",
      "__________________________________________________________________________________________________\n",
      "block_4_depthwise (DepthwiseCon (None, 28, 28, 192)  1728        block_4_expand_relu[0][0]        \n",
      "__________________________________________________________________________________________________\n",
      "block_4_depthwise_BN (BatchNorm (None, 28, 28, 192)  768         block_4_depthwise[0][0]          \n",
      "__________________________________________________________________________________________________\n",
      "block_4_depthwise_relu (ReLU)   (None, 28, 28, 192)  0           block_4_depthwise_BN[0][0]       \n",
      "__________________________________________________________________________________________________\n",
      "block_4_project (Conv2D)        (None, 28, 28, 32)   6144        block_4_depthwise_relu[0][0]     \n",
      "__________________________________________________________________________________________________\n",
      "block_4_project_BN (BatchNormal (None, 28, 28, 32)   128         block_4_project[0][0]            \n",
      "__________________________________________________________________________________________________\n",
      "block_4_add (Add)               (None, 28, 28, 32)   0           block_3_project_BN[0][0]         \n",
      "                                                                 block_4_project_BN[0][0]         \n",
      "__________________________________________________________________________________________________\n",
      "block_5_expand (Conv2D)         (None, 28, 28, 192)  6144        block_4_add[0][0]                \n",
      "__________________________________________________________________________________________________\n",
      "block_5_expand_BN (BatchNormali (None, 28, 28, 192)  768         block_5_expand[0][0]             \n",
      "__________________________________________________________________________________________________\n",
      "block_5_expand_relu (ReLU)      (None, 28, 28, 192)  0           block_5_expand_BN[0][0]          \n",
      "__________________________________________________________________________________________________\n",
      "block_5_depthwise (DepthwiseCon (None, 28, 28, 192)  1728        block_5_expand_relu[0][0]        \n",
      "__________________________________________________________________________________________________\n",
      "block_5_depthwise_BN (BatchNorm (None, 28, 28, 192)  768         block_5_depthwise[0][0]          \n",
      "__________________________________________________________________________________________________\n",
      "block_5_depthwise_relu (ReLU)   (None, 28, 28, 192)  0           block_5_depthwise_BN[0][0]       \n",
      "__________________________________________________________________________________________________\n",
      "block_5_project (Conv2D)        (None, 28, 28, 32)   6144        block_5_depthwise_relu[0][0]     \n",
      "__________________________________________________________________________________________________\n",
      "block_5_project_BN (BatchNormal (None, 28, 28, 32)   128         block_5_project[0][0]            \n",
      "__________________________________________________________________________________________________\n",
      "block_5_add (Add)               (None, 28, 28, 32)   0           block_4_add[0][0]                \n",
      "                                                                 block_5_project_BN[0][0]         \n",
      "__________________________________________________________________________________________________\n",
      "block_6_expand (Conv2D)         (None, 28, 28, 192)  6144        block_5_add[0][0]                \n",
      "__________________________________________________________________________________________________\n",
      "block_6_expand_BN (BatchNormali (None, 28, 28, 192)  768         block_6_expand[0][0]             \n",
      "__________________________________________________________________________________________________\n",
      "block_6_expand_relu (ReLU)      (None, 28, 28, 192)  0           block_6_expand_BN[0][0]          \n",
      "__________________________________________________________________________________________________\n",
      "block_6_pad (ZeroPadding2D)     (None, 29, 29, 192)  0           block_6_expand_relu[0][0]        \n",
      "__________________________________________________________________________________________________\n",
      "block_6_depthwise (DepthwiseCon (None, 14, 14, 192)  1728        block_6_pad[0][0]                \n",
      "__________________________________________________________________________________________________\n",
      "block_6_depthwise_BN (BatchNorm (None, 14, 14, 192)  768         block_6_depthwise[0][0]          \n",
      "__________________________________________________________________________________________________\n",
      "block_6_depthwise_relu (ReLU)   (None, 14, 14, 192)  0           block_6_depthwise_BN[0][0]       \n",
      "__________________________________________________________________________________________________\n",
      "block_6_project (Conv2D)        (None, 14, 14, 64)   12288       block_6_depthwise_relu[0][0]     \n",
      "__________________________________________________________________________________________________\n",
      "block_6_project_BN (BatchNormal (None, 14, 14, 64)   256         block_6_project[0][0]            \n",
      "__________________________________________________________________________________________________\n",
      "block_7_expand (Conv2D)         (None, 14, 14, 384)  24576       block_6_project_BN[0][0]         \n",
      "__________________________________________________________________________________________________\n",
      "block_7_expand_BN (BatchNormali (None, 14, 14, 384)  1536        block_7_expand[0][0]             \n",
      "__________________________________________________________________________________________________\n",
      "block_7_expand_relu (ReLU)      (None, 14, 14, 384)  0           block_7_expand_BN[0][0]          \n",
      "__________________________________________________________________________________________________\n",
      "block_7_depthwise (DepthwiseCon (None, 14, 14, 384)  3456        block_7_expand_relu[0][0]        \n",
      "__________________________________________________________________________________________________\n",
      "block_7_depthwise_BN (BatchNorm (None, 14, 14, 384)  1536        block_7_depthwise[0][0]          \n",
      "__________________________________________________________________________________________________\n",
      "block_7_depthwise_relu (ReLU)   (None, 14, 14, 384)  0           block_7_depthwise_BN[0][0]       \n",
      "__________________________________________________________________________________________________\n",
      "block_7_project (Conv2D)        (None, 14, 14, 64)   24576       block_7_depthwise_relu[0][0]     \n",
      "__________________________________________________________________________________________________\n",
      "block_7_project_BN (BatchNormal (None, 14, 14, 64)   256         block_7_project[0][0]            \n",
      "__________________________________________________________________________________________________\n",
      "block_7_add (Add)               (None, 14, 14, 64)   0           block_6_project_BN[0][0]         \n",
      "                                                                 block_7_project_BN[0][0]         \n",
      "__________________________________________________________________________________________________\n",
      "block_8_expand (Conv2D)         (None, 14, 14, 384)  24576       block_7_add[0][0]                \n",
      "__________________________________________________________________________________________________\n",
      "block_8_expand_BN (BatchNormali (None, 14, 14, 384)  1536        block_8_expand[0][0]             \n",
      "__________________________________________________________________________________________________\n",
      "block_8_expand_relu (ReLU)      (None, 14, 14, 384)  0           block_8_expand_BN[0][0]          \n",
      "__________________________________________________________________________________________________\n",
      "block_8_depthwise (DepthwiseCon (None, 14, 14, 384)  3456        block_8_expand_relu[0][0]        \n",
      "__________________________________________________________________________________________________\n",
      "block_8_depthwise_BN (BatchNorm (None, 14, 14, 384)  1536        block_8_depthwise[0][0]          \n",
      "__________________________________________________________________________________________________\n",
      "block_8_depthwise_relu (ReLU)   (None, 14, 14, 384)  0           block_8_depthwise_BN[0][0]       \n",
      "__________________________________________________________________________________________________\n",
      "block_8_project (Conv2D)        (None, 14, 14, 64)   24576       block_8_depthwise_relu[0][0]     \n",
      "__________________________________________________________________________________________________\n",
      "block_8_project_BN (BatchNormal (None, 14, 14, 64)   256         block_8_project[0][0]            \n",
      "__________________________________________________________________________________________________\n",
      "block_8_add (Add)               (None, 14, 14, 64)   0           block_7_add[0][0]                \n",
      "                                                                 block_8_project_BN[0][0]         \n",
      "__________________________________________________________________________________________________\n",
      "block_9_expand (Conv2D)         (None, 14, 14, 384)  24576       block_8_add[0][0]                \n",
      "__________________________________________________________________________________________________\n",
      "block_9_expand_BN (BatchNormali (None, 14, 14, 384)  1536        block_9_expand[0][0]             \n",
      "__________________________________________________________________________________________________\n",
      "block_9_expand_relu (ReLU)      (None, 14, 14, 384)  0           block_9_expand_BN[0][0]          \n",
      "__________________________________________________________________________________________________\n",
      "block_9_depthwise (DepthwiseCon (None, 14, 14, 384)  3456        block_9_expand_relu[0][0]        \n",
      "__________________________________________________________________________________________________\n",
      "block_9_depthwise_BN (BatchNorm (None, 14, 14, 384)  1536        block_9_depthwise[0][0]          \n",
      "__________________________________________________________________________________________________\n",
      "block_9_depthwise_relu (ReLU)   (None, 14, 14, 384)  0           block_9_depthwise_BN[0][0]       \n",
      "__________________________________________________________________________________________________\n",
      "block_9_project (Conv2D)        (None, 14, 14, 64)   24576       block_9_depthwise_relu[0][0]     \n",
      "__________________________________________________________________________________________________\n",
      "block_9_project_BN (BatchNormal (None, 14, 14, 64)   256         block_9_project[0][0]            \n",
      "__________________________________________________________________________________________________\n",
      "block_9_add (Add)               (None, 14, 14, 64)   0           block_8_add[0][0]                \n",
      "                                                                 block_9_project_BN[0][0]         \n",
      "__________________________________________________________________________________________________\n",
      "block_10_expand (Conv2D)        (None, 14, 14, 384)  24576       block_9_add[0][0]                \n",
      "__________________________________________________________________________________________________\n",
      "block_10_expand_BN (BatchNormal (None, 14, 14, 384)  1536        block_10_expand[0][0]            \n",
      "__________________________________________________________________________________________________\n",
      "block_10_expand_relu (ReLU)     (None, 14, 14, 384)  0           block_10_expand_BN[0][0]         \n",
      "__________________________________________________________________________________________________\n",
      "block_10_depthwise (DepthwiseCo (None, 14, 14, 384)  3456        block_10_expand_relu[0][0]       \n",
      "__________________________________________________________________________________________________\n",
      "block_10_depthwise_BN (BatchNor (None, 14, 14, 384)  1536        block_10_depthwise[0][0]         \n",
      "__________________________________________________________________________________________________\n",
      "block_10_depthwise_relu (ReLU)  (None, 14, 14, 384)  0           block_10_depthwise_BN[0][0]      \n",
      "__________________________________________________________________________________________________\n",
      "block_10_project (Conv2D)       (None, 14, 14, 96)   36864       block_10_depthwise_relu[0][0]    \n",
      "__________________________________________________________________________________________________\n",
      "block_10_project_BN (BatchNorma (None, 14, 14, 96)   384         block_10_project[0][0]           \n",
      "__________________________________________________________________________________________________\n",
      "block_11_expand (Conv2D)        (None, 14, 14, 576)  55296       block_10_project_BN[0][0]        \n",
      "__________________________________________________________________________________________________\n",
      "block_11_expand_BN (BatchNormal (None, 14, 14, 576)  2304        block_11_expand[0][0]            \n",
      "__________________________________________________________________________________________________\n",
      "block_11_expand_relu (ReLU)     (None, 14, 14, 576)  0           block_11_expand_BN[0][0]         \n",
      "__________________________________________________________________________________________________\n",
      "block_11_depthwise (DepthwiseCo (None, 14, 14, 576)  5184        block_11_expand_relu[0][0]       \n",
      "__________________________________________________________________________________________________\n",
      "block_11_depthwise_BN (BatchNor (None, 14, 14, 576)  2304        block_11_depthwise[0][0]         \n",
      "__________________________________________________________________________________________________\n",
      "block_11_depthwise_relu (ReLU)  (None, 14, 14, 576)  0           block_11_depthwise_BN[0][0]      \n",
      "__________________________________________________________________________________________________\n",
      "block_11_project (Conv2D)       (None, 14, 14, 96)   55296       block_11_depthwise_relu[0][0]    \n",
      "__________________________________________________________________________________________________\n",
      "block_11_project_BN (BatchNorma (None, 14, 14, 96)   384         block_11_project[0][0]           \n",
      "__________________________________________________________________________________________________\n",
      "block_11_add (Add)              (None, 14, 14, 96)   0           block_10_project_BN[0][0]        \n",
      "                                                                 block_11_project_BN[0][0]        \n",
      "__________________________________________________________________________________________________\n",
      "block_12_expand (Conv2D)        (None, 14, 14, 576)  55296       block_11_add[0][0]               \n",
      "__________________________________________________________________________________________________\n",
      "block_12_expand_BN (BatchNormal (None, 14, 14, 576)  2304        block_12_expand[0][0]            \n",
      "__________________________________________________________________________________________________\n",
      "block_12_expand_relu (ReLU)     (None, 14, 14, 576)  0           block_12_expand_BN[0][0]         \n",
      "__________________________________________________________________________________________________\n",
      "block_12_depthwise (DepthwiseCo (None, 14, 14, 576)  5184        block_12_expand_relu[0][0]       \n",
      "__________________________________________________________________________________________________\n",
      "block_12_depthwise_BN (BatchNor (None, 14, 14, 576)  2304        block_12_depthwise[0][0]         \n",
      "__________________________________________________________________________________________________\n",
      "block_12_depthwise_relu (ReLU)  (None, 14, 14, 576)  0           block_12_depthwise_BN[0][0]      \n",
      "__________________________________________________________________________________________________\n",
      "block_12_project (Conv2D)       (None, 14, 14, 96)   55296       block_12_depthwise_relu[0][0]    \n",
      "__________________________________________________________________________________________________\n",
      "block_12_project_BN (BatchNorma (None, 14, 14, 96)   384         block_12_project[0][0]           \n",
      "__________________________________________________________________________________________________\n",
      "block_12_add (Add)              (None, 14, 14, 96)   0           block_11_add[0][0]               \n",
      "                                                                 block_12_project_BN[0][0]        \n",
      "__________________________________________________________________________________________________\n",
      "block_13_expand (Conv2D)        (None, 14, 14, 576)  55296       block_12_add[0][0]               \n",
      "__________________________________________________________________________________________________\n",
      "block_13_expand_BN (BatchNormal (None, 14, 14, 576)  2304        block_13_expand[0][0]            \n",
      "__________________________________________________________________________________________________\n",
      "block_13_expand_relu (ReLU)     (None, 14, 14, 576)  0           block_13_expand_BN[0][0]         \n",
      "__________________________________________________________________________________________________\n",
      "block_13_pad (ZeroPadding2D)    (None, 15, 15, 576)  0           block_13_expand_relu[0][0]       \n",
      "__________________________________________________________________________________________________\n",
      "block_13_depthwise (DepthwiseCo (None, 7, 7, 576)    5184        block_13_pad[0][0]               \n",
      "__________________________________________________________________________________________________\n",
      "block_13_depthwise_BN (BatchNor (None, 7, 7, 576)    2304        block_13_depthwise[0][0]         \n",
      "__________________________________________________________________________________________________\n",
      "block_13_depthwise_relu (ReLU)  (None, 7, 7, 576)    0           block_13_depthwise_BN[0][0]      \n",
      "__________________________________________________________________________________________________\n",
      "block_13_project (Conv2D)       (None, 7, 7, 160)    92160       block_13_depthwise_relu[0][0]    \n",
      "__________________________________________________________________________________________________\n",
      "block_13_project_BN (BatchNorma (None, 7, 7, 160)    640         block_13_project[0][0]           \n",
      "__________________________________________________________________________________________________\n",
      "block_14_expand (Conv2D)        (None, 7, 7, 960)    153600      block_13_project_BN[0][0]        \n",
      "__________________________________________________________________________________________________\n",
      "block_14_expand_BN (BatchNormal (None, 7, 7, 960)    3840        block_14_expand[0][0]            \n",
      "__________________________________________________________________________________________________\n",
      "block_14_expand_relu (ReLU)     (None, 7, 7, 960)    0           block_14_expand_BN[0][0]         \n",
      "__________________________________________________________________________________________________\n",
      "block_14_depthwise (DepthwiseCo (None, 7, 7, 960)    8640        block_14_expand_relu[0][0]       \n",
      "__________________________________________________________________________________________________\n",
      "block_14_depthwise_BN (BatchNor (None, 7, 7, 960)    3840        block_14_depthwise[0][0]         \n",
      "__________________________________________________________________________________________________\n",
      "block_14_depthwise_relu (ReLU)  (None, 7, 7, 960)    0           block_14_depthwise_BN[0][0]      \n",
      "__________________________________________________________________________________________________\n",
      "block_14_project (Conv2D)       (None, 7, 7, 160)    153600      block_14_depthwise_relu[0][0]    \n",
      "__________________________________________________________________________________________________\n",
      "block_14_project_BN (BatchNorma (None, 7, 7, 160)    640         block_14_project[0][0]           \n",
      "__________________________________________________________________________________________________\n",
      "block_14_add (Add)              (None, 7, 7, 160)    0           block_13_project_BN[0][0]        \n",
      "                                                                 block_14_project_BN[0][0]        \n",
      "__________________________________________________________________________________________________\n",
      "block_15_expand (Conv2D)        (None, 7, 7, 960)    153600      block_14_add[0][0]               \n",
      "__________________________________________________________________________________________________\n",
      "block_15_expand_BN (BatchNormal (None, 7, 7, 960)    3840        block_15_expand[0][0]            \n",
      "__________________________________________________________________________________________________\n",
      "block_15_expand_relu (ReLU)     (None, 7, 7, 960)    0           block_15_expand_BN[0][0]         \n",
      "__________________________________________________________________________________________________\n",
      "block_15_depthwise (DepthwiseCo (None, 7, 7, 960)    8640        block_15_expand_relu[0][0]       \n",
      "__________________________________________________________________________________________________\n",
      "block_15_depthwise_BN (BatchNor (None, 7, 7, 960)    3840        block_15_depthwise[0][0]         \n",
      "__________________________________________________________________________________________________\n",
      "block_15_depthwise_relu (ReLU)  (None, 7, 7, 960)    0           block_15_depthwise_BN[0][0]      \n",
      "__________________________________________________________________________________________________\n",
      "block_15_project (Conv2D)       (None, 7, 7, 160)    153600      block_15_depthwise_relu[0][0]    \n",
      "__________________________________________________________________________________________________\n",
      "block_15_project_BN (BatchNorma (None, 7, 7, 160)    640         block_15_project[0][0]           \n",
      "__________________________________________________________________________________________________\n",
      "block_15_add (Add)              (None, 7, 7, 160)    0           block_14_add[0][0]               \n",
      "                                                                 block_15_project_BN[0][0]        \n",
      "__________________________________________________________________________________________________\n",
      "block_16_expand (Conv2D)        (None, 7, 7, 960)    153600      block_15_add[0][0]               \n",
      "__________________________________________________________________________________________________\n",
      "block_16_expand_BN (BatchNormal (None, 7, 7, 960)    3840        block_16_expand[0][0]            \n",
      "__________________________________________________________________________________________________\n",
      "block_16_expand_relu (ReLU)     (None, 7, 7, 960)    0           block_16_expand_BN[0][0]         \n",
      "__________________________________________________________________________________________________\n",
      "block_16_depthwise (DepthwiseCo (None, 7, 7, 960)    8640        block_16_expand_relu[0][0]       \n",
      "__________________________________________________________________________________________________\n",
      "block_16_depthwise_BN (BatchNor (None, 7, 7, 960)    3840        block_16_depthwise[0][0]         \n",
      "__________________________________________________________________________________________________\n",
      "block_16_depthwise_relu (ReLU)  (None, 7, 7, 960)    0           block_16_depthwise_BN[0][0]      \n",
      "__________________________________________________________________________________________________\n",
      "block_16_project (Conv2D)       (None, 7, 7, 320)    307200      block_16_depthwise_relu[0][0]    \n",
      "__________________________________________________________________________________________________\n",
      "block_16_project_BN (BatchNorma (None, 7, 7, 320)    1280        block_16_project[0][0]           \n",
      "__________________________________________________________________________________________________\n",
      "Conv_1 (Conv2D)                 (None, 7, 7, 1280)   409600      block_16_project_BN[0][0]        \n",
      "__________________________________________________________________________________________________\n",
      "Conv_1_bn (BatchNormalization)  (None, 7, 7, 1280)   5120        Conv_1[0][0]                     \n",
      "__________________________________________________________________________________________________\n",
      "out_relu (ReLU)                 (None, 7, 7, 1280)   0           Conv_1_bn[0][0]                  \n",
      "==================================================================================================\n",
      "Total params: 2,257,984\n",
      "Trainable params: 0\n",
      "Non-trainable params: 2,257,984\n",
      "__________________________________________________________________________________________________\n"
     ]
    }
   ],
   "source": [
    "mobinet_model.trainable = False\n",
    "mobinet_model.summary()"
   ]
  },
  {
   "cell_type": "code",
   "execution_count": 94,
   "id": "aed4b259",
   "metadata": {},
   "outputs": [],
   "source": [
    "# BATCH_SIZE = 32\n",
    "# IMG_SIZE = (224, 224)\n",
    "# dataset = tf.keras.utils.image_dataset_from_directory(\"Data\",\n",
    "#                                                       shuffle=True,\n",
    "#                                                       batch_size=BATCH_SIZE,\n",
    "#                                                       image_size=IMG_SIZE)"
   ]
  },
  {
   "cell_type": "code",
   "execution_count": 30,
   "id": "c04bf6b8",
   "metadata": {},
   "outputs": [],
   "source": [
    "data_augmentation = tf.keras.Sequential([\n",
    "  tf.keras.layers.RandomFlip('horizontal'),\n",
    "  tf.keras.layers.RandomRotation(0.2),\n",
    "])"
   ]
  },
  {
   "cell_type": "code",
   "execution_count": 31,
   "id": "28b29054",
   "metadata": {},
   "outputs": [],
   "source": [
    "preprocess_input = tf.keras.applications.mobilenet_v2.preprocess_input"
   ]
  },
  {
   "cell_type": "code",
   "execution_count": 28,
   "id": "ada66f55",
   "metadata": {},
   "outputs": [
    {
     "name": "stdout",
     "output_type": "stream",
     "text": [
      "(1386, 1280)\n"
     ]
    }
   ],
   "source": [
    "global_average_layer = tf.keras.layers.GlobalAveragePooling2D()\n",
    "feature_batch_average = global_average_layer(covid_train_embedding)\n",
    "print(feature_batch_average.shape)"
   ]
  },
  {
   "cell_type": "code",
   "execution_count": 84,
   "id": "f9b51df5",
   "metadata": {},
   "outputs": [
    {
     "name": "stdout",
     "output_type": "stream",
     "text": [
      "(1386, 2)\n"
     ]
    }
   ],
   "source": [
    "prediction_layer = tf.keras.layers.Dense(2)\n",
    "prediction_batch = prediction_layer(feature_batch_average)\n",
    "print(prediction_batch.shape)"
   ]
  },
  {
   "cell_type": "code",
   "execution_count": 89,
   "id": "fc173a12",
   "metadata": {},
   "outputs": [],
   "source": [
    "# Model\n",
    "\n",
    "inputs = tf.keras.Input(shape=(data.X_train.shape[1:4]))\n",
    "x = data_augmentation(inputs)\n",
    "x = preprocess_input(x)\n",
    "x = mobinet_model(x, training=False)\n",
    "x = global_average_layer(x)\n",
    "x = tf.keras.layers.Dropout(0.2)(x)\n",
    "outputs = prediction_layer(x)\n",
    "model = tf.keras.Model(inputs, outputs)"
   ]
  },
  {
   "cell_type": "code",
   "execution_count": 90,
   "id": "32c7a273",
   "metadata": {},
   "outputs": [],
   "source": [
    "base_learning_rate = 0.0001\n",
    "model.compile(optimizer=tf.keras.optimizers.Adam(learning_rate=base_learning_rate),\n",
    "              loss=tf.keras.losses.BinaryCrossentropy(from_logits=True),\n",
    "              metrics=['accuracy'])"
   ]
  },
  {
   "cell_type": "code",
   "execution_count": 87,
   "id": "e95714b1",
   "metadata": {},
   "outputs": [
    {
     "name": "stdout",
     "output_type": "stream",
     "text": [
      "Model: \"model_1\"\n",
      "_________________________________________________________________\n",
      "Layer (type)                 Output Shape              Param #   \n",
      "=================================================================\n",
      "input_6 (InputLayer)         [(None, 224, 224, 3)]     0         \n",
      "_________________________________________________________________\n",
      "sequential (Sequential)      (None, 224, 224, 3)       0         \n",
      "_________________________________________________________________\n",
      "tf.math.truediv_1 (TFOpLambd (None, 224, 224, 3)       0         \n",
      "_________________________________________________________________\n",
      "tf.math.subtract_1 (TFOpLamb (None, 224, 224, 3)       0         \n",
      "_________________________________________________________________\n",
      "mobilenetv2_1.00_224 (Functi (None, 7, 7, 1280)        2257984   \n",
      "_________________________________________________________________\n",
      "global_average_pooling2d (Gl (None, 1280)              0         \n",
      "_________________________________________________________________\n",
      "dropout_1 (Dropout)          (None, 1280)              0         \n",
      "_________________________________________________________________\n",
      "dense_1 (Dense)              (None, 2)                 2562      \n",
      "=================================================================\n",
      "Total params: 2,260,546\n",
      "Trainable params: 2,562\n",
      "Non-trainable params: 2,257,984\n",
      "_________________________________________________________________\n"
     ]
    }
   ],
   "source": [
    "model.summary()"
   ]
  },
  {
   "cell_type": "code",
   "execution_count": 35,
   "id": "43b8e030",
   "metadata": {},
   "outputs": [
    {
     "data": {
      "text/plain": [
       "2"
      ]
     },
     "execution_count": 35,
     "metadata": {},
     "output_type": "execute_result"
    }
   ],
   "source": [
    "len(model.trainable_variables)"
   ]
  },
  {
   "cell_type": "code",
   "execution_count": 45,
   "id": "02843684",
   "metadata": {},
   "outputs": [
    {
     "name": "stdout",
     "output_type": "stream",
     "text": [
      "(1386, 7, 7, 1280)\n",
      "(1386, 1280)\n"
     ]
    }
   ],
   "source": [
    "print(covid_train_embedding.shape)\n",
    "print(feature_batch_average.shape)"
   ]
  },
  {
   "cell_type": "code",
   "execution_count": 48,
   "id": "b3abc588",
   "metadata": {
    "id": "b3abc588"
   },
   "outputs": [],
   "source": [
    "# X_train_val = covid_train_embedding\n",
    "# y_train_val = data.y_train\n",
    "# data_train_labels = data.labels_train"
   ]
  },
  {
   "cell_type": "code",
   "execution_count": 49,
   "id": "2fa74467",
   "metadata": {},
   "outputs": [],
   "source": [
    "# X_test_val = covid_test_embedding\n",
    "# y_test_val = data.y_test\n",
    "# data_test_labels = data.labels_test"
   ]
  },
  {
   "cell_type": "code",
   "execution_count": 50,
   "id": "b0454dea",
   "metadata": {
    "id": "b0454dea",
    "scrolled": true
   },
   "outputs": [
    {
     "name": "stdout",
     "output_type": "stream",
     "text": [
      "(1386, 2, 2, 320)\n",
      "(1386, 2, 2, 320)\n"
     ]
    }
   ],
   "source": [
    "# # Chaning shape for CNN2D\n",
    "# # for 2048 - > [-1,2,2,512]\n",
    "# # for 1280 - > [-1,2,2,320]\n",
    "\n",
    "# covid_train_embedding2d = tf.reshape(feature_batch_average, [-1,2,2,320])\n",
    "# print(covid_train_embedding2d.shape)\n",
    "\n",
    "# covid_test_embedding2d = tf.reshape(feature_batch_average, [-1,2,2,320])\n",
    "# print(covid_test_embedding2d.shape)\n",
    "\n",
    "# X_train_val = covid_train_embedding2d\n",
    "# X_test_val = covid_test_embedding2d"
   ]
  },
  {
   "cell_type": "code",
   "execution_count": 92,
   "id": "621464f8",
   "metadata": {
    "scrolled": true
   },
   "outputs": [
    {
     "name": "stdout",
     "output_type": "stream",
     "text": [
      "Epoch 1/10\n",
      "44/44 [==============================] - 83s 2s/step - loss: 0.7700 - accuracy: 0.5281 - val_loss: 0.7218 - val_accuracy: 0.5303\n",
      "Epoch 2/10\n",
      "44/44 [==============================] - 76s 2s/step - loss: 0.7390 - accuracy: 0.5527 - val_loss: 0.6896 - val_accuracy: 0.5943\n",
      "Epoch 3/10\n",
      "44/44 [==============================] - 76s 2s/step - loss: 0.7067 - accuracy: 0.6053 - val_loss: 0.6668 - val_accuracy: 0.6313\n",
      "Epoch 4/10\n",
      "44/44 [==============================] - 73s 2s/step - loss: 0.7023 - accuracy: 0.6039 - val_loss: 0.6475 - val_accuracy: 0.6650\n",
      "Epoch 5/10\n",
      "44/44 [==============================] - 71s 2s/step - loss: 0.6617 - accuracy: 0.6623 - val_loss: 0.6292 - val_accuracy: 0.6919\n",
      "Epoch 6/10\n",
      "44/44 [==============================] - 81s 2s/step - loss: 0.6532 - accuracy: 0.6602 - val_loss: 0.6134 - val_accuracy: 0.7104\n",
      "Epoch 7/10\n",
      "44/44 [==============================] - 74s 2s/step - loss: 0.6516 - accuracy: 0.6674 - val_loss: 0.6026 - val_accuracy: 0.7189\n",
      "Epoch 8/10\n",
      "44/44 [==============================] - 76s 2s/step - loss: 0.6261 - accuracy: 0.6970 - val_loss: 0.5891 - val_accuracy: 0.7407\n",
      "Epoch 9/10\n",
      "44/44 [==============================] - 75s 2s/step - loss: 0.6164 - accuracy: 0.7020 - val_loss: 0.5799 - val_accuracy: 0.7374\n",
      "Epoch 10/10\n",
      "44/44 [==============================] - 85s 2s/step - loss: 0.6079 - accuracy: 0.7027 - val_loss: 0.5680 - val_accuracy: 0.7542\n"
     ]
    },
    {
     "ename": "TypeError",
     "evalue": "Invalid keyword arguments: {'validation_data': (array([[[[ 23.,  23.,  23.],\n         [ 28.,  28.,  28.],\n         [ 28.,  28.,  28.],\n         ...,\n         [  0.,   0.,   0.],\n         [  0.,   0.,   0.],\n         [  0.,   0.,   0.]],\n\n        [[ 27.,  27.,  27.],\n         [ 33.,  33.,  33.],\n         [ 33.,  33.,  33.],\n         ...,\n         [  0.,   0.,   0.],\n         [  0.,   0.,   0.],\n         [  0.,   0.,   0.]],\n\n        [[ 27.,  27.,  27.],\n         [ 32.,  32.,  32.],\n         [ 33.,  33.,  33.],\n         ...,\n         [  0.,   0.,   0.],\n         [  0.,   0.,   0.],\n         [  0.,   0.,   0.]],\n\n        ...,\n\n        [[  0.,   0.,   0.],\n         [  0.,   0.,   0.],\n         [  0.,   0.,   0.],\n         ...,\n         [  0.,   0.,   0.],\n         [  0.,   0.,   0.],\n         [  0.,   0.,   0.]],\n\n        [[  0.,   0.,   0.],\n         [  0.,   0.,   0.],\n         [  0.,   0.,   0.],\n         ...,\n         [  0.,   0.,   0.],\n         [  0.,   0.,   0.],\n         [  0.,   0.,   0.]],\n\n        [[  0.,   0.,   0.],\n         [  0.,   0.,   0.],\n         [  0.,   0.,   0.],\n         ...,\n         [  0.,   0.,   0.],\n         [  0.,   0.,   0.],\n         [  0.,   0.,   0.]]],\n\n\n       [[[  0.,   0.,   0.],\n         [  0.,   0.,   0.],\n         [  0.,   0.,   0.],\n         ...,\n         [  0.,   0.,   0.],\n         [  0.,   0.,   0.],\n         [  0.,   0.,   0.]],\n\n        [[  0.,   0.,   0.],\n         [  0.,   0.,   0.],\n         [  0.,   0.,   0.],\n         ...,\n         [  0.,   0.,   0.],\n         [  0.,   0.,   0.],\n         [  0.,   0.,   0.]],\n\n        [[  0.,   0.,   0.],\n         [  0.,   0.,   0.],\n         [  0.,   0.,   0.],\n         ...,\n         [  0.,   0.,   0.],\n         [  0.,   0.,   0.],\n         [  0.,   0.,   0.]],\n\n        ...,\n\n        [[  0.,   0.,   0.],\n         [  0.,   0.,   0.],\n         [  0.,   0.,   0.],\n         ...,\n         [  0.,   0.,   0.],\n         [  0.,   0.,   0.],\n         [  0.,   0.,   0.]],\n\n        [[  0.,   0.,   0.],\n         [  0.,   0.,   0.],\n         [  0.,   0.,   0.],\n         ...,\n         [  0.,   0.,   0.],\n         [  0.,   0.,   0.],\n         [  0.,   0.,   0.]],\n\n        [[  0.,   0.,   0.],\n         [  0.,   0.,   0.],\n         [  0.,   0.,   0.],\n         ...,\n         [  0.,   0.,   0.],\n         [  0.,   0.,   0.],\n         [  0.,   0.,   0.]]],\n\n\n       [[[ 59.,  59.,  59.],\n         [ 53.,  53.,  53.],\n         [ 50.,  50.,  50.],\n         ...,\n         [ 49.,  49.,  49.],\n         [ 56.,  56.,  56.],\n         [185., 185., 185.]],\n\n        [[ 49.,  49.,  49.],\n         [ 50.,  50.,  50.],\n         [ 45.,  45.,  45.],\n         ...,\n         [ 43.,  43.,  43.],\n         [ 40.,  40.,  40.],\n         [183., 183., 183.]],\n\n        [[ 48.,  48.,  48.],\n         [ 47.,  47.,  47.],\n         [ 46.,  46.,  46.],\n         ...,\n         [ 45.,  45.,  45.],\n         [ 49.,  49.,  49.],\n         [186., 186., 186.]],\n\n        ...,\n\n        [[ 41.,  41.,  41.],\n         [ 35.,  35.,  35.],\n         [ 44.,  44.,  44.],\n         ...,\n         [ 45.,  45.,  45.],\n         [ 39.,  39.,  39.],\n         [182., 182., 182.]],\n\n        [[ 35.,  35.,  35.],\n         [ 38.,  38.,  38.],\n         [ 32.,  32.,  32.],\n         ...,\n         [ 35.,  35.,  35.],\n         [ 40.,  40.,  40.],\n         [177., 177., 177.]],\n\n        [[ 14.,  14.,  14.],\n         [ 10.,  10.,  10.],\n         [ 10.,  10.,  10.],\n         ...,\n         [ 12.,  12.,  12.],\n         [ 13.,  13.,  13.],\n         [169., 169., 169.]]],\n\n\n       ...,\n\n\n       [[[190., 190., 190.],\n         [181., 181., 181.],\n         [177., 177., 177.],\n         ...,\n         [199., 199., 199.],\n         [204., 204., 204.],\n         [189., 189., 189.]],\n\n        [[164., 164., 164.],\n         [125., 125., 125.],\n         [111., 111., 111.],\n         ...,\n         [173., 173., 173.],\n         [179., 179., 179.],\n         [167., 167., 167.]],\n\n        [[129., 129., 129.],\n         [ 63.,  63.,  63.],\n         [ 45.,  45.,  45.],\n         ...,\n         [110., 110., 110.],\n         [118., 118., 118.],\n         [119., 119., 119.]],\n\n        ...,\n\n        [[ 10.,  10.,  10.],\n         [  9.,   9.,   9.],\n         [  9.,   9.,   9.],\n         ...,\n         [  9.,   9.,   9.],\n         [  1.,   1.,   1.],\n         [  0.,   0.,   0.]],\n\n        [[ 10.,  10.,  10.],\n         [  9.,   9.,   9.],\n         [  9.,   9.,   9.],\n         ...,\n         [  5.,   5.,   5.],\n         [  0.,   0.,   0.],\n         [  0.,   0.,   0.]],\n\n        [[ 10.,  10.,  10.],\n         [  9.,   9.,   9.],\n         [  9.,   9.,   9.],\n         ...,\n         [  1.,   1.,   1.],\n         [  0.,   0.,   0.],\n         [  0.,   0.,   0.]]],\n\n\n       [[[  0.,   0.,   0.],\n         [  0.,   0.,   0.],\n         [  0.,   0.,   0.],\n         ...,\n         [  0.,   0.,   0.],\n         [  0.,   0.,   0.],\n         [  0.,   0.,   0.]],\n\n        [[  0.,   0.,   0.],\n         [  0.,   0.,   0.],\n         [  0.,   0.,   0.],\n         ...,\n         [  0.,   0.,   0.],\n         [  0.,   0.,   0.],\n         [  0.,   0.,   0.]],\n\n        [[  0.,   0.,   0.],\n         [  0.,   0.,   0.],\n         [  0.,   0.,   0.],\n         ...,\n         [  0.,   0.,   0.],\n         [  0.,   0.,   0.],\n         [  0.,   0.,   0.]],\n\n        ...,\n\n        [[  0.,   0.,   0.],\n         [  0.,   0.,   0.],\n         [  0.,   0.,   0.],\n         ...,\n         [  0.,   0.,   0.],\n         [  0.,   0.,   0.],\n         [  0.,   0.,   0.]],\n\n        [[  0.,   0.,   0.],\n         [  0.,   0.,   0.],\n         [  0.,   0.,   0.],\n         ...,\n         [  0.,   0.,   0.],\n         [  0.,   0.,   0.],\n         [  0.,   0.,   0.]],\n\n        [[  0.,   0.,   0.],\n         [  0.,   0.,   0.],\n         [  0.,   0.,   0.],\n         ...,\n         [  0.,   0.,   0.],\n         [  0.,   0.,   0.],\n         [  0.,   0.,   0.]]],\n\n\n       [[[  5.,   5.,   5.],\n         [  5.,   5.,   5.],\n         [  5.,   5.,   5.],\n         ...,\n         [  9.,   9.,   9.],\n         [ 13.,  13.,  13.],\n         [  9.,   9.,   9.]],\n\n        [[  6.,   6.,   6.],\n         [  5.,   5.,   5.],\n         [  5.,   5.,   5.],\n         ...,\n         [  5.,   5.,   5.],\n         [  5.,   5.,   5.],\n         [  7.,   7.,   7.]],\n\n        [[  6.,   6.,   6.],\n         [  6.,   6.,   6.],\n         [  6.,   6.,   6.],\n         ...,\n         [  5.,   5.,   5.],\n         [  6.,   6.,   6.],\n         [  8.,   8.,   8.]],\n\n        ...,\n\n        [[  4.,   4.,   4.],\n         [  6.,   6.,   6.],\n         [  6.,   6.,   6.],\n         ...,\n         [  7.,   7.,   7.],\n         [  7.,   7.,   7.],\n         [  7.,   7.,   7.]],\n\n        [[  4.,   4.,   4.],\n         [  6.,   6.,   6.],\n         [  6.,   6.,   6.],\n         ...,\n         [  7.,   7.,   7.],\n         [  7.,   7.,   7.],\n         [  7.,   7.,   7.]],\n\n        [[  5.,   5.,   5.],\n         [  6.,   6.,   6.],\n         [  6.,   6.,   6.],\n         ...,\n         [  7.,   7.,   7.],\n         [  7.,   7.,   7.],\n         [  6.,   6.,   6.]]]], dtype=float32), array([[0., 1.],\n       [0., 1.],\n       [0., 1.],\n       ...,\n       [0., 1.],\n       [0., 1.],\n       [1., 0.]], dtype=float32))}",
     "output_type": "error",
     "traceback": [
      "\u001b[1;31m---------------------------------------------------------------------------\u001b[0m",
      "\u001b[1;31mTypeError\u001b[0m                                 Traceback (most recent call last)",
      "\u001b[1;32m<ipython-input-92-978678ee86f0>\u001b[0m in \u001b[0;36m<module>\u001b[1;34m\u001b[0m\n\u001b[0;32m      1\u001b[0m \u001b[0minitial_epochs\u001b[0m \u001b[1;33m=\u001b[0m \u001b[1;36m10\u001b[0m\u001b[1;33m\u001b[0m\u001b[1;33m\u001b[0m\u001b[0m\n\u001b[0;32m      2\u001b[0m \u001b[0mhistory\u001b[0m \u001b[1;33m=\u001b[0m \u001b[0mmodel\u001b[0m\u001b[1;33m.\u001b[0m\u001b[0mfit\u001b[0m\u001b[1;33m(\u001b[0m\u001b[0mdata\u001b[0m\u001b[1;33m.\u001b[0m\u001b[0mX_train\u001b[0m\u001b[1;33m,\u001b[0m \u001b[0mdata\u001b[0m\u001b[1;33m.\u001b[0m\u001b[0my_train\u001b[0m\u001b[1;33m,\u001b[0m \u001b[0mepochs\u001b[0m\u001b[1;33m=\u001b[0m\u001b[0minitial_epochs\u001b[0m\u001b[1;33m,\u001b[0m \u001b[0mvalidation_data\u001b[0m\u001b[1;33m=\u001b[0m\u001b[1;33m(\u001b[0m\u001b[0mdata\u001b[0m\u001b[1;33m.\u001b[0m\u001b[0mX_test\u001b[0m\u001b[1;33m,\u001b[0m \u001b[0mdata\u001b[0m\u001b[1;33m.\u001b[0m\u001b[0my_test\u001b[0m\u001b[1;33m)\u001b[0m\u001b[1;33m)\u001b[0m\u001b[1;33m\u001b[0m\u001b[1;33m\u001b[0m\u001b[0m\n\u001b[1;32m----> 3\u001b[1;33m \u001b[0mloss0\u001b[0m\u001b[1;33m,\u001b[0m \u001b[0maccuracy0\u001b[0m \u001b[1;33m=\u001b[0m \u001b[0mmodel\u001b[0m\u001b[1;33m.\u001b[0m\u001b[0mevaluate\u001b[0m\u001b[1;33m(\u001b[0m\u001b[0mvalidation_data\u001b[0m\u001b[1;33m=\u001b[0m\u001b[1;33m(\u001b[0m\u001b[0mdata\u001b[0m\u001b[1;33m.\u001b[0m\u001b[0mX_test\u001b[0m\u001b[1;33m,\u001b[0m \u001b[0mdata\u001b[0m\u001b[1;33m.\u001b[0m\u001b[0my_test\u001b[0m\u001b[1;33m)\u001b[0m\u001b[1;33m)\u001b[0m\u001b[1;33m\u001b[0m\u001b[1;33m\u001b[0m\u001b[0m\n\u001b[0m",
      "\u001b[1;32mC:\\ProgramData\\Anaconda3\\lib\\site-packages\\keras\\engine\\training.py\u001b[0m in \u001b[0;36mevaluate\u001b[1;34m(self, x, y, batch_size, verbose, sample_weight, steps, callbacks, max_queue_size, workers, use_multiprocessing, return_dict, **kwargs)\u001b[0m\n\u001b[0;32m   1451\u001b[0m     \u001b[0muse_cached_eval_dataset\u001b[0m \u001b[1;33m=\u001b[0m \u001b[0mkwargs\u001b[0m\u001b[1;33m.\u001b[0m\u001b[0mpop\u001b[0m\u001b[1;33m(\u001b[0m\u001b[1;34m'_use_cached_eval_dataset'\u001b[0m\u001b[1;33m,\u001b[0m \u001b[1;32mFalse\u001b[0m\u001b[1;33m)\u001b[0m\u001b[1;33m\u001b[0m\u001b[1;33m\u001b[0m\u001b[0m\n\u001b[0;32m   1452\u001b[0m     \u001b[1;32mif\u001b[0m \u001b[0mkwargs\u001b[0m\u001b[1;33m:\u001b[0m\u001b[1;33m\u001b[0m\u001b[1;33m\u001b[0m\u001b[0m\n\u001b[1;32m-> 1453\u001b[1;33m       \u001b[1;32mraise\u001b[0m \u001b[0mTypeError\u001b[0m\u001b[1;33m(\u001b[0m\u001b[1;34m'Invalid keyword arguments: %s'\u001b[0m \u001b[1;33m%\u001b[0m \u001b[1;33m(\u001b[0m\u001b[0mkwargs\u001b[0m\u001b[1;33m,\u001b[0m\u001b[1;33m)\u001b[0m\u001b[1;33m)\u001b[0m\u001b[1;33m\u001b[0m\u001b[1;33m\u001b[0m\u001b[0m\n\u001b[0m\u001b[0;32m   1454\u001b[0m \u001b[1;33m\u001b[0m\u001b[0m\n\u001b[0;32m   1455\u001b[0m     \u001b[1;32mif\u001b[0m \u001b[0mself\u001b[0m\u001b[1;33m.\u001b[0m\u001b[0mdistribute_strategy\u001b[0m\u001b[1;33m.\u001b[0m\u001b[0m_should_use_with_coordinator\u001b[0m\u001b[1;33m:\u001b[0m  \u001b[1;31m# pylint: disable=protected-access\u001b[0m\u001b[1;33m\u001b[0m\u001b[1;33m\u001b[0m\u001b[0m\n",
      "\u001b[1;31mTypeError\u001b[0m: Invalid keyword arguments: {'validation_data': (array([[[[ 23.,  23.,  23.],\n         [ 28.,  28.,  28.],\n         [ 28.,  28.,  28.],\n         ...,\n         [  0.,   0.,   0.],\n         [  0.,   0.,   0.],\n         [  0.,   0.,   0.]],\n\n        [[ 27.,  27.,  27.],\n         [ 33.,  33.,  33.],\n         [ 33.,  33.,  33.],\n         ...,\n         [  0.,   0.,   0.],\n         [  0.,   0.,   0.],\n         [  0.,   0.,   0.]],\n\n        [[ 27.,  27.,  27.],\n         [ 32.,  32.,  32.],\n         [ 33.,  33.,  33.],\n         ...,\n         [  0.,   0.,   0.],\n         [  0.,   0.,   0.],\n         [  0.,   0.,   0.]],\n\n        ...,\n\n        [[  0.,   0.,   0.],\n         [  0.,   0.,   0.],\n         [  0.,   0.,   0.],\n         ...,\n         [  0.,   0.,   0.],\n         [  0.,   0.,   0.],\n         [  0.,   0.,   0.]],\n\n        [[  0.,   0.,   0.],\n         [  0.,   0.,   0.],\n         [  0.,   0.,   0.],\n         ...,\n         [  0.,   0.,   0.],\n         [  0.,   0.,   0.],\n         [  0.,   0.,   0.]],\n\n        [[  0.,   0.,   0.],\n         [  0.,   0.,   0.],\n         [  0.,   0.,   0.],\n         ...,\n         [  0.,   0.,   0.],\n         [  0.,   0.,   0.],\n         [  0.,   0.,   0.]]],\n\n\n       [[[  0.,   0.,   0.],\n         [  0.,   0.,   0.],\n         [  0.,   0.,   0.],\n         ...,\n         [  0.,   0.,   0.],\n         [  0.,   0.,   0.],\n         [  0.,   0.,   0.]],\n\n        [[  0.,   0.,   0.],\n         [  0.,   0.,   0.],\n         [  0.,   0.,   0.],\n         ...,\n         [  0.,   0.,   0.],\n         [  0.,   0.,   0.],\n         [  0.,   0.,   0.]],\n\n        [[  0.,   0.,   0.],\n         [  0.,   0.,   0.],\n         [  0.,   0.,   0.],\n         ...,\n         [  0.,   0.,   0.],\n         [  0.,   0.,   0.],\n         [  0.,   0.,   0.]],\n\n        ...,\n\n        [[  0.,   0.,   0.],\n         [  0.,   0.,   0.],\n         [  0.,   0.,   0.],\n         ...,\n         [  0.,   0.,   0.],\n         [  0.,   0.,   0.],\n         [  0.,   0.,   0.]],\n\n        [[  0.,   0.,   0.],\n         [  0.,   0.,   0.],\n         [  0.,   0.,   0.],\n         ...,\n         [  0.,   0.,   0.],\n         [  0.,   0.,   0.],\n         [  0.,   0.,   0.]],\n\n        [[  0.,   0.,   0.],\n         [  0.,   0.,   0.],\n         [  0.,   0.,   0.],\n         ...,\n         [  0.,   0.,   0.],\n         [  0.,   0.,   0.],\n         [  0.,   0.,   0.]]],\n\n\n       [[[ 59.,  59.,  59.],\n         [ 53.,  53.,  53.],\n         [ 50.,  50.,  50.],\n         ...,\n         [ 49.,  49.,  49.],\n         [ 56.,  56.,  56.],\n         [185., 185., 185.]],\n\n        [[ 49.,  49.,  49.],\n         [ 50.,  50.,  50.],\n         [ 45.,  45.,  45.],\n         ...,\n         [ 43.,  43.,  43.],\n         [ 40.,  40.,  40.],\n         [183., 183., 183.]],\n\n        [[ 48.,  48.,  48.],\n         [ 47.,  47.,  47.],\n         [ 46.,  46.,  46.],\n         ...,\n         [ 45.,  45.,  45.],\n         [ 49.,  49.,  49.],\n         [186., 186., 186.]],\n\n        ...,\n\n        [[ 41.,  41.,  41.],\n         [ 35.,  35.,  35.],\n         [ 44.,  44.,  44.],\n         ...,\n         [ 45.,  45.,  45.],\n         [ 39.,  39.,  39.],\n         [182., 182., 182.]],\n\n        [[ 35.,  35.,  35.],\n         [ 38.,  38.,  38.],\n         [ 32.,  32.,  32.],\n         ...,\n         [ 35.,  35.,  35.],\n         [ 40.,  40.,  40.],\n         [177., 177., 177.]],\n\n        [[ 14.,  14.,  14.],\n         [ 10.,  10.,  10.],\n         [ 10.,  10.,  10.],\n         ...,\n         [ 12.,  12.,  12.],\n         [ 13.,  13.,  13.],\n         [169., 169., 169.]]],\n\n\n       ...,\n\n\n       [[[190., 190., 190.],\n         [181., 181., 181.],\n         [177., 177., 177.],\n         ...,\n         [199., 199., 199.],\n         [204., 204., 204.],\n         [189., 189., 189.]],\n\n        [[164., 164., 164.],\n         [125., 125., 125.],\n         [111., 111., 111.],\n         ...,\n         [173., 173., 173.],\n         [179., 179., 179.],\n         [167., 167., 167.]],\n\n        [[129., 129., 129.],\n         [ 63.,  63.,  63.],\n         [ 45.,  45.,  45.],\n         ...,\n         [110., 110., 110.],\n         [118., 118., 118.],\n         [119., 119., 119.]],\n\n        ...,\n\n        [[ 10.,  10.,  10.],\n         [  9.,   9.,   9.],\n         [  9.,   9.,   9.],\n         ...,\n         [  9.,   9.,   9.],\n         [  1.,   1.,   1.],\n         [  0.,   0.,   0.]],\n\n        [[ 10.,  10.,  10.],\n         [  9.,   9.,   9.],\n         [  9.,   9.,   9.],\n         ...,\n         [  5.,   5.,   5.],\n         [  0.,   0.,   0.],\n         [  0.,   0.,   0.]],\n\n        [[ 10.,  10.,  10.],\n         [  9.,   9.,   9.],\n         [  9.,   9.,   9.],\n         ...,\n         [  1.,   1.,   1.],\n         [  0.,   0.,   0.],\n         [  0.,   0.,   0.]]],\n\n\n       [[[  0.,   0.,   0.],\n         [  0.,   0.,   0.],\n         [  0.,   0.,   0.],\n         ...,\n         [  0.,   0.,   0.],\n         [  0.,   0.,   0.],\n         [  0.,   0.,   0.]],\n\n        [[  0.,   0.,   0.],\n         [  0.,   0.,   0.],\n         [  0.,   0.,   0.],\n         ...,\n         [  0.,   0.,   0.],\n         [  0.,   0.,   0.],\n         [  0.,   0.,   0.]],\n\n        [[  0.,   0.,   0.],\n         [  0.,   0.,   0.],\n         [  0.,   0.,   0.],\n         ...,\n         [  0.,   0.,   0.],\n         [  0.,   0.,   0.],\n         [  0.,   0.,   0.]],\n\n        ...,\n\n        [[  0.,   0.,   0.],\n         [  0.,   0.,   0.],\n         [  0.,   0.,   0.],\n         ...,\n         [  0.,   0.,   0.],\n         [  0.,   0.,   0.],\n         [  0.,   0.,   0.]],\n\n        [[  0.,   0.,   0.],\n         [  0.,   0.,   0.],\n         [  0.,   0.,   0.],\n         ...,\n         [  0.,   0.,   0.],\n         [  0.,   0.,   0.],\n         [  0.,   0.,   0.]],\n\n        [[  0.,   0.,   0.],\n         [  0.,   0.,   0.],\n         [  0.,   0.,   0.],\n         ...,\n         [  0.,   0.,   0.],\n         [  0.,   0.,   0.],\n         [  0.,   0.,   0.]]],\n\n\n       [[[  5.,   5.,   5.],\n         [  5.,   5.,   5.],\n         [  5.,   5.,   5.],\n         ...,\n         [  9.,   9.,   9.],\n         [ 13.,  13.,  13.],\n         [  9.,   9.,   9.]],\n\n        [[  6.,   6.,   6.],\n         [  5.,   5.,   5.],\n         [  5.,   5.,   5.],\n         ...,\n         [  5.,   5.,   5.],\n         [  5.,   5.,   5.],\n         [  7.,   7.,   7.]],\n\n        [[  6.,   6.,   6.],\n         [  6.,   6.,   6.],\n         [  6.,   6.,   6.],\n         ...,\n         [  5.,   5.,   5.],\n         [  6.,   6.,   6.],\n         [  8.,   8.,   8.]],\n\n        ...,\n\n        [[  4.,   4.,   4.],\n         [  6.,   6.,   6.],\n         [  6.,   6.,   6.],\n         ...,\n         [  7.,   7.,   7.],\n         [  7.,   7.,   7.],\n         [  7.,   7.,   7.]],\n\n        [[  4.,   4.,   4.],\n         [  6.,   6.,   6.],\n         [  6.,   6.,   6.],\n         ...,\n         [  7.,   7.,   7.],\n         [  7.,   7.,   7.],\n         [  7.,   7.,   7.]],\n\n        [[  5.,   5.,   5.],\n         [  6.,   6.,   6.],\n         [  6.,   6.,   6.],\n         ...,\n         [  7.,   7.,   7.],\n         [  7.,   7.,   7.],\n         [  6.,   6.,   6.]]]], dtype=float32), array([[0., 1.],\n       [0., 1.],\n       [0., 1.],\n       ...,\n       [0., 1.],\n       [0., 1.],\n       [1., 0.]], dtype=float32))}"
     ]
    }
   ],
   "source": [
    "initial_epochs = 10\n",
    "history = model.fit(data.X_train, data.y_train, epochs=initial_epochs, validation_data=(data.X_test, data.y_test))"
   ]
  },
  {
   "cell_type": "code",
   "execution_count": 98,
   "id": "6711d165",
   "metadata": {},
   "outputs": [
    {
     "data": {
      "text/plain": [
       "(594, 2)"
      ]
     },
     "execution_count": 98,
     "metadata": {},
     "output_type": "execute_result"
    }
   ],
   "source": [
    "data.y_test.shape"
   ]
  },
  {
   "cell_type": "code",
   "execution_count": 112,
   "id": "29cb7811",
   "metadata": {},
   "outputs": [
    {
     "name": "stdout",
     "output_type": "stream",
     "text": [
      "19/19 [==============================] - 19s 971ms/step - loss: 0.5680 - accuracy: 0.7542\n"
     ]
    }
   ],
   "source": [
    "loss0, accuracy0 = model.evaluate(data.X_test, data.y_test)"
   ]
  },
  {
   "cell_type": "code",
   "execution_count": 113,
   "id": "b9c3de1a",
   "metadata": {},
   "outputs": [
    {
     "name": "stdout",
     "output_type": "stream",
     "text": [
      "initial loss: 0.57\n",
      "initial accuracy: 0.75\n"
     ]
    }
   ],
   "source": [
    "print(\"initial loss: {:.2f}\".format(loss0))\n",
    "print(\"initial accuracy: {:.2f}\".format(accuracy0))"
   ]
  },
  {
   "cell_type": "code",
   "execution_count": 101,
   "id": "bc777765",
   "metadata": {},
   "outputs": [
    {
     "data": {
      "image/png": "[encoded data removed]",
      "text/plain": [
       "<Figure size 576x576 with 2 Axes>"
      ]
     },
     "metadata": {
      "needs_background": "light"
     },
     "output_type": "display_data"
    }
   ],
   "source": [
    "acc = history.history['accuracy']\n",
    "val_acc = history.history['val_accuracy']\n",
    "\n",
    "loss = history.history['loss']\n",
    "val_loss = history.history['val_loss']\n",
    "\n",
    "plt.figure(figsize=(8, 8))\n",
    "plt.subplot(2, 1, 1)\n",
    "plt.plot(acc, label='Training Accuracy')\n",
    "plt.plot(val_acc, label='Validation Accuracy')\n",
    "plt.legend(loc='lower right')\n",
    "plt.ylabel('Accuracy')\n",
    "plt.ylim([min(plt.ylim()),1])\n",
    "plt.title('Training and Validation Accuracy')\n",
    "\n",
    "plt.subplot(2, 1, 2)\n",
    "plt.plot(loss, label='Training Loss')\n",
    "plt.plot(val_loss, label='Validation Loss')\n",
    "plt.legend(loc='upper right')\n",
    "plt.ylabel('Cross Entropy')\n",
    "plt.ylim([0,1.0])\n",
    "plt.title('Training and Validation Loss')\n",
    "plt.xlabel('epoch')\n",
    "plt.show()"
   ]
  },
  {
   "cell_type": "markdown",
   "id": "34e0f59b",
   "metadata": {},
   "source": [
    "### Fine Tuning "
   ]
  },
  {
   "cell_type": "code",
   "execution_count": 115,
   "id": "bb813a01",
   "metadata": {},
   "outputs": [],
   "source": [
    "mobinet_model.trainable = True"
   ]
  },
  {
   "cell_type": "code",
   "execution_count": 116,
   "id": "4ab336ba",
   "metadata": {},
   "outputs": [
    {
     "name": "stdout",
     "output_type": "stream",
     "text": [
      "Number of layers in the base model:  154\n"
     ]
    }
   ],
   "source": [
    "# Let's take a look to see how many layers are in the base model\n",
    "print(\"Number of layers in the base model: \", len(mobinet_model.layers))\n",
    "\n",
    "# Fine-tune from this layer onwards\n",
    "fine_tune_at = 100\n",
    "\n",
    "# Freeze all the layers before the `fine_tune_at` layer\n",
    "for layer in mobinet_model.layers[:fine_tune_at]:\n",
    "    layer.trainable = False"
   ]
  },
  {
   "cell_type": "code",
   "execution_count": 117,
   "id": "d4cb50ce",
   "metadata": {},
   "outputs": [],
   "source": [
    "model.compile(loss=tf.keras.losses.BinaryCrossentropy(from_logits=True),\n",
    "              optimizer = tf.keras.optimizers.RMSprop(learning_rate=base_learning_rate/10),\n",
    "              metrics=['accuracy'])"
   ]
  },
  {
   "cell_type": "code",
   "execution_count": 118,
   "id": "444300df",
   "metadata": {},
   "outputs": [
    {
     "name": "stdout",
     "output_type": "stream",
     "text": [
      "Model: \"model_2\"\n",
      "_________________________________________________________________\n",
      "Layer (type)                 Output Shape              Param #   \n",
      "=================================================================\n",
      "input_7 (InputLayer)         [(None, 224, 224, 3)]     0         \n",
      "_________________________________________________________________\n",
      "sequential (Sequential)      (None, 224, 224, 3)       0         \n",
      "_________________________________________________________________\n",
      "tf.math.truediv_2 (TFOpLambd (None, 224, 224, 3)       0         \n",
      "_________________________________________________________________\n",
      "tf.math.subtract_2 (TFOpLamb (None, 224, 224, 3)       0         \n",
      "_________________________________________________________________\n",
      "mobilenetv2_1.00_224 (Functi (None, 7, 7, 1280)        2257984   \n",
      "_________________________________________________________________\n",
      "global_average_pooling2d (Gl (None, 1280)              0         \n",
      "_________________________________________________________________\n",
      "dropout_2 (Dropout)          (None, 1280)              0         \n",
      "_________________________________________________________________\n",
      "dense_1 (Dense)              (None, 2)                 2562      \n",
      "=================================================================\n",
      "Total params: 2,260,546\n",
      "Trainable params: 1,864,002\n",
      "Non-trainable params: 396,544\n",
      "_________________________________________________________________\n"
     ]
    }
   ],
   "source": [
    "model.summary()"
   ]
  },
  {
   "cell_type": "code",
   "execution_count": 119,
   "id": "5889cbfb",
   "metadata": {},
   "outputs": [
    {
     "data": {
      "text/plain": [
       "56"
      ]
     },
     "execution_count": 119,
     "metadata": {},
     "output_type": "execute_result"
    }
   ],
   "source": [
    "len(model.trainable_variables)"
   ]
  },
  {
   "cell_type": "code",
   "execution_count": 120,
   "id": "e6743b88",
   "metadata": {
    "scrolled": true
   },
   "outputs": [
    {
     "name": "stdout",
     "output_type": "stream",
     "text": [
      "Epoch 10/20\n",
      "44/44 [==============================] - 93s 2s/step - loss: 0.5654 - accuracy: 0.7244 - val_loss: 0.4948 - val_accuracy: 0.7929\n",
      "Epoch 11/20\n",
      "44/44 [==============================] - ETA: 0s - loss: 0.5079 - accuracy: 0.7756"
     ]
    },
    {
     "ename": "KeyboardInterrupt",
     "evalue": "",
     "output_type": "error",
     "traceback": [
      "\u001b[1;31m---------------------------------------------------------------------------\u001b[0m",
      "\u001b[1;31mKeyboardInterrupt\u001b[0m                         Traceback (most recent call last)",
      "\u001b[1;32m<ipython-input-120-52882bcc1f96>\u001b[0m in \u001b[0;36m<module>\u001b[1;34m\u001b[0m\n\u001b[0;32m      2\u001b[0m \u001b[0mtotal_epochs\u001b[0m \u001b[1;33m=\u001b[0m  \u001b[0minitial_epochs\u001b[0m \u001b[1;33m+\u001b[0m \u001b[0mfine_tune_epochs\u001b[0m\u001b[1;33m\u001b[0m\u001b[1;33m\u001b[0m\u001b[0m\n\u001b[0;32m      3\u001b[0m \u001b[1;33m\u001b[0m\u001b[0m\n\u001b[1;32m----> 4\u001b[1;33m history_fine = model.fit(data.X_train, data.y_train,\n\u001b[0m\u001b[0;32m      5\u001b[0m                          \u001b[0mepochs\u001b[0m\u001b[1;33m=\u001b[0m\u001b[0mtotal_epochs\u001b[0m\u001b[1;33m,\u001b[0m\u001b[1;33m\u001b[0m\u001b[1;33m\u001b[0m\u001b[0m\n\u001b[0;32m      6\u001b[0m                          \u001b[0minitial_epoch\u001b[0m\u001b[1;33m=\u001b[0m\u001b[0mhistory\u001b[0m\u001b[1;33m.\u001b[0m\u001b[0mepoch\u001b[0m\u001b[1;33m[\u001b[0m\u001b[1;33m-\u001b[0m\u001b[1;36m1\u001b[0m\u001b[1;33m]\u001b[0m\u001b[1;33m,\u001b[0m\u001b[1;33m\u001b[0m\u001b[1;33m\u001b[0m\u001b[0m\n",
      "\u001b[1;32mC:\\ProgramData\\Anaconda3\\lib\\site-packages\\keras\\engine\\training.py\u001b[0m in \u001b[0;36mfit\u001b[1;34m(self, x, y, batch_size, epochs, verbose, callbacks, validation_split, validation_data, shuffle, class_weight, sample_weight, initial_epoch, steps_per_epoch, validation_steps, validation_batch_size, validation_freq, max_queue_size, workers, use_multiprocessing)\u001b[0m\n\u001b[0;32m   1213\u001b[0m                 \u001b[0mmodel\u001b[0m\u001b[1;33m=\u001b[0m\u001b[0mself\u001b[0m\u001b[1;33m,\u001b[0m\u001b[1;33m\u001b[0m\u001b[1;33m\u001b[0m\u001b[0m\n\u001b[0;32m   1214\u001b[0m                 steps_per_execution=self._steps_per_execution)\n\u001b[1;32m-> 1215\u001b[1;33m           val_logs = self.evaluate(\n\u001b[0m\u001b[0;32m   1216\u001b[0m               \u001b[0mx\u001b[0m\u001b[1;33m=\u001b[0m\u001b[0mval_x\u001b[0m\u001b[1;33m,\u001b[0m\u001b[1;33m\u001b[0m\u001b[1;33m\u001b[0m\u001b[0m\n\u001b[0;32m   1217\u001b[0m               \u001b[0my\u001b[0m\u001b[1;33m=\u001b[0m\u001b[0mval_y\u001b[0m\u001b[1;33m,\u001b[0m\u001b[1;33m\u001b[0m\u001b[1;33m\u001b[0m\u001b[0m\n",
      "\u001b[1;32mC:\\ProgramData\\Anaconda3\\lib\\site-packages\\keras\\engine\\training.py\u001b[0m in \u001b[0;36mevaluate\u001b[1;34m(self, x, y, batch_size, verbose, sample_weight, steps, callbacks, max_queue_size, workers, use_multiprocessing, return_dict, **kwargs)\u001b[0m\n\u001b[0;32m   1499\u001b[0m             \u001b[1;32mwith\u001b[0m \u001b[0mtf\u001b[0m\u001b[1;33m.\u001b[0m\u001b[0mprofiler\u001b[0m\u001b[1;33m.\u001b[0m\u001b[0mexperimental\u001b[0m\u001b[1;33m.\u001b[0m\u001b[0mTrace\u001b[0m\u001b[1;33m(\u001b[0m\u001b[1;34m'test'\u001b[0m\u001b[1;33m,\u001b[0m \u001b[0mstep_num\u001b[0m\u001b[1;33m=\u001b[0m\u001b[0mstep\u001b[0m\u001b[1;33m,\u001b[0m \u001b[0m_r\u001b[0m\u001b[1;33m=\u001b[0m\u001b[1;36m1\u001b[0m\u001b[1;33m)\u001b[0m\u001b[1;33m:\u001b[0m\u001b[1;33m\u001b[0m\u001b[1;33m\u001b[0m\u001b[0m\n\u001b[0;32m   1500\u001b[0m               \u001b[0mcallbacks\u001b[0m\u001b[1;33m.\u001b[0m\u001b[0mon_test_batch_begin\u001b[0m\u001b[1;33m(\u001b[0m\u001b[0mstep\u001b[0m\u001b[1;33m)\u001b[0m\u001b[1;33m\u001b[0m\u001b[1;33m\u001b[0m\u001b[0m\n\u001b[1;32m-> 1501\u001b[1;33m               \u001b[0mtmp_logs\u001b[0m \u001b[1;33m=\u001b[0m \u001b[0mself\u001b[0m\u001b[1;33m.\u001b[0m\u001b[0mtest_function\u001b[0m\u001b[1;33m(\u001b[0m\u001b[0miterator\u001b[0m\u001b[1;33m)\u001b[0m\u001b[1;33m\u001b[0m\u001b[1;33m\u001b[0m\u001b[0m\n\u001b[0m\u001b[0;32m   1502\u001b[0m               \u001b[1;32mif\u001b[0m \u001b[0mdata_handler\u001b[0m\u001b[1;33m.\u001b[0m\u001b[0mshould_sync\u001b[0m\u001b[1;33m:\u001b[0m\u001b[1;33m\u001b[0m\u001b[1;33m\u001b[0m\u001b[0m\n\u001b[0;32m   1503\u001b[0m                 \u001b[0mcontext\u001b[0m\u001b[1;33m.\u001b[0m\u001b[0masync_wait\u001b[0m\u001b[1;33m(\u001b[0m\u001b[1;33m)\u001b[0m\u001b[1;33m\u001b[0m\u001b[1;33m\u001b[0m\u001b[0m\n",
      "\u001b[1;32mC:\\ProgramData\\Anaconda3\\lib\\site-packages\\tensorflow\\python\\eager\\def_function.py\u001b[0m in \u001b[0;36m__call__\u001b[1;34m(self, *args, **kwds)\u001b[0m\n\u001b[0;32m    883\u001b[0m \u001b[1;33m\u001b[0m\u001b[0m\n\u001b[0;32m    884\u001b[0m       \u001b[1;32mwith\u001b[0m \u001b[0mOptionalXlaContext\u001b[0m\u001b[1;33m(\u001b[0m\u001b[0mself\u001b[0m\u001b[1;33m.\u001b[0m\u001b[0m_jit_compile\u001b[0m\u001b[1;33m)\u001b[0m\u001b[1;33m:\u001b[0m\u001b[1;33m\u001b[0m\u001b[1;33m\u001b[0m\u001b[0m\n\u001b[1;32m--> 885\u001b[1;33m         \u001b[0mresult\u001b[0m \u001b[1;33m=\u001b[0m \u001b[0mself\u001b[0m\u001b[1;33m.\u001b[0m\u001b[0m_call\u001b[0m\u001b[1;33m(\u001b[0m\u001b[1;33m*\u001b[0m\u001b[0margs\u001b[0m\u001b[1;33m,\u001b[0m \u001b[1;33m**\u001b[0m\u001b[0mkwds\u001b[0m\u001b[1;33m)\u001b[0m\u001b[1;33m\u001b[0m\u001b[1;33m\u001b[0m\u001b[0m\n\u001b[0m\u001b[0;32m    886\u001b[0m \u001b[1;33m\u001b[0m\u001b[0m\n\u001b[0;32m    887\u001b[0m       \u001b[0mnew_tracing_count\u001b[0m \u001b[1;33m=\u001b[0m \u001b[0mself\u001b[0m\u001b[1;33m.\u001b[0m\u001b[0mexperimental_get_tracing_count\u001b[0m\u001b[1;33m(\u001b[0m\u001b[1;33m)\u001b[0m\u001b[1;33m\u001b[0m\u001b[1;33m\u001b[0m\u001b[0m\n",
      "\u001b[1;32mC:\\ProgramData\\Anaconda3\\lib\\site-packages\\tensorflow\\python\\eager\\def_function.py\u001b[0m in \u001b[0;36m_call\u001b[1;34m(self, *args, **kwds)\u001b[0m\n\u001b[0;32m    922\u001b[0m       \u001b[1;31m# In this case we have not created variables on the first call. So we can\u001b[0m\u001b[1;33m\u001b[0m\u001b[1;33m\u001b[0m\u001b[1;33m\u001b[0m\u001b[0m\n\u001b[0;32m    923\u001b[0m       \u001b[1;31m# run the first trace but we should fail if variables are created.\u001b[0m\u001b[1;33m\u001b[0m\u001b[1;33m\u001b[0m\u001b[1;33m\u001b[0m\u001b[0m\n\u001b[1;32m--> 924\u001b[1;33m       \u001b[0mresults\u001b[0m \u001b[1;33m=\u001b[0m \u001b[0mself\u001b[0m\u001b[1;33m.\u001b[0m\u001b[0m_stateful_fn\u001b[0m\u001b[1;33m(\u001b[0m\u001b[1;33m*\u001b[0m\u001b[0margs\u001b[0m\u001b[1;33m,\u001b[0m \u001b[1;33m**\u001b[0m\u001b[0mkwds\u001b[0m\u001b[1;33m)\u001b[0m\u001b[1;33m\u001b[0m\u001b[1;33m\u001b[0m\u001b[0m\n\u001b[0m\u001b[0;32m    925\u001b[0m       \u001b[1;32mif\u001b[0m \u001b[0mself\u001b[0m\u001b[1;33m.\u001b[0m\u001b[0m_created_variables\u001b[0m \u001b[1;32mand\u001b[0m \u001b[1;32mnot\u001b[0m \u001b[0mALLOW_DYNAMIC_VARIABLE_CREATION\u001b[0m\u001b[1;33m:\u001b[0m\u001b[1;33m\u001b[0m\u001b[1;33m\u001b[0m\u001b[0m\n\u001b[0;32m    926\u001b[0m         raise ValueError(\"Creating variables on a non-first call to a function\"\n",
      "\u001b[1;32mC:\\ProgramData\\Anaconda3\\lib\\site-packages\\tensorflow\\python\\eager\\function.py\u001b[0m in \u001b[0;36m__call__\u001b[1;34m(self, *args, **kwargs)\u001b[0m\n\u001b[0;32m   3037\u001b[0m       (graph_function,\n\u001b[0;32m   3038\u001b[0m        filtered_flat_args) = self._maybe_define_function(args, kwargs)\n\u001b[1;32m-> 3039\u001b[1;33m     return graph_function._call_flat(\n\u001b[0m\u001b[0;32m   3040\u001b[0m         filtered_flat_args, captured_inputs=graph_function.captured_inputs)  # pylint: disable=protected-access\n\u001b[0;32m   3041\u001b[0m \u001b[1;33m\u001b[0m\u001b[0m\n",
      "\u001b[1;32mC:\\ProgramData\\Anaconda3\\lib\\site-packages\\tensorflow\\python\\eager\\function.py\u001b[0m in \u001b[0;36m_call_flat\u001b[1;34m(self, args, captured_inputs, cancellation_manager)\u001b[0m\n\u001b[0;32m   1961\u001b[0m         and executing_eagerly):\n\u001b[0;32m   1962\u001b[0m       \u001b[1;31m# No tape is watching; skip to running the function.\u001b[0m\u001b[1;33m\u001b[0m\u001b[1;33m\u001b[0m\u001b[1;33m\u001b[0m\u001b[0m\n\u001b[1;32m-> 1963\u001b[1;33m       return self._build_call_outputs(self._inference_function.call(\n\u001b[0m\u001b[0;32m   1964\u001b[0m           ctx, args, cancellation_manager=cancellation_manager))\n\u001b[0;32m   1965\u001b[0m     forward_backward = self._select_forward_and_backward_functions(\n",
      "\u001b[1;32mC:\\ProgramData\\Anaconda3\\lib\\site-packages\\tensorflow\\python\\eager\\function.py\u001b[0m in \u001b[0;36mcall\u001b[1;34m(self, ctx, args, cancellation_manager)\u001b[0m\n\u001b[0;32m    589\u001b[0m       \u001b[1;32mwith\u001b[0m \u001b[0m_InterpolateFunctionError\u001b[0m\u001b[1;33m(\u001b[0m\u001b[0mself\u001b[0m\u001b[1;33m)\u001b[0m\u001b[1;33m:\u001b[0m\u001b[1;33m\u001b[0m\u001b[1;33m\u001b[0m\u001b[0m\n\u001b[0;32m    590\u001b[0m         \u001b[1;32mif\u001b[0m \u001b[0mcancellation_manager\u001b[0m \u001b[1;32mis\u001b[0m \u001b[1;32mNone\u001b[0m\u001b[1;33m:\u001b[0m\u001b[1;33m\u001b[0m\u001b[1;33m\u001b[0m\u001b[0m\n\u001b[1;32m--> 591\u001b[1;33m           outputs = execute.execute(\n\u001b[0m\u001b[0;32m    592\u001b[0m               \u001b[0mstr\u001b[0m\u001b[1;33m(\u001b[0m\u001b[0mself\u001b[0m\u001b[1;33m.\u001b[0m\u001b[0msignature\u001b[0m\u001b[1;33m.\u001b[0m\u001b[0mname\u001b[0m\u001b[1;33m)\u001b[0m\u001b[1;33m,\u001b[0m\u001b[1;33m\u001b[0m\u001b[1;33m\u001b[0m\u001b[0m\n\u001b[0;32m    593\u001b[0m               \u001b[0mnum_outputs\u001b[0m\u001b[1;33m=\u001b[0m\u001b[0mself\u001b[0m\u001b[1;33m.\u001b[0m\u001b[0m_num_outputs\u001b[0m\u001b[1;33m,\u001b[0m\u001b[1;33m\u001b[0m\u001b[1;33m\u001b[0m\u001b[0m\n",
      "\u001b[1;32mC:\\ProgramData\\Anaconda3\\lib\\site-packages\\tensorflow\\python\\eager\\execute.py\u001b[0m in \u001b[0;36mquick_execute\u001b[1;34m(op_name, num_outputs, inputs, attrs, ctx, name)\u001b[0m\n\u001b[0;32m     57\u001b[0m   \u001b[1;32mtry\u001b[0m\u001b[1;33m:\u001b[0m\u001b[1;33m\u001b[0m\u001b[1;33m\u001b[0m\u001b[0m\n\u001b[0;32m     58\u001b[0m     \u001b[0mctx\u001b[0m\u001b[1;33m.\u001b[0m\u001b[0mensure_initialized\u001b[0m\u001b[1;33m(\u001b[0m\u001b[1;33m)\u001b[0m\u001b[1;33m\u001b[0m\u001b[1;33m\u001b[0m\u001b[0m\n\u001b[1;32m---> 59\u001b[1;33m     tensors = pywrap_tfe.TFE_Py_Execute(ctx._handle, device_name, op_name,\n\u001b[0m\u001b[0;32m     60\u001b[0m                                         inputs, attrs, num_outputs)\n\u001b[0;32m     61\u001b[0m   \u001b[1;32mexcept\u001b[0m \u001b[0mcore\u001b[0m\u001b[1;33m.\u001b[0m\u001b[0m_NotOkStatusException\u001b[0m \u001b[1;32mas\u001b[0m \u001b[0me\u001b[0m\u001b[1;33m:\u001b[0m\u001b[1;33m\u001b[0m\u001b[1;33m\u001b[0m\u001b[0m\n",
      "\u001b[1;31mKeyboardInterrupt\u001b[0m: "
     ]
    }
   ],
   "source": [
    "fine_tune_epochs = 10\n",
    "total_epochs =  initial_epochs + fine_tune_epochs\n",
    "\n",
    "history_fine = model.fit(data.X_train, data.y_train,\n",
    "                         epochs=total_epochs,\n",
    "                         initial_epoch=history.epoch[-1],\n",
    "                         validation_data=(data.X_test, data.y_test))"
   ]
  },
  {
   "cell_type": "code",
   "execution_count": null,
   "id": "8f2513d7",
   "metadata": {},
   "outputs": [],
   "source": [
    "acc += history_fine.history['accuracy']\n",
    "val_acc += history_fine.history['val_accuracy']\n",
    "\n",
    "loss += history_fine.history['loss']\n",
    "val_loss += history_fine.history['val_loss']"
   ]
  },
  {
   "cell_type": "code",
   "execution_count": null,
   "id": "3c636cbd",
   "metadata": {},
   "outputs": [],
   "source": [
    "plt.figure(figsize=(8, 8))\n",
    "plt.subplot(2, 1, 1)\n",
    "plt.plot(acc, label='Training Accuracy')\n",
    "plt.plot(val_acc, label='Validation Accuracy')\n",
    "plt.ylim([0.8, 1])\n",
    "plt.plot([initial_epochs-1,initial_epochs-1],\n",
    "          plt.ylim(), label='Start Fine Tuning')\n",
    "plt.legend(loc='lower right')\n",
    "plt.title('Training and Validation Accuracy')\n",
    "\n",
    "plt.subplot(2, 1, 2)\n",
    "plt.plot(loss, label='Training Loss')\n",
    "plt.plot(val_loss, label='Validation Loss')\n",
    "plt.ylim([0, 1.0])\n",
    "plt.plot([initial_epochs-1,initial_epochs-1],\n",
    "         plt.ylim(), label='Start Fine Tuning')\n",
    "plt.legend(loc='upper right')\n",
    "plt.title('Training and Validation Loss')\n",
    "plt.xlabel('epoch')\n",
    "plt.show()"
   ]
  },
  {
   "cell_type": "code",
   "execution_count": null,
   "id": "db5e856f",
   "metadata": {},
   "outputs": [],
   "source": [
    "loss, accuracy = model.evaluate(data.X_test, data.y_test)\n",
    "print('Test accuracy :', accuracy)"
   ]
  },
  {
   "cell_type": "code",
   "execution_count": null,
   "id": "bc2b621d",
   "metadata": {},
   "outputs": [],
   "source": [
    "y_pred = model.predict(data.X_test)\n",
    "y_pred1 = np.argmax(y_pred, axis=1)\n",
    "y_test1 = np.argmax(data.y_test, axis=1)\n",
    "\n",
    "print(accuracy_score(y_test1, y_pred1))\n",
    "print(confusion_matrix(y_test1,y_pred1))\n",
    "print(classification_report(y_test1,y_pred1))"
   ]
  },
  {
   "cell_type": "markdown",
   "id": "5321696a",
   "metadata": {},
   "source": [
    "### Graph Method for Resnet 101 v2"
   ]
  },
  {
   "cell_type": "code",
   "execution_count": 102,
   "id": "c22543a5",
   "metadata": {},
   "outputs": [],
   "source": [
    "# print(X_train_val.shape)\n",
    "# print(y_train_val.shape)\n",
    "# print(data_train_labels.shape)"
   ]
  },
  {
   "cell_type": "code",
   "execution_count": 103,
   "id": "74ab6264",
   "metadata": {},
   "outputs": [],
   "source": [
    "# print(X_test_val.shape)\n",
    "# print(y_test_val.shape)\n",
    "# print(data_test_labels.shape)"
   ]
  },
  {
   "cell_type": "code",
   "execution_count": 104,
   "id": "00b37e3c",
   "metadata": {
    "scrolled": true
   },
   "outputs": [],
   "source": [
    "# # test train split\n",
    "\n",
    "# #Define Model\n",
    "# model = Sequential()\n",
    "# model.add(Conv2D(filters = 16, kernel_size = (3,3), padding='same', input_shape=(2,2,512), activation=\"relu\"))\n",
    "# model.add(BatchNormalization())\n",
    "# model.add(MaxPooling2D(1,1))\n",
    "# model.add(Conv2D(24, (3,3), padding='same', activation=\"relu\"))\n",
    "# model.add(BatchNormalization())\n",
    "# model.add(MaxPooling2D(1,1))\n",
    "# model.add(Conv2D(32, (3,3), padding='same', activation=\"relu\"))\n",
    "# model.add(BatchNormalization())\n",
    "# model.add(MaxPooling2D(1,1))\n",
    "# model.add(Conv2D(48, (3,3), padding='same', activation=\"relu\"))\n",
    "# model.add(BatchNormalization())\n",
    "# model.add(MaxPooling2D(1,1))\n",
    "# model.add(Conv2D(64, (3,3), padding='same', activation=\"relu\"))\n",
    "# model.add(BatchNormalization())\n",
    "# model.add(MaxPooling2D(1,1))\n",
    "# model.add(Flatten())\n",
    "# model.add(Dense(128,activation=\"relu\"))\n",
    "# model.add(Dropout(0.3))\n",
    "# model.add(Dense(128,activation=\"relu\"))\n",
    "# model.add(Dense(y_train_val.shape[1], activation=\"sigmoid\"))\n",
    "\n",
    "# model.compile(loss='categorical_crossentropy', optimizer='adam', metrics=[\"accuracy\"])\n",
    "\n",
    "# history = model.fit(X_train_val, y_train_val, epochs=32, batch_size=16, verbose=2, validation_data=(X_test_val, y_test_val))\n",
    "\n",
    "# train_loss, train_acc = model.evaluate(X_train_val, y_train_val, verbose=0)\n",
    "# test_loss, test_acc = model.evaluate(X_test_val, y_test_val, verbose=0)"
   ]
  },
  {
   "cell_type": "code",
   "execution_count": 105,
   "id": "98e832c3",
   "metadata": {
    "scrolled": true
   },
   "outputs": [],
   "source": [
    "# model.summary()"
   ]
  },
  {
   "cell_type": "code",
   "execution_count": 106,
   "id": "a970301f",
   "metadata": {},
   "outputs": [],
   "source": [
    "# print(\"Train Loss: \" + str(train_loss))\n",
    "# print(\"Train Accuracy: \" + str(train_acc))\n",
    "\n",
    "# print(\"Test Loss: \" + str(test_loss))\n",
    "# print(\"Test Accuracy: \" + str(test_acc))"
   ]
  },
  {
   "cell_type": "code",
   "execution_count": 107,
   "id": "77958f21",
   "metadata": {},
   "outputs": [],
   "source": [
    "# y_pred = model.predict(X_test_val)\n",
    "# y_pred1 = np.argmax(y_pred, axis=1)\n",
    "# y_test1 = np.argmax(y_test_val, axis=1)\n",
    "\n",
    "# print(accuracy_score(y_test1, y_pred1))\n",
    "# print(confusion_matrix(y_test1,y_pred1))\n",
    "# print(classification_report(y_test1,y_pred1))"
   ]
  },
  {
   "cell_type": "code",
   "execution_count": 108,
   "id": "edca2572",
   "metadata": {},
   "outputs": [],
   "source": [
    "# # ploting graph by using values of last epoch for graphs\n",
    "# from matplotlib import pyplot as plt\n",
    "# plt.style.use('ggplot')\n",
    "\n",
    "# def plot_history(history):\n",
    "#     acc = history.history['accuracy']\n",
    "#     val_acc = history.history['val_accuracy']\n",
    "#     loss = history.history['loss']\n",
    "#     val_loss = history.history['val_loss']\n",
    "#     x = range(1, len(acc) + 1)\n",
    "\n",
    "#     plt.figure(figsize=(12, 5))\n",
    "    \n",
    "#     plt.subplot(1, 2, 1)\n",
    "#     plt.plot(x, acc, 'b', label='Training acc')\n",
    "#     plt.plot(x, val_acc, 'r', label='Validation acc')\n",
    "#     plt.title('Training and validation accuracy')\n",
    "#     plt.ylabel('Accuracy value (%)')\n",
    "#     plt.xlabel('No. epoch')\n",
    "#     plt.legend()\n",
    "    \n",
    "#     plt.subplot(1, 2, 2)\n",
    "#     plt.plot(x, loss, 'b', label='Training loss')\n",
    "#     plt.plot(x, val_loss, 'r', label='Validation loss')\n",
    "#     plt.title('Training and validation loss')\n",
    "#     plt.ylabel('Loss value')\n",
    "#     plt.xlabel('No. epoch')\n",
    "#     plt.legend()"
   ]
  },
  {
   "cell_type": "code",
   "execution_count": 111,
   "id": "fab3a58b",
   "metadata": {},
   "outputs": [],
   "source": [
    "# plot_history(history)"
   ]
  },
  {
   "cell_type": "code",
   "execution_count": 110,
   "id": "f68043f4",
   "metadata": {},
   "outputs": [],
   "source": [
    "# #All in one Graph (loss and accuracy)\n",
    "# plt.style.use('default')\n",
    "# plt.figure(figsize=(7, 3))\n",
    "# plt.plot(history.history[\"accuracy\"])\n",
    "# plt.plot(history.history[\"val_accuracy\"])\n",
    "# plt.plot(history.history[\"loss\"]) \n",
    "# plt.plot(history.history[\"val_loss\"]) \n",
    "# plt.title(\"Model Evaluation\")\n",
    "# plt.ylabel(\"Value (%)\")\n",
    "# plt.xlabel(\"No. of Epochs\")\n",
    "# plt.legend([\"Training Accuracy\",\"Validation Accuracy\",\"Training loss\",\"Validation loss\"])\n",
    "# plt.show()"
   ]
  },
  {
   "cell_type": "code",
   "execution_count": null,
   "id": "5d3607f6",
   "metadata": {},
   "outputs": [],
   "source": []
  },
  {
   "cell_type": "code",
   "execution_count": null,
   "id": "af07519b",
   "metadata": {},
   "outputs": [],
   "source": []
  }
 ],
 "metadata": {
  "accelerator": "GPU",
  "colab": {
   "collapsed_sections": [],
   "name": "Hamza_Code.ipynb",
   "provenance": []
  },
  "interpreter": {
   "hash": "82ed002fa2d4956f5c6aec99bcefe0f73a9f79882f3c9e2319b14958a5896ac5"
  },
  "kernelspec": {
   "display_name": "Python 3",
   "language": "python",
   "name": "python3"
  },
  "language_info": {
   "codemirror_mode": {
    "name": "ipython",
    "version": 3
   },
   "file_extension": ".py",
   "mimetype": "text/x-python",
   "name": "python",
   "nbconvert_exporter": "python",
   "pygments_lexer": "ipython3",
   "version": "3.8.8"
  }
 },
 "nbformat": 4,
 "nbformat_minor": 5
}
