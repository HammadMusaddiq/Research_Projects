{
 "cells": [
  {
   "cell_type": "code",
   "execution_count": 1,
   "metadata": {},
   "outputs": [],
   "source": [
    "import csv\n",
    "import tqdm\n",
    "from datetime import datetime\n",
    "import numpy as np"
   ]
  },
  {
   "cell_type": "code",
   "execution_count": 81,
   "metadata": {},
   "outputs": [],
   "source": [
    "from sklearn.model_selection import train_test_split\n",
    "from sklearn.metrics import classification_report\n",
    "from sklearn.metrics import accuracy_score\n",
    "from sklearn.metrics import plot_confusion_matrix"
   ]
  },
  {
   "cell_type": "code",
   "execution_count": 34,
   "metadata": {},
   "outputs": [],
   "source": [
    "import matplotlib.pyplot as plt"
   ]
  },
  {
   "cell_type": "code",
   "execution_count": 35,
   "metadata": {},
   "outputs": [],
   "source": [
    "from sklearn.svm import SVC"
   ]
  },
  {
   "cell_type": "code",
   "execution_count": 32,
   "metadata": {},
   "outputs": [],
   "source": [
    "from sklearn.discriminant_analysis import LinearDiscriminantAnalysis"
   ]
  },
  {
   "cell_type": "code",
   "execution_count": 33,
   "metadata": {},
   "outputs": [],
   "source": [
    "from tensorflow.keras.models import Sequential\n",
    "from tensorflow.keras.layers import Dense\n",
    "from tensorflow.keras.layers import LSTM"
   ]
  },
  {
   "cell_type": "code",
   "execution_count": 88,
   "metadata": {},
   "outputs": [],
   "source": [
    "from sklearn.naive_bayes import GaussianNB\n",
    "from sklearn.ensemble import RandomForestClassifier\n",
    "from sklearn.tree import DecisionTreeClassifier"
   ]
  },
  {
   "cell_type": "code",
   "execution_count": 2,
   "metadata": {},
   "outputs": [
    {
     "name": "stderr",
     "output_type": "stream",
     "text": [
      "120222it [00:00, 422843.83it/s]\n"
     ]
    }
   ],
   "source": [
    "selected_fridge = []\n",
    "with open('Usman_IoT/selected_fridge.csv') as csv_file:\n",
    "    csv_reader = csv.reader(csv_file, delimiter=',')\n",
    "    line_count = 0\n",
    "    for row in tqdm.tqdm(csv_reader):\n",
    "        if len(row) > 0:\n",
    "            selected_fridge.append(row)"
   ]
  },
  {
   "cell_type": "code",
   "execution_count": 3,
   "metadata": {},
   "outputs": [
    {
     "name": "stderr",
     "output_type": "stream",
     "text": [
      "120222it [00:00, 288914.96it/s]\n"
     ]
    }
   ],
   "source": [
    "selected_garage = []\n",
    "with open('Usman_IoT/selected_garage.csv') as csv_file:\n",
    "    csv_reader = csv.reader(csv_file, delimiter=',')\n",
    "    line_count = 0\n",
    "    for row in tqdm.tqdm(csv_reader):\n",
    "        if len(row) > 0:\n",
    "            selected_garage.append(row)"
   ]
  },
  {
   "cell_type": "code",
   "execution_count": 4,
   "metadata": {},
   "outputs": [
    {
     "name": "stderr",
     "output_type": "stream",
     "text": [
      "120222it [00:00, 423851.11it/s]\n"
     ]
    }
   ],
   "source": [
    "selected_gps = []\n",
    "with open('Usman_IoT/selected_gps.csv') as csv_file:\n",
    "    csv_reader = csv.reader(csv_file, delimiter=',')\n",
    "    line_count = 0\n",
    "    for row in tqdm.tqdm(csv_reader):\n",
    "        if len(row) > 0:\n",
    "            selected_gps.append(row)"
   ]
  },
  {
   "cell_type": "code",
   "execution_count": 5,
   "metadata": {},
   "outputs": [
    {
     "name": "stderr",
     "output_type": "stream",
     "text": [
      "120222it [00:00, 292346.95it/s]\n"
     ]
    }
   ],
   "source": [
    "selected_modbus = []\n",
    "with open('Usman_IoT/selected_modbus.csv') as csv_file:\n",
    "    csv_reader = csv.reader(csv_file, delimiter=',')\n",
    "    line_count = 0\n",
    "    for row in tqdm.tqdm(csv_reader):\n",
    "        if len(row) > 0:\n",
    "            selected_modbus.append(row)"
   ]
  },
  {
   "cell_type": "code",
   "execution_count": 6,
   "metadata": {},
   "outputs": [
    {
     "name": "stderr",
     "output_type": "stream",
     "text": [
      "120222it [00:00, 359124.63it/s]\n"
     ]
    }
   ],
   "source": [
    "selected_motionlight = []\n",
    "with open('Usman_IoT/selected_motionlight.csv') as csv_file:\n",
    "    csv_reader = csv.reader(csv_file, delimiter=',')\n",
    "    line_count = 0\n",
    "    for row in tqdm.tqdm(csv_reader):\n",
    "        if len(row) > 0:\n",
    "            selected_motionlight.append(row)"
   ]
  },
  {
   "cell_type": "code",
   "execution_count": 7,
   "metadata": {},
   "outputs": [
    {
     "name": "stderr",
     "output_type": "stream",
     "text": [
      "120222it [00:00, 479051.88it/s]\n"
     ]
    }
   ],
   "source": [
    "selected_thermostate = []\n",
    "with open('Usman_IoT/selected_thermostate.csv') as csv_file:\n",
    "    csv_reader = csv.reader(csv_file, delimiter=',')\n",
    "    line_count = 0\n",
    "    for row in tqdm.tqdm(csv_reader):\n",
    "        if len(row) > 0:\n",
    "            selected_thermostate.append(row)"
   ]
  },
  {
   "cell_type": "code",
   "execution_count": 8,
   "metadata": {},
   "outputs": [
    {
     "name": "stderr",
     "output_type": "stream",
     "text": [
      "120222it [00:00, 268908.97it/s]\n"
     ]
    }
   ],
   "source": [
    "selected_weather = []\n",
    "with open('Usman_IoT/selected_weather.csv') as csv_file:\n",
    "    csv_reader = csv.reader(csv_file, delimiter=',')\n",
    "    line_count = 0\n",
    "    for row in tqdm.tqdm(csv_reader):\n",
    "        if len(row) > 0:\n",
    "            selected_weather.append(row)"
   ]
  },
  {
   "cell_type": "code",
   "execution_count": 9,
   "metadata": {},
   "outputs": [],
   "source": [
    "x_train = []\n",
    "y_train = []\n",
    "\n",
    "for frigde, garage, gps, modbus, motionlight, thermostate, weather in zip(selected_fridge, selected_garage,\n",
    "                                                                          selected_gps, selected_modbus,\n",
    "                                                                          selected_motionlight, selected_thermostate,\n",
    "                                                                          selected_weather):\n",
    "    x_train.append([frigde[1], garage[1], gps[1], gps[2], modbus[1], modbus[2], modbus[3], modbus[4], motionlight[1],\n",
    "                    motionlight[2], thermostate[1], thermostate[2], weather[1], weather[2], weather[3]])\n",
    "    y_train.append(frigde[2])"
   ]
  },
  {
   "cell_type": "code",
   "execution_count": 18,
   "metadata": {},
   "outputs": [
    {
     "name": "stdout",
     "output_type": "stream",
     "text": [
      "labels\n",
      "{'0': 55133, '1': 4978}\n"
     ]
    }
   ],
   "source": [
    "my_dict = {i: y_train.count(i) for i in y_train}\n",
    "print('labels')\n",
    "print(my_dict)"
   ]
  },
  {
   "cell_type": "code",
   "execution_count": 19,
   "metadata": {},
   "outputs": [
    {
     "name": "stdout",
     "output_type": "stream",
     "text": [
      "60111\n"
     ]
    }
   ],
   "source": [
    "print(len(x_train))"
   ]
  },
  {
   "cell_type": "code",
   "execution_count": 105,
   "metadata": {},
   "outputs": [],
   "source": [
    "data = np.array(x_train, dtype='float64')\n",
    "labels = np.array(y_train)"
   ]
  },
  {
   "cell_type": "code",
   "execution_count": 24,
   "metadata": {},
   "outputs": [
    {
     "data": {
      "text/html": [
       "<div>\n",
       "<style scoped>\n",
       "    .dataframe tbody tr th:only-of-type {\n",
       "        vertical-align: middle;\n",
       "    }\n",
       "\n",
       "    .dataframe tbody tr th {\n",
       "        vertical-align: top;\n",
       "    }\n",
       "\n",
       "    .dataframe thead th {\n",
       "        text-align: right;\n",
       "    }\n",
       "</style>\n",
       "<table border=\"1\" class=\"dataframe\">\n",
       "  <thead>\n",
       "    <tr style=\"text-align: right;\">\n",
       "      <th></th>\n",
       "      <th>0</th>\n",
       "      <th>1</th>\n",
       "      <th>2</th>\n",
       "      <th>3</th>\n",
       "      <th>4</th>\n",
       "      <th>5</th>\n",
       "      <th>6</th>\n",
       "      <th>7</th>\n",
       "      <th>8</th>\n",
       "      <th>9</th>\n",
       "      <th>10</th>\n",
       "      <th>11</th>\n",
       "      <th>12</th>\n",
       "      <th>13</th>\n",
       "      <th>14</th>\n",
       "    </tr>\n",
       "  </thead>\n",
       "  <tbody>\n",
       "    <tr>\n",
       "      <th>0</th>\n",
       "      <td>13.10</td>\n",
       "      <td>1.0</td>\n",
       "      <td>0.000000</td>\n",
       "      <td>10.000000</td>\n",
       "      <td>11287.0</td>\n",
       "      <td>3537.0</td>\n",
       "      <td>27844.0</td>\n",
       "      <td>30527.0</td>\n",
       "      <td>1.0</td>\n",
       "      <td>0.0</td>\n",
       "      <td>25.000000</td>\n",
       "      <td>0.0</td>\n",
       "      <td>31.788508</td>\n",
       "      <td>1.035000</td>\n",
       "      <td>32.036579</td>\n",
       "    </tr>\n",
       "    <tr>\n",
       "      <th>1</th>\n",
       "      <td>13.10</td>\n",
       "      <td>1.0</td>\n",
       "      <td>0.000000</td>\n",
       "      <td>10.000000</td>\n",
       "      <td>11287.0</td>\n",
       "      <td>3537.0</td>\n",
       "      <td>27844.0</td>\n",
       "      <td>30527.0</td>\n",
       "      <td>1.0</td>\n",
       "      <td>0.0</td>\n",
       "      <td>25.000000</td>\n",
       "      <td>0.0</td>\n",
       "      <td>31.788508</td>\n",
       "      <td>1.035000</td>\n",
       "      <td>32.036579</td>\n",
       "    </tr>\n",
       "    <tr>\n",
       "      <th>2</th>\n",
       "      <td>8.65</td>\n",
       "      <td>1.0</td>\n",
       "      <td>0.000000</td>\n",
       "      <td>10.000000</td>\n",
       "      <td>11287.0</td>\n",
       "      <td>3537.0</td>\n",
       "      <td>27844.0</td>\n",
       "      <td>30527.0</td>\n",
       "      <td>0.0</td>\n",
       "      <td>0.0</td>\n",
       "      <td>25.000000</td>\n",
       "      <td>0.0</td>\n",
       "      <td>41.630997</td>\n",
       "      <td>1.035000</td>\n",
       "      <td>30.886165</td>\n",
       "    </tr>\n",
       "    <tr>\n",
       "      <th>3</th>\n",
       "      <td>8.65</td>\n",
       "      <td>1.0</td>\n",
       "      <td>0.000000</td>\n",
       "      <td>10.000000</td>\n",
       "      <td>11287.0</td>\n",
       "      <td>3537.0</td>\n",
       "      <td>27844.0</td>\n",
       "      <td>30527.0</td>\n",
       "      <td>0.0</td>\n",
       "      <td>0.0</td>\n",
       "      <td>25.000000</td>\n",
       "      <td>0.0</td>\n",
       "      <td>41.630997</td>\n",
       "      <td>1.035000</td>\n",
       "      <td>30.886165</td>\n",
       "    </tr>\n",
       "    <tr>\n",
       "      <th>4</th>\n",
       "      <td>2.00</td>\n",
       "      <td>1.0</td>\n",
       "      <td>0.000000</td>\n",
       "      <td>10.000000</td>\n",
       "      <td>11287.0</td>\n",
       "      <td>3537.0</td>\n",
       "      <td>27844.0</td>\n",
       "      <td>30527.0</td>\n",
       "      <td>0.0</td>\n",
       "      <td>0.0</td>\n",
       "      <td>25.000000</td>\n",
       "      <td>0.0</td>\n",
       "      <td>42.256959</td>\n",
       "      <td>1.035000</td>\n",
       "      <td>19.755908</td>\n",
       "    </tr>\n",
       "    <tr>\n",
       "      <th>...</th>\n",
       "      <td>...</td>\n",
       "      <td>...</td>\n",
       "      <td>...</td>\n",
       "      <td>...</td>\n",
       "      <td>...</td>\n",
       "      <td>...</td>\n",
       "      <td>...</td>\n",
       "      <td>...</td>\n",
       "      <td>...</td>\n",
       "      <td>...</td>\n",
       "      <td>...</td>\n",
       "      <td>...</td>\n",
       "      <td>...</td>\n",
       "      <td>...</td>\n",
       "      <td>...</td>\n",
       "    </tr>\n",
       "    <tr>\n",
       "      <th>60106</th>\n",
       "      <td>8.55</td>\n",
       "      <td>1.0</td>\n",
       "      <td>20.284767</td>\n",
       "      <td>29.765563</td>\n",
       "      <td>54328.0</td>\n",
       "      <td>32902.0</td>\n",
       "      <td>61448.0</td>\n",
       "      <td>59815.0</td>\n",
       "      <td>0.0</td>\n",
       "      <td>0.0</td>\n",
       "      <td>26.671858</td>\n",
       "      <td>1.0</td>\n",
       "      <td>42.609946</td>\n",
       "      <td>-0.859714</td>\n",
       "      <td>67.537021</td>\n",
       "    </tr>\n",
       "    <tr>\n",
       "      <th>60107</th>\n",
       "      <td>2.00</td>\n",
       "      <td>1.0</td>\n",
       "      <td>20.389064</td>\n",
       "      <td>29.773011</td>\n",
       "      <td>11375.0</td>\n",
       "      <td>55869.0</td>\n",
       "      <td>18505.0</td>\n",
       "      <td>45556.0</td>\n",
       "      <td>1.0</td>\n",
       "      <td>0.0</td>\n",
       "      <td>27.519502</td>\n",
       "      <td>1.0</td>\n",
       "      <td>43.092102</td>\n",
       "      <td>-0.859714</td>\n",
       "      <td>67.537021</td>\n",
       "    </tr>\n",
       "    <tr>\n",
       "      <th>60108</th>\n",
       "      <td>5.05</td>\n",
       "      <td>1.0</td>\n",
       "      <td>20.418901</td>\n",
       "      <td>29.833395</td>\n",
       "      <td>5078.0</td>\n",
       "      <td>36311.0</td>\n",
       "      <td>17071.0</td>\n",
       "      <td>112.0</td>\n",
       "      <td>0.0</td>\n",
       "      <td>0.0</td>\n",
       "      <td>25.598572</td>\n",
       "      <td>1.0</td>\n",
       "      <td>42.626400</td>\n",
       "      <td>-0.859714</td>\n",
       "      <td>65.651113</td>\n",
       "    </tr>\n",
       "    <tr>\n",
       "      <th>60109</th>\n",
       "      <td>13.25</td>\n",
       "      <td>1.0</td>\n",
       "      <td>20.427674</td>\n",
       "      <td>29.865286</td>\n",
       "      <td>61492.0</td>\n",
       "      <td>18503.0</td>\n",
       "      <td>24247.0</td>\n",
       "      <td>40056.0</td>\n",
       "      <td>0.0</td>\n",
       "      <td>0.0</td>\n",
       "      <td>28.762166</td>\n",
       "      <td>0.0</td>\n",
       "      <td>42.478536</td>\n",
       "      <td>-0.859714</td>\n",
       "      <td>66.159990</td>\n",
       "    </tr>\n",
       "    <tr>\n",
       "      <th>60110</th>\n",
       "      <td>9.55</td>\n",
       "      <td>1.0</td>\n",
       "      <td>20.123380</td>\n",
       "      <td>29.777250</td>\n",
       "      <td>64664.0</td>\n",
       "      <td>51922.0</td>\n",
       "      <td>63356.0</td>\n",
       "      <td>32082.0</td>\n",
       "      <td>0.0</td>\n",
       "      <td>0.0</td>\n",
       "      <td>29.381776</td>\n",
       "      <td>1.0</td>\n",
       "      <td>45.176264</td>\n",
       "      <td>-1.518638</td>\n",
       "      <td>79.765005</td>\n",
       "    </tr>\n",
       "  </tbody>\n",
       "</table>\n",
       "<p>60111 rows × 15 columns</p>\n",
       "</div>"
      ],
      "text/plain": [
       "          0    1          2          3        4        5        6        7   \\\n",
       "0      13.10  1.0   0.000000  10.000000  11287.0   3537.0  27844.0  30527.0   \n",
       "1      13.10  1.0   0.000000  10.000000  11287.0   3537.0  27844.0  30527.0   \n",
       "2       8.65  1.0   0.000000  10.000000  11287.0   3537.0  27844.0  30527.0   \n",
       "3       8.65  1.0   0.000000  10.000000  11287.0   3537.0  27844.0  30527.0   \n",
       "4       2.00  1.0   0.000000  10.000000  11287.0   3537.0  27844.0  30527.0   \n",
       "...      ...  ...        ...        ...      ...      ...      ...      ...   \n",
       "60106   8.55  1.0  20.284767  29.765563  54328.0  32902.0  61448.0  59815.0   \n",
       "60107   2.00  1.0  20.389064  29.773011  11375.0  55869.0  18505.0  45556.0   \n",
       "60108   5.05  1.0  20.418901  29.833395   5078.0  36311.0  17071.0    112.0   \n",
       "60109  13.25  1.0  20.427674  29.865286  61492.0  18503.0  24247.0  40056.0   \n",
       "60110   9.55  1.0  20.123380  29.777250  64664.0  51922.0  63356.0  32082.0   \n",
       "\n",
       "        8    9          10   11         12        13         14  \n",
       "0      1.0  0.0  25.000000  0.0  31.788508  1.035000  32.036579  \n",
       "1      1.0  0.0  25.000000  0.0  31.788508  1.035000  32.036579  \n",
       "2      0.0  0.0  25.000000  0.0  41.630997  1.035000  30.886165  \n",
       "3      0.0  0.0  25.000000  0.0  41.630997  1.035000  30.886165  \n",
       "4      0.0  0.0  25.000000  0.0  42.256959  1.035000  19.755908  \n",
       "...    ...  ...        ...  ...        ...       ...        ...  \n",
       "60106  0.0  0.0  26.671858  1.0  42.609946 -0.859714  67.537021  \n",
       "60107  1.0  0.0  27.519502  1.0  43.092102 -0.859714  67.537021  \n",
       "60108  0.0  0.0  25.598572  1.0  42.626400 -0.859714  65.651113  \n",
       "60109  0.0  0.0  28.762166  0.0  42.478536 -0.859714  66.159990  \n",
       "60110  0.0  0.0  29.381776  1.0  45.176264 -1.518638  79.765005  \n",
       "\n",
       "[60111 rows x 15 columns]"
      ]
     },
     "execution_count": 24,
     "metadata": {},
     "output_type": "execute_result"
    }
   ],
   "source": [
    "import pandas as pd\n",
    "df = pd.DataFrame(data)\n",
    "df"
   ]
  },
  {
   "cell_type": "code",
   "execution_count": 25,
   "metadata": {},
   "outputs": [
    {
     "data": {
      "text/html": [
       "<div>\n",
       "<style scoped>\n",
       "    .dataframe tbody tr th:only-of-type {\n",
       "        vertical-align: middle;\n",
       "    }\n",
       "\n",
       "    .dataframe tbody tr th {\n",
       "        vertical-align: top;\n",
       "    }\n",
       "\n",
       "    .dataframe thead th {\n",
       "        text-align: right;\n",
       "    }\n",
       "</style>\n",
       "<table border=\"1\" class=\"dataframe\">\n",
       "  <thead>\n",
       "    <tr style=\"text-align: right;\">\n",
       "      <th></th>\n",
       "      <th>0</th>\n",
       "      <th>1</th>\n",
       "      <th>2</th>\n",
       "      <th>3</th>\n",
       "      <th>4</th>\n",
       "      <th>5</th>\n",
       "      <th>6</th>\n",
       "      <th>7</th>\n",
       "      <th>8</th>\n",
       "      <th>9</th>\n",
       "      <th>10</th>\n",
       "      <th>11</th>\n",
       "      <th>12</th>\n",
       "      <th>13</th>\n",
       "      <th>14</th>\n",
       "      <th>Class</th>\n",
       "    </tr>\n",
       "  </thead>\n",
       "  <tbody>\n",
       "    <tr>\n",
       "      <th>0</th>\n",
       "      <td>13.10</td>\n",
       "      <td>1.0</td>\n",
       "      <td>0.000000</td>\n",
       "      <td>10.000000</td>\n",
       "      <td>11287.0</td>\n",
       "      <td>3537.0</td>\n",
       "      <td>27844.0</td>\n",
       "      <td>30527.0</td>\n",
       "      <td>1.0</td>\n",
       "      <td>0.0</td>\n",
       "      <td>25.000000</td>\n",
       "      <td>0.0</td>\n",
       "      <td>31.788508</td>\n",
       "      <td>1.035000</td>\n",
       "      <td>32.036579</td>\n",
       "      <td>0</td>\n",
       "    </tr>\n",
       "    <tr>\n",
       "      <th>1</th>\n",
       "      <td>13.10</td>\n",
       "      <td>1.0</td>\n",
       "      <td>0.000000</td>\n",
       "      <td>10.000000</td>\n",
       "      <td>11287.0</td>\n",
       "      <td>3537.0</td>\n",
       "      <td>27844.0</td>\n",
       "      <td>30527.0</td>\n",
       "      <td>1.0</td>\n",
       "      <td>0.0</td>\n",
       "      <td>25.000000</td>\n",
       "      <td>0.0</td>\n",
       "      <td>31.788508</td>\n",
       "      <td>1.035000</td>\n",
       "      <td>32.036579</td>\n",
       "      <td>0</td>\n",
       "    </tr>\n",
       "    <tr>\n",
       "      <th>2</th>\n",
       "      <td>8.65</td>\n",
       "      <td>1.0</td>\n",
       "      <td>0.000000</td>\n",
       "      <td>10.000000</td>\n",
       "      <td>11287.0</td>\n",
       "      <td>3537.0</td>\n",
       "      <td>27844.0</td>\n",
       "      <td>30527.0</td>\n",
       "      <td>0.0</td>\n",
       "      <td>0.0</td>\n",
       "      <td>25.000000</td>\n",
       "      <td>0.0</td>\n",
       "      <td>41.630997</td>\n",
       "      <td>1.035000</td>\n",
       "      <td>30.886165</td>\n",
       "      <td>0</td>\n",
       "    </tr>\n",
       "    <tr>\n",
       "      <th>3</th>\n",
       "      <td>8.65</td>\n",
       "      <td>1.0</td>\n",
       "      <td>0.000000</td>\n",
       "      <td>10.000000</td>\n",
       "      <td>11287.0</td>\n",
       "      <td>3537.0</td>\n",
       "      <td>27844.0</td>\n",
       "      <td>30527.0</td>\n",
       "      <td>0.0</td>\n",
       "      <td>0.0</td>\n",
       "      <td>25.000000</td>\n",
       "      <td>0.0</td>\n",
       "      <td>41.630997</td>\n",
       "      <td>1.035000</td>\n",
       "      <td>30.886165</td>\n",
       "      <td>0</td>\n",
       "    </tr>\n",
       "    <tr>\n",
       "      <th>4</th>\n",
       "      <td>2.00</td>\n",
       "      <td>1.0</td>\n",
       "      <td>0.000000</td>\n",
       "      <td>10.000000</td>\n",
       "      <td>11287.0</td>\n",
       "      <td>3537.0</td>\n",
       "      <td>27844.0</td>\n",
       "      <td>30527.0</td>\n",
       "      <td>0.0</td>\n",
       "      <td>0.0</td>\n",
       "      <td>25.000000</td>\n",
       "      <td>0.0</td>\n",
       "      <td>42.256959</td>\n",
       "      <td>1.035000</td>\n",
       "      <td>19.755908</td>\n",
       "      <td>0</td>\n",
       "    </tr>\n",
       "    <tr>\n",
       "      <th>...</th>\n",
       "      <td>...</td>\n",
       "      <td>...</td>\n",
       "      <td>...</td>\n",
       "      <td>...</td>\n",
       "      <td>...</td>\n",
       "      <td>...</td>\n",
       "      <td>...</td>\n",
       "      <td>...</td>\n",
       "      <td>...</td>\n",
       "      <td>...</td>\n",
       "      <td>...</td>\n",
       "      <td>...</td>\n",
       "      <td>...</td>\n",
       "      <td>...</td>\n",
       "      <td>...</td>\n",
       "      <td>...</td>\n",
       "    </tr>\n",
       "    <tr>\n",
       "      <th>60106</th>\n",
       "      <td>8.55</td>\n",
       "      <td>1.0</td>\n",
       "      <td>20.284767</td>\n",
       "      <td>29.765563</td>\n",
       "      <td>54328.0</td>\n",
       "      <td>32902.0</td>\n",
       "      <td>61448.0</td>\n",
       "      <td>59815.0</td>\n",
       "      <td>0.0</td>\n",
       "      <td>0.0</td>\n",
       "      <td>26.671858</td>\n",
       "      <td>1.0</td>\n",
       "      <td>42.609946</td>\n",
       "      <td>-0.859714</td>\n",
       "      <td>67.537021</td>\n",
       "      <td>0</td>\n",
       "    </tr>\n",
       "    <tr>\n",
       "      <th>60107</th>\n",
       "      <td>2.00</td>\n",
       "      <td>1.0</td>\n",
       "      <td>20.389064</td>\n",
       "      <td>29.773011</td>\n",
       "      <td>11375.0</td>\n",
       "      <td>55869.0</td>\n",
       "      <td>18505.0</td>\n",
       "      <td>45556.0</td>\n",
       "      <td>1.0</td>\n",
       "      <td>0.0</td>\n",
       "      <td>27.519502</td>\n",
       "      <td>1.0</td>\n",
       "      <td>43.092102</td>\n",
       "      <td>-0.859714</td>\n",
       "      <td>67.537021</td>\n",
       "      <td>0</td>\n",
       "    </tr>\n",
       "    <tr>\n",
       "      <th>60108</th>\n",
       "      <td>5.05</td>\n",
       "      <td>1.0</td>\n",
       "      <td>20.418901</td>\n",
       "      <td>29.833395</td>\n",
       "      <td>5078.0</td>\n",
       "      <td>36311.0</td>\n",
       "      <td>17071.0</td>\n",
       "      <td>112.0</td>\n",
       "      <td>0.0</td>\n",
       "      <td>0.0</td>\n",
       "      <td>25.598572</td>\n",
       "      <td>1.0</td>\n",
       "      <td>42.626400</td>\n",
       "      <td>-0.859714</td>\n",
       "      <td>65.651113</td>\n",
       "      <td>0</td>\n",
       "    </tr>\n",
       "    <tr>\n",
       "      <th>60109</th>\n",
       "      <td>13.25</td>\n",
       "      <td>1.0</td>\n",
       "      <td>20.427674</td>\n",
       "      <td>29.865286</td>\n",
       "      <td>61492.0</td>\n",
       "      <td>18503.0</td>\n",
       "      <td>24247.0</td>\n",
       "      <td>40056.0</td>\n",
       "      <td>0.0</td>\n",
       "      <td>0.0</td>\n",
       "      <td>28.762166</td>\n",
       "      <td>0.0</td>\n",
       "      <td>42.478536</td>\n",
       "      <td>-0.859714</td>\n",
       "      <td>66.159990</td>\n",
       "      <td>0</td>\n",
       "    </tr>\n",
       "    <tr>\n",
       "      <th>60110</th>\n",
       "      <td>9.55</td>\n",
       "      <td>1.0</td>\n",
       "      <td>20.123380</td>\n",
       "      <td>29.777250</td>\n",
       "      <td>64664.0</td>\n",
       "      <td>51922.0</td>\n",
       "      <td>63356.0</td>\n",
       "      <td>32082.0</td>\n",
       "      <td>0.0</td>\n",
       "      <td>0.0</td>\n",
       "      <td>29.381776</td>\n",
       "      <td>1.0</td>\n",
       "      <td>45.176264</td>\n",
       "      <td>-1.518638</td>\n",
       "      <td>79.765005</td>\n",
       "      <td>0</td>\n",
       "    </tr>\n",
       "  </tbody>\n",
       "</table>\n",
       "<p>60111 rows × 16 columns</p>\n",
       "</div>"
      ],
      "text/plain": [
       "           0    1          2          3        4        5        6        7  \\\n",
       "0      13.10  1.0   0.000000  10.000000  11287.0   3537.0  27844.0  30527.0   \n",
       "1      13.10  1.0   0.000000  10.000000  11287.0   3537.0  27844.0  30527.0   \n",
       "2       8.65  1.0   0.000000  10.000000  11287.0   3537.0  27844.0  30527.0   \n",
       "3       8.65  1.0   0.000000  10.000000  11287.0   3537.0  27844.0  30527.0   \n",
       "4       2.00  1.0   0.000000  10.000000  11287.0   3537.0  27844.0  30527.0   \n",
       "...      ...  ...        ...        ...      ...      ...      ...      ...   \n",
       "60106   8.55  1.0  20.284767  29.765563  54328.0  32902.0  61448.0  59815.0   \n",
       "60107   2.00  1.0  20.389064  29.773011  11375.0  55869.0  18505.0  45556.0   \n",
       "60108   5.05  1.0  20.418901  29.833395   5078.0  36311.0  17071.0    112.0   \n",
       "60109  13.25  1.0  20.427674  29.865286  61492.0  18503.0  24247.0  40056.0   \n",
       "60110   9.55  1.0  20.123380  29.777250  64664.0  51922.0  63356.0  32082.0   \n",
       "\n",
       "         8    9         10   11         12        13         14 Class  \n",
       "0      1.0  0.0  25.000000  0.0  31.788508  1.035000  32.036579     0  \n",
       "1      1.0  0.0  25.000000  0.0  31.788508  1.035000  32.036579     0  \n",
       "2      0.0  0.0  25.000000  0.0  41.630997  1.035000  30.886165     0  \n",
       "3      0.0  0.0  25.000000  0.0  41.630997  1.035000  30.886165     0  \n",
       "4      0.0  0.0  25.000000  0.0  42.256959  1.035000  19.755908     0  \n",
       "...    ...  ...        ...  ...        ...       ...        ...   ...  \n",
       "60106  0.0  0.0  26.671858  1.0  42.609946 -0.859714  67.537021     0  \n",
       "60107  1.0  0.0  27.519502  1.0  43.092102 -0.859714  67.537021     0  \n",
       "60108  0.0  0.0  25.598572  1.0  42.626400 -0.859714  65.651113     0  \n",
       "60109  0.0  0.0  28.762166  0.0  42.478536 -0.859714  66.159990     0  \n",
       "60110  0.0  0.0  29.381776  1.0  45.176264 -1.518638  79.765005     0  \n",
       "\n",
       "[60111 rows x 16 columns]"
      ]
     },
     "execution_count": 25,
     "metadata": {},
     "output_type": "execute_result"
    }
   ],
   "source": [
    "df['Class'] = labels\n",
    "df"
   ]
  },
  {
   "cell_type": "code",
   "execution_count": 26,
   "metadata": {},
   "outputs": [],
   "source": [
    "#Export merged data to CSV\n",
    "#df.to_csv('Usman_IoT/IoT_Merged_Data.csv')"
   ]
  },
  {
   "cell_type": "code",
   "execution_count": 73,
   "metadata": {},
   "outputs": [],
   "source": [
    "(trainX, testX, trainY, testY) = train_test_split(data, labels, test_size=0.25, stratify=labels, shuffle=True)"
   ]
  },
  {
   "cell_type": "code",
   "execution_count": 75,
   "metadata": {},
   "outputs": [
    {
     "name": "stdout",
     "output_type": "stream",
     "text": [
      "(60111, 15)\n",
      "(60111,)\n",
      "(45083, 15)\n",
      "(45083,)\n",
      "(15028, 15)\n",
      "(15028,)\n"
     ]
    }
   ],
   "source": [
    "print(data.shape)\n",
    "print(labels.shape)\n",
    "print(trainX.shape)\n",
    "print(trainY.shape)\n",
    "print(testX.shape)\n",
    "print(testY.shape)"
   ]
  },
  {
   "cell_type": "markdown",
   "metadata": {},
   "source": [
    "# SVM"
   ]
  },
  {
   "cell_type": "code",
   "execution_count": 28,
   "metadata": {},
   "outputs": [
    {
     "name": "stdout",
     "output_type": "stream",
     "text": [
      "              precision    recall  f1-score   support\n",
      "\n",
      "           0       0.92      0.50      0.64     13783\n",
      "           1       0.08      0.52      0.15      1245\n",
      "\n",
      "    accuracy                           0.50     15028\n",
      "   macro avg       0.50      0.51      0.40     15028\n",
      "weighted avg       0.85      0.50      0.60     15028\n",
      "\n"
     ]
    }
   ],
   "source": [
    "svclassifier = SVC(kernel='sigmoid', class_weight='balanced')\n",
    "svclassifier.fit(trainX, trainY)\n",
    "y_predict = svclassifier.predict(testX)\n",
    "print(classification_report(testY, y_predict))"
   ]
  },
  {
   "cell_type": "code",
   "execution_count": 29,
   "metadata": {},
   "outputs": [
    {
     "data": {
      "image/png": "[encoded data removed]",
      "text/plain": [
       "<Figure size 432x288 with 2 Axes>"
      ]
     },
     "metadata": {
      "needs_background": "light"
     },
     "output_type": "display_data"
    }
   ],
   "source": [
    "plot_confusion_matrix(svclassifier, testX, testY)\n",
    "plt.show()"
   ]
  },
  {
   "cell_type": "markdown",
   "metadata": {},
   "source": [
    "# LDA"
   ]
  },
  {
   "cell_type": "code",
   "execution_count": 37,
   "metadata": {},
   "outputs": [
    {
     "name": "stdout",
     "output_type": "stream",
     "text": [
      "              precision    recall  f1-score   support\n",
      "\n",
      "           0       0.92      1.00      0.96     13783\n",
      "           1       0.00      0.00      0.00      1245\n",
      "\n",
      "    accuracy                           0.92     15028\n",
      "   macro avg       0.46      0.50      0.48     15028\n",
      "weighted avg       0.84      0.92      0.88     15028\n",
      "\n"
     ]
    },
    {
     "name": "stderr",
     "output_type": "stream",
     "text": [
      "C:\\ProgramData\\Anaconda3\\lib\\site-packages\\sklearn\\metrics\\_classification.py:1245: UndefinedMetricWarning: Precision and F-score are ill-defined and being set to 0.0 in labels with no predicted samples. Use `zero_division` parameter to control this behavior.\n",
      "  _warn_prf(average, modifier, msg_start, len(result))\n",
      "C:\\ProgramData\\Anaconda3\\lib\\site-packages\\sklearn\\metrics\\_classification.py:1245: UndefinedMetricWarning: Precision and F-score are ill-defined and being set to 0.0 in labels with no predicted samples. Use `zero_division` parameter to control this behavior.\n",
      "  _warn_prf(average, modifier, msg_start, len(result))\n",
      "C:\\ProgramData\\Anaconda3\\lib\\site-packages\\sklearn\\metrics\\_classification.py:1245: UndefinedMetricWarning: Precision and F-score are ill-defined and being set to 0.0 in labels with no predicted samples. Use `zero_division` parameter to control this behavior.\n",
      "  _warn_prf(average, modifier, msg_start, len(result))\n"
     ]
    }
   ],
   "source": [
    "clf = LinearDiscriminantAnalysis(solver='lsqr')\n",
    "clf.fit(trainX, trainY)\n",
    "y_predict = clf.predict(testX)\n",
    "print(classification_report(testY, y_predict))"
   ]
  },
  {
   "cell_type": "code",
   "execution_count": 38,
   "metadata": {},
   "outputs": [
    {
     "data": {
      "image/png": "[encoded data removed]",
      "text/plain": [
       "<Figure size 432x288 with 2 Axes>"
      ]
     },
     "metadata": {
      "needs_background": "light"
     },
     "output_type": "display_data"
    }
   ],
   "source": [
    "plot_confusion_matrix(clf, testX, testY)\n",
    "plt.show()"
   ]
  },
  {
   "cell_type": "markdown",
   "metadata": {},
   "source": [
    "# LSTM"
   ]
  },
  {
   "cell_type": "code",
   "execution_count": 39,
   "metadata": {},
   "outputs": [
    {
     "name": "stdout",
     "output_type": "stream",
     "text": [
      "[[13.1         1.          0.         ... 31.78850762  1.035\n",
      "  32.03657873]\n",
      " [13.1         1.          0.         ... 31.78850762  1.035\n",
      "  32.03657873]\n",
      " [ 8.65        1.          0.         ... 41.6309968   1.035\n",
      "  30.8861654 ]\n",
      " ...\n",
      " [ 5.05        1.         20.41890082 ... 42.6263996  -0.8597137\n",
      "  65.65111348]\n",
      " [13.25        1.         20.4276744  ... 42.47853643 -0.8597137\n",
      "  66.15998955]\n",
      " [ 9.55        1.         20.12337994 ... 45.17626419 -1.51863758\n",
      "  79.76500473]]\n"
     ]
    }
   ],
   "source": [
    "print(data)"
   ]
  },
  {
   "cell_type": "code",
   "execution_count": 46,
   "metadata": {},
   "outputs": [
    {
     "data": {
      "text/plain": [
       "(60111, 15)"
      ]
     },
     "execution_count": 46,
     "metadata": {},
     "output_type": "execute_result"
    }
   ],
   "source": [
    "data.shape"
   ]
  },
  {
   "cell_type": "code",
   "execution_count": 106,
   "metadata": {},
   "outputs": [],
   "source": [
    "data1 = data.reshape((-1, 1, 15))"
   ]
  },
  {
   "cell_type": "code",
   "execution_count": 107,
   "metadata": {},
   "outputs": [
    {
     "data": {
      "text/plain": [
       "array([[[13.1       ,  1.        ,  0.        , ..., 31.78850762,\n",
       "          1.035     , 32.03657873]],\n",
       "\n",
       "       [[13.1       ,  1.        ,  0.        , ..., 31.78850762,\n",
       "          1.035     , 32.03657873]],\n",
       "\n",
       "       [[ 8.65      ,  1.        ,  0.        , ..., 41.6309968 ,\n",
       "          1.035     , 30.8861654 ]],\n",
       "\n",
       "       ...,\n",
       "\n",
       "       [[ 5.05      ,  1.        , 20.41890082, ..., 42.6263996 ,\n",
       "         -0.8597137 , 65.65111348]],\n",
       "\n",
       "       [[13.25      ,  1.        , 20.4276744 , ..., 42.47853643,\n",
       "         -0.8597137 , 66.15998955]],\n",
       "\n",
       "       [[ 9.55      ,  1.        , 20.12337994, ..., 45.17626419,\n",
       "         -1.51863758, 79.76500473]]])"
      ]
     },
     "execution_count": 107,
     "metadata": {},
     "output_type": "execute_result"
    }
   ],
   "source": [
    "data1"
   ]
  },
  {
   "cell_type": "code",
   "execution_count": 108,
   "metadata": {},
   "outputs": [
    {
     "data": {
      "text/plain": [
       "(60111, 1, 15)"
      ]
     },
     "execution_count": 108,
     "metadata": {},
     "output_type": "execute_result"
    }
   ],
   "source": [
    "data1.shape"
   ]
  },
  {
   "cell_type": "code",
   "execution_count": 109,
   "metadata": {},
   "outputs": [],
   "source": [
    "data1 = np.asarray(data1).astype('float64')\n",
    "labels1 = np.array(labels, dtype='float64')"
   ]
  },
  {
   "cell_type": "code",
   "execution_count": 110,
   "metadata": {},
   "outputs": [],
   "source": [
    "(trainX, testX, trainY, testY) = train_test_split(data1, labels1, test_size=0.25, stratify=labels, shuffle=True)"
   ]
  },
  {
   "cell_type": "code",
   "execution_count": 68,
   "metadata": {
    "scrolled": true
   },
   "outputs": [
    {
     "name": "stdout",
     "output_type": "stream",
     "text": [
      "Epoch 1/30\n",
      "5636/5636 - 17s - loss: 0.0861 - accuracy: 0.9152 - val_loss: 0.0765 - val_accuracy: 0.9172\n",
      "Epoch 2/30\n",
      "5636/5636 - 12s - loss: 0.0762 - accuracy: 0.9172 - val_loss: 0.0760 - val_accuracy: 0.9172\n",
      "Epoch 3/30\n",
      "5636/5636 - 11s - loss: 0.0762 - accuracy: 0.9172 - val_loss: 0.0761 - val_accuracy: 0.9172\n",
      "Epoch 4/30\n",
      "5636/5636 - 14s - loss: 0.0762 - accuracy: 0.9172 - val_loss: 0.0762 - val_accuracy: 0.9172\n",
      "Epoch 5/30\n",
      "5636/5636 - 12s - loss: 0.0761 - accuracy: 0.9172 - val_loss: 0.0760 - val_accuracy: 0.9172\n",
      "Epoch 6/30\n",
      "5636/5636 - 13s - loss: 0.0762 - accuracy: 0.9172 - val_loss: 0.0760 - val_accuracy: 0.9172\n",
      "Epoch 7/30\n",
      "5636/5636 - 18s - loss: 0.0762 - accuracy: 0.9172 - val_loss: 0.0762 - val_accuracy: 0.9172\n",
      "Epoch 8/30\n",
      "5636/5636 - 19s - loss: 0.0762 - accuracy: 0.9172 - val_loss: 0.0766 - val_accuracy: 0.9172\n",
      "Epoch 9/30\n",
      "5636/5636 - 11s - loss: 0.0761 - accuracy: 0.9172 - val_loss: 0.0760 - val_accuracy: 0.9172\n",
      "Epoch 10/30\n",
      "5636/5636 - 14s - loss: 0.0761 - accuracy: 0.9172 - val_loss: 0.0760 - val_accuracy: 0.9172\n",
      "Epoch 11/30\n",
      "5636/5636 - 14s - loss: 0.0761 - accuracy: 0.9172 - val_loss: 0.0762 - val_accuracy: 0.9172\n",
      "Epoch 12/30\n",
      "5636/5636 - 12s - loss: 0.0761 - accuracy: 0.9172 - val_loss: 0.0760 - val_accuracy: 0.9172\n",
      "Epoch 13/30\n",
      "5636/5636 - 12s - loss: 0.0761 - accuracy: 0.9172 - val_loss: 0.0764 - val_accuracy: 0.9172\n",
      "Epoch 14/30\n",
      "5636/5636 - 13s - loss: 0.0761 - accuracy: 0.9172 - val_loss: 0.0760 - val_accuracy: 0.9172\n",
      "Epoch 15/30\n",
      "5636/5636 - 12s - loss: 0.0761 - accuracy: 0.9172 - val_loss: 0.0762 - val_accuracy: 0.9172\n",
      "Epoch 16/30\n",
      "5636/5636 - 12s - loss: 0.0761 - accuracy: 0.9172 - val_loss: 0.0764 - val_accuracy: 0.9172\n",
      "Epoch 17/30\n",
      "5636/5636 - 12s - loss: 0.0761 - accuracy: 0.9172 - val_loss: 0.0762 - val_accuracy: 0.9172\n",
      "Epoch 18/30\n",
      "5636/5636 - 13s - loss: 0.0761 - accuracy: 0.9172 - val_loss: 0.0762 - val_accuracy: 0.9172\n",
      "Epoch 19/30\n",
      "5636/5636 - 13s - loss: 0.0761 - accuracy: 0.9172 - val_loss: 0.0763 - val_accuracy: 0.9172\n",
      "Epoch 20/30\n",
      "5636/5636 - 11s - loss: 0.0761 - accuracy: 0.9172 - val_loss: 0.0761 - val_accuracy: 0.9172\n",
      "Epoch 21/30\n",
      "5636/5636 - 12s - loss: 0.0761 - accuracy: 0.9172 - val_loss: 0.0760 - val_accuracy: 0.9172\n",
      "Epoch 22/30\n",
      "5636/5636 - 12s - loss: 0.0761 - accuracy: 0.9172 - val_loss: 0.0761 - val_accuracy: 0.9172\n",
      "Epoch 23/30\n",
      "5636/5636 - 12s - loss: 0.0761 - accuracy: 0.9172 - val_loss: 0.0768 - val_accuracy: 0.9172\n",
      "Epoch 24/30\n",
      "5636/5636 - 12s - loss: 0.0761 - accuracy: 0.9172 - val_loss: 0.0762 - val_accuracy: 0.9172\n",
      "Epoch 25/30\n",
      "5636/5636 - 15s - loss: 0.0761 - accuracy: 0.9172 - val_loss: 0.0760 - val_accuracy: 0.9172\n",
      "Epoch 26/30\n",
      "5636/5636 - 16s - loss: 0.0761 - accuracy: 0.9172 - val_loss: 0.0764 - val_accuracy: 0.9172\n",
      "Epoch 27/30\n",
      "5636/5636 - 17s - loss: 0.0761 - accuracy: 0.9172 - val_loss: 0.0760 - val_accuracy: 0.9172\n",
      "Epoch 28/30\n",
      "5636/5636 - 13s - loss: 0.0761 - accuracy: 0.9172 - val_loss: 0.0760 - val_accuracy: 0.9172\n",
      "Epoch 29/30\n",
      "5636/5636 - 13s - loss: 0.0761 - accuracy: 0.9172 - val_loss: 0.0775 - val_accuracy: 0.9172\n",
      "Epoch 30/30\n",
      "5636/5636 - 12s - loss: 0.0761 - accuracy: 0.9172 - val_loss: 0.0763 - val_accuracy: 0.9172\n"
     ]
    },
    {
     "data": {
      "text/plain": [
       "<tensorflow.python.keras.callbacks.History at 0x1c6802f3b80>"
      ]
     },
     "execution_count": 68,
     "metadata": {},
     "output_type": "execute_result"
    }
   ],
   "source": [
    "model = Sequential()\n",
    "model.add(LSTM(16, input_shape=(1, 15)))\n",
    "model.add(Dense(1))\n",
    "model.compile(loss='mean_squared_error', optimizer='adam', metrics=[\"accuracy\"])\n",
    "model.fit(trainX, trainY, epochs=30, batch_size=8, verbose=2, validation_data=(testX, testY))"
   ]
  },
  {
   "cell_type": "code",
   "execution_count": 84,
   "metadata": {},
   "outputs": [
    {
     "name": "stdout",
     "output_type": "stream",
     "text": [
      "470/470 [==============================] - 1s 1ms/step - loss: 0.0763 - accuracy: 0.9172\n",
      "Loss:0.07630766183137894\n",
      "Accuracy:0.9171546697616577\n"
     ]
    }
   ],
   "source": [
    "loss, accuracy = model.evaluate(testX, testY)\n",
    "print(\"Loss:\" + str(loss))\n",
    "print(\"Accuracy:\" + str(accuracy))"
   ]
  },
  {
   "cell_type": "markdown",
   "metadata": {},
   "source": [
    "# DT"
   ]
  },
  {
   "cell_type": "code",
   "execution_count": 90,
   "metadata": {},
   "outputs": [],
   "source": [
    "data = np.array(x_train, dtype='float64')"
   ]
  },
  {
   "cell_type": "code",
   "execution_count": 91,
   "metadata": {},
   "outputs": [],
   "source": [
    "(trainX, testX, trainY, testY) = train_test_split(data, labels, test_size=0.25, stratify=labels, shuffle=True)"
   ]
  },
  {
   "cell_type": "code",
   "execution_count": 92,
   "metadata": {},
   "outputs": [
    {
     "name": "stdout",
     "output_type": "stream",
     "text": [
      "0.9942108064945435\n",
      "              precision    recall  f1-score   support\n",
      "\n",
      "           0       1.00      1.00      1.00     13783\n",
      "           1       0.97      0.96      0.97      1245\n",
      "\n",
      "    accuracy                           0.99     15028\n",
      "   macro avg       0.98      0.98      0.98     15028\n",
      "weighted avg       0.99      0.99      0.99     15028\n",
      "\n"
     ]
    }
   ],
   "source": [
    "dt = DecisionTreeClassifier()\n",
    "dt.fit(trainX, trainY)\n",
    "y_predict1 = dt.predict(testX)\n",
    "print(accuracy_score(testY, y_predict1))\n",
    "print(classification_report(testY, y_predict1))"
   ]
  },
  {
   "cell_type": "code",
   "execution_count": 93,
   "metadata": {},
   "outputs": [
    {
     "data": {
      "image/png": "[encoded data removed]",
      "text/plain": [
       "<Figure size 432x288 with 2 Axes>"
      ]
     },
     "metadata": {
      "needs_background": "light"
     },
     "output_type": "display_data"
    }
   ],
   "source": [
    "plot_confusion_matrix(dt, testX, testY)\n",
    "plt.show()"
   ]
  },
  {
   "cell_type": "markdown",
   "metadata": {},
   "source": [
    "# RF"
   ]
  },
  {
   "cell_type": "code",
   "execution_count": 98,
   "metadata": {},
   "outputs": [
    {
     "name": "stdout",
     "output_type": "stream",
     "text": [
      "0.9949427734894863\n",
      "              precision    recall  f1-score   support\n",
      "\n",
      "           0       1.00      1.00      1.00     13783\n",
      "           1       0.98      0.96      0.97      1245\n",
      "\n",
      "    accuracy                           0.99     15028\n",
      "   macro avg       0.99      0.98      0.98     15028\n",
      "weighted avg       0.99      0.99      0.99     15028\n",
      "\n"
     ]
    }
   ],
   "source": [
    "rf = RandomForestClassifier()\n",
    "rf.fit(trainX, trainY)\n",
    "y_predict1 = rf.predict(testX)\n",
    "print(accuracy_score(testY, y_predict1))\n",
    "print(classification_report(testY, y_predict1))"
   ]
  },
  {
   "cell_type": "code",
   "execution_count": 99,
   "metadata": {},
   "outputs": [
    {
     "data": {
      "image/png": "[encoded data removed]",
      "text/plain": [
       "<Figure size 432x288 with 2 Axes>"
      ]
     },
     "metadata": {
      "needs_background": "light"
     },
     "output_type": "display_data"
    }
   ],
   "source": [
    "plot_confusion_matrix(rf, testX, testY)\n",
    "plt.show()"
   ]
  },
  {
   "cell_type": "markdown",
   "metadata": {},
   "source": [
    "# NB"
   ]
  },
  {
   "cell_type": "code",
   "execution_count": 100,
   "metadata": {},
   "outputs": [
    {
     "name": "stdout",
     "output_type": "stream",
     "text": [
      "0.8971253659834975\n",
      "              precision    recall  f1-score   support\n",
      "\n",
      "           0       0.92      0.97      0.95     13783\n",
      "           1       0.18      0.07      0.10      1245\n",
      "\n",
      "    accuracy                           0.90     15028\n",
      "   macro avg       0.55      0.52      0.52     15028\n",
      "weighted avg       0.86      0.90      0.88     15028\n",
      "\n"
     ]
    }
   ],
   "source": [
    "nb = GaussianNB()\n",
    "nb.fit(trainX, trainY)\n",
    "y_predict1 = nb.predict(testX)\n",
    "print(accuracy_score(testY, y_predict1))\n",
    "print(classification_report(testY, y_predict1))"
   ]
  },
  {
   "cell_type": "code",
   "execution_count": 102,
   "metadata": {},
   "outputs": [
    {
     "data": {
      "image/png": "[encoded data removed]",
      "text/plain": [
       "<Figure size 432x288 with 2 Axes>"
      ]
     },
     "metadata": {
      "needs_background": "light"
     },
     "output_type": "display_data"
    }
   ],
   "source": [
    "plot_confusion_matrix(nb, testX, testY)\n",
    "plt.show()"
   ]
  },
  {
   "cell_type": "code",
   "execution_count": null,
   "metadata": {},
   "outputs": [],
   "source": []
  }
 ],
 "metadata": {
  "kernelspec": {
   "display_name": "Python 3",
   "language": "python",
   "name": "python3"
  },
  "language_info": {
   "codemirror_mode": {
    "name": "ipython",
    "version": 3
   },
   "file_extension": ".py",
   "mimetype": "text/x-python",
   "name": "python",
   "nbconvert_exporter": "python",
   "pygments_lexer": "ipython3",
   "version": "3.8.8"
  }
 },
 "nbformat": 4,
 "nbformat_minor": 4
}
