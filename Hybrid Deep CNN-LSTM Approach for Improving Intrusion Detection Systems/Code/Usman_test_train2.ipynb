{
 "cells": [
  {
   "cell_type": "code",
   "execution_count": 1,
   "metadata": {},
   "outputs": [],
   "source": [
    "import pandas as pd\n",
    "import numpy as np"
   ]
  },
  {
   "cell_type": "code",
   "execution_count": 2,
   "metadata": {},
   "outputs": [],
   "source": [
    "from sklearn.model_selection import train_test_split\n",
    "from sklearn.metrics import classification_report\n",
    "from sklearn.metrics import accuracy_score\n",
    "from sklearn.metrics import confusion_matrix\n",
    "from sklearn.preprocessing import MinMaxScaler\n",
    "from sklearn.preprocessing import LabelEncoder\n",
    "from sklearn.model_selection import cross_val_score\n",
    "from sklearn.model_selection import StratifiedKFold"
   ]
  },
  {
   "cell_type": "code",
   "execution_count": 3,
   "metadata": {},
   "outputs": [],
   "source": [
    "import matplotlib.pyplot as plt"
   ]
  },
  {
   "cell_type": "code",
   "execution_count": 4,
   "metadata": {},
   "outputs": [],
   "source": [
    "from sklearn.linear_model import LogisticRegression\n",
    "from sklearn.discriminant_analysis import LinearDiscriminantAnalysis\n",
    "from sklearn.neighbors import KNeighborsClassifier\n",
    "from sklearn.ensemble import RandomForestClassifier\n",
    "from sklearn.tree import DecisionTreeClassifier\n",
    "from sklearn.naive_bayes import GaussianNB\n",
    "from sklearn.svm import SVC\n",
    "\n",
    "from tensorflow.keras.models import Sequential\n",
    "from tensorflow.keras.layers import Dense\n",
    "from tensorflow.keras.layers import LSTM\n",
    "from tensorflow.keras.layers import Dropout,Activation\n",
    "\n",
    "from keras.layers.convolutional import Conv1D\n",
    "from keras import backend as K\n",
    "from keras.layers.core import Lambda\n",
    "from keras.layers.convolutional import MaxPooling1D\n",
    "from keras.layers.embeddings import Embedding\n",
    "\n",
    "import keras\n",
    "from keras.utils import np_utils"
   ]
  },
  {
   "cell_type": "code",
   "execution_count": 5,
   "metadata": {},
   "outputs": [],
   "source": [
    "from sklearn.model_selection import GridSearchCV"
   ]
  },
  {
   "cell_type": "code",
   "execution_count": 6,
   "metadata": {},
   "outputs": [],
   "source": [
    "from sklearn.feature_selection import VarianceThreshold"
   ]
  },
  {
   "cell_type": "code",
   "execution_count": 7,
   "metadata": {},
   "outputs": [],
   "source": [
    "dataset = pd.read_csv('Usman_test_train_IoT/Combined_Data_IoT.csv')"
   ]
  },
  {
   "cell_type": "code",
   "execution_count": 8,
   "metadata": {},
   "outputs": [
    {
     "data": {
      "text/plain": [
       "Index(['ts', 'date', 'time', 'fridge_temperature', 'temp_condition', 'label',\n",
       "       'type', 'door_state', 'sphone_signal', 'latitude', 'longitude',\n",
       "       'FC1_Read_Input_Register', 'FC2_Read_Discrete_Value',\n",
       "       'FC3_Read_Holding_Register', 'FC4_Read_Coil', 'motion_status',\n",
       "       'light_status', 'current_temperature', 'thermostat_status',\n",
       "       'temperature', 'pressure', 'humidity'],\n",
       "      dtype='object')"
      ]
     },
     "execution_count": 8,
     "metadata": {},
     "output_type": "execute_result"
    }
   ],
   "source": [
    "dataset.columns"
   ]
  },
  {
   "cell_type": "code",
   "execution_count": 9,
   "metadata": {},
   "outputs": [],
   "source": [
    "Data = dataset.drop(['ts', 'date', 'time'], axis =1)"
   ]
  },
  {
   "cell_type": "code",
   "execution_count": 10,
   "metadata": {},
   "outputs": [
    {
     "data": {
      "text/plain": [
       "0    245000\n",
       "1    156119\n",
       "Name: label, dtype: int64"
      ]
     },
     "execution_count": 10,
     "metadata": {},
     "output_type": "execute_result"
    }
   ],
   "source": [
    "Data['label'].value_counts()"
   ]
  },
  {
   "cell_type": "code",
   "execution_count": 11,
   "metadata": {},
   "outputs": [
    {
     "data": {
      "text/plain": [
       "normal        245000\n",
       "backdoor       35000\n",
       "injection      35000\n",
       "password       35000\n",
       "ddos           25000\n",
       "ransomware     16030\n",
       "xss             6116\n",
       "scanning        3973\n",
       "Name: type, dtype: int64"
      ]
     },
     "execution_count": 11,
     "metadata": {},
     "output_type": "execute_result"
    }
   ],
   "source": [
    "Data['type'].value_counts()"
   ]
  },
  {
   "cell_type": "code",
   "execution_count": 12,
   "metadata": {},
   "outputs": [
    {
     "data": {
      "text/plain": [
       "0"
      ]
     },
     "execution_count": 12,
     "metadata": {},
     "output_type": "execute_result"
    }
   ],
   "source": [
    "Data.isna().sum().sum()"
   ]
  },
  {
   "cell_type": "code",
   "execution_count": 13,
   "metadata": {},
   "outputs": [
    {
     "data": {
      "text/html": [
       "<div>\n",
       "<style scoped>\n",
       "    .dataframe tbody tr th:only-of-type {\n",
       "        vertical-align: middle;\n",
       "    }\n",
       "\n",
       "    .dataframe tbody tr th {\n",
       "        vertical-align: top;\n",
       "    }\n",
       "\n",
       "    .dataframe thead th {\n",
       "        text-align: right;\n",
       "    }\n",
       "</style>\n",
       "<table border=\"1\" class=\"dataframe\">\n",
       "  <thead>\n",
       "    <tr style=\"text-align: right;\">\n",
       "      <th></th>\n",
       "      <th>fridge_temperature</th>\n",
       "      <th>temp_condition</th>\n",
       "      <th>label</th>\n",
       "      <th>type</th>\n",
       "      <th>door_state</th>\n",
       "      <th>sphone_signal</th>\n",
       "      <th>latitude</th>\n",
       "      <th>longitude</th>\n",
       "      <th>FC1_Read_Input_Register</th>\n",
       "      <th>FC2_Read_Discrete_Value</th>\n",
       "      <th>FC3_Read_Holding_Register</th>\n",
       "      <th>FC4_Read_Coil</th>\n",
       "      <th>motion_status</th>\n",
       "      <th>light_status</th>\n",
       "      <th>current_temperature</th>\n",
       "      <th>thermostat_status</th>\n",
       "      <th>temperature</th>\n",
       "      <th>pressure</th>\n",
       "      <th>humidity</th>\n",
       "    </tr>\n",
       "  </thead>\n",
       "  <tbody>\n",
       "    <tr>\n",
       "      <th>0</th>\n",
       "      <td>9.00</td>\n",
       "      <td>1</td>\n",
       "      <td>1</td>\n",
       "      <td>ddos</td>\n",
       "      <td>0</td>\n",
       "      <td>0</td>\n",
       "      <td>4.514077</td>\n",
       "      <td>14.421946</td>\n",
       "      <td>32450</td>\n",
       "      <td>32708</td>\n",
       "      <td>32035</td>\n",
       "      <td>32728</td>\n",
       "      <td>0</td>\n",
       "      <td>0</td>\n",
       "      <td>28.442693</td>\n",
       "      <td>1</td>\n",
       "      <td>35.773605</td>\n",
       "      <td>1.035</td>\n",
       "      <td>46.343618</td>\n",
       "    </tr>\n",
       "    <tr>\n",
       "      <th>1</th>\n",
       "      <td>9.25</td>\n",
       "      <td>1</td>\n",
       "      <td>1</td>\n",
       "      <td>ddos</td>\n",
       "      <td>0</td>\n",
       "      <td>0</td>\n",
       "      <td>4.514077</td>\n",
       "      <td>14.421946</td>\n",
       "      <td>32450</td>\n",
       "      <td>32708</td>\n",
       "      <td>32035</td>\n",
       "      <td>32728</td>\n",
       "      <td>0</td>\n",
       "      <td>0</td>\n",
       "      <td>28.442693</td>\n",
       "      <td>1</td>\n",
       "      <td>35.773605</td>\n",
       "      <td>1.035</td>\n",
       "      <td>46.343618</td>\n",
       "    </tr>\n",
       "    <tr>\n",
       "      <th>2</th>\n",
       "      <td>12.65</td>\n",
       "      <td>1</td>\n",
       "      <td>1</td>\n",
       "      <td>ddos</td>\n",
       "      <td>0</td>\n",
       "      <td>0</td>\n",
       "      <td>4.514077</td>\n",
       "      <td>14.421946</td>\n",
       "      <td>32450</td>\n",
       "      <td>32708</td>\n",
       "      <td>32035</td>\n",
       "      <td>32728</td>\n",
       "      <td>0</td>\n",
       "      <td>0</td>\n",
       "      <td>28.442693</td>\n",
       "      <td>1</td>\n",
       "      <td>35.773605</td>\n",
       "      <td>1.035</td>\n",
       "      <td>46.343618</td>\n",
       "    </tr>\n",
       "    <tr>\n",
       "      <th>3</th>\n",
       "      <td>4.65</td>\n",
       "      <td>0</td>\n",
       "      <td>1</td>\n",
       "      <td>ddos</td>\n",
       "      <td>0</td>\n",
       "      <td>0</td>\n",
       "      <td>4.514077</td>\n",
       "      <td>14.421946</td>\n",
       "      <td>32450</td>\n",
       "      <td>32708</td>\n",
       "      <td>32035</td>\n",
       "      <td>32728</td>\n",
       "      <td>0</td>\n",
       "      <td>0</td>\n",
       "      <td>28.442693</td>\n",
       "      <td>1</td>\n",
       "      <td>35.773605</td>\n",
       "      <td>1.035</td>\n",
       "      <td>46.343618</td>\n",
       "    </tr>\n",
       "    <tr>\n",
       "      <th>4</th>\n",
       "      <td>12.65</td>\n",
       "      <td>1</td>\n",
       "      <td>1</td>\n",
       "      <td>ddos</td>\n",
       "      <td>0</td>\n",
       "      <td>0</td>\n",
       "      <td>4.514077</td>\n",
       "      <td>14.421946</td>\n",
       "      <td>32450</td>\n",
       "      <td>32708</td>\n",
       "      <td>32035</td>\n",
       "      <td>32728</td>\n",
       "      <td>0</td>\n",
       "      <td>0</td>\n",
       "      <td>28.442693</td>\n",
       "      <td>1</td>\n",
       "      <td>35.773605</td>\n",
       "      <td>1.035</td>\n",
       "      <td>46.343618</td>\n",
       "    </tr>\n",
       "  </tbody>\n",
       "</table>\n",
       "</div>"
      ],
      "text/plain": [
       "   fridge_temperature  temp_condition  label  type  door_state  sphone_signal  \\\n",
       "0                9.00               1      1  ddos           0              0   \n",
       "1                9.25               1      1  ddos           0              0   \n",
       "2               12.65               1      1  ddos           0              0   \n",
       "3                4.65               0      1  ddos           0              0   \n",
       "4               12.65               1      1  ddos           0              0   \n",
       "\n",
       "   latitude  longitude  FC1_Read_Input_Register  FC2_Read_Discrete_Value  \\\n",
       "0  4.514077  14.421946                    32450                    32708   \n",
       "1  4.514077  14.421946                    32450                    32708   \n",
       "2  4.514077  14.421946                    32450                    32708   \n",
       "3  4.514077  14.421946                    32450                    32708   \n",
       "4  4.514077  14.421946                    32450                    32708   \n",
       "\n",
       "   FC3_Read_Holding_Register  FC4_Read_Coil  motion_status  light_status  \\\n",
       "0                      32035          32728              0             0   \n",
       "1                      32035          32728              0             0   \n",
       "2                      32035          32728              0             0   \n",
       "3                      32035          32728              0             0   \n",
       "4                      32035          32728              0             0   \n",
       "\n",
       "   current_temperature  thermostat_status  temperature  pressure   humidity  \n",
       "0            28.442693                  1    35.773605     1.035  46.343618  \n",
       "1            28.442693                  1    35.773605     1.035  46.343618  \n",
       "2            28.442693                  1    35.773605     1.035  46.343618  \n",
       "3            28.442693                  1    35.773605     1.035  46.343618  \n",
       "4            28.442693                  1    35.773605     1.035  46.343618  "
      ]
     },
     "execution_count": 13,
     "metadata": {},
     "output_type": "execute_result"
    }
   ],
   "source": [
    "Data.head()"
   ]
  },
  {
   "cell_type": "code",
   "execution_count": 14,
   "metadata": {},
   "outputs": [
    {
     "data": {
      "text/plain": [
       "(401119, 17)"
      ]
     },
     "execution_count": 14,
     "metadata": {},
     "output_type": "execute_result"
    }
   ],
   "source": [
    "X = Data.drop(['label', 'type'], axis = 1)\n",
    "X.shape"
   ]
  },
  {
   "cell_type": "code",
   "execution_count": 15,
   "metadata": {},
   "outputs": [
    {
     "data": {
      "text/plain": [
       "(401119,)"
      ]
     },
     "execution_count": 15,
     "metadata": {},
     "output_type": "execute_result"
    }
   ],
   "source": [
    "y = Data['label']\n",
    "y = y.values\n",
    "y.shape"
   ]
  },
  {
   "cell_type": "code",
   "execution_count": 16,
   "metadata": {},
   "outputs": [],
   "source": [
    "from imblearn.over_sampling import SMOTE \n",
    "smote = SMOTE()\n",
    "from collections import Counter"
   ]
  },
  {
   "cell_type": "code",
   "execution_count": null,
   "metadata": {},
   "outputs": [],
   "source": [
    "X_Sm, y_Sm = smote.fit_resample(X,y)"
   ]
  },
  {
   "cell_type": "code",
   "execution_count": null,
   "metadata": {},
   "outputs": [],
   "source": [
    "print(\"Before Smote :\", Counter(y))\n",
    "print(\"After Smote :\", Counter(y_Sm))"
   ]
  },
  {
   "cell_type": "code",
   "execution_count": 58,
   "metadata": {},
   "outputs": [],
   "source": [
    "# Data['type'].value_counts()"
   ]
  },
  {
   "cell_type": "code",
   "execution_count": 59,
   "metadata": {},
   "outputs": [],
   "source": [
    "# df['type'] = df['type'].replace(['normal'],'1')\n",
    "# df['type'] = df['type'].replace(['backdoor'],'2')\n",
    "# df['type'] = df['type'].replace(['injection'],'3')\n",
    "# df['type'] = df['type'].replace(['password'],'4')\n",
    "# df['type'] = df['type'].replace(['ddos'],'5')\n",
    "# df['type'] = df['type'].replace(['ransomware'],'6')\n",
    "# df['type'] = df['type'].replace(['xss'],'7')\n",
    "# df['type'] = df['type'].replace(['scanning'],'8')"
   ]
  },
  {
   "cell_type": "code",
   "execution_count": 61,
   "metadata": {
    "scrolled": true
   },
   "outputs": [
    {
     "name": "stderr",
     "output_type": "stream",
     "text": [
      "C:\\ProgramData\\Anaconda3\\lib\\site-packages\\sklearn\\utils\\validation.py:70: FutureWarning: Pass n_components=10 as keyword args. From version 1.0 (renaming of 0.25) passing these as positional arguments will result in an error\n",
      "  warnings.warn(f\"Pass {args_msg} as keyword args. From version \"\n",
      "C:\\ProgramData\\Anaconda3\\lib\\site-packages\\sklearn\\mixture\\_base.py:265: ConvergenceWarning: Initialization 1 did not converge. Try different init parameters, or increase max_iter, tol or check for degenerate data.\n",
      "  warnings.warn('Initialization %d did not converge. '\n",
      "C:\\ProgramData\\Anaconda3\\lib\\site-packages\\sklearn\\utils\\validation.py:70: FutureWarning: Pass n_components=10 as keyword args. From version 1.0 (renaming of 0.25) passing these as positional arguments will result in an error\n",
      "  warnings.warn(f\"Pass {args_msg} as keyword args. From version \"\n",
      "C:\\ProgramData\\Anaconda3\\lib\\site-packages\\sklearn\\mixture\\_base.py:147: ConvergenceWarning: Number of distinct clusters (2) found smaller than n_clusters (10). Possibly due to duplicate points in X.\n",
      "  label = cluster.KMeans(n_clusters=self.n_components, n_init=1,\n",
      "C:\\ProgramData\\Anaconda3\\lib\\site-packages\\sklearn\\utils\\validation.py:70: FutureWarning: Pass n_components=10 as keyword args. From version 1.0 (renaming of 0.25) passing these as positional arguments will result in an error\n",
      "  warnings.warn(f\"Pass {args_msg} as keyword args. From version \"\n",
      "C:\\ProgramData\\Anaconda3\\lib\\site-packages\\sklearn\\mixture\\_base.py:147: ConvergenceWarning: Number of distinct clusters (2) found smaller than n_clusters (10). Possibly due to duplicate points in X.\n",
      "  label = cluster.KMeans(n_clusters=self.n_components, n_init=1,\n",
      "C:\\ProgramData\\Anaconda3\\lib\\site-packages\\sklearn\\utils\\validation.py:70: FutureWarning: Pass n_components=10 as keyword args. From version 1.0 (renaming of 0.25) passing these as positional arguments will result in an error\n",
      "  warnings.warn(f\"Pass {args_msg} as keyword args. From version \"\n",
      "C:\\ProgramData\\Anaconda3\\lib\\site-packages\\sklearn\\mixture\\_base.py:147: ConvergenceWarning: Number of distinct clusters (2) found smaller than n_clusters (10). Possibly due to duplicate points in X.\n",
      "  label = cluster.KMeans(n_clusters=self.n_components, n_init=1,\n",
      "C:\\ProgramData\\Anaconda3\\lib\\site-packages\\sklearn\\utils\\validation.py:70: FutureWarning: Pass n_components=10 as keyword args. From version 1.0 (renaming of 0.25) passing these as positional arguments will result in an error\n",
      "  warnings.warn(f\"Pass {args_msg} as keyword args. From version \"\n",
      "C:\\ProgramData\\Anaconda3\\lib\\site-packages\\sklearn\\mixture\\_base.py:265: ConvergenceWarning: Initialization 1 did not converge. Try different init parameters, or increase max_iter, tol or check for degenerate data.\n",
      "  warnings.warn('Initialization %d did not converge. '\n",
      "C:\\ProgramData\\Anaconda3\\lib\\site-packages\\sklearn\\utils\\validation.py:70: FutureWarning: Pass n_components=10 as keyword args. From version 1.0 (renaming of 0.25) passing these as positional arguments will result in an error\n",
      "  warnings.warn(f\"Pass {args_msg} as keyword args. From version \"\n",
      "C:\\ProgramData\\Anaconda3\\lib\\site-packages\\sklearn\\mixture\\_base.py:265: ConvergenceWarning: Initialization 1 did not converge. Try different init parameters, or increase max_iter, tol or check for degenerate data.\n",
      "  warnings.warn('Initialization %d did not converge. '\n",
      "C:\\ProgramData\\Anaconda3\\lib\\site-packages\\sklearn\\utils\\validation.py:70: FutureWarning: Pass n_components=10 as keyword args. From version 1.0 (renaming of 0.25) passing these as positional arguments will result in an error\n",
      "  warnings.warn(f\"Pass {args_msg} as keyword args. From version \"\n",
      "C:\\ProgramData\\Anaconda3\\lib\\site-packages\\sklearn\\mixture\\_base.py:265: ConvergenceWarning: Initialization 1 did not converge. Try different init parameters, or increase max_iter, tol or check for degenerate data.\n",
      "  warnings.warn('Initialization %d did not converge. '\n",
      "C:\\ProgramData\\Anaconda3\\lib\\site-packages\\sklearn\\utils\\validation.py:70: FutureWarning: Pass n_components=10 as keyword args. From version 1.0 (renaming of 0.25) passing these as positional arguments will result in an error\n",
      "  warnings.warn(f\"Pass {args_msg} as keyword args. From version \"\n",
      "C:\\ProgramData\\Anaconda3\\lib\\site-packages\\sklearn\\mixture\\_base.py:265: ConvergenceWarning: Initialization 1 did not converge. Try different init parameters, or increase max_iter, tol or check for degenerate data.\n",
      "  warnings.warn('Initialization %d did not converge. '\n",
      "C:\\ProgramData\\Anaconda3\\lib\\site-packages\\sklearn\\utils\\validation.py:70: FutureWarning: Pass n_components=10 as keyword args. From version 1.0 (renaming of 0.25) passing these as positional arguments will result in an error\n",
      "  warnings.warn(f\"Pass {args_msg} as keyword args. From version \"\n",
      "C:\\ProgramData\\Anaconda3\\lib\\site-packages\\sklearn\\mixture\\_base.py:265: ConvergenceWarning: Initialization 1 did not converge. Try different init parameters, or increase max_iter, tol or check for degenerate data.\n",
      "  warnings.warn('Initialization %d did not converge. '\n",
      "C:\\ProgramData\\Anaconda3\\lib\\site-packages\\sklearn\\utils\\validation.py:70: FutureWarning: Pass n_components=10 as keyword args. From version 1.0 (renaming of 0.25) passing these as positional arguments will result in an error\n",
      "  warnings.warn(f\"Pass {args_msg} as keyword args. From version \"\n",
      "C:\\ProgramData\\Anaconda3\\lib\\site-packages\\sklearn\\mixture\\_base.py:265: ConvergenceWarning: Initialization 1 did not converge. Try different init parameters, or increase max_iter, tol or check for degenerate data.\n",
      "  warnings.warn('Initialization %d did not converge. '\n",
      "C:\\ProgramData\\Anaconda3\\lib\\site-packages\\sklearn\\utils\\validation.py:70: FutureWarning: Pass n_components=10 as keyword args. From version 1.0 (renaming of 0.25) passing these as positional arguments will result in an error\n",
      "  warnings.warn(f\"Pass {args_msg} as keyword args. From version \"\n",
      "C:\\ProgramData\\Anaconda3\\lib\\site-packages\\sklearn\\mixture\\_base.py:147: ConvergenceWarning: Number of distinct clusters (2) found smaller than n_clusters (10). Possibly due to duplicate points in X.\n",
      "  label = cluster.KMeans(n_clusters=self.n_components, n_init=1,\n",
      "C:\\ProgramData\\Anaconda3\\lib\\site-packages\\sklearn\\utils\\validation.py:70: FutureWarning: Pass n_components=10 as keyword args. From version 1.0 (renaming of 0.25) passing these as positional arguments will result in an error\n",
      "  warnings.warn(f\"Pass {args_msg} as keyword args. From version \"\n",
      "C:\\ProgramData\\Anaconda3\\lib\\site-packages\\sklearn\\mixture\\_base.py:147: ConvergenceWarning: Number of distinct clusters (2) found smaller than n_clusters (10). Possibly due to duplicate points in X.\n",
      "  label = cluster.KMeans(n_clusters=self.n_components, n_init=1,\n",
      "C:\\ProgramData\\Anaconda3\\lib\\site-packages\\sklearn\\utils\\validation.py:70: FutureWarning: Pass n_components=10 as keyword args. From version 1.0 (renaming of 0.25) passing these as positional arguments will result in an error\n",
      "  warnings.warn(f\"Pass {args_msg} as keyword args. From version \"\n",
      "C:\\ProgramData\\Anaconda3\\lib\\site-packages\\sklearn\\mixture\\_base.py:265: ConvergenceWarning: Initialization 1 did not converge. Try different init parameters, or increase max_iter, tol or check for degenerate data.\n",
      "  warnings.warn('Initialization %d did not converge. '\n",
      "C:\\ProgramData\\Anaconda3\\lib\\site-packages\\sklearn\\utils\\validation.py:70: FutureWarning: Pass n_components=10 as keyword args. From version 1.0 (renaming of 0.25) passing these as positional arguments will result in an error\n",
      "  warnings.warn(f\"Pass {args_msg} as keyword args. From version \"\n",
      "C:\\ProgramData\\Anaconda3\\lib\\site-packages\\sklearn\\mixture\\_base.py:147: ConvergenceWarning: Number of distinct clusters (2) found smaller than n_clusters (10). Possibly due to duplicate points in X.\n",
      "  label = cluster.KMeans(n_clusters=self.n_components, n_init=1,\n",
      "C:\\ProgramData\\Anaconda3\\lib\\site-packages\\sklearn\\utils\\validation.py:70: FutureWarning: Pass n_components=10 as keyword args. From version 1.0 (renaming of 0.25) passing these as positional arguments will result in an error\n",
      "  warnings.warn(f\"Pass {args_msg} as keyword args. From version \"\n",
      "C:\\ProgramData\\Anaconda3\\lib\\site-packages\\sklearn\\mixture\\_base.py:265: ConvergenceWarning: Initialization 1 did not converge. Try different init parameters, or increase max_iter, tol or check for degenerate data.\n",
      "  warnings.warn('Initialization %d did not converge. '\n"
     ]
    },
    {
     "name": "stderr",
     "output_type": "stream",
     "text": [
      "C:\\ProgramData\\Anaconda3\\lib\\site-packages\\sklearn\\utils\\validation.py:70: FutureWarning: Pass n_components=10 as keyword args. From version 1.0 (renaming of 0.25) passing these as positional arguments will result in an error\n",
      "  warnings.warn(f\"Pass {args_msg} as keyword args. From version \"\n",
      "C:\\ProgramData\\Anaconda3\\lib\\site-packages\\sklearn\\mixture\\_base.py:265: ConvergenceWarning: Initialization 1 did not converge. Try different init parameters, or increase max_iter, tol or check for degenerate data.\n",
      "  warnings.warn('Initialization %d did not converge. '\n",
      "C:\\ProgramData\\Anaconda3\\lib\\site-packages\\sklearn\\utils\\validation.py:70: FutureWarning: Pass n_components=10 as keyword args. From version 1.0 (renaming of 0.25) passing these as positional arguments will result in an error\n",
      "  warnings.warn(f\"Pass {args_msg} as keyword args. From version \"\n",
      "C:\\ProgramData\\Anaconda3\\lib\\site-packages\\sklearn\\mixture\\_base.py:265: ConvergenceWarning: Initialization 1 did not converge. Try different init parameters, or increase max_iter, tol or check for degenerate data.\n",
      "  warnings.warn('Initialization %d did not converge. '\n"
     ]
    }
   ],
   "source": [
    "from ctgan import CTGANSynthesizer\n",
    "ctgan = CTGANSynthesizer(epochs=10)\n",
    "ctgan.fit(Data.drop(['type'], axis = 1), ['label'])"
   ]
  },
  {
   "cell_type": "code",
   "execution_count": 63,
   "metadata": {},
   "outputs": [
    {
     "data": {
      "text/html": [
       "<div>\n",
       "<style scoped>\n",
       "    .dataframe tbody tr th:only-of-type {\n",
       "        vertical-align: middle;\n",
       "    }\n",
       "\n",
       "    .dataframe tbody tr th {\n",
       "        vertical-align: top;\n",
       "    }\n",
       "\n",
       "    .dataframe thead th {\n",
       "        text-align: right;\n",
       "    }\n",
       "</style>\n",
       "<table border=\"1\" class=\"dataframe\">\n",
       "  <thead>\n",
       "    <tr style=\"text-align: right;\">\n",
       "      <th></th>\n",
       "      <th>fridge_temperature</th>\n",
       "      <th>temp_condition</th>\n",
       "      <th>label</th>\n",
       "      <th>door_state</th>\n",
       "      <th>sphone_signal</th>\n",
       "      <th>latitude</th>\n",
       "      <th>longitude</th>\n",
       "      <th>FC1_Read_Input_Register</th>\n",
       "      <th>FC2_Read_Discrete_Value</th>\n",
       "      <th>FC3_Read_Holding_Register</th>\n",
       "      <th>FC4_Read_Coil</th>\n",
       "      <th>motion_status</th>\n",
       "      <th>light_status</th>\n",
       "      <th>current_temperature</th>\n",
       "      <th>thermostat_status</th>\n",
       "      <th>temperature</th>\n",
       "      <th>pressure</th>\n",
       "      <th>humidity</th>\n",
       "    </tr>\n",
       "  </thead>\n",
       "  <tbody>\n",
       "    <tr>\n",
       "      <th>0</th>\n",
       "      <td>6.700626</td>\n",
       "      <td>1</td>\n",
       "      <td>1</td>\n",
       "      <td>0</td>\n",
       "      <td>0</td>\n",
       "      <td>4.507228</td>\n",
       "      <td>14.452001</td>\n",
       "      <td>32449</td>\n",
       "      <td>32711</td>\n",
       "      <td>32040</td>\n",
       "      <td>32725</td>\n",
       "      <td>0</td>\n",
       "      <td>0</td>\n",
       "      <td>28.442934</td>\n",
       "      <td>1</td>\n",
       "      <td>35.771815</td>\n",
       "      <td>1.034842</td>\n",
       "      <td>46.347477</td>\n",
       "    </tr>\n",
       "    <tr>\n",
       "      <th>1</th>\n",
       "      <td>6.700800</td>\n",
       "      <td>0</td>\n",
       "      <td>0</td>\n",
       "      <td>0</td>\n",
       "      <td>0</td>\n",
       "      <td>4.493953</td>\n",
       "      <td>14.425599</td>\n",
       "      <td>32450</td>\n",
       "      <td>32702</td>\n",
       "      <td>32035</td>\n",
       "      <td>32732</td>\n",
       "      <td>0</td>\n",
       "      <td>0</td>\n",
       "      <td>28.442833</td>\n",
       "      <td>1</td>\n",
       "      <td>25.221491</td>\n",
       "      <td>1.035433</td>\n",
       "      <td>46.354848</td>\n",
       "    </tr>\n",
       "    <tr>\n",
       "      <th>2</th>\n",
       "      <td>6.699530</td>\n",
       "      <td>1</td>\n",
       "      <td>0</td>\n",
       "      <td>0</td>\n",
       "      <td>0</td>\n",
       "      <td>4.490186</td>\n",
       "      <td>14.391246</td>\n",
       "      <td>32451</td>\n",
       "      <td>32706</td>\n",
       "      <td>32041</td>\n",
       "      <td>32733</td>\n",
       "      <td>0</td>\n",
       "      <td>0</td>\n",
       "      <td>28.443677</td>\n",
       "      <td>0</td>\n",
       "      <td>35.770332</td>\n",
       "      <td>1.034537</td>\n",
       "      <td>46.350320</td>\n",
       "    </tr>\n",
       "    <tr>\n",
       "      <th>3</th>\n",
       "      <td>6.700195</td>\n",
       "      <td>1</td>\n",
       "      <td>0</td>\n",
       "      <td>0</td>\n",
       "      <td>0</td>\n",
       "      <td>4.506844</td>\n",
       "      <td>14.391963</td>\n",
       "      <td>32452</td>\n",
       "      <td>32702</td>\n",
       "      <td>32036</td>\n",
       "      <td>32728</td>\n",
       "      <td>0</td>\n",
       "      <td>0</td>\n",
       "      <td>28.442371</td>\n",
       "      <td>0</td>\n",
       "      <td>35.772097</td>\n",
       "      <td>1.036399</td>\n",
       "      <td>46.353600</td>\n",
       "    </tr>\n",
       "    <tr>\n",
       "      <th>4</th>\n",
       "      <td>6.699745</td>\n",
       "      <td>1</td>\n",
       "      <td>0</td>\n",
       "      <td>0</td>\n",
       "      <td>0</td>\n",
       "      <td>4.510789</td>\n",
       "      <td>14.433454</td>\n",
       "      <td>32453</td>\n",
       "      <td>55945</td>\n",
       "      <td>32037</td>\n",
       "      <td>32727</td>\n",
       "      <td>0</td>\n",
       "      <td>0</td>\n",
       "      <td>28.443325</td>\n",
       "      <td>1</td>\n",
       "      <td>35.773556</td>\n",
       "      <td>1.035733</td>\n",
       "      <td>46.349488</td>\n",
       "    </tr>\n",
       "    <tr>\n",
       "      <th>...</th>\n",
       "      <td>...</td>\n",
       "      <td>...</td>\n",
       "      <td>...</td>\n",
       "      <td>...</td>\n",
       "      <td>...</td>\n",
       "      <td>...</td>\n",
       "      <td>...</td>\n",
       "      <td>...</td>\n",
       "      <td>...</td>\n",
       "      <td>...</td>\n",
       "      <td>...</td>\n",
       "      <td>...</td>\n",
       "      <td>...</td>\n",
       "      <td>...</td>\n",
       "      <td>...</td>\n",
       "      <td>...</td>\n",
       "      <td>...</td>\n",
       "      <td>...</td>\n",
       "    </tr>\n",
       "    <tr>\n",
       "      <th>599995</th>\n",
       "      <td>6.700785</td>\n",
       "      <td>0</td>\n",
       "      <td>0</td>\n",
       "      <td>0</td>\n",
       "      <td>0</td>\n",
       "      <td>4.547313</td>\n",
       "      <td>14.399992</td>\n",
       "      <td>32449</td>\n",
       "      <td>32707</td>\n",
       "      <td>32044</td>\n",
       "      <td>32726</td>\n",
       "      <td>0</td>\n",
       "      <td>0</td>\n",
       "      <td>28.442040</td>\n",
       "      <td>1</td>\n",
       "      <td>35.770624</td>\n",
       "      <td>1.035036</td>\n",
       "      <td>46.348378</td>\n",
       "    </tr>\n",
       "    <tr>\n",
       "      <th>599996</th>\n",
       "      <td>8.324816</td>\n",
       "      <td>0</td>\n",
       "      <td>1</td>\n",
       "      <td>0</td>\n",
       "      <td>0</td>\n",
       "      <td>4.518012</td>\n",
       "      <td>14.390423</td>\n",
       "      <td>32451</td>\n",
       "      <td>32707</td>\n",
       "      <td>32038</td>\n",
       "      <td>32731</td>\n",
       "      <td>0</td>\n",
       "      <td>0</td>\n",
       "      <td>28.441626</td>\n",
       "      <td>1</td>\n",
       "      <td>35.773156</td>\n",
       "      <td>1.036081</td>\n",
       "      <td>46.346566</td>\n",
       "    </tr>\n",
       "    <tr>\n",
       "      <th>599997</th>\n",
       "      <td>6.699142</td>\n",
       "      <td>1</td>\n",
       "      <td>1</td>\n",
       "      <td>0</td>\n",
       "      <td>0</td>\n",
       "      <td>4.526325</td>\n",
       "      <td>14.418796</td>\n",
       "      <td>58047</td>\n",
       "      <td>32706</td>\n",
       "      <td>32043</td>\n",
       "      <td>57089</td>\n",
       "      <td>0</td>\n",
       "      <td>0</td>\n",
       "      <td>28.442694</td>\n",
       "      <td>1</td>\n",
       "      <td>35.774301</td>\n",
       "      <td>1.035891</td>\n",
       "      <td>46.343319</td>\n",
       "    </tr>\n",
       "    <tr>\n",
       "      <th>599998</th>\n",
       "      <td>6.701702</td>\n",
       "      <td>1</td>\n",
       "      <td>0</td>\n",
       "      <td>0</td>\n",
       "      <td>0</td>\n",
       "      <td>4.496469</td>\n",
       "      <td>14.417712</td>\n",
       "      <td>32447</td>\n",
       "      <td>32705</td>\n",
       "      <td>32042</td>\n",
       "      <td>32726</td>\n",
       "      <td>0</td>\n",
       "      <td>0</td>\n",
       "      <td>28.442454</td>\n",
       "      <td>0</td>\n",
       "      <td>38.179237</td>\n",
       "      <td>1.230268</td>\n",
       "      <td>53.947318</td>\n",
       "    </tr>\n",
       "    <tr>\n",
       "      <th>599999</th>\n",
       "      <td>6.699723</td>\n",
       "      <td>1</td>\n",
       "      <td>0</td>\n",
       "      <td>0</td>\n",
       "      <td>0</td>\n",
       "      <td>4.510232</td>\n",
       "      <td>14.426571</td>\n",
       "      <td>56021</td>\n",
       "      <td>62339</td>\n",
       "      <td>10640</td>\n",
       "      <td>7250</td>\n",
       "      <td>0</td>\n",
       "      <td>0</td>\n",
       "      <td>28.443089</td>\n",
       "      <td>1</td>\n",
       "      <td>35.773459</td>\n",
       "      <td>1.036137</td>\n",
       "      <td>46.351477</td>\n",
       "    </tr>\n",
       "  </tbody>\n",
       "</table>\n",
       "<p>600000 rows × 18 columns</p>\n",
       "</div>"
      ],
      "text/plain": [
       "        fridge_temperature  temp_condition  label  door_state  sphone_signal  \\\n",
       "0                 6.700626               1      1           0              0   \n",
       "1                 6.700800               0      0           0              0   \n",
       "2                 6.699530               1      0           0              0   \n",
       "3                 6.700195               1      0           0              0   \n",
       "4                 6.699745               1      0           0              0   \n",
       "...                    ...             ...    ...         ...            ...   \n",
       "599995            6.700785               0      0           0              0   \n",
       "599996            8.324816               0      1           0              0   \n",
       "599997            6.699142               1      1           0              0   \n",
       "599998            6.701702               1      0           0              0   \n",
       "599999            6.699723               1      0           0              0   \n",
       "\n",
       "        latitude  longitude  FC1_Read_Input_Register  FC2_Read_Discrete_Value  \\\n",
       "0       4.507228  14.452001                    32449                    32711   \n",
       "1       4.493953  14.425599                    32450                    32702   \n",
       "2       4.490186  14.391246                    32451                    32706   \n",
       "3       4.506844  14.391963                    32452                    32702   \n",
       "4       4.510789  14.433454                    32453                    55945   \n",
       "...          ...        ...                      ...                      ...   \n",
       "599995  4.547313  14.399992                    32449                    32707   \n",
       "599996  4.518012  14.390423                    32451                    32707   \n",
       "599997  4.526325  14.418796                    58047                    32706   \n",
       "599998  4.496469  14.417712                    32447                    32705   \n",
       "599999  4.510232  14.426571                    56021                    62339   \n",
       "\n",
       "        FC3_Read_Holding_Register  FC4_Read_Coil  motion_status  light_status  \\\n",
       "0                           32040          32725              0             0   \n",
       "1                           32035          32732              0             0   \n",
       "2                           32041          32733              0             0   \n",
       "3                           32036          32728              0             0   \n",
       "4                           32037          32727              0             0   \n",
       "...                           ...            ...            ...           ...   \n",
       "599995                      32044          32726              0             0   \n",
       "599996                      32038          32731              0             0   \n",
       "599997                      32043          57089              0             0   \n",
       "599998                      32042          32726              0             0   \n",
       "599999                      10640           7250              0             0   \n",
       "\n",
       "        current_temperature  thermostat_status  temperature  pressure  \\\n",
       "0                 28.442934                  1    35.771815  1.034842   \n",
       "1                 28.442833                  1    25.221491  1.035433   \n",
       "2                 28.443677                  0    35.770332  1.034537   \n",
       "3                 28.442371                  0    35.772097  1.036399   \n",
       "4                 28.443325                  1    35.773556  1.035733   \n",
       "...                     ...                ...          ...       ...   \n",
       "599995            28.442040                  1    35.770624  1.035036   \n",
       "599996            28.441626                  1    35.773156  1.036081   \n",
       "599997            28.442694                  1    35.774301  1.035891   \n",
       "599998            28.442454                  0    38.179237  1.230268   \n",
       "599999            28.443089                  1    35.773459  1.036137   \n",
       "\n",
       "         humidity  \n",
       "0       46.347477  \n",
       "1       46.354848  \n",
       "2       46.350320  \n",
       "3       46.353600  \n",
       "4       46.349488  \n",
       "...           ...  \n",
       "599995  46.348378  \n",
       "599996  46.346566  \n",
       "599997  46.343319  \n",
       "599998  53.947318  \n",
       "599999  46.351477  \n",
       "\n",
       "[600000 rows x 18 columns]"
      ]
     },
     "execution_count": 63,
     "metadata": {},
     "output_type": "execute_result"
    }
   ],
   "source": [
    "samples = ctgan.sample(600000)\n",
    "samples"
   ]
  },
  {
   "cell_type": "code",
   "execution_count": 64,
   "metadata": {},
   "outputs": [
    {
     "data": {
      "text/plain": [
       "0    423886\n",
       "1    176114\n",
       "Name: label, dtype: int64"
      ]
     },
     "execution_count": 64,
     "metadata": {},
     "output_type": "execute_result"
    }
   ],
   "source": [
    "samples['label'].value_counts()"
   ]
  },
  {
   "cell_type": "code",
   "execution_count": 67,
   "metadata": {},
   "outputs": [
    {
     "data": {
      "text/plain": [
       "(600000, 17)"
      ]
     },
     "execution_count": 67,
     "metadata": {},
     "output_type": "execute_result"
    }
   ],
   "source": [
    "X_G = samples.drop(['label'], axis = 1)\n",
    "X_G.shape"
   ]
  },
  {
   "cell_type": "code",
   "execution_count": 68,
   "metadata": {},
   "outputs": [
    {
     "data": {
      "text/plain": [
       "(600000,)"
      ]
     },
     "execution_count": 68,
     "metadata": {},
     "output_type": "execute_result"
    }
   ],
   "source": [
    "y_G = samples['label']\n",
    "y_G = y_G.values\n",
    "y_G.shape"
   ]
  },
  {
   "cell_type": "code",
   "execution_count": 69,
   "metadata": {},
   "outputs": [],
   "source": [
    "sel = VarianceThreshold(threshold=(.8 * (1 - .8))) #don't change these values\n",
    "X_T = sel.fit(X_G)"
   ]
  },
  {
   "cell_type": "code",
   "execution_count": 70,
   "metadata": {},
   "outputs": [
    {
     "data": {
      "text/html": [
       "<div>\n",
       "<style scoped>\n",
       "    .dataframe tbody tr th:only-of-type {\n",
       "        vertical-align: middle;\n",
       "    }\n",
       "\n",
       "    .dataframe tbody tr th {\n",
       "        vertical-align: top;\n",
       "    }\n",
       "\n",
       "    .dataframe thead th {\n",
       "        text-align: right;\n",
       "    }\n",
       "</style>\n",
       "<table border=\"1\" class=\"dataframe\">\n",
       "  <thead>\n",
       "    <tr style=\"text-align: right;\">\n",
       "      <th></th>\n",
       "      <th>fridge_temperature</th>\n",
       "      <th>temp_condition</th>\n",
       "      <th>latitude</th>\n",
       "      <th>longitude</th>\n",
       "      <th>FC1_Read_Input_Register</th>\n",
       "      <th>FC2_Read_Discrete_Value</th>\n",
       "      <th>FC3_Read_Holding_Register</th>\n",
       "      <th>FC4_Read_Coil</th>\n",
       "      <th>current_temperature</th>\n",
       "      <th>thermostat_status</th>\n",
       "      <th>temperature</th>\n",
       "      <th>pressure</th>\n",
       "      <th>humidity</th>\n",
       "    </tr>\n",
       "  </thead>\n",
       "  <tbody>\n",
       "    <tr>\n",
       "      <th>0</th>\n",
       "      <td>6.700626</td>\n",
       "      <td>1</td>\n",
       "      <td>4.507228</td>\n",
       "      <td>14.452001</td>\n",
       "      <td>32449</td>\n",
       "      <td>32711</td>\n",
       "      <td>32040</td>\n",
       "      <td>32725</td>\n",
       "      <td>28.442934</td>\n",
       "      <td>1</td>\n",
       "      <td>35.771815</td>\n",
       "      <td>1.034842</td>\n",
       "      <td>46.347477</td>\n",
       "    </tr>\n",
       "    <tr>\n",
       "      <th>1</th>\n",
       "      <td>6.700800</td>\n",
       "      <td>0</td>\n",
       "      <td>4.493953</td>\n",
       "      <td>14.425599</td>\n",
       "      <td>32450</td>\n",
       "      <td>32702</td>\n",
       "      <td>32035</td>\n",
       "      <td>32732</td>\n",
       "      <td>28.442833</td>\n",
       "      <td>1</td>\n",
       "      <td>25.221491</td>\n",
       "      <td>1.035433</td>\n",
       "      <td>46.354848</td>\n",
       "    </tr>\n",
       "    <tr>\n",
       "      <th>2</th>\n",
       "      <td>6.699530</td>\n",
       "      <td>1</td>\n",
       "      <td>4.490186</td>\n",
       "      <td>14.391246</td>\n",
       "      <td>32451</td>\n",
       "      <td>32706</td>\n",
       "      <td>32041</td>\n",
       "      <td>32733</td>\n",
       "      <td>28.443677</td>\n",
       "      <td>0</td>\n",
       "      <td>35.770332</td>\n",
       "      <td>1.034537</td>\n",
       "      <td>46.350320</td>\n",
       "    </tr>\n",
       "    <tr>\n",
       "      <th>3</th>\n",
       "      <td>6.700195</td>\n",
       "      <td>1</td>\n",
       "      <td>4.506844</td>\n",
       "      <td>14.391963</td>\n",
       "      <td>32452</td>\n",
       "      <td>32702</td>\n",
       "      <td>32036</td>\n",
       "      <td>32728</td>\n",
       "      <td>28.442371</td>\n",
       "      <td>0</td>\n",
       "      <td>35.772097</td>\n",
       "      <td>1.036399</td>\n",
       "      <td>46.353600</td>\n",
       "    </tr>\n",
       "    <tr>\n",
       "      <th>4</th>\n",
       "      <td>6.699745</td>\n",
       "      <td>1</td>\n",
       "      <td>4.510789</td>\n",
       "      <td>14.433454</td>\n",
       "      <td>32453</td>\n",
       "      <td>55945</td>\n",
       "      <td>32037</td>\n",
       "      <td>32727</td>\n",
       "      <td>28.443325</td>\n",
       "      <td>1</td>\n",
       "      <td>35.773556</td>\n",
       "      <td>1.035733</td>\n",
       "      <td>46.349488</td>\n",
       "    </tr>\n",
       "    <tr>\n",
       "      <th>...</th>\n",
       "      <td>...</td>\n",
       "      <td>...</td>\n",
       "      <td>...</td>\n",
       "      <td>...</td>\n",
       "      <td>...</td>\n",
       "      <td>...</td>\n",
       "      <td>...</td>\n",
       "      <td>...</td>\n",
       "      <td>...</td>\n",
       "      <td>...</td>\n",
       "      <td>...</td>\n",
       "      <td>...</td>\n",
       "      <td>...</td>\n",
       "    </tr>\n",
       "    <tr>\n",
       "      <th>599995</th>\n",
       "      <td>6.700785</td>\n",
       "      <td>0</td>\n",
       "      <td>4.547313</td>\n",
       "      <td>14.399992</td>\n",
       "      <td>32449</td>\n",
       "      <td>32707</td>\n",
       "      <td>32044</td>\n",
       "      <td>32726</td>\n",
       "      <td>28.442040</td>\n",
       "      <td>1</td>\n",
       "      <td>35.770624</td>\n",
       "      <td>1.035036</td>\n",
       "      <td>46.348378</td>\n",
       "    </tr>\n",
       "    <tr>\n",
       "      <th>599996</th>\n",
       "      <td>8.324816</td>\n",
       "      <td>0</td>\n",
       "      <td>4.518012</td>\n",
       "      <td>14.390423</td>\n",
       "      <td>32451</td>\n",
       "      <td>32707</td>\n",
       "      <td>32038</td>\n",
       "      <td>32731</td>\n",
       "      <td>28.441626</td>\n",
       "      <td>1</td>\n",
       "      <td>35.773156</td>\n",
       "      <td>1.036081</td>\n",
       "      <td>46.346566</td>\n",
       "    </tr>\n",
       "    <tr>\n",
       "      <th>599997</th>\n",
       "      <td>6.699142</td>\n",
       "      <td>1</td>\n",
       "      <td>4.526325</td>\n",
       "      <td>14.418796</td>\n",
       "      <td>58047</td>\n",
       "      <td>32706</td>\n",
       "      <td>32043</td>\n",
       "      <td>57089</td>\n",
       "      <td>28.442694</td>\n",
       "      <td>1</td>\n",
       "      <td>35.774301</td>\n",
       "      <td>1.035891</td>\n",
       "      <td>46.343319</td>\n",
       "    </tr>\n",
       "    <tr>\n",
       "      <th>599998</th>\n",
       "      <td>6.701702</td>\n",
       "      <td>1</td>\n",
       "      <td>4.496469</td>\n",
       "      <td>14.417712</td>\n",
       "      <td>32447</td>\n",
       "      <td>32705</td>\n",
       "      <td>32042</td>\n",
       "      <td>32726</td>\n",
       "      <td>28.442454</td>\n",
       "      <td>0</td>\n",
       "      <td>38.179237</td>\n",
       "      <td>1.230268</td>\n",
       "      <td>53.947318</td>\n",
       "    </tr>\n",
       "    <tr>\n",
       "      <th>599999</th>\n",
       "      <td>6.699723</td>\n",
       "      <td>1</td>\n",
       "      <td>4.510232</td>\n",
       "      <td>14.426571</td>\n",
       "      <td>56021</td>\n",
       "      <td>62339</td>\n",
       "      <td>10640</td>\n",
       "      <td>7250</td>\n",
       "      <td>28.443089</td>\n",
       "      <td>1</td>\n",
       "      <td>35.773459</td>\n",
       "      <td>1.036137</td>\n",
       "      <td>46.351477</td>\n",
       "    </tr>\n",
       "  </tbody>\n",
       "</table>\n",
       "<p>600000 rows × 13 columns</p>\n",
       "</div>"
      ],
      "text/plain": [
       "        fridge_temperature  temp_condition  latitude  longitude  \\\n",
       "0                 6.700626               1  4.507228  14.452001   \n",
       "1                 6.700800               0  4.493953  14.425599   \n",
       "2                 6.699530               1  4.490186  14.391246   \n",
       "3                 6.700195               1  4.506844  14.391963   \n",
       "4                 6.699745               1  4.510789  14.433454   \n",
       "...                    ...             ...       ...        ...   \n",
       "599995            6.700785               0  4.547313  14.399992   \n",
       "599996            8.324816               0  4.518012  14.390423   \n",
       "599997            6.699142               1  4.526325  14.418796   \n",
       "599998            6.701702               1  4.496469  14.417712   \n",
       "599999            6.699723               1  4.510232  14.426571   \n",
       "\n",
       "        FC1_Read_Input_Register  FC2_Read_Discrete_Value  \\\n",
       "0                         32449                    32711   \n",
       "1                         32450                    32702   \n",
       "2                         32451                    32706   \n",
       "3                         32452                    32702   \n",
       "4                         32453                    55945   \n",
       "...                         ...                      ...   \n",
       "599995                    32449                    32707   \n",
       "599996                    32451                    32707   \n",
       "599997                    58047                    32706   \n",
       "599998                    32447                    32705   \n",
       "599999                    56021                    62339   \n",
       "\n",
       "        FC3_Read_Holding_Register  FC4_Read_Coil  current_temperature  \\\n",
       "0                           32040          32725            28.442934   \n",
       "1                           32035          32732            28.442833   \n",
       "2                           32041          32733            28.443677   \n",
       "3                           32036          32728            28.442371   \n",
       "4                           32037          32727            28.443325   \n",
       "...                           ...            ...                  ...   \n",
       "599995                      32044          32726            28.442040   \n",
       "599996                      32038          32731            28.441626   \n",
       "599997                      32043          57089            28.442694   \n",
       "599998                      32042          32726            28.442454   \n",
       "599999                      10640           7250            28.443089   \n",
       "\n",
       "        thermostat_status  temperature  pressure   humidity  \n",
       "0                       1    35.771815  1.034842  46.347477  \n",
       "1                       1    25.221491  1.035433  46.354848  \n",
       "2                       0    35.770332  1.034537  46.350320  \n",
       "3                       0    35.772097  1.036399  46.353600  \n",
       "4                       1    35.773556  1.035733  46.349488  \n",
       "...                   ...          ...       ...        ...  \n",
       "599995                  1    35.770624  1.035036  46.348378  \n",
       "599996                  1    35.773156  1.036081  46.346566  \n",
       "599997                  1    35.774301  1.035891  46.343319  \n",
       "599998                  0    38.179237  1.230268  53.947318  \n",
       "599999                  1    35.773459  1.036137  46.351477  \n",
       "\n",
       "[600000 rows x 13 columns]"
      ]
     },
     "execution_count": 70,
     "metadata": {},
     "output_type": "execute_result"
    }
   ],
   "source": [
    "sel_cols = X_T.get_support(indices=True)\n",
    "X_VT = X_G.iloc[:,sel_cols]\n",
    "X_VT"
   ]
  },
  {
   "cell_type": "code",
   "execution_count": 71,
   "metadata": {},
   "outputs": [
    {
     "data": {
      "text/plain": [
       "(600000, 13)"
      ]
     },
     "execution_count": 71,
     "metadata": {},
     "output_type": "execute_result"
    }
   ],
   "source": [
    "X_VT.shape"
   ]
  },
  {
   "cell_type": "code",
   "execution_count": 72,
   "metadata": {},
   "outputs": [
    {
     "name": "stdout",
     "output_type": "stream",
     "text": [
      "[[0.45697457 1.         0.03188974 ... 0.53127269 0.43638419 0.46172198]\n",
      " [0.45698784 0.         0.03179489 ... 0.15433896 0.4364332  0.46180131]\n",
      " [0.45689089 1.         0.03176798 ... 0.53121971 0.43635889 0.46175258]\n",
      " ...\n",
      " [0.45686131 1.         0.03202618 ... 0.53136153 0.43647115 0.46167724]\n",
      " [0.45705664 1.         0.03181287 ... 0.61728319 0.4525857  0.54350457]\n",
      " [0.45690566 1.         0.03191121 ... 0.53133144 0.43649152 0.46176503]]\n"
     ]
    }
   ],
   "source": [
    "scaler = MinMaxScaler()\n",
    "X_M = scaler.fit_transform(X_VT)\n",
    "print(X_M)"
   ]
  },
  {
   "cell_type": "code",
   "execution_count": 74,
   "metadata": {},
   "outputs": [],
   "source": [
    "# (Smote -> varience threshold -> min max scaler)\n",
    "trainX, testX, trainY, testY = train_test_split(X_M, y_G, test_size = 0.30, random_state = 5)"
   ]
  },
  {
   "cell_type": "code",
   "execution_count": 75,
   "metadata": {},
   "outputs": [
    {
     "name": "stdout",
     "output_type": "stream",
     "text": [
      "StratifiedKFold(n_splits=10, random_state=None, shuffle=True)\n"
     ]
    }
   ],
   "source": [
    "#Stratified K Fold split\n",
    "kfold = StratifiedKFold(n_splits=10, shuffle=True)\n",
    "print(kfold)"
   ]
  },
  {
   "cell_type": "code",
   "execution_count": 78,
   "metadata": {},
   "outputs": [
    {
     "name": "stdout",
     "output_type": "stream",
     "text": [
      "(600000, 13)\n",
      "(600000,)\n",
      "(420000, 13)\n",
      "(420000,)\n",
      "(180000, 13)\n",
      "(180000,)\n"
     ]
    }
   ],
   "source": [
    "print(X_M.shape)\n",
    "print(y_G.shape)\n",
    "print(trainX.shape)\n",
    "print(trainY.shape)\n",
    "print(testX.shape)\n",
    "print(testY.shape)"
   ]
  },
  {
   "cell_type": "markdown",
   "metadata": {},
   "source": [
    "# Model Development (Binary)"
   ]
  },
  {
   "cell_type": "markdown",
   "metadata": {},
   "source": [
    "### LR"
   ]
  },
  {
   "cell_type": "code",
   "execution_count": 79,
   "metadata": {},
   "outputs": [
    {
     "name": "stdout",
     "output_type": "stream",
     "text": [
      "0.7199611111111112\n",
      "              precision    recall  f1-score   support\n",
      "\n",
      "           0       0.73      0.97      0.83    127013\n",
      "           1       0.62      0.13      0.21     52987\n",
      "\n",
      "    accuracy                           0.72    180000\n",
      "   macro avg       0.67      0.55      0.52    180000\n",
      "weighted avg       0.69      0.72      0.65    180000\n",
      "\n"
     ]
    }
   ],
   "source": [
    "#Test Train split\n",
    "lr = LogisticRegression() #for binary\n",
    "lr.fit(trainX, trainY)\n",
    "y_predict = lr.predict(testX)\n",
    "print(accuracy_score(testY, y_predict))\n",
    "print(classification_report(testY, y_predict))"
   ]
  },
  {
   "cell_type": "code",
   "execution_count": 32,
   "metadata": {},
   "outputs": [
    {
     "ename": "NameError",
     "evalue": "name 'XS' is not defined",
     "output_type": "error",
     "traceback": [
      "\u001b[1;31m---------------------------------------------------------------------------\u001b[0m",
      "\u001b[1;31mNameError\u001b[0m                                 Traceback (most recent call last)",
      "\u001b[1;32m<ipython-input-32-2951f8f4e0a6>\u001b[0m in \u001b[0;36m<module>\u001b[1;34m\u001b[0m\n\u001b[0;32m      1\u001b[0m \u001b[1;31m#Kfold Split\u001b[0m\u001b[1;33m\u001b[0m\u001b[1;33m\u001b[0m\u001b[1;33m\u001b[0m\u001b[0m\n\u001b[0;32m      2\u001b[0m \u001b[0mlr\u001b[0m \u001b[1;33m=\u001b[0m \u001b[0mLogisticRegression\u001b[0m\u001b[1;33m(\u001b[0m\u001b[1;33m)\u001b[0m\u001b[1;33m\u001b[0m\u001b[1;33m\u001b[0m\u001b[0m\n\u001b[1;32m----> 3\u001b[1;33m \u001b[0mcv_results\u001b[0m \u001b[1;33m=\u001b[0m \u001b[0mcross_val_score\u001b[0m\u001b[1;33m(\u001b[0m\u001b[0mlr\u001b[0m\u001b[1;33m,\u001b[0m \u001b[0mXS\u001b[0m\u001b[1;33m,\u001b[0m \u001b[0my\u001b[0m\u001b[1;33m,\u001b[0m \u001b[0mcv\u001b[0m\u001b[1;33m=\u001b[0m\u001b[0mkfold\u001b[0m\u001b[1;33m,\u001b[0m \u001b[0mscoring\u001b[0m\u001b[1;33m=\u001b[0m\u001b[1;34m'accuracy'\u001b[0m\u001b[1;33m)\u001b[0m\u001b[1;33m\u001b[0m\u001b[1;33m\u001b[0m\u001b[0m\n\u001b[0m\u001b[0;32m      4\u001b[0m \u001b[0mcv_results_mean\u001b[0m \u001b[1;33m=\u001b[0m \u001b[0mcv_results\u001b[0m\u001b[1;33m.\u001b[0m\u001b[0mmean\u001b[0m\u001b[1;33m(\u001b[0m\u001b[1;33m)\u001b[0m\u001b[1;33m\u001b[0m\u001b[1;33m\u001b[0m\u001b[0m\n\u001b[0;32m      5\u001b[0m \u001b[0mcv_results_std\u001b[0m \u001b[1;33m=\u001b[0m \u001b[0mcv_results\u001b[0m\u001b[1;33m.\u001b[0m\u001b[0mstd\u001b[0m\u001b[1;33m(\u001b[0m\u001b[1;33m)\u001b[0m\u001b[1;33m\u001b[0m\u001b[1;33m\u001b[0m\u001b[0m\n",
      "\u001b[1;31mNameError\u001b[0m: name 'XS' is not defined"
     ]
    }
   ],
   "source": [
    "#Kfold Split\n",
    "lr = LogisticRegression()\n",
    "cv_results = cross_val_score(lr, XS, y, cv=kfold, scoring='accuracy')\n",
    "cv_results_mean = cv_results.mean()\n",
    "cv_results_std = cv_results.std()\n",
    "cv_results_name = 'LR'\n",
    "print('%s: %f (%f)' % (cv_results_name, cv_results_mean, cv_results_std))"
   ]
  },
  {
   "cell_type": "code",
   "execution_count": 80,
   "metadata": {},
   "outputs": [
    {
     "name": "stdout",
     "output_type": "stream",
     "text": [
      "Best Results with Grid Search:\n",
      "0.7213714285714286\n",
      "{'C': 0.1, 'solver': 'newton-cg'}\n",
      "\n",
      "Accuracy Score  on test data: 0.7199833333333333\n",
      "[[122867   4146]\n",
      " [ 46257   6730]]\n",
      "              precision    recall  f1-score   support\n",
      "\n",
      "           0       0.73      0.97      0.83    127013\n",
      "           1       0.62      0.13      0.21     52987\n",
      "\n",
      "    accuracy                           0.72    180000\n",
      "   macro avg       0.67      0.55      0.52    180000\n",
      "weighted avg       0.69      0.72      0.65    180000\n",
      "\n"
     ]
    }
   ],
   "source": [
    "#Grid Search CV\n",
    "model = LogisticRegression() \n",
    "\n",
    "parameters = [{'solver': ['newton-cg', 'lbfgs', 'liblinear'], 'C': [100, 10, 1.0, 0.1, 0.01]}]\n",
    "\n",
    "grid_search = GridSearchCV(estimator = model,\n",
    "                           param_grid = parameters,\n",
    "                           scoring = 'accuracy',\n",
    "                           cv = 4, n_jobs = -1)\n",
    "\n",
    "grid_search = grid_search.fit(trainX, trainY)\n",
    "\n",
    "print('Best Results with Grid Search:')\n",
    "print(grid_search.best_score_)\n",
    "print(grid_search.best_params_)\n",
    "\n",
    "y_pred = grid_search.predict(testX)\n",
    "\n",
    "print('\\nAccuracy Score  on test data: ' + str(accuracy_score(testY, y_pred)))\n",
    "print(confusion_matrix(testY,y_pred))\n",
    "print(classification_report(testY,y_pred))"
   ]
  },
  {
   "cell_type": "markdown",
   "metadata": {},
   "source": [
    "### LDA"
   ]
  },
  {
   "cell_type": "code",
   "execution_count": 81,
   "metadata": {},
   "outputs": [
    {
     "name": "stdout",
     "output_type": "stream",
     "text": [
      "0.7182111111111111\n",
      "              precision    recall  f1-score   support\n",
      "\n",
      "           0       0.73      0.97      0.83    127013\n",
      "           1       0.60      0.12      0.21     52987\n",
      "\n",
      "    accuracy                           0.72    180000\n",
      "   macro avg       0.66      0.55      0.52    180000\n",
      "weighted avg       0.69      0.72      0.65    180000\n",
      "\n"
     ]
    }
   ],
   "source": [
    "#Test Train split\n",
    "lda = LinearDiscriminantAnalysis()\n",
    "lda.fit(trainX, trainY)\n",
    "y_predict = lda.predict(testX)\n",
    "print(accuracy_score(testY, y_predict))\n",
    "print(classification_report(testY, y_predict))"
   ]
  },
  {
   "cell_type": "code",
   "execution_count": 32,
   "metadata": {},
   "outputs": [
    {
     "name": "stdout",
     "output_type": "stream",
     "text": [
      "LDA: 0.521299 (0.106883)\n"
     ]
    }
   ],
   "source": [
    "#Kfold Split\n",
    "lda = LinearDiscriminantAnalysis()\n",
    "cv_results = cross_val_score(lda, XS, y, cv=kfold, scoring='accuracy')\n",
    "cv_results_mean = cv_results.mean()\n",
    "cv_results_std = cv_results.std()\n",
    "cv_results_name = 'LDA'\n",
    "print('%s: %f (%f)' % (cv_results_name, cv_results_mean, cv_results_std))"
   ]
  },
  {
   "cell_type": "code",
   "execution_count": 35,
   "metadata": {},
   "outputs": [
    {
     "name": "stderr",
     "output_type": "stream",
     "text": [
      "C:\\ProgramData\\Anaconda3\\lib\\site-packages\\sklearn\\model_selection\\_search.py:918: UserWarning: One or more of the test scores are non-finite: [0.56960459 0.56960459        nan]\n",
      "  warnings.warn(\n"
     ]
    },
    {
     "name": "stdout",
     "output_type": "stream",
     "text": [
      "Best Results with Grid Search:\n",
      "0.5696045918367346\n",
      "{'solver': 'svd'}\n",
      "\n",
      "Accuracy Score  on test data: 0.5709285714285715\n",
      "[[36841 12198]\n",
      " [29851 19110]]\n",
      "              precision    recall  f1-score   support\n",
      "\n",
      "           0       0.55      0.75      0.64     49039\n",
      "           1       0.61      0.39      0.48     48961\n",
      "\n",
      "    accuracy                           0.57     98000\n",
      "   macro avg       0.58      0.57      0.56     98000\n",
      "weighted avg       0.58      0.57      0.56     98000\n",
      "\n"
     ]
    }
   ],
   "source": [
    "#Grid search CV\n",
    "model = LinearDiscriminantAnalysis() \n",
    "\n",
    "parameters = [{'solver': ['svd', 'lsqr', 'eigen']}]\n",
    "\n",
    "grid_search = GridSearchCV(estimator = model,\n",
    "                           param_grid = parameters,\n",
    "                           scoring = 'accuracy',\n",
    "                           cv = 4, n_jobs = -1)\n",
    "\n",
    "grid_search = grid_search.fit(trainX, trainY)\n",
    "\n",
    "print('Best Results with Grid Search:')\n",
    "print(grid_search.best_score_)\n",
    "print(grid_search.best_params_)\n",
    "\n",
    "y_pred = grid_search.predict(testX)\n",
    "\n",
    "print('\\nAccuracy Score  on test data: ' + str(accuracy_score(testY, y_pred)))\n",
    "print(confusion_matrix(testY,y_pred))\n",
    "print(classification_report(testY,y_pred))"
   ]
  },
  {
   "cell_type": "markdown",
   "metadata": {},
   "source": [
    "### KNN"
   ]
  },
  {
   "cell_type": "code",
   "execution_count": null,
   "metadata": {},
   "outputs": [],
   "source": [
    "#Test Train split\n",
    "#default parameters used in base paper (n_neighbors, default=5) (p, default=2 for Euclidean Distance)\n",
    "knn = KNeighborsClassifier()\n",
    "knn.fit(trainX, trainY)\n",
    "y_predict = knn.predict(testX)\n",
    "print(accuracy_score(testY, y_predict))\n",
    "print(classification_report(testY, y_predict))"
   ]
  },
  {
   "cell_type": "code",
   "execution_count": null,
   "metadata": {},
   "outputs": [],
   "source": [
    "#Kfold Split\n",
    "knn = KNeighborsClassifier()\n",
    "cv_results = cross_val_score(knn, XS, y, cv=kfold, scoring='accuracy')\n",
    "cv_results_mean = cv_results.mean()\n",
    "cv_results_std = cv_results.std()\n",
    "cv_results_name = 'KNN'\n",
    "print('%s: %f (%f)' % (cv_results_name, cv_results_mean, cv_results_std))"
   ]
  },
  {
   "cell_type": "code",
   "execution_count": null,
   "metadata": {},
   "outputs": [],
   "source": [
    "#Grid search CV\n",
    "model = KNeighborsClassifier()\n",
    "\n",
    "parameters = [{'n_neighbors': [range(1, 21, 2)], 'weights': ['uniform', 'distance'], 'metric': ['euclidean', 'manhattan']}]\n",
    "\n",
    "grid_search = GridSearchCV(estimator = model,\n",
    "                           param_grid = parameters,\n",
    "                           scoring = 'accuracy',\n",
    "                           cv = 4, n_jobs = -1)\n",
    "\n",
    "grid_search = grid_search.fit(trainX, trainY)\n",
    "\n",
    "print('Best Results with Grid Search:')\n",
    "print(grid_search.best_score_)\n",
    "print(grid_search.best_params_)\n",
    "\n",
    "y_pred = grid_search.predict(testX)\n",
    "\n",
    "print('\\nAccuracy Score  on test data: ' + str(accuracy_score(testY, y_pred)))\n",
    "print(confusion_matrix(testY,y_pred))\n",
    "print(classification_report(testY,y_pred))"
   ]
  },
  {
   "cell_type": "markdown",
   "metadata": {},
   "source": [
    "### RF"
   ]
  },
  {
   "cell_type": "code",
   "execution_count": 34,
   "metadata": {},
   "outputs": [
    {
     "name": "stdout",
     "output_type": "stream",
     "text": [
      "0.7476814918228959\n",
      "              precision    recall  f1-score   support\n",
      "\n",
      "           0       0.72      0.96      0.82     48919\n",
      "           1       0.86      0.42      0.57     31305\n",
      "\n",
      "    accuracy                           0.75     80224\n",
      "   macro avg       0.79      0.69      0.69     80224\n",
      "weighted avg       0.77      0.75      0.72     80224\n",
      "\n"
     ]
    }
   ],
   "source": [
    "#Test Train split\n",
    "rf = RandomForestClassifier(n_estimators=10,criterion='gini')\n",
    "rf.fit(trainX, trainY)\n",
    "y_predict1 = rf.predict(testX)\n",
    "print(accuracy_score(testY, y_predict1))\n",
    "print(classification_report(testY, y_predict1))"
   ]
  },
  {
   "cell_type": "code",
   "execution_count": 36,
   "metadata": {},
   "outputs": [
    {
     "name": "stdout",
     "output_type": "stream",
     "text": [
      "RF: 0.587374 (0.008999)\n"
     ]
    }
   ],
   "source": [
    "#Kfold Split\n",
    "rf = RandomForestClassifier(n_estimators=10,criterion='gini')\n",
    "cv_results = cross_val_score(rf, XS, y, cv=kfold, scoring='accuracy')\n",
    "cv_results_mean = cv_results.mean()\n",
    "cv_results_std = cv_results.std()\n",
    "cv_results_name = 'RF'\n",
    "print('%s: %f (%f)' % (cv_results_name, cv_results_mean, cv_results_std))"
   ]
  },
  {
   "cell_type": "code",
   "execution_count": 37,
   "metadata": {},
   "outputs": [
    {
     "name": "stdout",
     "output_type": "stream",
     "text": [
      "Best Results with Grid Search:\n",
      "0.7439598602911014\n",
      "{'criterion': 'entropy', 'min_samples_leaf': 2, 'min_samples_split': 2, 'n_estimators': 100}\n",
      "\n",
      "Accuracy Score  on test data: 0.748741025129637\n",
      "[[46912  2007]\n",
      " [18150 13155]]\n",
      "              precision    recall  f1-score   support\n",
      "\n",
      "           0       0.72      0.96      0.82     48919\n",
      "           1       0.87      0.42      0.57     31305\n",
      "\n",
      "    accuracy                           0.75     80224\n",
      "   macro avg       0.79      0.69      0.69     80224\n",
      "weighted avg       0.78      0.75      0.72     80224\n",
      "\n"
     ]
    }
   ],
   "source": [
    "#Grid Search CV\n",
    "model = RandomForestClassifier()\n",
    "\n",
    "parameters = [{'n_estimators': [10, 20, 50, 100], 'min_samples_split':[2, 5, 10],\n",
    "              'min_samples_leaf':[1, 2, 4], 'criterion': ['gini','entropy']}]\n",
    "\n",
    "\n",
    "grid_search = GridSearchCV(estimator = model,\n",
    "                           param_grid = parameters,\n",
    "                           scoring = 'accuracy',\n",
    "                           cv = 4, n_jobs = -1)\n",
    "\n",
    "grid_search = grid_search.fit(trainX, trainY)\n",
    "\n",
    "print('Best Results with Grid Search:')\n",
    "print(grid_search.best_score_)\n",
    "print(grid_search.best_params_)\n",
    "\n",
    "y_pred = grid_search.predict(testX)\n",
    "\n",
    "print('\\nAccuracy Score  on test data: ' + str(accuracy_score(testY, y_pred)))\n",
    "print(confusion_matrix(testY,y_pred))\n",
    "print(classification_report(testY,y_pred))"
   ]
  },
  {
   "cell_type": "markdown",
   "metadata": {},
   "source": [
    "### DT (CART)"
   ]
  },
  {
   "cell_type": "code",
   "execution_count": 30,
   "metadata": {},
   "outputs": [
    {
     "name": "stdout",
     "output_type": "stream",
     "text": [
      "0.7431068009573195\n",
      "              precision    recall  f1-score   support\n",
      "\n",
      "           0       0.72      0.94      0.82     48919\n",
      "           1       0.83      0.43      0.57     31305\n",
      "\n",
      "    accuracy                           0.74     80224\n",
      "   macro avg       0.78      0.69      0.69     80224\n",
      "weighted avg       0.76      0.74      0.72     80224\n",
      "\n"
     ]
    }
   ],
   "source": [
    "#Test Train Split\n",
    "dt = DecisionTreeClassifier(criterion='gini')\n",
    "dt.fit(trainX, trainY)\n",
    "y_predict1 = dt.predict(testX)\n",
    "print(accuracy_score(testY, y_predict1))\n",
    "print(classification_report(testY, y_predict1))"
   ]
  },
  {
   "cell_type": "code",
   "execution_count": null,
   "metadata": {},
   "outputs": [],
   "source": [
    "#Kfold Split\n",
    "dt = DecisionTreeClassifier(criterion='gini')\n",
    "cv_results = cross_val_score(dt, XS, y, cv=kfold, scoring='accuracy')\n",
    "cv_results_mean = cv_results.mean()\n",
    "cv_results_std = cv_results.std()\n",
    "cv_results_name = 'DT-(CART)'\n",
    "print('%s: %f (%f)' % (cv_results_name, cv_results_mean, cv_results_std))"
   ]
  },
  {
   "cell_type": "code",
   "execution_count": null,
   "metadata": {},
   "outputs": [],
   "source": [
    "model = DecisionTreeClassifier() \n",
    "\n",
    "parameters = [{'min_samples_split': [2,5,10], 'min_samples_leaf': [1,2,4], 'splitter': ['best','random'],\n",
    "              'criterion': ['gini', 'entropy']}]\n",
    "\n",
    "grid_search = GridSearchCV(estimator = model,\n",
    "                           param_grid = parameters,\n",
    "                           scoring = 'accuracy',\n",
    "                           cv = 4, n_jobs = -1)\n",
    "\n",
    "grid_search = grid_search.fit(trainX, trainY)\n",
    "\n",
    "print('Best Results with Grid Search:')\n",
    "print(grid_search.best_score_)\n",
    "print(grid_search.best_params_)\n",
    "\n",
    "y_pred = grid_search.predict(testX)\n",
    "\n",
    "print('\\nAccuracy Score  on test data: ' + str(accuracy_score(testY, y_pred)))\n",
    "print(confusion_matrix(testY,y_pred))\n",
    "print(classification_report(testY,y_pred))"
   ]
  },
  {
   "cell_type": "markdown",
   "metadata": {},
   "source": [
    "### NB"
   ]
  },
  {
   "cell_type": "code",
   "execution_count": 31,
   "metadata": {},
   "outputs": [
    {
     "name": "stdout",
     "output_type": "stream",
     "text": [
      "0.6518498205025928\n",
      "              precision    recall  f1-score   support\n",
      "\n",
      "           0       0.65      0.93      0.76     48919\n",
      "           1       0.66      0.22      0.33     31305\n",
      "\n",
      "    accuracy                           0.65     80224\n",
      "   macro avg       0.66      0.57      0.55     80224\n",
      "weighted avg       0.65      0.65      0.60     80224\n",
      "\n"
     ]
    }
   ],
   "source": [
    "#Test Train Split\n",
    "nb = GaussianNB()\n",
    "nb.fit(trainX, trainY)\n",
    "y_predict1 = nb.predict(testX)\n",
    "print(accuracy_score(testY, y_predict1))\n",
    "print(classification_report(testY, y_predict1))"
   ]
  },
  {
   "cell_type": "code",
   "execution_count": null,
   "metadata": {},
   "outputs": [],
   "source": [
    "#Kfold Split\n",
    "nb = GaussianNB()\n",
    "cv_results = cross_val_score(nb, XS, y, cv=kfold, scoring='accuracy')\n",
    "cv_results_mean = cv_results.mean()\n",
    "cv_results_std = cv_results.std()\n",
    "cv_results_name = 'NB'\n",
    "print('%s: %f (%f)' % (cv_results_name, cv_results_mean, cv_results_std))"
   ]
  },
  {
   "cell_type": "markdown",
   "metadata": {},
   "source": [
    "### SVM"
   ]
  },
  {
   "cell_type": "code",
   "execution_count": 72,
   "metadata": {},
   "outputs": [
    {
     "name": "stdout",
     "output_type": "stream",
     "text": [
      "0.6289265057838054\n",
      "              precision    recall  f1-score   support\n",
      "\n",
      "           0       0.63      0.98      0.76     48919\n",
      "           1       0.69      0.09      0.16     31305\n",
      "\n",
      "    accuracy                           0.63     80224\n",
      "   macro avg       0.66      0.53      0.46     80224\n",
      "weighted avg       0.65      0.63      0.53     80224\n",
      "\n"
     ]
    }
   ],
   "source": [
    "#Test Train Split\n",
    "svclassifier = SVC(kernel='rbf', gamma='auto')\n",
    "svclassifier.fit(trainX, trainY)\n",
    "y_predict = svclassifier.predict(testX)\n",
    "print(accuracy_score(testY, y_predict))\n",
    "print(classification_report(testY, y_predict))"
   ]
  },
  {
   "cell_type": "code",
   "execution_count": null,
   "metadata": {},
   "outputs": [],
   "source": [
    "#Kfold Split\n",
    "svclassifier = SVC(kernel='rbf', gamma='auto')\n",
    "cv_results = cross_val_score(svclassifier, XS, y, cv=kfold, scoring='accuracy')\n",
    "cv_results_mean = cv_results.mean()\n",
    "cv_results_std = cv_results.std()\n",
    "cv_results_name = 'LDA'\n",
    "print('%s: %f (%f)' % (cv_results_name, cv_results_mean, cv_results_std))"
   ]
  },
  {
   "cell_type": "code",
   "execution_count": null,
   "metadata": {},
   "outputs": [],
   "source": [
    "#Grid Search CV\n",
    "model = SVC() \n",
    "\n",
    "parameters = [{'C': [0.1,1,10], 'gamma':[0.01,0.5,1]}]\n",
    "\n",
    "grid_search = GridSearchCV(estimator = model,\n",
    "                           param_grid = parameters,\n",
    "                           scoring = 'accuracy',\n",
    "                           cv = 4, n_jobs = -1)\n",
    "\n",
    "grid_search = grid_search.fit(trainX, trainY)\n",
    "\n",
    "print('Best Results with Grid Search:')\n",
    "print(grid_search.best_score_)\n",
    "print(grid_search.best_params_)\n",
    "\n",
    "y_pred = grid_search.predict(testX)\n",
    "\n",
    "print('\\nAccuracy Score  on test data: ' + str(accuracy_score(testY, y_pred)))\n",
    "print(confusion_matrix(testY,y_pred))\n",
    "print(classification_report(testY,y_pred))"
   ]
  },
  {
   "cell_type": "markdown",
   "metadata": {},
   "source": [
    "### LSTM"
   ]
  },
  {
   "cell_type": "code",
   "execution_count": 95,
   "metadata": {},
   "outputs": [
    {
     "data": {
      "text/plain": [
       "(401119, 17)"
      ]
     },
     "execution_count": 95,
     "metadata": {},
     "output_type": "execute_result"
    }
   ],
   "source": [
    "XS.shape"
   ]
  },
  {
   "cell_type": "code",
   "execution_count": 96,
   "metadata": {},
   "outputs": [],
   "source": [
    "X1 = XS.reshape((-1, 1, 17))"
   ]
  },
  {
   "cell_type": "code",
   "execution_count": 97,
   "metadata": {},
   "outputs": [
    {
     "data": {
      "text/plain": [
       "(401119, 1, 17)"
      ]
     },
     "execution_count": 97,
     "metadata": {},
     "output_type": "execute_result"
    }
   ],
   "source": [
    "X1.shape"
   ]
  },
  {
   "cell_type": "code",
   "execution_count": 98,
   "metadata": {},
   "outputs": [],
   "source": [
    "(trainX, testX, trainY, testY) = train_test_split(X1, y, test_size = 0.20, random_state = 5)"
   ]
  },
  {
   "cell_type": "code",
   "execution_count": 55,
   "metadata": {
    "scrolled": true
   },
   "outputs": [
    {
     "name": "stdout",
     "output_type": "stream",
     "text": [
      "Epoch 1/35\n",
      "5014/5014 - 17s - loss: 0.6496 - accuracy: 0.6409 - val_loss: 0.6297 - val_accuracy: 0.6593\n",
      "Epoch 2/35\n",
      "5014/5014 - 15s - loss: 0.6313 - accuracy: 0.6537 - val_loss: 0.6259 - val_accuracy: 0.6615\n",
      "Epoch 3/35\n",
      "5014/5014 - 13s - loss: 0.6206 - accuracy: 0.6541 - val_loss: 0.6020 - val_accuracy: 0.6670\n",
      "Epoch 4/35\n",
      "5014/5014 - 13s - loss: 0.6126 - accuracy: 0.6585 - val_loss: 0.5963 - val_accuracy: 0.6700\n",
      "Epoch 5/35\n",
      "5014/5014 - 14s - loss: 0.6070 - accuracy: 0.6631 - val_loss: 0.5936 - val_accuracy: 0.6736\n",
      "Epoch 6/35\n",
      "5014/5014 - 14s - loss: 0.6043 - accuracy: 0.6645 - val_loss: 0.5900 - val_accuracy: 0.6769\n",
      "Epoch 7/35\n",
      "5014/5014 - 14s - loss: 0.6020 - accuracy: 0.6659 - val_loss: 0.5883 - val_accuracy: 0.6787\n",
      "Epoch 8/35\n",
      "5014/5014 - 15s - loss: 0.6008 - accuracy: 0.6673 - val_loss: 0.6005 - val_accuracy: 0.6732\n",
      "Epoch 9/35\n",
      "5014/5014 - 16s - loss: 0.6001 - accuracy: 0.6670 - val_loss: 0.5902 - val_accuracy: 0.6759\n",
      "Epoch 10/35\n",
      "5014/5014 - 15s - loss: 0.5990 - accuracy: 0.6675 - val_loss: 0.6038 - val_accuracy: 0.6748\n",
      "Epoch 11/35\n",
      "5014/5014 - 16s - loss: 0.5978 - accuracy: 0.6682 - val_loss: 0.5877 - val_accuracy: 0.6781\n",
      "Epoch 12/35\n",
      "5014/5014 - 16s - loss: 0.5975 - accuracy: 0.6688 - val_loss: 0.5897 - val_accuracy: 0.6788\n",
      "Epoch 13/35\n",
      "5014/5014 - 16s - loss: 0.5971 - accuracy: 0.6690 - val_loss: 0.5833 - val_accuracy: 0.6774\n",
      "Epoch 14/35\n",
      "5014/5014 - 16s - loss: 0.5961 - accuracy: 0.6692 - val_loss: 0.5920 - val_accuracy: 0.6766\n",
      "Epoch 15/35\n",
      "5014/5014 - 16s - loss: 0.5960 - accuracy: 0.6693 - val_loss: 0.5921 - val_accuracy: 0.6786\n",
      "Epoch 16/35\n",
      "5014/5014 - 14s - loss: 0.5952 - accuracy: 0.6694 - val_loss: 0.5852 - val_accuracy: 0.6754\n",
      "Epoch 17/35\n",
      "5014/5014 - 13s - loss: 0.5951 - accuracy: 0.6695 - val_loss: 0.5905 - val_accuracy: 0.6776\n",
      "Epoch 18/35\n",
      "5014/5014 - 14s - loss: 0.5948 - accuracy: 0.6692 - val_loss: 0.5819 - val_accuracy: 0.6793\n",
      "Epoch 19/35\n",
      "5014/5014 - 13s - loss: 0.5939 - accuracy: 0.6696 - val_loss: 0.5854 - val_accuracy: 0.6791\n",
      "Epoch 20/35\n",
      "5014/5014 - 17s - loss: 0.5940 - accuracy: 0.6705 - val_loss: 0.5835 - val_accuracy: 0.6776\n",
      "Epoch 21/35\n",
      "5014/5014 - 17s - loss: 0.5939 - accuracy: 0.6699 - val_loss: 0.5831 - val_accuracy: 0.6775\n",
      "Epoch 22/35\n",
      "5014/5014 - 17s - loss: 0.5939 - accuracy: 0.6698 - val_loss: 0.5801 - val_accuracy: 0.6781\n",
      "Epoch 23/35\n",
      "5014/5014 - 16s - loss: 0.5934 - accuracy: 0.6700 - val_loss: 0.5822 - val_accuracy: 0.6799\n",
      "Epoch 24/35\n",
      "5014/5014 - 14s - loss: 0.5927 - accuracy: 0.6700 - val_loss: 0.5801 - val_accuracy: 0.6787\n",
      "Epoch 25/35\n",
      "5014/5014 - 14s - loss: 0.5927 - accuracy: 0.6696 - val_loss: 0.5786 - val_accuracy: 0.6802\n",
      "Epoch 26/35\n",
      "5014/5014 - 13s - loss: 0.5924 - accuracy: 0.6702 - val_loss: 0.5792 - val_accuracy: 0.6797\n",
      "Epoch 27/35\n",
      "5014/5014 - 14s - loss: 0.5916 - accuracy: 0.6703 - val_loss: 0.5788 - val_accuracy: 0.6794\n",
      "Epoch 28/35\n",
      "5014/5014 - 14s - loss: 0.5915 - accuracy: 0.6705 - val_loss: 0.5787 - val_accuracy: 0.6801\n",
      "Epoch 29/35\n",
      "5014/5014 - 14s - loss: 0.5913 - accuracy: 0.6700 - val_loss: 0.5780 - val_accuracy: 0.6816\n",
      "Epoch 30/35\n",
      "5014/5014 - 14s - loss: 0.5910 - accuracy: 0.6710 - val_loss: 0.5846 - val_accuracy: 0.6807\n",
      "Epoch 31/35\n",
      "5014/5014 - 14s - loss: 0.5901 - accuracy: 0.6706 - val_loss: 0.5793 - val_accuracy: 0.6800\n",
      "Epoch 32/35\n",
      "5014/5014 - 15s - loss: 0.5899 - accuracy: 0.6705 - val_loss: 0.5766 - val_accuracy: 0.6797\n",
      "Epoch 33/35\n",
      "5014/5014 - 14s - loss: 0.5904 - accuracy: 0.6708 - val_loss: 0.5809 - val_accuracy: 0.6807\n",
      "Epoch 34/35\n",
      "5014/5014 - 14s - loss: 0.5894 - accuracy: 0.6711 - val_loss: 0.5759 - val_accuracy: 0.6811\n",
      "Epoch 35/35\n",
      "5014/5014 - 15s - loss: 0.5899 - accuracy: 0.6706 - val_loss: 0.5779 - val_accuracy: 0.6798\n"
     ]
    },
    {
     "data": {
      "text/plain": [
       "<tensorflow.python.keras.callbacks.History at 0x2169dfb0c40>"
      ]
     },
     "execution_count": 55,
     "metadata": {},
     "output_type": "execute_result"
    }
   ],
   "source": [
    "# 1 LSTM Layer (input), 3 Dense Hidden Layers\n",
    "model = Sequential()\n",
    "model.add(LSTM(17, input_shape=(1, 17), activation='tanh'))\n",
    "model.add(Dropout(0.2))\n",
    "model.add(Dense(128, activation='tanh'))\n",
    "model.add(Dropout(0.2))\n",
    "model.add(Dense(100, activation='tanh'))\n",
    "model.add(Dropout(0.2))\n",
    "model.add(Dense(64, activation='tanh'))\n",
    "model.add(Dropout(0.2))\n",
    "model.add(Dense(1, activation='sigmoid'))\n",
    "model.compile(loss='binary_crossentropy', optimizer='adam', metrics=[\"accuracy\"])\n",
    "model.fit(trainX, trainY, epochs=35, batch_size=64, verbose=2, validation_data=(testX, testY))"
   ]
  },
  {
   "cell_type": "code",
   "execution_count": 56,
   "metadata": {},
   "outputs": [
    {
     "name": "stdout",
     "output_type": "stream",
     "text": [
      "2507/2507 [==============================] - 4s 2ms/step - loss: 0.5779 - accuracy: 0.6798\n",
      "Loss:0.5779118537902832\n",
      "Accuracy:0.679796576499939\n"
     ]
    }
   ],
   "source": [
    "loss, accuracy = model.evaluate(testX, testY)\n",
    "print(\"Loss:\" + str(loss))\n",
    "print(\"Accuracy:\" + str(accuracy))"
   ]
  },
  {
   "cell_type": "code",
   "execution_count": 57,
   "metadata": {
    "scrolled": true
   },
   "outputs": [
    {
     "name": "stdout",
     "output_type": "stream",
     "text": [
      "Model: \"sequential_1\"\n",
      "_________________________________________________________________\n",
      "Layer (type)                 Output Shape              Param #   \n",
      "=================================================================\n",
      "lstm_4 (LSTM)                (None, 17)                2380      \n",
      "_________________________________________________________________\n",
      "dropout_4 (Dropout)          (None, 17)                0         \n",
      "_________________________________________________________________\n",
      "dense_1 (Dense)              (None, 128)               2304      \n",
      "_________________________________________________________________\n",
      "dropout_5 (Dropout)          (None, 128)               0         \n",
      "_________________________________________________________________\n",
      "dense_2 (Dense)              (None, 100)               12900     \n",
      "_________________________________________________________________\n",
      "dropout_6 (Dropout)          (None, 100)               0         \n",
      "_________________________________________________________________\n",
      "dense_3 (Dense)              (None, 64)                6464      \n",
      "_________________________________________________________________\n",
      "dropout_7 (Dropout)          (None, 64)                0         \n",
      "_________________________________________________________________\n",
      "dense_4 (Dense)              (None, 1)                 65        \n",
      "=================================================================\n",
      "Total params: 24,113\n",
      "Trainable params: 24,113\n",
      "Non-trainable params: 0\n",
      "_________________________________________________________________\n"
     ]
    }
   ],
   "source": [
    "model.summary()"
   ]
  },
  {
   "cell_type": "markdown",
   "metadata": {},
   "source": [
    "### CNN (ConvID)"
   ]
  },
  {
   "cell_type": "code",
   "execution_count": null,
   "metadata": {},
   "outputs": [],
   "source": [
    "XS.shape"
   ]
  },
  {
   "cell_type": "code",
   "execution_count": null,
   "metadata": {},
   "outputs": [],
   "source": [
    "X1 = XS.reshape((-1, 1, 17))"
   ]
  },
  {
   "cell_type": "code",
   "execution_count": null,
   "metadata": {},
   "outputs": [],
   "source": [
    "X1.shape"
   ]
  },
  {
   "cell_type": "code",
   "execution_count": 26,
   "metadata": {},
   "outputs": [],
   "source": [
    "(trainX, testX, trainY, testY) = train_test_split(X1, y, test_size = 0.20, random_state = 5)"
   ]
  },
  {
   "cell_type": "code",
   "execution_count": 42,
   "metadata": {
    "scrolled": true
   },
   "outputs": [
    {
     "name": "stdout",
     "output_type": "stream",
     "text": [
      "Epoch 1/35\n",
      "5014/5014 - 46s - loss: 0.6476 - accuracy: 0.6411 - val_loss: 0.6318 - val_accuracy: 0.6493\n",
      "Epoch 2/35\n",
      "5014/5014 - 43s - loss: 0.6285 - accuracy: 0.6508 - val_loss: 0.6192 - val_accuracy: 0.6595\n",
      "Epoch 3/35\n",
      "5014/5014 - 48s - loss: 0.6160 - accuracy: 0.6592 - val_loss: 0.6079 - val_accuracy: 0.6696\n",
      "Epoch 4/35\n",
      "5014/5014 - 52s - loss: 0.6071 - accuracy: 0.6639 - val_loss: 0.5972 - val_accuracy: 0.6707\n",
      "Epoch 5/35\n",
      "5014/5014 - 54s - loss: 0.6027 - accuracy: 0.6657 - val_loss: 0.5887 - val_accuracy: 0.6738\n",
      "Epoch 6/35\n",
      "5014/5014 - 50s - loss: 0.5972 - accuracy: 0.6667 - val_loss: 0.5909 - val_accuracy: 0.6743\n",
      "Epoch 7/35\n",
      "5014/5014 - 47s - loss: 0.5959 - accuracy: 0.6680 - val_loss: 0.5852 - val_accuracy: 0.6742\n",
      "Epoch 8/35\n",
      "5014/5014 - 42s - loss: 0.5933 - accuracy: 0.6698 - val_loss: 0.5824 - val_accuracy: 0.6794\n",
      "Epoch 9/35\n",
      "5014/5014 - 44s - loss: 0.5906 - accuracy: 0.6714 - val_loss: 0.5748 - val_accuracy: 0.6821\n",
      "Epoch 10/35\n",
      "5014/5014 - 33s - loss: 0.5885 - accuracy: 0.6723 - val_loss: 0.5797 - val_accuracy: 0.6815\n",
      "Epoch 11/35\n",
      "5014/5014 - 39s - loss: 0.5876 - accuracy: 0.6728 - val_loss: 0.5766 - val_accuracy: 0.6832\n",
      "Epoch 12/35\n",
      "5014/5014 - 41s - loss: 0.5864 - accuracy: 0.6729 - val_loss: 0.5754 - val_accuracy: 0.6818\n",
      "Epoch 13/35\n",
      "5014/5014 - 43s - loss: 0.5852 - accuracy: 0.6740 - val_loss: 0.5800 - val_accuracy: 0.6827\n",
      "Epoch 14/35\n",
      "5014/5014 - 50s - loss: 0.5842 - accuracy: 0.6742 - val_loss: 0.5711 - val_accuracy: 0.6842\n",
      "Epoch 15/35\n",
      "5014/5014 - 35s - loss: 0.5831 - accuracy: 0.6746 - val_loss: 0.5771 - val_accuracy: 0.6798\n",
      "Epoch 16/35\n",
      "5014/5014 - 33s - loss: 0.5827 - accuracy: 0.6749 - val_loss: 0.5735 - val_accuracy: 0.6838\n",
      "Epoch 17/35\n",
      "5014/5014 - 39s - loss: 0.5818 - accuracy: 0.6754 - val_loss: 0.5674 - val_accuracy: 0.6873\n",
      "Epoch 18/35\n",
      "5014/5014 - 54s - loss: 0.5817 - accuracy: 0.6756 - val_loss: 0.5718 - val_accuracy: 0.6855\n",
      "Epoch 19/35\n",
      "5014/5014 - 57s - loss: 0.5818 - accuracy: 0.6756 - val_loss: 0.5678 - val_accuracy: 0.6867\n",
      "Epoch 20/35\n",
      "5014/5014 - 42s - loss: 0.5806 - accuracy: 0.6766 - val_loss: 0.5669 - val_accuracy: 0.6874\n",
      "Epoch 21/35\n",
      "5014/5014 - 40s - loss: 0.5801 - accuracy: 0.6766 - val_loss: 0.5664 - val_accuracy: 0.6868\n",
      "Epoch 22/35\n",
      "5014/5014 - 29s - loss: 0.5795 - accuracy: 0.6772 - val_loss: 0.5692 - val_accuracy: 0.6867\n",
      "Epoch 23/35\n",
      "5014/5014 - 29s - loss: 0.5793 - accuracy: 0.6770 - val_loss: 0.5719 - val_accuracy: 0.6866\n",
      "Epoch 24/35\n",
      "5014/5014 - 29s - loss: 0.5795 - accuracy: 0.6779 - val_loss: 0.5658 - val_accuracy: 0.6881\n",
      "Epoch 25/35\n",
      "5014/5014 - 29s - loss: 0.5790 - accuracy: 0.6769 - val_loss: 0.5657 - val_accuracy: 0.6880\n",
      "Epoch 26/35\n",
      "5014/5014 - 29s - loss: 0.5792 - accuracy: 0.6769 - val_loss: 0.5639 - val_accuracy: 0.6883\n",
      "Epoch 27/35\n",
      "5014/5014 - 29s - loss: 0.5787 - accuracy: 0.6769 - val_loss: 0.5671 - val_accuracy: 0.6859\n",
      "Epoch 28/35\n",
      "5014/5014 - 29s - loss: 0.5777 - accuracy: 0.6776 - val_loss: 0.5624 - val_accuracy: 0.6889\n",
      "Epoch 29/35\n",
      "5014/5014 - 28s - loss: 0.5777 - accuracy: 0.6778 - val_loss: 0.5655 - val_accuracy: 0.6888\n",
      "Epoch 30/35\n",
      "5014/5014 - 28s - loss: 0.5768 - accuracy: 0.6776 - val_loss: 0.5623 - val_accuracy: 0.6887\n",
      "Epoch 31/35\n",
      "5014/5014 - 29s - loss: 0.5769 - accuracy: 0.6774 - val_loss: 0.5646 - val_accuracy: 0.6873\n",
      "Epoch 32/35\n",
      "5014/5014 - 29s - loss: 0.5770 - accuracy: 0.6775 - val_loss: 0.5642 - val_accuracy: 0.6889\n",
      "Epoch 33/35\n",
      "5014/5014 - 11286s - loss: 0.5759 - accuracy: 0.6780 - val_loss: 0.5605 - val_accuracy: 0.6888\n",
      "Epoch 34/35\n",
      "5014/5014 - 51615s - loss: 0.5764 - accuracy: 0.6774 - val_loss: 0.5635 - val_accuracy: 0.6891\n",
      "Epoch 35/35\n",
      "5014/5014 - 20s - loss: 0.5763 - accuracy: 0.6772 - val_loss: 0.5668 - val_accuracy: 0.6864\n"
     ]
    },
    {
     "data": {
      "text/plain": [
       "<tensorflow.python.keras.callbacks.History at 0x24689040340>"
      ]
     },
     "execution_count": 42,
     "metadata": {},
     "output_type": "execute_result"
    }
   ],
   "source": [
    "nb_filter = 250\n",
    "filter_length = 3\n",
    "\n",
    "model = Sequential()\n",
    "model.add(Conv1D(filters=nb_filter, kernel_size=filter_length, padding='same', activation='tanh'))\n",
    "model.add(Dropout(0.2))\n",
    "model.add(Dense(128, activation='tanh'))\n",
    "model.add(Dropout(0.2))\n",
    "model.add(Dense(100, activation='tanh'))\n",
    "model.add(Dropout(0.2))\n",
    "model.add(Dense(64, activation='tanh'))\n",
    "model.add(Dropout(0.2))\n",
    "model.add(Dense(1, activation='sigmoid'))\n",
    "model.compile(loss='binary_crossentropy', optimizer='adam', metrics=[\"accuracy\"])\n",
    "model.fit(trainX, trainY, epochs=35, batch_size=64, verbose=2, validation_data=(testX, testY))"
   ]
  },
  {
   "cell_type": "code",
   "execution_count": null,
   "metadata": {},
   "outputs": [],
   "source": [
    "loss, accuracy = model.evaluate(testX, testY)\n",
    "print(\"Loss:\" + str(loss))\n",
    "print(\"Accuracy:\" + str(accuracy))"
   ]
  },
  {
   "cell_type": "markdown",
   "metadata": {},
   "source": [
    "### Conv-LSTM"
   ]
  },
  {
   "cell_type": "code",
   "execution_count": 104,
   "metadata": {},
   "outputs": [
    {
     "data": {
      "text/plain": [
       "(401119, 17)"
      ]
     },
     "execution_count": 104,
     "metadata": {},
     "output_type": "execute_result"
    }
   ],
   "source": [
    "XS.shape"
   ]
  },
  {
   "cell_type": "code",
   "execution_count": 105,
   "metadata": {},
   "outputs": [],
   "source": [
    "X1 = XS.reshape((-1, 1, 17))"
   ]
  },
  {
   "cell_type": "code",
   "execution_count": 106,
   "metadata": {},
   "outputs": [
    {
     "data": {
      "text/plain": [
       "(401119, 1, 17)"
      ]
     },
     "execution_count": 106,
     "metadata": {},
     "output_type": "execute_result"
    }
   ],
   "source": [
    "X1.shape"
   ]
  },
  {
   "cell_type": "code",
   "execution_count": 107,
   "metadata": {},
   "outputs": [],
   "source": [
    "(trainX, testX, trainY, testY) = train_test_split(X1, y, test_size = 0.20, random_state = 5)"
   ]
  },
  {
   "cell_type": "code",
   "execution_count": 108,
   "metadata": {
    "scrolled": true
   },
   "outputs": [
    {
     "name": "stdout",
     "output_type": "stream",
     "text": [
      "Epoch 1/35\n",
      "5014/5014 - 30s - loss: 0.6456 - accuracy: 0.6420 - val_loss: 0.6261 - val_accuracy: 0.6506\n",
      "Epoch 2/35\n"
     ]
    },
    {
     "ename": "KeyboardInterrupt",
     "evalue": "",
     "output_type": "error",
     "traceback": [
      "\u001b[1;31m---------------------------------------------------------------------------\u001b[0m",
      "\u001b[1;31mKeyboardInterrupt\u001b[0m                         Traceback (most recent call last)",
      "\u001b[1;32m<ipython-input-108-d0a6813e3fce>\u001b[0m in \u001b[0;36m<module>\u001b[1;34m\u001b[0m\n\u001b[0;32m     17\u001b[0m \u001b[0mmodel\u001b[0m\u001b[1;33m.\u001b[0m\u001b[0madd\u001b[0m\u001b[1;33m(\u001b[0m\u001b[0mDense\u001b[0m\u001b[1;33m(\u001b[0m\u001b[1;36m1\u001b[0m\u001b[1;33m,\u001b[0m \u001b[0mactivation\u001b[0m\u001b[1;33m=\u001b[0m\u001b[1;34m'sigmoid'\u001b[0m\u001b[1;33m)\u001b[0m\u001b[1;33m)\u001b[0m\u001b[1;33m\u001b[0m\u001b[1;33m\u001b[0m\u001b[0m\n\u001b[0;32m     18\u001b[0m \u001b[0mmodel\u001b[0m\u001b[1;33m.\u001b[0m\u001b[0mcompile\u001b[0m\u001b[1;33m(\u001b[0m\u001b[0mloss\u001b[0m\u001b[1;33m=\u001b[0m\u001b[1;34m'binary_crossentropy'\u001b[0m\u001b[1;33m,\u001b[0m \u001b[0moptimizer\u001b[0m\u001b[1;33m=\u001b[0m\u001b[1;34m'adam'\u001b[0m\u001b[1;33m,\u001b[0m \u001b[0mmetrics\u001b[0m\u001b[1;33m=\u001b[0m\u001b[1;33m[\u001b[0m\u001b[1;34m\"accuracy\"\u001b[0m\u001b[1;33m]\u001b[0m\u001b[1;33m)\u001b[0m\u001b[1;33m\u001b[0m\u001b[1;33m\u001b[0m\u001b[0m\n\u001b[1;32m---> 19\u001b[1;33m \u001b[0mmodel\u001b[0m\u001b[1;33m.\u001b[0m\u001b[0mfit\u001b[0m\u001b[1;33m(\u001b[0m\u001b[0mtrainX\u001b[0m\u001b[1;33m,\u001b[0m \u001b[0mtrainY\u001b[0m\u001b[1;33m,\u001b[0m \u001b[0mepochs\u001b[0m\u001b[1;33m=\u001b[0m\u001b[1;36m35\u001b[0m\u001b[1;33m,\u001b[0m \u001b[0mbatch_size\u001b[0m\u001b[1;33m=\u001b[0m\u001b[1;36m64\u001b[0m\u001b[1;33m,\u001b[0m \u001b[0mverbose\u001b[0m\u001b[1;33m=\u001b[0m\u001b[1;36m2\u001b[0m\u001b[1;33m,\u001b[0m \u001b[0mvalidation_data\u001b[0m\u001b[1;33m=\u001b[0m\u001b[1;33m(\u001b[0m\u001b[0mtestX\u001b[0m\u001b[1;33m,\u001b[0m \u001b[0mtestY\u001b[0m\u001b[1;33m)\u001b[0m\u001b[1;33m)\u001b[0m\u001b[1;33m\u001b[0m\u001b[1;33m\u001b[0m\u001b[0m\n\u001b[0m",
      "\u001b[1;32mC:\\ProgramData\\Anaconda3\\lib\\site-packages\\tensorflow\\python\\keras\\engine\\training.py\u001b[0m in \u001b[0;36mfit\u001b[1;34m(self, x, y, batch_size, epochs, verbose, callbacks, validation_split, validation_data, shuffle, class_weight, sample_weight, initial_epoch, steps_per_epoch, validation_steps, validation_batch_size, validation_freq, max_queue_size, workers, use_multiprocessing)\u001b[0m\n\u001b[0;32m   1098\u001b[0m                 _r=1):\n\u001b[0;32m   1099\u001b[0m               \u001b[0mcallbacks\u001b[0m\u001b[1;33m.\u001b[0m\u001b[0mon_train_batch_begin\u001b[0m\u001b[1;33m(\u001b[0m\u001b[0mstep\u001b[0m\u001b[1;33m)\u001b[0m\u001b[1;33m\u001b[0m\u001b[1;33m\u001b[0m\u001b[0m\n\u001b[1;32m-> 1100\u001b[1;33m               \u001b[0mtmp_logs\u001b[0m \u001b[1;33m=\u001b[0m \u001b[0mself\u001b[0m\u001b[1;33m.\u001b[0m\u001b[0mtrain_function\u001b[0m\u001b[1;33m(\u001b[0m\u001b[0miterator\u001b[0m\u001b[1;33m)\u001b[0m\u001b[1;33m\u001b[0m\u001b[1;33m\u001b[0m\u001b[0m\n\u001b[0m\u001b[0;32m   1101\u001b[0m               \u001b[1;32mif\u001b[0m \u001b[0mdata_handler\u001b[0m\u001b[1;33m.\u001b[0m\u001b[0mshould_sync\u001b[0m\u001b[1;33m:\u001b[0m\u001b[1;33m\u001b[0m\u001b[1;33m\u001b[0m\u001b[0m\n\u001b[0;32m   1102\u001b[0m                 \u001b[0mcontext\u001b[0m\u001b[1;33m.\u001b[0m\u001b[0masync_wait\u001b[0m\u001b[1;33m(\u001b[0m\u001b[1;33m)\u001b[0m\u001b[1;33m\u001b[0m\u001b[1;33m\u001b[0m\u001b[0m\n",
      "\u001b[1;32mC:\\ProgramData\\Anaconda3\\lib\\site-packages\\tensorflow\\python\\eager\\def_function.py\u001b[0m in \u001b[0;36m__call__\u001b[1;34m(self, *args, **kwds)\u001b[0m\n\u001b[0;32m    826\u001b[0m     \u001b[0mtracing_count\u001b[0m \u001b[1;33m=\u001b[0m \u001b[0mself\u001b[0m\u001b[1;33m.\u001b[0m\u001b[0mexperimental_get_tracing_count\u001b[0m\u001b[1;33m(\u001b[0m\u001b[1;33m)\u001b[0m\u001b[1;33m\u001b[0m\u001b[1;33m\u001b[0m\u001b[0m\n\u001b[0;32m    827\u001b[0m     \u001b[1;32mwith\u001b[0m \u001b[0mtrace\u001b[0m\u001b[1;33m.\u001b[0m\u001b[0mTrace\u001b[0m\u001b[1;33m(\u001b[0m\u001b[0mself\u001b[0m\u001b[1;33m.\u001b[0m\u001b[0m_name\u001b[0m\u001b[1;33m)\u001b[0m \u001b[1;32mas\u001b[0m \u001b[0mtm\u001b[0m\u001b[1;33m:\u001b[0m\u001b[1;33m\u001b[0m\u001b[1;33m\u001b[0m\u001b[0m\n\u001b[1;32m--> 828\u001b[1;33m       \u001b[0mresult\u001b[0m \u001b[1;33m=\u001b[0m \u001b[0mself\u001b[0m\u001b[1;33m.\u001b[0m\u001b[0m_call\u001b[0m\u001b[1;33m(\u001b[0m\u001b[1;33m*\u001b[0m\u001b[0margs\u001b[0m\u001b[1;33m,\u001b[0m \u001b[1;33m**\u001b[0m\u001b[0mkwds\u001b[0m\u001b[1;33m)\u001b[0m\u001b[1;33m\u001b[0m\u001b[1;33m\u001b[0m\u001b[0m\n\u001b[0m\u001b[0;32m    829\u001b[0m       \u001b[0mcompiler\u001b[0m \u001b[1;33m=\u001b[0m \u001b[1;34m\"xla\"\u001b[0m \u001b[1;32mif\u001b[0m \u001b[0mself\u001b[0m\u001b[1;33m.\u001b[0m\u001b[0m_experimental_compile\u001b[0m \u001b[1;32melse\u001b[0m \u001b[1;34m\"nonXla\"\u001b[0m\u001b[1;33m\u001b[0m\u001b[1;33m\u001b[0m\u001b[0m\n\u001b[0;32m    830\u001b[0m       \u001b[0mnew_tracing_count\u001b[0m \u001b[1;33m=\u001b[0m \u001b[0mself\u001b[0m\u001b[1;33m.\u001b[0m\u001b[0mexperimental_get_tracing_count\u001b[0m\u001b[1;33m(\u001b[0m\u001b[1;33m)\u001b[0m\u001b[1;33m\u001b[0m\u001b[1;33m\u001b[0m\u001b[0m\n",
      "\u001b[1;32mC:\\ProgramData\\Anaconda3\\lib\\site-packages\\tensorflow\\python\\eager\\def_function.py\u001b[0m in \u001b[0;36m_call\u001b[1;34m(self, *args, **kwds)\u001b[0m\n\u001b[0;32m    853\u001b[0m       \u001b[1;31m# In this case we have created variables on the first call, so we run the\u001b[0m\u001b[1;33m\u001b[0m\u001b[1;33m\u001b[0m\u001b[1;33m\u001b[0m\u001b[0m\n\u001b[0;32m    854\u001b[0m       \u001b[1;31m# defunned version which is guaranteed to never create variables.\u001b[0m\u001b[1;33m\u001b[0m\u001b[1;33m\u001b[0m\u001b[1;33m\u001b[0m\u001b[0m\n\u001b[1;32m--> 855\u001b[1;33m       \u001b[1;32mreturn\u001b[0m \u001b[0mself\u001b[0m\u001b[1;33m.\u001b[0m\u001b[0m_stateless_fn\u001b[0m\u001b[1;33m(\u001b[0m\u001b[1;33m*\u001b[0m\u001b[0margs\u001b[0m\u001b[1;33m,\u001b[0m \u001b[1;33m**\u001b[0m\u001b[0mkwds\u001b[0m\u001b[1;33m)\u001b[0m  \u001b[1;31m# pylint: disable=not-callable\u001b[0m\u001b[1;33m\u001b[0m\u001b[1;33m\u001b[0m\u001b[0m\n\u001b[0m\u001b[0;32m    856\u001b[0m     \u001b[1;32melif\u001b[0m \u001b[0mself\u001b[0m\u001b[1;33m.\u001b[0m\u001b[0m_stateful_fn\u001b[0m \u001b[1;32mis\u001b[0m \u001b[1;32mnot\u001b[0m \u001b[1;32mNone\u001b[0m\u001b[1;33m:\u001b[0m\u001b[1;33m\u001b[0m\u001b[1;33m\u001b[0m\u001b[0m\n\u001b[0;32m    857\u001b[0m       \u001b[1;31m# Release the lock early so that multiple threads can perform the call\u001b[0m\u001b[1;33m\u001b[0m\u001b[1;33m\u001b[0m\u001b[1;33m\u001b[0m\u001b[0m\n",
      "\u001b[1;32mC:\\ProgramData\\Anaconda3\\lib\\site-packages\\tensorflow\\python\\eager\\function.py\u001b[0m in \u001b[0;36m__call__\u001b[1;34m(self, *args, **kwargs)\u001b[0m\n\u001b[0;32m   2940\u001b[0m       (graph_function,\n\u001b[0;32m   2941\u001b[0m        filtered_flat_args) = self._maybe_define_function(args, kwargs)\n\u001b[1;32m-> 2942\u001b[1;33m     return graph_function._call_flat(\n\u001b[0m\u001b[0;32m   2943\u001b[0m         filtered_flat_args, captured_inputs=graph_function.captured_inputs)  # pylint: disable=protected-access\n\u001b[0;32m   2944\u001b[0m \u001b[1;33m\u001b[0m\u001b[0m\n",
      "\u001b[1;32mC:\\ProgramData\\Anaconda3\\lib\\site-packages\\tensorflow\\python\\eager\\function.py\u001b[0m in \u001b[0;36m_call_flat\u001b[1;34m(self, args, captured_inputs, cancellation_manager)\u001b[0m\n\u001b[0;32m   1916\u001b[0m         and executing_eagerly):\n\u001b[0;32m   1917\u001b[0m       \u001b[1;31m# No tape is watching; skip to running the function.\u001b[0m\u001b[1;33m\u001b[0m\u001b[1;33m\u001b[0m\u001b[1;33m\u001b[0m\u001b[0m\n\u001b[1;32m-> 1918\u001b[1;33m       return self._build_call_outputs(self._inference_function.call(\n\u001b[0m\u001b[0;32m   1919\u001b[0m           ctx, args, cancellation_manager=cancellation_manager))\n\u001b[0;32m   1920\u001b[0m     forward_backward = self._select_forward_and_backward_functions(\n",
      "\u001b[1;32mC:\\ProgramData\\Anaconda3\\lib\\site-packages\\tensorflow\\python\\eager\\function.py\u001b[0m in \u001b[0;36mcall\u001b[1;34m(self, ctx, args, cancellation_manager)\u001b[0m\n\u001b[0;32m    553\u001b[0m       \u001b[1;32mwith\u001b[0m \u001b[0m_InterpolateFunctionError\u001b[0m\u001b[1;33m(\u001b[0m\u001b[0mself\u001b[0m\u001b[1;33m)\u001b[0m\u001b[1;33m:\u001b[0m\u001b[1;33m\u001b[0m\u001b[1;33m\u001b[0m\u001b[0m\n\u001b[0;32m    554\u001b[0m         \u001b[1;32mif\u001b[0m \u001b[0mcancellation_manager\u001b[0m \u001b[1;32mis\u001b[0m \u001b[1;32mNone\u001b[0m\u001b[1;33m:\u001b[0m\u001b[1;33m\u001b[0m\u001b[1;33m\u001b[0m\u001b[0m\n\u001b[1;32m--> 555\u001b[1;33m           outputs = execute.execute(\n\u001b[0m\u001b[0;32m    556\u001b[0m               \u001b[0mstr\u001b[0m\u001b[1;33m(\u001b[0m\u001b[0mself\u001b[0m\u001b[1;33m.\u001b[0m\u001b[0msignature\u001b[0m\u001b[1;33m.\u001b[0m\u001b[0mname\u001b[0m\u001b[1;33m)\u001b[0m\u001b[1;33m,\u001b[0m\u001b[1;33m\u001b[0m\u001b[1;33m\u001b[0m\u001b[0m\n\u001b[0;32m    557\u001b[0m               \u001b[0mnum_outputs\u001b[0m\u001b[1;33m=\u001b[0m\u001b[0mself\u001b[0m\u001b[1;33m.\u001b[0m\u001b[0m_num_outputs\u001b[0m\u001b[1;33m,\u001b[0m\u001b[1;33m\u001b[0m\u001b[1;33m\u001b[0m\u001b[0m\n",
      "\u001b[1;32mC:\\ProgramData\\Anaconda3\\lib\\site-packages\\tensorflow\\python\\eager\\execute.py\u001b[0m in \u001b[0;36mquick_execute\u001b[1;34m(op_name, num_outputs, inputs, attrs, ctx, name)\u001b[0m\n\u001b[0;32m     57\u001b[0m   \u001b[1;32mtry\u001b[0m\u001b[1;33m:\u001b[0m\u001b[1;33m\u001b[0m\u001b[1;33m\u001b[0m\u001b[0m\n\u001b[0;32m     58\u001b[0m     \u001b[0mctx\u001b[0m\u001b[1;33m.\u001b[0m\u001b[0mensure_initialized\u001b[0m\u001b[1;33m(\u001b[0m\u001b[1;33m)\u001b[0m\u001b[1;33m\u001b[0m\u001b[1;33m\u001b[0m\u001b[0m\n\u001b[1;32m---> 59\u001b[1;33m     tensors = pywrap_tfe.TFE_Py_Execute(ctx._handle, device_name, op_name,\n\u001b[0m\u001b[0;32m     60\u001b[0m                                         inputs, attrs, num_outputs)\n\u001b[0;32m     61\u001b[0m   \u001b[1;32mexcept\u001b[0m \u001b[0mcore\u001b[0m\u001b[1;33m.\u001b[0m\u001b[0m_NotOkStatusException\u001b[0m \u001b[1;32mas\u001b[0m \u001b[0me\u001b[0m\u001b[1;33m:\u001b[0m\u001b[1;33m\u001b[0m\u001b[1;33m\u001b[0m\u001b[0m\n",
      "\u001b[1;31mKeyboardInterrupt\u001b[0m: "
     ]
    }
   ],
   "source": [
    "nb_filter = 250\n",
    "filter_length = 3\n",
    "\n",
    "model = Sequential()\n",
    "model.add(Conv1D(filters=nb_filter, kernel_size=filter_length, padding='same', activation='tanh'))\n",
    "model.add(Dropout(0.2))\n",
    "model.add(MaxPooling1D(pool_size=1))\n",
    "model.add(Dropout(0.2))\n",
    "model.add(LSTM(17))\n",
    "model.add(Dropout(0.2))\n",
    "model.add(Dense(128, activation='tanh'))\n",
    "model.add(Dropout(0.2))\n",
    "model.add(Dense(100, activation='tanh'))\n",
    "model.add(Dropout(0.2))\n",
    "model.add(Dense(64, activation='tanh'))\n",
    "model.add(Dropout(0.2))\n",
    "model.add(Dense(1, activation='sigmoid'))\n",
    "model.compile(loss='binary_crossentropy', optimizer='adam', metrics=[\"accuracy\"])\n",
    "model.fit(trainX, trainY, epochs=35, batch_size=64, verbose=2, validation_data=(testX, testY))"
   ]
  },
  {
   "cell_type": "code",
   "execution_count": null,
   "metadata": {},
   "outputs": [],
   "source": [
    "loss, accuracy = model.evaluate(testX, testY)\n",
    "print(\"Loss:\" + str(loss))\n",
    "print(\"Accuracy:\" + str(accuracy))"
   ]
  },
  {
   "cell_type": "code",
   "execution_count": 118,
   "metadata": {
    "scrolled": true
   },
   "outputs": [
    {
     "name": "stdout",
     "output_type": "stream",
     "text": [
      "Epoch 1/500\n",
      "3209/3209 - 38s - loss: 0.6686 - accuracy: 0.6110 - val_loss: 0.6688 - val_accuracy: 0.6098\n",
      "Epoch 2/500\n",
      "3209/3209 - 32s - loss: 0.6479 - accuracy: 0.6361 - val_loss: 0.6250 - val_accuracy: 0.6589\n",
      "Epoch 3/500\n",
      "3209/3209 - 32s - loss: 0.6144 - accuracy: 0.6621 - val_loss: 0.5966 - val_accuracy: 0.6686\n",
      "Epoch 4/500\n",
      "3209/3209 - 33s - loss: 0.5943 - accuracy: 0.6692 - val_loss: 0.5931 - val_accuracy: 0.6701\n",
      "Epoch 5/500\n",
      "3209/3209 - 37s - loss: 0.5880 - accuracy: 0.6720 - val_loss: 0.5828 - val_accuracy: 0.6753\n",
      "Epoch 6/500\n",
      "3209/3209 - 34s - loss: 0.5843 - accuracy: 0.6746 - val_loss: 0.5791 - val_accuracy: 0.6786\n",
      "Epoch 7/500\n",
      "3209/3209 - 32s - loss: 0.5821 - accuracy: 0.6762 - val_loss: 0.5857 - val_accuracy: 0.6772\n",
      "Epoch 8/500\n",
      "3209/3209 - 32s - loss: 0.5792 - accuracy: 0.6781 - val_loss: 0.5787 - val_accuracy: 0.6780\n",
      "Epoch 9/500\n",
      "3209/3209 - 36s - loss: 0.5773 - accuracy: 0.6789 - val_loss: 0.5744 - val_accuracy: 0.6809\n",
      "Epoch 10/500\n",
      "3209/3209 - 38s - loss: 0.5756 - accuracy: 0.6799 - val_loss: 0.5706 - val_accuracy: 0.6824\n",
      "Epoch 11/500\n",
      "3209/3209 - 39s - loss: 0.5734 - accuracy: 0.6809 - val_loss: 0.5709 - val_accuracy: 0.6810\n",
      "Epoch 12/500\n",
      "3209/3209 - 35s - loss: 0.5724 - accuracy: 0.6816 - val_loss: 0.5689 - val_accuracy: 0.6834\n",
      "Epoch 13/500\n"
     ]
    },
    {
     "ename": "KeyboardInterrupt",
     "evalue": "",
     "output_type": "error",
     "traceback": [
      "\u001b[1;31m---------------------------------------------------------------------------\u001b[0m",
      "\u001b[1;31mKeyboardInterrupt\u001b[0m                         Traceback (most recent call last)",
      "\u001b[1;32m<ipython-input-118-e9f09606abc0>\u001b[0m in \u001b[0;36m<module>\u001b[1;34m\u001b[0m\n\u001b[0;32m     15\u001b[0m \u001b[0mmodel\u001b[0m\u001b[1;33m.\u001b[0m\u001b[0madd\u001b[0m\u001b[1;33m(\u001b[0m\u001b[0mDense\u001b[0m\u001b[1;33m(\u001b[0m\u001b[1;36m1\u001b[0m\u001b[1;33m,\u001b[0m \u001b[0mactivation\u001b[0m\u001b[1;33m=\u001b[0m\u001b[1;34m'sigmoid'\u001b[0m\u001b[1;33m)\u001b[0m\u001b[1;33m)\u001b[0m\u001b[1;33m\u001b[0m\u001b[1;33m\u001b[0m\u001b[0m\n\u001b[0;32m     16\u001b[0m \u001b[0mmodel\u001b[0m\u001b[1;33m.\u001b[0m\u001b[0mcompile\u001b[0m\u001b[1;33m(\u001b[0m\u001b[0mloss\u001b[0m\u001b[1;33m=\u001b[0m\u001b[1;34m'binary_crossentropy'\u001b[0m\u001b[1;33m,\u001b[0m \u001b[0moptimizer\u001b[0m\u001b[1;33m=\u001b[0m\u001b[1;34m'adam'\u001b[0m\u001b[1;33m,\u001b[0m \u001b[0mmetrics\u001b[0m\u001b[1;33m=\u001b[0m\u001b[1;33m[\u001b[0m\u001b[1;34m\"accuracy\"\u001b[0m\u001b[1;33m]\u001b[0m\u001b[1;33m)\u001b[0m\u001b[1;33m\u001b[0m\u001b[1;33m\u001b[0m\u001b[0m\n\u001b[1;32m---> 17\u001b[1;33m \u001b[0mmodel\u001b[0m\u001b[1;33m.\u001b[0m\u001b[0mfit\u001b[0m\u001b[1;33m(\u001b[0m\u001b[0mtrainX\u001b[0m\u001b[1;33m,\u001b[0m \u001b[0mtrainY\u001b[0m\u001b[1;33m,\u001b[0m \u001b[0mepochs\u001b[0m\u001b[1;33m=\u001b[0m\u001b[1;36m500\u001b[0m\u001b[1;33m,\u001b[0m \u001b[0mbatch_size\u001b[0m\u001b[1;33m=\u001b[0m\u001b[1;36m100\u001b[0m\u001b[1;33m,\u001b[0m \u001b[0mverbose\u001b[0m\u001b[1;33m=\u001b[0m\u001b[1;36m2\u001b[0m\u001b[1;33m,\u001b[0m \u001b[0mvalidation_data\u001b[0m\u001b[1;33m=\u001b[0m\u001b[1;33m(\u001b[0m\u001b[0mtestX\u001b[0m\u001b[1;33m,\u001b[0m \u001b[0mtestY\u001b[0m\u001b[1;33m)\u001b[0m\u001b[1;33m)\u001b[0m\u001b[1;33m\u001b[0m\u001b[1;33m\u001b[0m\u001b[0m\n\u001b[0m",
      "\u001b[1;32mC:\\ProgramData\\Anaconda3\\lib\\site-packages\\tensorflow\\python\\keras\\engine\\training.py\u001b[0m in \u001b[0;36mfit\u001b[1;34m(self, x, y, batch_size, epochs, verbose, callbacks, validation_split, validation_data, shuffle, class_weight, sample_weight, initial_epoch, steps_per_epoch, validation_steps, validation_batch_size, validation_freq, max_queue_size, workers, use_multiprocessing)\u001b[0m\n\u001b[0;32m   1098\u001b[0m                 _r=1):\n\u001b[0;32m   1099\u001b[0m               \u001b[0mcallbacks\u001b[0m\u001b[1;33m.\u001b[0m\u001b[0mon_train_batch_begin\u001b[0m\u001b[1;33m(\u001b[0m\u001b[0mstep\u001b[0m\u001b[1;33m)\u001b[0m\u001b[1;33m\u001b[0m\u001b[1;33m\u001b[0m\u001b[0m\n\u001b[1;32m-> 1100\u001b[1;33m               \u001b[0mtmp_logs\u001b[0m \u001b[1;33m=\u001b[0m \u001b[0mself\u001b[0m\u001b[1;33m.\u001b[0m\u001b[0mtrain_function\u001b[0m\u001b[1;33m(\u001b[0m\u001b[0miterator\u001b[0m\u001b[1;33m)\u001b[0m\u001b[1;33m\u001b[0m\u001b[1;33m\u001b[0m\u001b[0m\n\u001b[0m\u001b[0;32m   1101\u001b[0m               \u001b[1;32mif\u001b[0m \u001b[0mdata_handler\u001b[0m\u001b[1;33m.\u001b[0m\u001b[0mshould_sync\u001b[0m\u001b[1;33m:\u001b[0m\u001b[1;33m\u001b[0m\u001b[1;33m\u001b[0m\u001b[0m\n\u001b[0;32m   1102\u001b[0m                 \u001b[0mcontext\u001b[0m\u001b[1;33m.\u001b[0m\u001b[0masync_wait\u001b[0m\u001b[1;33m(\u001b[0m\u001b[1;33m)\u001b[0m\u001b[1;33m\u001b[0m\u001b[1;33m\u001b[0m\u001b[0m\n",
      "\u001b[1;32mC:\\ProgramData\\Anaconda3\\lib\\site-packages\\tensorflow\\python\\eager\\def_function.py\u001b[0m in \u001b[0;36m__call__\u001b[1;34m(self, *args, **kwds)\u001b[0m\n\u001b[0;32m    826\u001b[0m     \u001b[0mtracing_count\u001b[0m \u001b[1;33m=\u001b[0m \u001b[0mself\u001b[0m\u001b[1;33m.\u001b[0m\u001b[0mexperimental_get_tracing_count\u001b[0m\u001b[1;33m(\u001b[0m\u001b[1;33m)\u001b[0m\u001b[1;33m\u001b[0m\u001b[1;33m\u001b[0m\u001b[0m\n\u001b[0;32m    827\u001b[0m     \u001b[1;32mwith\u001b[0m \u001b[0mtrace\u001b[0m\u001b[1;33m.\u001b[0m\u001b[0mTrace\u001b[0m\u001b[1;33m(\u001b[0m\u001b[0mself\u001b[0m\u001b[1;33m.\u001b[0m\u001b[0m_name\u001b[0m\u001b[1;33m)\u001b[0m \u001b[1;32mas\u001b[0m \u001b[0mtm\u001b[0m\u001b[1;33m:\u001b[0m\u001b[1;33m\u001b[0m\u001b[1;33m\u001b[0m\u001b[0m\n\u001b[1;32m--> 828\u001b[1;33m       \u001b[0mresult\u001b[0m \u001b[1;33m=\u001b[0m \u001b[0mself\u001b[0m\u001b[1;33m.\u001b[0m\u001b[0m_call\u001b[0m\u001b[1;33m(\u001b[0m\u001b[1;33m*\u001b[0m\u001b[0margs\u001b[0m\u001b[1;33m,\u001b[0m \u001b[1;33m**\u001b[0m\u001b[0mkwds\u001b[0m\u001b[1;33m)\u001b[0m\u001b[1;33m\u001b[0m\u001b[1;33m\u001b[0m\u001b[0m\n\u001b[0m\u001b[0;32m    829\u001b[0m       \u001b[0mcompiler\u001b[0m \u001b[1;33m=\u001b[0m \u001b[1;34m\"xla\"\u001b[0m \u001b[1;32mif\u001b[0m \u001b[0mself\u001b[0m\u001b[1;33m.\u001b[0m\u001b[0m_experimental_compile\u001b[0m \u001b[1;32melse\u001b[0m \u001b[1;34m\"nonXla\"\u001b[0m\u001b[1;33m\u001b[0m\u001b[1;33m\u001b[0m\u001b[0m\n\u001b[0;32m    830\u001b[0m       \u001b[0mnew_tracing_count\u001b[0m \u001b[1;33m=\u001b[0m \u001b[0mself\u001b[0m\u001b[1;33m.\u001b[0m\u001b[0mexperimental_get_tracing_count\u001b[0m\u001b[1;33m(\u001b[0m\u001b[1;33m)\u001b[0m\u001b[1;33m\u001b[0m\u001b[1;33m\u001b[0m\u001b[0m\n",
      "\u001b[1;32mC:\\ProgramData\\Anaconda3\\lib\\site-packages\\tensorflow\\python\\eager\\def_function.py\u001b[0m in \u001b[0;36m_call\u001b[1;34m(self, *args, **kwds)\u001b[0m\n\u001b[0;32m    853\u001b[0m       \u001b[1;31m# In this case we have created variables on the first call, so we run the\u001b[0m\u001b[1;33m\u001b[0m\u001b[1;33m\u001b[0m\u001b[1;33m\u001b[0m\u001b[0m\n\u001b[0;32m    854\u001b[0m       \u001b[1;31m# defunned version which is guaranteed to never create variables.\u001b[0m\u001b[1;33m\u001b[0m\u001b[1;33m\u001b[0m\u001b[1;33m\u001b[0m\u001b[0m\n\u001b[1;32m--> 855\u001b[1;33m       \u001b[1;32mreturn\u001b[0m \u001b[0mself\u001b[0m\u001b[1;33m.\u001b[0m\u001b[0m_stateless_fn\u001b[0m\u001b[1;33m(\u001b[0m\u001b[1;33m*\u001b[0m\u001b[0margs\u001b[0m\u001b[1;33m,\u001b[0m \u001b[1;33m**\u001b[0m\u001b[0mkwds\u001b[0m\u001b[1;33m)\u001b[0m  \u001b[1;31m# pylint: disable=not-callable\u001b[0m\u001b[1;33m\u001b[0m\u001b[1;33m\u001b[0m\u001b[0m\n\u001b[0m\u001b[0;32m    856\u001b[0m     \u001b[1;32melif\u001b[0m \u001b[0mself\u001b[0m\u001b[1;33m.\u001b[0m\u001b[0m_stateful_fn\u001b[0m \u001b[1;32mis\u001b[0m \u001b[1;32mnot\u001b[0m \u001b[1;32mNone\u001b[0m\u001b[1;33m:\u001b[0m\u001b[1;33m\u001b[0m\u001b[1;33m\u001b[0m\u001b[0m\n\u001b[0;32m    857\u001b[0m       \u001b[1;31m# Release the lock early so that multiple threads can perform the call\u001b[0m\u001b[1;33m\u001b[0m\u001b[1;33m\u001b[0m\u001b[1;33m\u001b[0m\u001b[0m\n",
      "\u001b[1;32mC:\\ProgramData\\Anaconda3\\lib\\site-packages\\tensorflow\\python\\eager\\function.py\u001b[0m in \u001b[0;36m__call__\u001b[1;34m(self, *args, **kwargs)\u001b[0m\n\u001b[0;32m   2940\u001b[0m       (graph_function,\n\u001b[0;32m   2941\u001b[0m        filtered_flat_args) = self._maybe_define_function(args, kwargs)\n\u001b[1;32m-> 2942\u001b[1;33m     return graph_function._call_flat(\n\u001b[0m\u001b[0;32m   2943\u001b[0m         filtered_flat_args, captured_inputs=graph_function.captured_inputs)  # pylint: disable=protected-access\n\u001b[0;32m   2944\u001b[0m \u001b[1;33m\u001b[0m\u001b[0m\n",
      "\u001b[1;32mC:\\ProgramData\\Anaconda3\\lib\\site-packages\\tensorflow\\python\\eager\\function.py\u001b[0m in \u001b[0;36m_call_flat\u001b[1;34m(self, args, captured_inputs, cancellation_manager)\u001b[0m\n\u001b[0;32m   1916\u001b[0m         and executing_eagerly):\n\u001b[0;32m   1917\u001b[0m       \u001b[1;31m# No tape is watching; skip to running the function.\u001b[0m\u001b[1;33m\u001b[0m\u001b[1;33m\u001b[0m\u001b[1;33m\u001b[0m\u001b[0m\n\u001b[1;32m-> 1918\u001b[1;33m       return self._build_call_outputs(self._inference_function.call(\n\u001b[0m\u001b[0;32m   1919\u001b[0m           ctx, args, cancellation_manager=cancellation_manager))\n\u001b[0;32m   1920\u001b[0m     forward_backward = self._select_forward_and_backward_functions(\n",
      "\u001b[1;32mC:\\ProgramData\\Anaconda3\\lib\\site-packages\\tensorflow\\python\\eager\\function.py\u001b[0m in \u001b[0;36mcall\u001b[1;34m(self, ctx, args, cancellation_manager)\u001b[0m\n\u001b[0;32m    553\u001b[0m       \u001b[1;32mwith\u001b[0m \u001b[0m_InterpolateFunctionError\u001b[0m\u001b[1;33m(\u001b[0m\u001b[0mself\u001b[0m\u001b[1;33m)\u001b[0m\u001b[1;33m:\u001b[0m\u001b[1;33m\u001b[0m\u001b[1;33m\u001b[0m\u001b[0m\n\u001b[0;32m    554\u001b[0m         \u001b[1;32mif\u001b[0m \u001b[0mcancellation_manager\u001b[0m \u001b[1;32mis\u001b[0m \u001b[1;32mNone\u001b[0m\u001b[1;33m:\u001b[0m\u001b[1;33m\u001b[0m\u001b[1;33m\u001b[0m\u001b[0m\n\u001b[1;32m--> 555\u001b[1;33m           outputs = execute.execute(\n\u001b[0m\u001b[0;32m    556\u001b[0m               \u001b[0mstr\u001b[0m\u001b[1;33m(\u001b[0m\u001b[0mself\u001b[0m\u001b[1;33m.\u001b[0m\u001b[0msignature\u001b[0m\u001b[1;33m.\u001b[0m\u001b[0mname\u001b[0m\u001b[1;33m)\u001b[0m\u001b[1;33m,\u001b[0m\u001b[1;33m\u001b[0m\u001b[1;33m\u001b[0m\u001b[0m\n\u001b[0;32m    557\u001b[0m               \u001b[0mnum_outputs\u001b[0m\u001b[1;33m=\u001b[0m\u001b[0mself\u001b[0m\u001b[1;33m.\u001b[0m\u001b[0m_num_outputs\u001b[0m\u001b[1;33m,\u001b[0m\u001b[1;33m\u001b[0m\u001b[1;33m\u001b[0m\u001b[0m\n",
      "\u001b[1;32mC:\\ProgramData\\Anaconda3\\lib\\site-packages\\tensorflow\\python\\eager\\execute.py\u001b[0m in \u001b[0;36mquick_execute\u001b[1;34m(op_name, num_outputs, inputs, attrs, ctx, name)\u001b[0m\n\u001b[0;32m     57\u001b[0m   \u001b[1;32mtry\u001b[0m\u001b[1;33m:\u001b[0m\u001b[1;33m\u001b[0m\u001b[1;33m\u001b[0m\u001b[0m\n\u001b[0;32m     58\u001b[0m     \u001b[0mctx\u001b[0m\u001b[1;33m.\u001b[0m\u001b[0mensure_initialized\u001b[0m\u001b[1;33m(\u001b[0m\u001b[1;33m)\u001b[0m\u001b[1;33m\u001b[0m\u001b[1;33m\u001b[0m\u001b[0m\n\u001b[1;32m---> 59\u001b[1;33m     tensors = pywrap_tfe.TFE_Py_Execute(ctx._handle, device_name, op_name,\n\u001b[0m\u001b[0;32m     60\u001b[0m                                         inputs, attrs, num_outputs)\n\u001b[0;32m     61\u001b[0m   \u001b[1;32mexcept\u001b[0m \u001b[0mcore\u001b[0m\u001b[1;33m.\u001b[0m\u001b[0m_NotOkStatusException\u001b[0m \u001b[1;32mas\u001b[0m \u001b[0me\u001b[0m\u001b[1;33m:\u001b[0m\u001b[1;33m\u001b[0m\u001b[1;33m\u001b[0m\u001b[0m\n",
      "\u001b[1;31mKeyboardInterrupt\u001b[0m: "
     ]
    }
   ],
   "source": [
    "nb_filter = 250\n",
    "filter_length = 3\n",
    "\n",
    "model = Sequential()\n",
    "model.add(Conv1D(filters=nb_filter, kernel_size=filter_length, padding='same', activation='tanh'))\n",
    "model.add(MaxPooling1D(pool_size=1))\n",
    "model.add(Conv1D(filters=nb_filter, kernel_size=filter_length, padding='same', activation='tanh'))\n",
    "model.add(MaxPooling1D(pool_size=1))\n",
    "model.add(Activation('softmax'))\n",
    "model.add(LSTM(17, return_sequences=True))\n",
    "model.add(LSTM(17, return_sequences=True))\n",
    "model.add(Dense(128, activation='tanh'))\n",
    "model.add(Dense(100, activation='tanh'))\n",
    "model.add(Dense(64, activation='tanh'))\n",
    "model.add(Dense(1, activation='sigmoid'))\n",
    "model.compile(loss='binary_crossentropy', optimizer='adam', metrics=[\"accuracy\"])\n",
    "model.fit(trainX, trainY, epochs=500, batch_size=100, verbose=2, validation_data=(testX, testY))"
   ]
  },
  {
   "cell_type": "code",
   "execution_count": null,
   "metadata": {},
   "outputs": [],
   "source": [
    "loss, accuracy = model.evaluate(testX, testY)\n",
    "print(\"Loss:\" + str(loss))\n",
    "print(\"Accuracy:\" + str(accuracy))"
   ]
  },
  {
   "cell_type": "markdown",
   "metadata": {},
   "source": [
    "# Model Development (Multi Class)"
   ]
  },
  {
   "cell_type": "code",
   "execution_count": 119,
   "metadata": {},
   "outputs": [
    {
     "data": {
      "text/plain": [
       "(401119,)"
      ]
     },
     "execution_count": 119,
     "metadata": {},
     "output_type": "execute_result"
    }
   ],
   "source": [
    "y_M = Data['type']\n",
    "y_M = y_M.values\n",
    "y_M.shape"
   ]
  },
  {
   "cell_type": "code",
   "execution_count": 120,
   "metadata": {},
   "outputs": [],
   "source": [
    "(trainX, testX, trainY, testY) = train_test_split(XS, y_M, test_size = 0.20, random_state = 5)"
   ]
  },
  {
   "cell_type": "markdown",
   "metadata": {},
   "source": [
    "### LR"
   ]
  },
  {
   "cell_type": "code",
   "execution_count": 42,
   "metadata": {
    "scrolled": true
   },
   "outputs": [
    {
     "name": "stderr",
     "output_type": "stream",
     "text": [
      "C:\\Users\\usman\\anaconda3\\lib\\site-packages\\sklearn\\linear_model\\_logistic.py:762: ConvergenceWarning: lbfgs failed to converge (status=1):\n",
      "STOP: TOTAL NO. of ITERATIONS REACHED LIMIT.\n",
      "\n",
      "Increase the number of iterations (max_iter) or scale the data as shown in:\n",
      "    https://scikit-learn.org/stable/modules/preprocessing.html\n",
      "Please also refer to the documentation for alternative solver options:\n",
      "    https://scikit-learn.org/stable/modules/linear_model.html#logistic-regression\n",
      "  n_iter_i = _check_optimize_result(\n",
      "C:\\Users\\usman\\anaconda3\\lib\\site-packages\\sklearn\\linear_model\\_logistic.py:762: ConvergenceWarning: lbfgs failed to converge (status=1):\n",
      "STOP: TOTAL NO. of ITERATIONS REACHED LIMIT.\n",
      "\n",
      "Increase the number of iterations (max_iter) or scale the data as shown in:\n",
      "    https://scikit-learn.org/stable/modules/preprocessing.html\n",
      "Please also refer to the documentation for alternative solver options:\n",
      "    https://scikit-learn.org/stable/modules/linear_model.html#logistic-regression\n",
      "  n_iter_i = _check_optimize_result(\n",
      "C:\\Users\\usman\\anaconda3\\lib\\site-packages\\sklearn\\linear_model\\_logistic.py:762: ConvergenceWarning: lbfgs failed to converge (status=1):\n",
      "STOP: TOTAL NO. of ITERATIONS REACHED LIMIT.\n",
      "\n",
      "Increase the number of iterations (max_iter) or scale the data as shown in:\n",
      "    https://scikit-learn.org/stable/modules/preprocessing.html\n",
      "Please also refer to the documentation for alternative solver options:\n",
      "    https://scikit-learn.org/stable/modules/linear_model.html#logistic-regression\n",
      "  n_iter_i = _check_optimize_result(\n",
      "C:\\Users\\usman\\anaconda3\\lib\\site-packages\\sklearn\\linear_model\\_logistic.py:762: ConvergenceWarning: lbfgs failed to converge (status=1):\n",
      "STOP: TOTAL NO. of ITERATIONS REACHED LIMIT.\n",
      "\n",
      "Increase the number of iterations (max_iter) or scale the data as shown in:\n",
      "    https://scikit-learn.org/stable/modules/preprocessing.html\n",
      "Please also refer to the documentation for alternative solver options:\n",
      "    https://scikit-learn.org/stable/modules/linear_model.html#logistic-regression\n",
      "  n_iter_i = _check_optimize_result(\n",
      "C:\\Users\\usman\\anaconda3\\lib\\site-packages\\sklearn\\linear_model\\_logistic.py:762: ConvergenceWarning: lbfgs failed to converge (status=1):\n",
      "STOP: TOTAL NO. of ITERATIONS REACHED LIMIT.\n",
      "\n",
      "Increase the number of iterations (max_iter) or scale the data as shown in:\n",
      "    https://scikit-learn.org/stable/modules/preprocessing.html\n",
      "Please also refer to the documentation for alternative solver options:\n",
      "    https://scikit-learn.org/stable/modules/linear_model.html#logistic-regression\n",
      "  n_iter_i = _check_optimize_result(\n"
     ]
    },
    {
     "name": "stdout",
     "output_type": "stream",
     "text": [
      "0.6086831870761866\n"
     ]
    },
    {
     "name": "stderr",
     "output_type": "stream",
     "text": [
      "C:\\Users\\usman\\anaconda3\\lib\\site-packages\\sklearn\\metrics\\_classification.py:1221: UndefinedMetricWarning: Precision and F-score are ill-defined and being set to 0.0 in labels with no predicted samples. Use `zero_division` parameter to control this behavior.\n",
      "  _warn_prf(average, modifier, msg_start, len(result))\n"
     ]
    },
    {
     "name": "stdout",
     "output_type": "stream",
     "text": [
      "              precision    recall  f1-score   support\n",
      "\n",
      "    backdoor       0.00      0.00      0.00      7034\n",
      "        ddos       0.37      0.05      0.08      5125\n",
      "   injection       0.00      0.00      0.00      6950\n",
      "      normal       0.61      0.99      0.76     48919\n",
      "    password       0.00      0.00      0.00      7003\n",
      "  ransomware       0.00      0.00      0.00      3184\n",
      "    scanning       0.00      0.00      0.00       810\n",
      "         xss       0.00      0.00      0.00      1199\n",
      "\n",
      "    accuracy                           0.61     80224\n",
      "   macro avg       0.12      0.13      0.10     80224\n",
      "weighted avg       0.40      0.61      0.47     80224\n",
      "\n"
     ]
    }
   ],
   "source": [
    "#Test Train split\n",
    "lr = LogisticRegression(multi_class='ovr') #for multiclass\n",
    "lr.fit(trainX, trainY)\n",
    "y_predict = lr.predict(testX)\n",
    "print(accuracy_score(testY, y_predict))\n",
    "print(classification_report(testY, y_predict))"
   ]
  },
  {
   "cell_type": "code",
   "execution_count": null,
   "metadata": {},
   "outputs": [],
   "source": [
    "#Kfold Split\n",
    "lr = LogisticRegression(multi_class='ovr')\n",
    "cv_results = cross_val_score(lr, XS, y_M, cv=kfold, scoring='accuracy')\n",
    "cv_results_mean = cv_results.mean()\n",
    "cv_results_std = cv_results.std()\n",
    "cv_results_name = 'LR'\n",
    "print('%s: %f (%f)' % (cv_results_name, cv_results_mean, cv_results_std))"
   ]
  },
  {
   "cell_type": "code",
   "execution_count": null,
   "metadata": {},
   "outputs": [],
   "source": [
    "#Grid Search CV\n",
    "model = LogisticRegression() \n",
    "\n",
    "parameters = [{'solver': ['newton-cg', 'lbfgs', 'liblinear'], 'C': [100, 10, 1.0, 0.1, 0.01]}]\n",
    "\n",
    "grid_search = GridSearchCV(estimator = model,\n",
    "                           param_grid = parameters,\n",
    "                           scoring = 'accuracy',\n",
    "                           cv = 4, n_jobs = -1)\n",
    "\n",
    "grid_search = grid_search.fit(trainX, trainY)\n",
    "\n",
    "print('Best Results with Grid Search:')\n",
    "print(grid_search.best_score_)\n",
    "print(grid_search.best_params_)\n",
    "\n",
    "y_pred = grid_search.predict(testX)\n",
    "\n",
    "print('\\nAccuracy Score  on test data: ' + str(accuracy_score(testY, y_pred)))\n",
    "print(confusion_matrix(testY,y_pred))\n",
    "print(classification_report(testY,y_pred))"
   ]
  },
  {
   "cell_type": "markdown",
   "metadata": {},
   "source": [
    "### LDA"
   ]
  },
  {
   "cell_type": "code",
   "execution_count": 43,
   "metadata": {},
   "outputs": [
    {
     "name": "stdout",
     "output_type": "stream",
     "text": [
      "0.6087081172716394\n"
     ]
    },
    {
     "name": "stderr",
     "output_type": "stream",
     "text": [
      "C:\\Users\\usman\\anaconda3\\lib\\site-packages\\sklearn\\metrics\\_classification.py:1221: UndefinedMetricWarning: Precision and F-score are ill-defined and being set to 0.0 in labels with no predicted samples. Use `zero_division` parameter to control this behavior.\n",
      "  _warn_prf(average, modifier, msg_start, len(result))\n"
     ]
    },
    {
     "name": "stdout",
     "output_type": "stream",
     "text": [
      "              precision    recall  f1-score   support\n",
      "\n",
      "    backdoor       0.00      0.00      0.00      7034\n",
      "        ddos       0.32      0.10      0.15      5125\n",
      "   injection       0.00      0.00      0.00      6950\n",
      "      normal       0.62      0.98      0.76     48919\n",
      "    password       0.49      0.03      0.05      7003\n",
      "  ransomware       0.00      0.00      0.00      3184\n",
      "    scanning       0.14      0.14      0.14       810\n",
      "         xss       0.00      0.00      0.00      1199\n",
      "\n",
      "    accuracy                           0.61     80224\n",
      "   macro avg       0.20      0.16      0.14     80224\n",
      "weighted avg       0.44      0.61      0.48     80224\n",
      "\n"
     ]
    }
   ],
   "source": [
    "#Test Train split\n",
    "lda = LinearDiscriminantAnalysis()\n",
    "lda.fit(trainX, trainY)\n",
    "y_predict = lda.predict(testX)\n",
    "print(accuracy_score(testY, y_predict))\n",
    "print(classification_report(testY, y_predict))"
   ]
  },
  {
   "cell_type": "code",
   "execution_count": null,
   "metadata": {},
   "outputs": [],
   "source": [
    "#Kfold Split\n",
    "lda = LinearDiscriminantAnalysis()\n",
    "cv_results = cross_val_score(lda, XS, y_M, cv=kfold, scoring='accuracy')\n",
    "cv_results_mean = cv_results.mean()\n",
    "cv_results_std = cv_results.std()\n",
    "cv_results_name = 'LDA'\n",
    "print('%s: %f (%f)' % (cv_results_name, cv_results_mean, cv_results_std))"
   ]
  },
  {
   "cell_type": "code",
   "execution_count": null,
   "metadata": {},
   "outputs": [],
   "source": [
    "#Grid search CV\n",
    "model = LinearDiscriminantAnalysis() \n",
    "\n",
    "parameters = [{'solver': ['svd', 'lsqr', 'eigen']}]\n",
    "\n",
    "grid_search = GridSearchCV(estimator = model,\n",
    "                           param_grid = parameters,\n",
    "                           scoring = 'accuracy',\n",
    "                           cv = 4, n_jobs = -1)\n",
    "\n",
    "grid_search = grid_search.fit(trainX, trainY)\n",
    "\n",
    "print('Best Results with Grid Search:')\n",
    "print(grid_search.best_score_)\n",
    "print(grid_search.best_params_)\n",
    "\n",
    "y_pred = grid_search.predict(testX)\n",
    "\n",
    "print('\\nAccuracy Score  on test data: ' + str(accuracy_score(testY, y_pred)))\n",
    "print(confusion_matrix(testY,y_pred))\n",
    "print(classification_report(testY,y_pred))"
   ]
  },
  {
   "cell_type": "markdown",
   "metadata": {},
   "source": [
    "### KNN"
   ]
  },
  {
   "cell_type": "code",
   "execution_count": 44,
   "metadata": {},
   "outputs": [
    {
     "name": "stdout",
     "output_type": "stream",
     "text": [
      "0.5679347826086957\n",
      "              precision    recall  f1-score   support\n",
      "\n",
      "    backdoor       0.17      0.55      0.26      7034\n",
      "        ddos       0.61      0.35      0.45      5125\n",
      "   injection       0.58      0.36      0.44      6950\n",
      "      normal       0.75      0.70      0.73     48919\n",
      "    password       0.67      0.26      0.37      7003\n",
      "  ransomware       0.76      0.26      0.38      3184\n",
      "    scanning       0.94      0.26      0.40       810\n",
      "         xss       0.47      0.12      0.18      1199\n",
      "\n",
      "    accuracy                           0.57     80224\n",
      "   macro avg       0.62      0.36      0.40     80224\n",
      "weighted avg       0.67      0.57      0.59     80224\n",
      "\n"
     ]
    }
   ],
   "source": [
    "#Test Train split\n",
    "knn = KNeighborsClassifier()\n",
    "knn.fit(trainX, trainY)\n",
    "y_predict = knn.predict(testX)\n",
    "print(accuracy_score(testY, y_predict))\n",
    "print(classification_report(testY, y_predict))"
   ]
  },
  {
   "cell_type": "code",
   "execution_count": null,
   "metadata": {},
   "outputs": [],
   "source": [
    "#Kfold Split\n",
    "knn = KNeighborsClassifier()\n",
    "cv_results = cross_val_score(knn, XS, y_M, cv=kfold, scoring='accuracy')\n",
    "cv_results_mean = cv_results.mean()\n",
    "cv_results_std = cv_results.std()\n",
    "cv_results_name = 'KNN'\n",
    "print('%s: %f (%f)' % (cv_results_name, cv_results_mean, cv_results_std))"
   ]
  },
  {
   "cell_type": "code",
   "execution_count": null,
   "metadata": {},
   "outputs": [],
   "source": [
    "#Grid search CV\n",
    "model = KNeighborsClassifier()\n",
    "\n",
    "parameters = [{'n_neighbors': [range(1, 21, 2)], 'weights': ['uniform', 'distance'], 'metric': ['euclidean', 'manhattan']}]\n",
    "\n",
    "grid_search = GridSearchCV(estimator = model,\n",
    "                           param_grid = parameters,\n",
    "                           scoring = 'accuracy',\n",
    "                           cv = 4, n_jobs = -1)\n",
    "\n",
    "grid_search = grid_search.fit(trainX, trainY)\n",
    "\n",
    "print('Best Results with Grid Search:')\n",
    "print(grid_search.best_score_)\n",
    "print(grid_search.best_params_)\n",
    "\n",
    "y_pred = grid_search.predict(testX)\n",
    "\n",
    "print('\\nAccuracy Score  on test data: ' + str(accuracy_score(testY, y_pred)))\n",
    "print(confusion_matrix(testY,y_pred))\n",
    "print(classification_report(testY,y_pred))"
   ]
  },
  {
   "cell_type": "markdown",
   "metadata": {},
   "source": [
    "### RF "
   ]
  },
  {
   "cell_type": "code",
   "execution_count": 45,
   "metadata": {},
   "outputs": [
    {
     "name": "stdout",
     "output_type": "stream",
     "text": [
      "0.7249576186677303\n",
      "              precision    recall  f1-score   support\n",
      "\n",
      "    backdoor       0.73      0.41      0.52      7034\n",
      "        ddos       0.88      0.35      0.50      5125\n",
      "   injection       0.73      0.41      0.53      6950\n",
      "      normal       0.72      0.95      0.82     48919\n",
      "    password       0.71      0.36      0.47      7003\n",
      "  ransomware       0.64      0.29      0.40      3184\n",
      "    scanning       0.94      0.34      0.50       810\n",
      "         xss       0.74      0.22      0.34      1199\n",
      "\n",
      "    accuracy                           0.72     80224\n",
      "   macro avg       0.76      0.42      0.51     80224\n",
      "weighted avg       0.73      0.72      0.69     80224\n",
      "\n"
     ]
    }
   ],
   "source": [
    "#Test Train split\n",
    "rf = RandomForestClassifier(n_estimators=10,criterion='gini')\n",
    "rf.fit(trainX, trainY)\n",
    "y_predict1 = rf.predict(testX)\n",
    "print(accuracy_score(testY, y_predict1))\n",
    "print(classification_report(testY, y_predict1))"
   ]
  },
  {
   "cell_type": "code",
   "execution_count": null,
   "metadata": {},
   "outputs": [],
   "source": [
    "#Kfold Split\n",
    "rf = RandomForestClassifier(n_estimators=10,criterion='gini')\n",
    "cv_results = cross_val_score(rf, XS, y_M, cv=kfold, scoring='accuracy')\n",
    "cv_results_mean = cv_results.mean()\n",
    "cv_results_std = cv_results.std()\n",
    "cv_results_name = 'RF'\n",
    "print('%s: %f (%f)' % (cv_results_name, cv_results_mean, cv_results_std))"
   ]
  },
  {
   "cell_type": "code",
   "execution_count": null,
   "metadata": {},
   "outputs": [],
   "source": [
    "#Grid Search CV\n",
    "model = RandomForestClassifier()\n",
    "\n",
    "parameters = [{'n_estimators': [10, 20, 50, 100], 'min_samples_split':[2, 5, 10],\n",
    "              'min_samples_leaf':[1, 2, 4], 'criterion': ['gini','entropy']}]\n",
    "\n",
    "\n",
    "grid_search = GridSearchCV(estimator = model,\n",
    "                           param_grid = parameters,\n",
    "                           scoring = 'accuracy',\n",
    "                           cv = 4, n_jobs = -1)\n",
    "\n",
    "grid_search = grid_search.fit(trainX, trainY)\n",
    "\n",
    "print('Best Results with Grid Search:')\n",
    "print(grid_search.best_score_)\n",
    "print(grid_search.best_params_)\n",
    "\n",
    "y_pred = grid_search.predict(testX)\n",
    "\n",
    "print('\\nAccuracy Score  on test data: ' + str(accuracy_score(testY, y_pred)))\n",
    "print(confusion_matrix(testY,y_pred))\n",
    "print(classification_report(testY,y_pred))"
   ]
  },
  {
   "cell_type": "markdown",
   "metadata": {},
   "source": [
    "### DT (CART) "
   ]
  },
  {
   "cell_type": "code",
   "execution_count": 46,
   "metadata": {},
   "outputs": [
    {
     "name": "stdout",
     "output_type": "stream",
     "text": [
      "0.7198344635021938\n",
      "              precision    recall  f1-score   support\n",
      "\n",
      "    backdoor       0.72      0.40      0.51      7034\n",
      "        ddos       0.87      0.35      0.50      5125\n",
      "   injection       0.73      0.41      0.52      6950\n",
      "      normal       0.72      0.95      0.82     48919\n",
      "    password       0.67      0.36      0.47      7003\n",
      "  ransomware       0.58      0.29      0.39      3184\n",
      "    scanning       0.89      0.35      0.51       810\n",
      "         xss       0.64      0.24      0.35      1199\n",
      "\n",
      "    accuracy                           0.72     80224\n",
      "   macro avg       0.73      0.42      0.51     80224\n",
      "weighted avg       0.72      0.72      0.69     80224\n",
      "\n"
     ]
    }
   ],
   "source": [
    "#Test Train split\n",
    "dt = DecisionTreeClassifier(criterion='gini')\n",
    "dt.fit(trainX, trainY)\n",
    "y_predict1 = dt.predict(testX)\n",
    "print(accuracy_score(testY, y_predict1))\n",
    "print(classification_report(testY, y_predict1))"
   ]
  },
  {
   "cell_type": "code",
   "execution_count": null,
   "metadata": {},
   "outputs": [],
   "source": [
    "#Kfold Split\n",
    "dt = DecisionTreeClassifier(criterion='gini')\n",
    "cv_results = cross_val_score(dt, XS, y_M, cv=kfold, scoring='accuracy')\n",
    "cv_results_mean = cv_results.mean()\n",
    "cv_results_std = cv_results.std()\n",
    "cv_results_name = 'DT-(CART)'\n",
    "print('%s: %f (%f)' % (cv_results_name, cv_results_mean, cv_results_std))"
   ]
  },
  {
   "cell_type": "code",
   "execution_count": null,
   "metadata": {},
   "outputs": [],
   "source": [
    "#Grid Search CV\n",
    "model = DecisionTreeClassifier() \n",
    "\n",
    "parameters = [{'min_samples_split': [2,5,10], 'min_samples_leaf': [1,2,4], 'splitter': ['best','random'],\n",
    "              'criterion': ['gini', 'entropy']}]\n",
    "\n",
    "grid_search = GridSearchCV(estimator = model,\n",
    "                           param_grid = parameters,\n",
    "                           scoring = 'accuracy',\n",
    "                           cv = 4, n_jobs = -1)\n",
    "\n",
    "grid_search = grid_search.fit(trainX, trainY)\n",
    "\n",
    "print('Best Results with Grid Search:')\n",
    "print(grid_search.best_score_)\n",
    "print(grid_search.best_params_)\n",
    "\n",
    "y_pred = grid_search.predict(testX)\n",
    "\n",
    "print('\\nAccuracy Score  on test data: ' + str(accuracy_score(testY, y_pred)))\n",
    "print(confusion_matrix(testY,y_pred))\n",
    "print(classification_report(testY,y_pred))"
   ]
  },
  {
   "cell_type": "markdown",
   "metadata": {},
   "source": [
    "### NB "
   ]
  },
  {
   "cell_type": "code",
   "execution_count": 47,
   "metadata": {
    "scrolled": true
   },
   "outputs": [
    {
     "name": "stdout",
     "output_type": "stream",
     "text": [
      "0.07077682489030714\n"
     ]
    },
    {
     "name": "stderr",
     "output_type": "stream",
     "text": [
      "C:\\Users\\usman\\anaconda3\\lib\\site-packages\\sklearn\\metrics\\_classification.py:1221: UndefinedMetricWarning: Precision and F-score are ill-defined and being set to 0.0 in labels with no predicted samples. Use `zero_division` parameter to control this behavior.\n",
      "  _warn_prf(average, modifier, msg_start, len(result))\n"
     ]
    },
    {
     "name": "stdout",
     "output_type": "stream",
     "text": [
      "              precision    recall  f1-score   support\n",
      "\n",
      "    backdoor       0.00      0.00      0.00      7034\n",
      "        ddos       0.09      1.00      0.16      5125\n",
      "   injection       0.00      0.00      0.00      6950\n",
      "      normal       0.00      0.00      0.00     48919\n",
      "    password       0.00      0.00      0.00      7003\n",
      "  ransomware       0.04      0.14      0.06      3184\n",
      "    scanning       0.01      0.14      0.02       810\n",
      "         xss       0.00      0.00      0.00      1199\n",
      "\n",
      "    accuracy                           0.07     80224\n",
      "   macro avg       0.02      0.16      0.03     80224\n",
      "weighted avg       0.01      0.07      0.01     80224\n",
      "\n"
     ]
    }
   ],
   "source": [
    "#Test Train split\n",
    "nb = GaussianNB()\n",
    "nb.fit(trainX, trainY)\n",
    "y_predict1 = nb.predict(testX)\n",
    "print(accuracy_score(testY, y_predict1))\n",
    "print(classification_report(testY, y_predict1))"
   ]
  },
  {
   "cell_type": "code",
   "execution_count": null,
   "metadata": {},
   "outputs": [],
   "source": [
    "#Kfold Split\n",
    "nb = GaussianNB()\n",
    "cv_results = cross_val_score(nb, XS, y_M, cv=kfold, scoring='accuracy')\n",
    "cv_results_mean = cv_results.mean()\n",
    "cv_results_std = cv_results.std()\n",
    "cv_results_name = 'NB'\n",
    "print('%s: %f (%f)' % (cv_results_name, cv_results_mean, cv_results_std))"
   ]
  },
  {
   "cell_type": "markdown",
   "metadata": {},
   "source": [
    "### SVM"
   ]
  },
  {
   "cell_type": "code",
   "execution_count": 74,
   "metadata": {},
   "outputs": [
    {
     "name": "stdout",
     "output_type": "stream",
     "text": [
      "0.6113257877941763\n"
     ]
    },
    {
     "name": "stderr",
     "output_type": "stream",
     "text": [
      "C:\\Users\\usman\\anaconda3\\lib\\site-packages\\sklearn\\metrics\\_classification.py:1221: UndefinedMetricWarning: Precision and F-score are ill-defined and being set to 0.0 in labels with no predicted samples. Use `zero_division` parameter to control this behavior.\n",
      "  _warn_prf(average, modifier, msg_start, len(result))\n"
     ]
    },
    {
     "name": "stdout",
     "output_type": "stream",
     "text": [
      "              precision    recall  f1-score   support\n",
      "\n",
      "    backdoor       0.00      0.00      0.00      7034\n",
      "        ddos       1.00      0.02      0.05      5125\n",
      "   injection       0.00      0.00      0.00      6950\n",
      "      normal       0.61      1.00      0.76     48919\n",
      "    password       0.00      0.00      0.00      7003\n",
      "  ransomware       0.00      0.00      0.00      3184\n",
      "    scanning       0.00      0.00      0.00       810\n",
      "         xss       0.00      0.00      0.00      1199\n",
      "\n",
      "    accuracy                           0.61     80224\n",
      "   macro avg       0.20      0.13      0.10     80224\n",
      "weighted avg       0.44      0.61      0.47     80224\n",
      "\n"
     ]
    }
   ],
   "source": [
    "#Test Train split\n",
    "svclassifier = SVC(kernel='rbf', gamma='auto')\n",
    "svclassifier.fit(trainX, trainY)\n",
    "y_predict = svclassifier.predict(testX)\n",
    "print(accuracy_score(testY, y_predict))\n",
    "print(classification_report(testY, y_predict))"
   ]
  },
  {
   "cell_type": "code",
   "execution_count": null,
   "metadata": {},
   "outputs": [],
   "source": [
    "#Kfold Split\n",
    "svclassifier = SVC(kernel='rbf', gamma='auto')\n",
    "cv_results = cross_val_score(svclassifier, XS, y_M, cv=kfold, scoring='accuracy')\n",
    "cv_results_mean = cv_results.mean()\n",
    "cv_results_std = cv_results.std()\n",
    "cv_results_name = 'LDA'\n",
    "print('%s: %f (%f)' % (cv_results_name, cv_results_mean, cv_results_std))"
   ]
  },
  {
   "cell_type": "code",
   "execution_count": null,
   "metadata": {},
   "outputs": [],
   "source": [
    "#Grid Search CV\n",
    "model = SVC() \n",
    "\n",
    "parameters = [{'C': [0.1,1,10], 'gamma':[0.01,0.5,1]}]\n",
    "\n",
    "grid_search = GridSearchCV(estimator = model,\n",
    "                           param_grid = parameters,\n",
    "                           scoring = 'accuracy',\n",
    "                           cv = 4, n_jobs = -1)\n",
    "\n",
    "grid_search = grid_search.fit(trainX, trainY)\n",
    "\n",
    "print('Best Results with Grid Search:')\n",
    "print(grid_search.best_score_)\n",
    "print(grid_search.best_params_)\n",
    "\n",
    "y_pred = grid_search.predict(testX)\n",
    "\n",
    "print('\\nAccuracy Score  on test data: ' + str(accuracy_score(testY, y_pred)))\n",
    "print(confusion_matrix(testY,y_pred))\n",
    "print(classification_report(testY,y_pred))"
   ]
  },
  {
   "cell_type": "markdown",
   "metadata": {},
   "source": [
    "### LSTM"
   ]
  },
  {
   "cell_type": "code",
   "execution_count": 121,
   "metadata": {},
   "outputs": [
    {
     "data": {
      "text/plain": [
       "(401119, 17)"
      ]
     },
     "execution_count": 121,
     "metadata": {},
     "output_type": "execute_result"
    }
   ],
   "source": [
    "XS.shape"
   ]
  },
  {
   "cell_type": "code",
   "execution_count": 122,
   "metadata": {},
   "outputs": [],
   "source": [
    "X1 = XS.reshape((-1,1,17))"
   ]
  },
  {
   "cell_type": "code",
   "execution_count": 123,
   "metadata": {},
   "outputs": [
    {
     "data": {
      "text/plain": [
       "(401119, 1, 17)"
      ]
     },
     "execution_count": 123,
     "metadata": {},
     "output_type": "execute_result"
    }
   ],
   "source": [
    "X1.shape"
   ]
  },
  {
   "cell_type": "code",
   "execution_count": 124,
   "metadata": {},
   "outputs": [
    {
     "data": {
      "text/plain": [
       "8"
      ]
     },
     "execution_count": 124,
     "metadata": {},
     "output_type": "execute_result"
    }
   ],
   "source": [
    "len(np.unique(y_M))"
   ]
  },
  {
   "cell_type": "code",
   "execution_count": 126,
   "metadata": {},
   "outputs": [],
   "source": [
    "encoder = LabelEncoder()\n",
    "encoder.fit(y_M)\n",
    "y_E = encoder.transform(y_M)"
   ]
  },
  {
   "cell_type": "code",
   "execution_count": 127,
   "metadata": {},
   "outputs": [
    {
     "data": {
      "text/plain": [
       "(401119,)"
      ]
     },
     "execution_count": 127,
     "metadata": {},
     "output_type": "execute_result"
    }
   ],
   "source": [
    "y_E.shape"
   ]
  },
  {
   "cell_type": "code",
   "execution_count": 128,
   "metadata": {},
   "outputs": [],
   "source": [
    "(trainX, testX, trainY, testY) = train_test_split(X1, y_E, test_size=0.20, random_state = 5)"
   ]
  },
  {
   "cell_type": "code",
   "execution_count": 139,
   "metadata": {
    "scrolled": true
   },
   "outputs": [
    {
     "name": "stdout",
     "output_type": "stream",
     "text": [
      "Epoch 1/35\n",
      "5014/5014 - 19s - loss: 1.3339 - accuracy: 0.6108 - val_loss: 1.2940 - val_accuracy: 0.6113\n",
      "Epoch 2/35\n"
     ]
    },
    {
     "ename": "KeyboardInterrupt",
     "evalue": "",
     "output_type": "error",
     "traceback": [
      "\u001b[1;31m---------------------------------------------------------------------------\u001b[0m",
      "\u001b[1;31mKeyboardInterrupt\u001b[0m                         Traceback (most recent call last)",
      "\u001b[1;32m<ipython-input-139-d3cbc457ac02>\u001b[0m in \u001b[0;36m<module>\u001b[1;34m\u001b[0m\n\u001b[0;32m     11\u001b[0m \u001b[0mmodel\u001b[0m\u001b[1;33m.\u001b[0m\u001b[0madd\u001b[0m\u001b[1;33m(\u001b[0m\u001b[0mDense\u001b[0m\u001b[1;33m(\u001b[0m\u001b[1;36m8\u001b[0m\u001b[1;33m,\u001b[0m\u001b[0mactivation\u001b[0m\u001b[1;33m=\u001b[0m\u001b[1;34m'softmax'\u001b[0m\u001b[1;33m)\u001b[0m\u001b[1;33m)\u001b[0m\u001b[1;33m\u001b[0m\u001b[1;33m\u001b[0m\u001b[0m\n\u001b[0;32m     12\u001b[0m \u001b[0mmodel\u001b[0m\u001b[1;33m.\u001b[0m\u001b[0mcompile\u001b[0m\u001b[1;33m(\u001b[0m\u001b[0mloss\u001b[0m\u001b[1;33m=\u001b[0m\u001b[1;34m'sparse_categorical_crossentropy'\u001b[0m\u001b[1;33m,\u001b[0m \u001b[0moptimizer\u001b[0m\u001b[1;33m=\u001b[0m\u001b[1;34m'adam'\u001b[0m\u001b[1;33m,\u001b[0m \u001b[0mmetrics\u001b[0m\u001b[1;33m=\u001b[0m\u001b[1;33m[\u001b[0m\u001b[1;34m\"accuracy\"\u001b[0m\u001b[1;33m]\u001b[0m\u001b[1;33m)\u001b[0m\u001b[1;33m\u001b[0m\u001b[1;33m\u001b[0m\u001b[0m\n\u001b[1;32m---> 13\u001b[1;33m \u001b[0mmodel\u001b[0m\u001b[1;33m.\u001b[0m\u001b[0mfit\u001b[0m\u001b[1;33m(\u001b[0m\u001b[0mtrainX\u001b[0m\u001b[1;33m,\u001b[0m \u001b[0mtrainY\u001b[0m\u001b[1;33m,\u001b[0m \u001b[0mepochs\u001b[0m\u001b[1;33m=\u001b[0m\u001b[1;36m35\u001b[0m\u001b[1;33m,\u001b[0m \u001b[0mbatch_size\u001b[0m\u001b[1;33m=\u001b[0m\u001b[1;36m64\u001b[0m\u001b[1;33m,\u001b[0m \u001b[0mverbose\u001b[0m\u001b[1;33m=\u001b[0m\u001b[1;36m2\u001b[0m\u001b[1;33m,\u001b[0m \u001b[0mvalidation_data\u001b[0m\u001b[1;33m=\u001b[0m\u001b[1;33m(\u001b[0m\u001b[0mtestX\u001b[0m\u001b[1;33m,\u001b[0m \u001b[0mtestY\u001b[0m\u001b[1;33m)\u001b[0m\u001b[1;33m)\u001b[0m\u001b[1;33m\u001b[0m\u001b[1;33m\u001b[0m\u001b[0m\n\u001b[0m",
      "\u001b[1;32mC:\\ProgramData\\Anaconda3\\lib\\site-packages\\tensorflow\\python\\keras\\engine\\training.py\u001b[0m in \u001b[0;36mfit\u001b[1;34m(self, x, y, batch_size, epochs, verbose, callbacks, validation_split, validation_data, shuffle, class_weight, sample_weight, initial_epoch, steps_per_epoch, validation_steps, validation_batch_size, validation_freq, max_queue_size, workers, use_multiprocessing)\u001b[0m\n\u001b[0;32m   1098\u001b[0m                 _r=1):\n\u001b[0;32m   1099\u001b[0m               \u001b[0mcallbacks\u001b[0m\u001b[1;33m.\u001b[0m\u001b[0mon_train_batch_begin\u001b[0m\u001b[1;33m(\u001b[0m\u001b[0mstep\u001b[0m\u001b[1;33m)\u001b[0m\u001b[1;33m\u001b[0m\u001b[1;33m\u001b[0m\u001b[0m\n\u001b[1;32m-> 1100\u001b[1;33m               \u001b[0mtmp_logs\u001b[0m \u001b[1;33m=\u001b[0m \u001b[0mself\u001b[0m\u001b[1;33m.\u001b[0m\u001b[0mtrain_function\u001b[0m\u001b[1;33m(\u001b[0m\u001b[0miterator\u001b[0m\u001b[1;33m)\u001b[0m\u001b[1;33m\u001b[0m\u001b[1;33m\u001b[0m\u001b[0m\n\u001b[0m\u001b[0;32m   1101\u001b[0m               \u001b[1;32mif\u001b[0m \u001b[0mdata_handler\u001b[0m\u001b[1;33m.\u001b[0m\u001b[0mshould_sync\u001b[0m\u001b[1;33m:\u001b[0m\u001b[1;33m\u001b[0m\u001b[1;33m\u001b[0m\u001b[0m\n\u001b[0;32m   1102\u001b[0m                 \u001b[0mcontext\u001b[0m\u001b[1;33m.\u001b[0m\u001b[0masync_wait\u001b[0m\u001b[1;33m(\u001b[0m\u001b[1;33m)\u001b[0m\u001b[1;33m\u001b[0m\u001b[1;33m\u001b[0m\u001b[0m\n",
      "\u001b[1;32mC:\\ProgramData\\Anaconda3\\lib\\site-packages\\tensorflow\\python\\eager\\def_function.py\u001b[0m in \u001b[0;36m__call__\u001b[1;34m(self, *args, **kwds)\u001b[0m\n\u001b[0;32m    826\u001b[0m     \u001b[0mtracing_count\u001b[0m \u001b[1;33m=\u001b[0m \u001b[0mself\u001b[0m\u001b[1;33m.\u001b[0m\u001b[0mexperimental_get_tracing_count\u001b[0m\u001b[1;33m(\u001b[0m\u001b[1;33m)\u001b[0m\u001b[1;33m\u001b[0m\u001b[1;33m\u001b[0m\u001b[0m\n\u001b[0;32m    827\u001b[0m     \u001b[1;32mwith\u001b[0m \u001b[0mtrace\u001b[0m\u001b[1;33m.\u001b[0m\u001b[0mTrace\u001b[0m\u001b[1;33m(\u001b[0m\u001b[0mself\u001b[0m\u001b[1;33m.\u001b[0m\u001b[0m_name\u001b[0m\u001b[1;33m)\u001b[0m \u001b[1;32mas\u001b[0m \u001b[0mtm\u001b[0m\u001b[1;33m:\u001b[0m\u001b[1;33m\u001b[0m\u001b[1;33m\u001b[0m\u001b[0m\n\u001b[1;32m--> 828\u001b[1;33m       \u001b[0mresult\u001b[0m \u001b[1;33m=\u001b[0m \u001b[0mself\u001b[0m\u001b[1;33m.\u001b[0m\u001b[0m_call\u001b[0m\u001b[1;33m(\u001b[0m\u001b[1;33m*\u001b[0m\u001b[0margs\u001b[0m\u001b[1;33m,\u001b[0m \u001b[1;33m**\u001b[0m\u001b[0mkwds\u001b[0m\u001b[1;33m)\u001b[0m\u001b[1;33m\u001b[0m\u001b[1;33m\u001b[0m\u001b[0m\n\u001b[0m\u001b[0;32m    829\u001b[0m       \u001b[0mcompiler\u001b[0m \u001b[1;33m=\u001b[0m \u001b[1;34m\"xla\"\u001b[0m \u001b[1;32mif\u001b[0m \u001b[0mself\u001b[0m\u001b[1;33m.\u001b[0m\u001b[0m_experimental_compile\u001b[0m \u001b[1;32melse\u001b[0m \u001b[1;34m\"nonXla\"\u001b[0m\u001b[1;33m\u001b[0m\u001b[1;33m\u001b[0m\u001b[0m\n\u001b[0;32m    830\u001b[0m       \u001b[0mnew_tracing_count\u001b[0m \u001b[1;33m=\u001b[0m \u001b[0mself\u001b[0m\u001b[1;33m.\u001b[0m\u001b[0mexperimental_get_tracing_count\u001b[0m\u001b[1;33m(\u001b[0m\u001b[1;33m)\u001b[0m\u001b[1;33m\u001b[0m\u001b[1;33m\u001b[0m\u001b[0m\n",
      "\u001b[1;32mC:\\ProgramData\\Anaconda3\\lib\\site-packages\\tensorflow\\python\\eager\\def_function.py\u001b[0m in \u001b[0;36m_call\u001b[1;34m(self, *args, **kwds)\u001b[0m\n\u001b[0;32m    853\u001b[0m       \u001b[1;31m# In this case we have created variables on the first call, so we run the\u001b[0m\u001b[1;33m\u001b[0m\u001b[1;33m\u001b[0m\u001b[1;33m\u001b[0m\u001b[0m\n\u001b[0;32m    854\u001b[0m       \u001b[1;31m# defunned version which is guaranteed to never create variables.\u001b[0m\u001b[1;33m\u001b[0m\u001b[1;33m\u001b[0m\u001b[1;33m\u001b[0m\u001b[0m\n\u001b[1;32m--> 855\u001b[1;33m       \u001b[1;32mreturn\u001b[0m \u001b[0mself\u001b[0m\u001b[1;33m.\u001b[0m\u001b[0m_stateless_fn\u001b[0m\u001b[1;33m(\u001b[0m\u001b[1;33m*\u001b[0m\u001b[0margs\u001b[0m\u001b[1;33m,\u001b[0m \u001b[1;33m**\u001b[0m\u001b[0mkwds\u001b[0m\u001b[1;33m)\u001b[0m  \u001b[1;31m# pylint: disable=not-callable\u001b[0m\u001b[1;33m\u001b[0m\u001b[1;33m\u001b[0m\u001b[0m\n\u001b[0m\u001b[0;32m    856\u001b[0m     \u001b[1;32melif\u001b[0m \u001b[0mself\u001b[0m\u001b[1;33m.\u001b[0m\u001b[0m_stateful_fn\u001b[0m \u001b[1;32mis\u001b[0m \u001b[1;32mnot\u001b[0m \u001b[1;32mNone\u001b[0m\u001b[1;33m:\u001b[0m\u001b[1;33m\u001b[0m\u001b[1;33m\u001b[0m\u001b[0m\n\u001b[0;32m    857\u001b[0m       \u001b[1;31m# Release the lock early so that multiple threads can perform the call\u001b[0m\u001b[1;33m\u001b[0m\u001b[1;33m\u001b[0m\u001b[1;33m\u001b[0m\u001b[0m\n",
      "\u001b[1;32mC:\\ProgramData\\Anaconda3\\lib\\site-packages\\tensorflow\\python\\eager\\function.py\u001b[0m in \u001b[0;36m__call__\u001b[1;34m(self, *args, **kwargs)\u001b[0m\n\u001b[0;32m   2940\u001b[0m       (graph_function,\n\u001b[0;32m   2941\u001b[0m        filtered_flat_args) = self._maybe_define_function(args, kwargs)\n\u001b[1;32m-> 2942\u001b[1;33m     return graph_function._call_flat(\n\u001b[0m\u001b[0;32m   2943\u001b[0m         filtered_flat_args, captured_inputs=graph_function.captured_inputs)  # pylint: disable=protected-access\n\u001b[0;32m   2944\u001b[0m \u001b[1;33m\u001b[0m\u001b[0m\n",
      "\u001b[1;32mC:\\ProgramData\\Anaconda3\\lib\\site-packages\\tensorflow\\python\\eager\\function.py\u001b[0m in \u001b[0;36m_call_flat\u001b[1;34m(self, args, captured_inputs, cancellation_manager)\u001b[0m\n\u001b[0;32m   1916\u001b[0m         and executing_eagerly):\n\u001b[0;32m   1917\u001b[0m       \u001b[1;31m# No tape is watching; skip to running the function.\u001b[0m\u001b[1;33m\u001b[0m\u001b[1;33m\u001b[0m\u001b[1;33m\u001b[0m\u001b[0m\n\u001b[1;32m-> 1918\u001b[1;33m       return self._build_call_outputs(self._inference_function.call(\n\u001b[0m\u001b[0;32m   1919\u001b[0m           ctx, args, cancellation_manager=cancellation_manager))\n\u001b[0;32m   1920\u001b[0m     forward_backward = self._select_forward_and_backward_functions(\n",
      "\u001b[1;32mC:\\ProgramData\\Anaconda3\\lib\\site-packages\\tensorflow\\python\\eager\\function.py\u001b[0m in \u001b[0;36mcall\u001b[1;34m(self, ctx, args, cancellation_manager)\u001b[0m\n\u001b[0;32m    553\u001b[0m       \u001b[1;32mwith\u001b[0m \u001b[0m_InterpolateFunctionError\u001b[0m\u001b[1;33m(\u001b[0m\u001b[0mself\u001b[0m\u001b[1;33m)\u001b[0m\u001b[1;33m:\u001b[0m\u001b[1;33m\u001b[0m\u001b[1;33m\u001b[0m\u001b[0m\n\u001b[0;32m    554\u001b[0m         \u001b[1;32mif\u001b[0m \u001b[0mcancellation_manager\u001b[0m \u001b[1;32mis\u001b[0m \u001b[1;32mNone\u001b[0m\u001b[1;33m:\u001b[0m\u001b[1;33m\u001b[0m\u001b[1;33m\u001b[0m\u001b[0m\n\u001b[1;32m--> 555\u001b[1;33m           outputs = execute.execute(\n\u001b[0m\u001b[0;32m    556\u001b[0m               \u001b[0mstr\u001b[0m\u001b[1;33m(\u001b[0m\u001b[0mself\u001b[0m\u001b[1;33m.\u001b[0m\u001b[0msignature\u001b[0m\u001b[1;33m.\u001b[0m\u001b[0mname\u001b[0m\u001b[1;33m)\u001b[0m\u001b[1;33m,\u001b[0m\u001b[1;33m\u001b[0m\u001b[1;33m\u001b[0m\u001b[0m\n\u001b[0;32m    557\u001b[0m               \u001b[0mnum_outputs\u001b[0m\u001b[1;33m=\u001b[0m\u001b[0mself\u001b[0m\u001b[1;33m.\u001b[0m\u001b[0m_num_outputs\u001b[0m\u001b[1;33m,\u001b[0m\u001b[1;33m\u001b[0m\u001b[1;33m\u001b[0m\u001b[0m\n",
      "\u001b[1;32mC:\\ProgramData\\Anaconda3\\lib\\site-packages\\tensorflow\\python\\eager\\execute.py\u001b[0m in \u001b[0;36mquick_execute\u001b[1;34m(op_name, num_outputs, inputs, attrs, ctx, name)\u001b[0m\n\u001b[0;32m     57\u001b[0m   \u001b[1;32mtry\u001b[0m\u001b[1;33m:\u001b[0m\u001b[1;33m\u001b[0m\u001b[1;33m\u001b[0m\u001b[0m\n\u001b[0;32m     58\u001b[0m     \u001b[0mctx\u001b[0m\u001b[1;33m.\u001b[0m\u001b[0mensure_initialized\u001b[0m\u001b[1;33m(\u001b[0m\u001b[1;33m)\u001b[0m\u001b[1;33m\u001b[0m\u001b[1;33m\u001b[0m\u001b[0m\n\u001b[1;32m---> 59\u001b[1;33m     tensors = pywrap_tfe.TFE_Py_Execute(ctx._handle, device_name, op_name,\n\u001b[0m\u001b[0;32m     60\u001b[0m                                         inputs, attrs, num_outputs)\n\u001b[0;32m     61\u001b[0m   \u001b[1;32mexcept\u001b[0m \u001b[0mcore\u001b[0m\u001b[1;33m.\u001b[0m\u001b[0m_NotOkStatusException\u001b[0m \u001b[1;32mas\u001b[0m \u001b[0me\u001b[0m\u001b[1;33m:\u001b[0m\u001b[1;33m\u001b[0m\u001b[1;33m\u001b[0m\u001b[0m\n",
      "\u001b[1;31mKeyboardInterrupt\u001b[0m: "
     ]
    }
   ],
   "source": [
    "# 1 LSTM Layer (input), 3 Dense Hidden Layers\n",
    "model = Sequential()\n",
    "model.add(LSTM(17, input_shape=(1, 17), activation='tanh'))\n",
    "model.add(Dropout(0.2))\n",
    "model.add(Dense(128, activation='tanh'))\n",
    "model.add(Dropout(0.2))\n",
    "model.add(Dense(100, activation='tanh'))\n",
    "model.add(Dropout(0.2))\n",
    "model.add(Dense(64, activation='tanh'))\n",
    "model.add(Dropout(0.2))\n",
    "model.add(Dense(8,activation='softmax'))\n",
    "model.compile(loss='sparse_categorical_crossentropy', optimizer='adam', metrics=[\"accuracy\"])\n",
    "model.fit(trainX, trainY, epochs=35, batch_size=64, verbose=2, validation_data=(testX, testY))"
   ]
  },
  {
   "cell_type": "code",
   "execution_count": null,
   "metadata": {},
   "outputs": [],
   "source": [
    "loss, accuracy = model.evaluate(testX, testY)\n",
    "print(\"Loss:\" + str(loss))\n",
    "print(\"Accuracy:\" + str(accuracy))"
   ]
  },
  {
   "cell_type": "markdown",
   "metadata": {},
   "source": [
    "### CNN (Conv1D)"
   ]
  },
  {
   "cell_type": "code",
   "execution_count": 133,
   "metadata": {},
   "outputs": [
    {
     "data": {
      "text/plain": [
       "(401119, 17)"
      ]
     },
     "execution_count": 133,
     "metadata": {},
     "output_type": "execute_result"
    }
   ],
   "source": [
    "XS.shape"
   ]
  },
  {
   "cell_type": "code",
   "execution_count": 134,
   "metadata": {},
   "outputs": [],
   "source": [
    "X1 = XS.reshape((-1,1,17))"
   ]
  },
  {
   "cell_type": "code",
   "execution_count": 135,
   "metadata": {},
   "outputs": [
    {
     "data": {
      "text/plain": [
       "(401119, 1, 17)"
      ]
     },
     "execution_count": 135,
     "metadata": {},
     "output_type": "execute_result"
    }
   ],
   "source": [
    "X1.shape"
   ]
  },
  {
   "cell_type": "code",
   "execution_count": 136,
   "metadata": {},
   "outputs": [],
   "source": [
    "encoder = LabelEncoder()\n",
    "encoder.fit(y_M)\n",
    "y_E = encoder.transform(y_M)"
   ]
  },
  {
   "cell_type": "code",
   "execution_count": 137,
   "metadata": {},
   "outputs": [],
   "source": [
    "(trainX, testX, trainY, testY) = train_test_split(X1, y_E, test_size = 0.20, random_state = 5)"
   ]
  },
  {
   "cell_type": "code",
   "execution_count": 138,
   "metadata": {
    "scrolled": true
   },
   "outputs": [
    {
     "name": "stdout",
     "output_type": "stream",
     "text": [
      "Epoch 1/35\n",
      "5014/5014 - 21s - loss: 1.3224 - accuracy: 0.6129 - val_loss: 1.2808 - val_accuracy: 0.6189\n",
      "Epoch 2/35\n"
     ]
    },
    {
     "ename": "KeyboardInterrupt",
     "evalue": "",
     "output_type": "error",
     "traceback": [
      "\u001b[1;31m---------------------------------------------------------------------------\u001b[0m",
      "\u001b[1;31mKeyboardInterrupt\u001b[0m                         Traceback (most recent call last)",
      "\u001b[1;32m<ipython-input-138-91fdfd111abf>\u001b[0m in \u001b[0;36m<module>\u001b[1;34m\u001b[0m\n\u001b[0;32m     13\u001b[0m \u001b[0mmodel\u001b[0m\u001b[1;33m.\u001b[0m\u001b[0madd\u001b[0m\u001b[1;33m(\u001b[0m\u001b[0mDense\u001b[0m\u001b[1;33m(\u001b[0m\u001b[1;36m8\u001b[0m\u001b[1;33m,\u001b[0m\u001b[0mactivation\u001b[0m\u001b[1;33m=\u001b[0m\u001b[1;34m'softmax'\u001b[0m\u001b[1;33m)\u001b[0m\u001b[1;33m)\u001b[0m\u001b[1;33m\u001b[0m\u001b[1;33m\u001b[0m\u001b[0m\n\u001b[0;32m     14\u001b[0m \u001b[0mmodel\u001b[0m\u001b[1;33m.\u001b[0m\u001b[0mcompile\u001b[0m\u001b[1;33m(\u001b[0m\u001b[0mloss\u001b[0m\u001b[1;33m=\u001b[0m\u001b[1;34m'sparse_categorical_crossentropy'\u001b[0m\u001b[1;33m,\u001b[0m \u001b[0moptimizer\u001b[0m\u001b[1;33m=\u001b[0m\u001b[1;34m'adam'\u001b[0m\u001b[1;33m,\u001b[0m \u001b[0mmetrics\u001b[0m\u001b[1;33m=\u001b[0m\u001b[1;33m[\u001b[0m\u001b[1;34m\"accuracy\"\u001b[0m\u001b[1;33m]\u001b[0m\u001b[1;33m)\u001b[0m\u001b[1;33m\u001b[0m\u001b[1;33m\u001b[0m\u001b[0m\n\u001b[1;32m---> 15\u001b[1;33m \u001b[0mmodel\u001b[0m\u001b[1;33m.\u001b[0m\u001b[0mfit\u001b[0m\u001b[1;33m(\u001b[0m\u001b[0mtrainX\u001b[0m\u001b[1;33m,\u001b[0m \u001b[0mtrainY\u001b[0m\u001b[1;33m,\u001b[0m \u001b[0mepochs\u001b[0m\u001b[1;33m=\u001b[0m\u001b[1;36m35\u001b[0m\u001b[1;33m,\u001b[0m \u001b[0mbatch_size\u001b[0m\u001b[1;33m=\u001b[0m\u001b[1;36m64\u001b[0m\u001b[1;33m,\u001b[0m \u001b[0mverbose\u001b[0m\u001b[1;33m=\u001b[0m\u001b[1;36m2\u001b[0m\u001b[1;33m,\u001b[0m \u001b[0mvalidation_data\u001b[0m\u001b[1;33m=\u001b[0m\u001b[1;33m(\u001b[0m\u001b[0mtestX\u001b[0m\u001b[1;33m,\u001b[0m \u001b[0mtestY\u001b[0m\u001b[1;33m)\u001b[0m\u001b[1;33m)\u001b[0m\u001b[1;33m\u001b[0m\u001b[1;33m\u001b[0m\u001b[0m\n\u001b[0m",
      "\u001b[1;32mC:\\ProgramData\\Anaconda3\\lib\\site-packages\\tensorflow\\python\\keras\\engine\\training.py\u001b[0m in \u001b[0;36mfit\u001b[1;34m(self, x, y, batch_size, epochs, verbose, callbacks, validation_split, validation_data, shuffle, class_weight, sample_weight, initial_epoch, steps_per_epoch, validation_steps, validation_batch_size, validation_freq, max_queue_size, workers, use_multiprocessing)\u001b[0m\n\u001b[0;32m   1098\u001b[0m                 _r=1):\n\u001b[0;32m   1099\u001b[0m               \u001b[0mcallbacks\u001b[0m\u001b[1;33m.\u001b[0m\u001b[0mon_train_batch_begin\u001b[0m\u001b[1;33m(\u001b[0m\u001b[0mstep\u001b[0m\u001b[1;33m)\u001b[0m\u001b[1;33m\u001b[0m\u001b[1;33m\u001b[0m\u001b[0m\n\u001b[1;32m-> 1100\u001b[1;33m               \u001b[0mtmp_logs\u001b[0m \u001b[1;33m=\u001b[0m \u001b[0mself\u001b[0m\u001b[1;33m.\u001b[0m\u001b[0mtrain_function\u001b[0m\u001b[1;33m(\u001b[0m\u001b[0miterator\u001b[0m\u001b[1;33m)\u001b[0m\u001b[1;33m\u001b[0m\u001b[1;33m\u001b[0m\u001b[0m\n\u001b[0m\u001b[0;32m   1101\u001b[0m               \u001b[1;32mif\u001b[0m \u001b[0mdata_handler\u001b[0m\u001b[1;33m.\u001b[0m\u001b[0mshould_sync\u001b[0m\u001b[1;33m:\u001b[0m\u001b[1;33m\u001b[0m\u001b[1;33m\u001b[0m\u001b[0m\n\u001b[0;32m   1102\u001b[0m                 \u001b[0mcontext\u001b[0m\u001b[1;33m.\u001b[0m\u001b[0masync_wait\u001b[0m\u001b[1;33m(\u001b[0m\u001b[1;33m)\u001b[0m\u001b[1;33m\u001b[0m\u001b[1;33m\u001b[0m\u001b[0m\n",
      "\u001b[1;32mC:\\ProgramData\\Anaconda3\\lib\\site-packages\\tensorflow\\python\\eager\\def_function.py\u001b[0m in \u001b[0;36m__call__\u001b[1;34m(self, *args, **kwds)\u001b[0m\n\u001b[0;32m    826\u001b[0m     \u001b[0mtracing_count\u001b[0m \u001b[1;33m=\u001b[0m \u001b[0mself\u001b[0m\u001b[1;33m.\u001b[0m\u001b[0mexperimental_get_tracing_count\u001b[0m\u001b[1;33m(\u001b[0m\u001b[1;33m)\u001b[0m\u001b[1;33m\u001b[0m\u001b[1;33m\u001b[0m\u001b[0m\n\u001b[0;32m    827\u001b[0m     \u001b[1;32mwith\u001b[0m \u001b[0mtrace\u001b[0m\u001b[1;33m.\u001b[0m\u001b[0mTrace\u001b[0m\u001b[1;33m(\u001b[0m\u001b[0mself\u001b[0m\u001b[1;33m.\u001b[0m\u001b[0m_name\u001b[0m\u001b[1;33m)\u001b[0m \u001b[1;32mas\u001b[0m \u001b[0mtm\u001b[0m\u001b[1;33m:\u001b[0m\u001b[1;33m\u001b[0m\u001b[1;33m\u001b[0m\u001b[0m\n\u001b[1;32m--> 828\u001b[1;33m       \u001b[0mresult\u001b[0m \u001b[1;33m=\u001b[0m \u001b[0mself\u001b[0m\u001b[1;33m.\u001b[0m\u001b[0m_call\u001b[0m\u001b[1;33m(\u001b[0m\u001b[1;33m*\u001b[0m\u001b[0margs\u001b[0m\u001b[1;33m,\u001b[0m \u001b[1;33m**\u001b[0m\u001b[0mkwds\u001b[0m\u001b[1;33m)\u001b[0m\u001b[1;33m\u001b[0m\u001b[1;33m\u001b[0m\u001b[0m\n\u001b[0m\u001b[0;32m    829\u001b[0m       \u001b[0mcompiler\u001b[0m \u001b[1;33m=\u001b[0m \u001b[1;34m\"xla\"\u001b[0m \u001b[1;32mif\u001b[0m \u001b[0mself\u001b[0m\u001b[1;33m.\u001b[0m\u001b[0m_experimental_compile\u001b[0m \u001b[1;32melse\u001b[0m \u001b[1;34m\"nonXla\"\u001b[0m\u001b[1;33m\u001b[0m\u001b[1;33m\u001b[0m\u001b[0m\n\u001b[0;32m    830\u001b[0m       \u001b[0mnew_tracing_count\u001b[0m \u001b[1;33m=\u001b[0m \u001b[0mself\u001b[0m\u001b[1;33m.\u001b[0m\u001b[0mexperimental_get_tracing_count\u001b[0m\u001b[1;33m(\u001b[0m\u001b[1;33m)\u001b[0m\u001b[1;33m\u001b[0m\u001b[1;33m\u001b[0m\u001b[0m\n",
      "\u001b[1;32mC:\\ProgramData\\Anaconda3\\lib\\site-packages\\tensorflow\\python\\eager\\def_function.py\u001b[0m in \u001b[0;36m_call\u001b[1;34m(self, *args, **kwds)\u001b[0m\n\u001b[0;32m    853\u001b[0m       \u001b[1;31m# In this case we have created variables on the first call, so we run the\u001b[0m\u001b[1;33m\u001b[0m\u001b[1;33m\u001b[0m\u001b[1;33m\u001b[0m\u001b[0m\n\u001b[0;32m    854\u001b[0m       \u001b[1;31m# defunned version which is guaranteed to never create variables.\u001b[0m\u001b[1;33m\u001b[0m\u001b[1;33m\u001b[0m\u001b[1;33m\u001b[0m\u001b[0m\n\u001b[1;32m--> 855\u001b[1;33m       \u001b[1;32mreturn\u001b[0m \u001b[0mself\u001b[0m\u001b[1;33m.\u001b[0m\u001b[0m_stateless_fn\u001b[0m\u001b[1;33m(\u001b[0m\u001b[1;33m*\u001b[0m\u001b[0margs\u001b[0m\u001b[1;33m,\u001b[0m \u001b[1;33m**\u001b[0m\u001b[0mkwds\u001b[0m\u001b[1;33m)\u001b[0m  \u001b[1;31m# pylint: disable=not-callable\u001b[0m\u001b[1;33m\u001b[0m\u001b[1;33m\u001b[0m\u001b[0m\n\u001b[0m\u001b[0;32m    856\u001b[0m     \u001b[1;32melif\u001b[0m \u001b[0mself\u001b[0m\u001b[1;33m.\u001b[0m\u001b[0m_stateful_fn\u001b[0m \u001b[1;32mis\u001b[0m \u001b[1;32mnot\u001b[0m \u001b[1;32mNone\u001b[0m\u001b[1;33m:\u001b[0m\u001b[1;33m\u001b[0m\u001b[1;33m\u001b[0m\u001b[0m\n\u001b[0;32m    857\u001b[0m       \u001b[1;31m# Release the lock early so that multiple threads can perform the call\u001b[0m\u001b[1;33m\u001b[0m\u001b[1;33m\u001b[0m\u001b[1;33m\u001b[0m\u001b[0m\n",
      "\u001b[1;32mC:\\ProgramData\\Anaconda3\\lib\\site-packages\\tensorflow\\python\\eager\\function.py\u001b[0m in \u001b[0;36m__call__\u001b[1;34m(self, *args, **kwargs)\u001b[0m\n\u001b[0;32m   2940\u001b[0m       (graph_function,\n\u001b[0;32m   2941\u001b[0m        filtered_flat_args) = self._maybe_define_function(args, kwargs)\n\u001b[1;32m-> 2942\u001b[1;33m     return graph_function._call_flat(\n\u001b[0m\u001b[0;32m   2943\u001b[0m         filtered_flat_args, captured_inputs=graph_function.captured_inputs)  # pylint: disable=protected-access\n\u001b[0;32m   2944\u001b[0m \u001b[1;33m\u001b[0m\u001b[0m\n",
      "\u001b[1;32mC:\\ProgramData\\Anaconda3\\lib\\site-packages\\tensorflow\\python\\eager\\function.py\u001b[0m in \u001b[0;36m_call_flat\u001b[1;34m(self, args, captured_inputs, cancellation_manager)\u001b[0m\n\u001b[0;32m   1916\u001b[0m         and executing_eagerly):\n\u001b[0;32m   1917\u001b[0m       \u001b[1;31m# No tape is watching; skip to running the function.\u001b[0m\u001b[1;33m\u001b[0m\u001b[1;33m\u001b[0m\u001b[1;33m\u001b[0m\u001b[0m\n\u001b[1;32m-> 1918\u001b[1;33m       return self._build_call_outputs(self._inference_function.call(\n\u001b[0m\u001b[0;32m   1919\u001b[0m           ctx, args, cancellation_manager=cancellation_manager))\n\u001b[0;32m   1920\u001b[0m     forward_backward = self._select_forward_and_backward_functions(\n",
      "\u001b[1;32mC:\\ProgramData\\Anaconda3\\lib\\site-packages\\tensorflow\\python\\eager\\function.py\u001b[0m in \u001b[0;36mcall\u001b[1;34m(self, ctx, args, cancellation_manager)\u001b[0m\n\u001b[0;32m    553\u001b[0m       \u001b[1;32mwith\u001b[0m \u001b[0m_InterpolateFunctionError\u001b[0m\u001b[1;33m(\u001b[0m\u001b[0mself\u001b[0m\u001b[1;33m)\u001b[0m\u001b[1;33m:\u001b[0m\u001b[1;33m\u001b[0m\u001b[1;33m\u001b[0m\u001b[0m\n\u001b[0;32m    554\u001b[0m         \u001b[1;32mif\u001b[0m \u001b[0mcancellation_manager\u001b[0m \u001b[1;32mis\u001b[0m \u001b[1;32mNone\u001b[0m\u001b[1;33m:\u001b[0m\u001b[1;33m\u001b[0m\u001b[1;33m\u001b[0m\u001b[0m\n\u001b[1;32m--> 555\u001b[1;33m           outputs = execute.execute(\n\u001b[0m\u001b[0;32m    556\u001b[0m               \u001b[0mstr\u001b[0m\u001b[1;33m(\u001b[0m\u001b[0mself\u001b[0m\u001b[1;33m.\u001b[0m\u001b[0msignature\u001b[0m\u001b[1;33m.\u001b[0m\u001b[0mname\u001b[0m\u001b[1;33m)\u001b[0m\u001b[1;33m,\u001b[0m\u001b[1;33m\u001b[0m\u001b[1;33m\u001b[0m\u001b[0m\n\u001b[0;32m    557\u001b[0m               \u001b[0mnum_outputs\u001b[0m\u001b[1;33m=\u001b[0m\u001b[0mself\u001b[0m\u001b[1;33m.\u001b[0m\u001b[0m_num_outputs\u001b[0m\u001b[1;33m,\u001b[0m\u001b[1;33m\u001b[0m\u001b[1;33m\u001b[0m\u001b[0m\n",
      "\u001b[1;32mC:\\ProgramData\\Anaconda3\\lib\\site-packages\\tensorflow\\python\\eager\\execute.py\u001b[0m in \u001b[0;36mquick_execute\u001b[1;34m(op_name, num_outputs, inputs, attrs, ctx, name)\u001b[0m\n\u001b[0;32m     57\u001b[0m   \u001b[1;32mtry\u001b[0m\u001b[1;33m:\u001b[0m\u001b[1;33m\u001b[0m\u001b[1;33m\u001b[0m\u001b[0m\n\u001b[0;32m     58\u001b[0m     \u001b[0mctx\u001b[0m\u001b[1;33m.\u001b[0m\u001b[0mensure_initialized\u001b[0m\u001b[1;33m(\u001b[0m\u001b[1;33m)\u001b[0m\u001b[1;33m\u001b[0m\u001b[1;33m\u001b[0m\u001b[0m\n\u001b[1;32m---> 59\u001b[1;33m     tensors = pywrap_tfe.TFE_Py_Execute(ctx._handle, device_name, op_name,\n\u001b[0m\u001b[0;32m     60\u001b[0m                                         inputs, attrs, num_outputs)\n\u001b[0;32m     61\u001b[0m   \u001b[1;32mexcept\u001b[0m \u001b[0mcore\u001b[0m\u001b[1;33m.\u001b[0m\u001b[0m_NotOkStatusException\u001b[0m \u001b[1;32mas\u001b[0m \u001b[0me\u001b[0m\u001b[1;33m:\u001b[0m\u001b[1;33m\u001b[0m\u001b[1;33m\u001b[0m\u001b[0m\n",
      "\u001b[1;31mKeyboardInterrupt\u001b[0m: "
     ]
    }
   ],
   "source": [
    "nb_filter = 250\n",
    "filter_length = 3\n",
    "\n",
    "model = Sequential()\n",
    "model.add(Conv1D(filters=nb_filter, kernel_size=filter_length, padding='same', activation='tanh'))\n",
    "model.add(Dropout(0.2))\n",
    "model.add(Dense(128, activation='tanh'))\n",
    "model.add(Dropout(0.2))\n",
    "model.add(Dense(100, activation='tanh'))\n",
    "model.add(Dropout(0.2))\n",
    "model.add(Dense(64, activation='tanh'))\n",
    "model.add(Dropout(0.2))\n",
    "model.add(Dense(8,activation='softmax'))\n",
    "model.compile(loss='sparse_categorical_crossentropy', optimizer='adam', metrics=[\"accuracy\"])\n",
    "model.fit(trainX, trainY, epochs=35, batch_size=64, verbose=2, validation_data=(testX, testY))"
   ]
  },
  {
   "cell_type": "code",
   "execution_count": null,
   "metadata": {},
   "outputs": [],
   "source": [
    "loss, accuracy = model.evaluate(testX, testY)\n",
    "print(\"Loss:\" + str(loss))\n",
    "print(\"Accuracy:\" + str(accuracy))"
   ]
  },
  {
   "cell_type": "markdown",
   "metadata": {},
   "source": [
    "### Conv-LSTM"
   ]
  },
  {
   "cell_type": "code",
   "execution_count": 140,
   "metadata": {},
   "outputs": [
    {
     "data": {
      "text/plain": [
       "(401119, 17)"
      ]
     },
     "execution_count": 140,
     "metadata": {},
     "output_type": "execute_result"
    }
   ],
   "source": [
    "XS.shape"
   ]
  },
  {
   "cell_type": "code",
   "execution_count": 141,
   "metadata": {},
   "outputs": [],
   "source": [
    "X1 = XS.reshape((-1,1,17))"
   ]
  },
  {
   "cell_type": "code",
   "execution_count": 142,
   "metadata": {},
   "outputs": [
    {
     "data": {
      "text/plain": [
       "(401119, 1, 17)"
      ]
     },
     "execution_count": 142,
     "metadata": {},
     "output_type": "execute_result"
    }
   ],
   "source": [
    "X1.shape"
   ]
  },
  {
   "cell_type": "code",
   "execution_count": 143,
   "metadata": {},
   "outputs": [],
   "source": [
    "encoder = LabelEncoder()\n",
    "encoder.fit(y_M)\n",
    "y_E = encoder.transform(y_M)"
   ]
  },
  {
   "cell_type": "code",
   "execution_count": 144,
   "metadata": {},
   "outputs": [],
   "source": [
    "(trainX, testX, trainY, testY) = train_test_split(X1, y_E, test_size = 0.20, random_state = 5)"
   ]
  },
  {
   "cell_type": "code",
   "execution_count": 145,
   "metadata": {
    "scrolled": true
   },
   "outputs": [
    {
     "name": "stdout",
     "output_type": "stream",
     "text": [
      "Epoch 1/35\n",
      "5014/5014 - 49s - loss: 1.3253 - accuracy: 0.6137 - val_loss: 1.3003 - val_accuracy: 0.6167\n",
      "Epoch 2/35\n"
     ]
    },
    {
     "ename": "KeyboardInterrupt",
     "evalue": "",
     "output_type": "error",
     "traceback": [
      "\u001b[1;31m---------------------------------------------------------------------------\u001b[0m",
      "\u001b[1;31mKeyboardInterrupt\u001b[0m                         Traceback (most recent call last)",
      "\u001b[1;32m<ipython-input-145-7e57bc212920>\u001b[0m in \u001b[0;36m<module>\u001b[1;34m\u001b[0m\n\u001b[0;32m     15\u001b[0m \u001b[0mmodel\u001b[0m\u001b[1;33m.\u001b[0m\u001b[0madd\u001b[0m\u001b[1;33m(\u001b[0m\u001b[0mDense\u001b[0m\u001b[1;33m(\u001b[0m\u001b[1;36m8\u001b[0m\u001b[1;33m,\u001b[0m\u001b[0mactivation\u001b[0m\u001b[1;33m=\u001b[0m\u001b[1;34m'softmax'\u001b[0m\u001b[1;33m)\u001b[0m\u001b[1;33m)\u001b[0m\u001b[1;33m\u001b[0m\u001b[1;33m\u001b[0m\u001b[0m\n\u001b[0;32m     16\u001b[0m \u001b[0mmodel\u001b[0m\u001b[1;33m.\u001b[0m\u001b[0mcompile\u001b[0m\u001b[1;33m(\u001b[0m\u001b[0mloss\u001b[0m\u001b[1;33m=\u001b[0m\u001b[1;34m'sparse_categorical_crossentropy'\u001b[0m\u001b[1;33m,\u001b[0m \u001b[0moptimizer\u001b[0m\u001b[1;33m=\u001b[0m\u001b[1;34m'adam'\u001b[0m\u001b[1;33m,\u001b[0m \u001b[0mmetrics\u001b[0m\u001b[1;33m=\u001b[0m\u001b[1;33m[\u001b[0m\u001b[1;34m\"accuracy\"\u001b[0m\u001b[1;33m]\u001b[0m\u001b[1;33m)\u001b[0m\u001b[1;33m\u001b[0m\u001b[1;33m\u001b[0m\u001b[0m\n\u001b[1;32m---> 17\u001b[1;33m \u001b[0mmodel\u001b[0m\u001b[1;33m.\u001b[0m\u001b[0mfit\u001b[0m\u001b[1;33m(\u001b[0m\u001b[0mtrainX\u001b[0m\u001b[1;33m,\u001b[0m \u001b[0mtrainY\u001b[0m\u001b[1;33m,\u001b[0m \u001b[0mepochs\u001b[0m\u001b[1;33m=\u001b[0m\u001b[1;36m35\u001b[0m\u001b[1;33m,\u001b[0m \u001b[0mbatch_size\u001b[0m\u001b[1;33m=\u001b[0m\u001b[1;36m64\u001b[0m\u001b[1;33m,\u001b[0m \u001b[0mverbose\u001b[0m\u001b[1;33m=\u001b[0m\u001b[1;36m2\u001b[0m\u001b[1;33m,\u001b[0m \u001b[0mvalidation_data\u001b[0m\u001b[1;33m=\u001b[0m\u001b[1;33m(\u001b[0m\u001b[0mtestX\u001b[0m\u001b[1;33m,\u001b[0m \u001b[0mtestY\u001b[0m\u001b[1;33m)\u001b[0m\u001b[1;33m)\u001b[0m\u001b[1;33m\u001b[0m\u001b[1;33m\u001b[0m\u001b[0m\n\u001b[0m",
      "\u001b[1;32mC:\\ProgramData\\Anaconda3\\lib\\site-packages\\tensorflow\\python\\keras\\engine\\training.py\u001b[0m in \u001b[0;36mfit\u001b[1;34m(self, x, y, batch_size, epochs, verbose, callbacks, validation_split, validation_data, shuffle, class_weight, sample_weight, initial_epoch, steps_per_epoch, validation_steps, validation_batch_size, validation_freq, max_queue_size, workers, use_multiprocessing)\u001b[0m\n\u001b[0;32m   1098\u001b[0m                 _r=1):\n\u001b[0;32m   1099\u001b[0m               \u001b[0mcallbacks\u001b[0m\u001b[1;33m.\u001b[0m\u001b[0mon_train_batch_begin\u001b[0m\u001b[1;33m(\u001b[0m\u001b[0mstep\u001b[0m\u001b[1;33m)\u001b[0m\u001b[1;33m\u001b[0m\u001b[1;33m\u001b[0m\u001b[0m\n\u001b[1;32m-> 1100\u001b[1;33m               \u001b[0mtmp_logs\u001b[0m \u001b[1;33m=\u001b[0m \u001b[0mself\u001b[0m\u001b[1;33m.\u001b[0m\u001b[0mtrain_function\u001b[0m\u001b[1;33m(\u001b[0m\u001b[0miterator\u001b[0m\u001b[1;33m)\u001b[0m\u001b[1;33m\u001b[0m\u001b[1;33m\u001b[0m\u001b[0m\n\u001b[0m\u001b[0;32m   1101\u001b[0m               \u001b[1;32mif\u001b[0m \u001b[0mdata_handler\u001b[0m\u001b[1;33m.\u001b[0m\u001b[0mshould_sync\u001b[0m\u001b[1;33m:\u001b[0m\u001b[1;33m\u001b[0m\u001b[1;33m\u001b[0m\u001b[0m\n\u001b[0;32m   1102\u001b[0m                 \u001b[0mcontext\u001b[0m\u001b[1;33m.\u001b[0m\u001b[0masync_wait\u001b[0m\u001b[1;33m(\u001b[0m\u001b[1;33m)\u001b[0m\u001b[1;33m\u001b[0m\u001b[1;33m\u001b[0m\u001b[0m\n",
      "\u001b[1;32mC:\\ProgramData\\Anaconda3\\lib\\site-packages\\tensorflow\\python\\eager\\def_function.py\u001b[0m in \u001b[0;36m__call__\u001b[1;34m(self, *args, **kwds)\u001b[0m\n\u001b[0;32m    826\u001b[0m     \u001b[0mtracing_count\u001b[0m \u001b[1;33m=\u001b[0m \u001b[0mself\u001b[0m\u001b[1;33m.\u001b[0m\u001b[0mexperimental_get_tracing_count\u001b[0m\u001b[1;33m(\u001b[0m\u001b[1;33m)\u001b[0m\u001b[1;33m\u001b[0m\u001b[1;33m\u001b[0m\u001b[0m\n\u001b[0;32m    827\u001b[0m     \u001b[1;32mwith\u001b[0m \u001b[0mtrace\u001b[0m\u001b[1;33m.\u001b[0m\u001b[0mTrace\u001b[0m\u001b[1;33m(\u001b[0m\u001b[0mself\u001b[0m\u001b[1;33m.\u001b[0m\u001b[0m_name\u001b[0m\u001b[1;33m)\u001b[0m \u001b[1;32mas\u001b[0m \u001b[0mtm\u001b[0m\u001b[1;33m:\u001b[0m\u001b[1;33m\u001b[0m\u001b[1;33m\u001b[0m\u001b[0m\n\u001b[1;32m--> 828\u001b[1;33m       \u001b[0mresult\u001b[0m \u001b[1;33m=\u001b[0m \u001b[0mself\u001b[0m\u001b[1;33m.\u001b[0m\u001b[0m_call\u001b[0m\u001b[1;33m(\u001b[0m\u001b[1;33m*\u001b[0m\u001b[0margs\u001b[0m\u001b[1;33m,\u001b[0m \u001b[1;33m**\u001b[0m\u001b[0mkwds\u001b[0m\u001b[1;33m)\u001b[0m\u001b[1;33m\u001b[0m\u001b[1;33m\u001b[0m\u001b[0m\n\u001b[0m\u001b[0;32m    829\u001b[0m       \u001b[0mcompiler\u001b[0m \u001b[1;33m=\u001b[0m \u001b[1;34m\"xla\"\u001b[0m \u001b[1;32mif\u001b[0m \u001b[0mself\u001b[0m\u001b[1;33m.\u001b[0m\u001b[0m_experimental_compile\u001b[0m \u001b[1;32melse\u001b[0m \u001b[1;34m\"nonXla\"\u001b[0m\u001b[1;33m\u001b[0m\u001b[1;33m\u001b[0m\u001b[0m\n\u001b[0;32m    830\u001b[0m       \u001b[0mnew_tracing_count\u001b[0m \u001b[1;33m=\u001b[0m \u001b[0mself\u001b[0m\u001b[1;33m.\u001b[0m\u001b[0mexperimental_get_tracing_count\u001b[0m\u001b[1;33m(\u001b[0m\u001b[1;33m)\u001b[0m\u001b[1;33m\u001b[0m\u001b[1;33m\u001b[0m\u001b[0m\n",
      "\u001b[1;32mC:\\ProgramData\\Anaconda3\\lib\\site-packages\\tensorflow\\python\\eager\\def_function.py\u001b[0m in \u001b[0;36m_call\u001b[1;34m(self, *args, **kwds)\u001b[0m\n\u001b[0;32m    853\u001b[0m       \u001b[1;31m# In this case we have created variables on the first call, so we run the\u001b[0m\u001b[1;33m\u001b[0m\u001b[1;33m\u001b[0m\u001b[1;33m\u001b[0m\u001b[0m\n\u001b[0;32m    854\u001b[0m       \u001b[1;31m# defunned version which is guaranteed to never create variables.\u001b[0m\u001b[1;33m\u001b[0m\u001b[1;33m\u001b[0m\u001b[1;33m\u001b[0m\u001b[0m\n\u001b[1;32m--> 855\u001b[1;33m       \u001b[1;32mreturn\u001b[0m \u001b[0mself\u001b[0m\u001b[1;33m.\u001b[0m\u001b[0m_stateless_fn\u001b[0m\u001b[1;33m(\u001b[0m\u001b[1;33m*\u001b[0m\u001b[0margs\u001b[0m\u001b[1;33m,\u001b[0m \u001b[1;33m**\u001b[0m\u001b[0mkwds\u001b[0m\u001b[1;33m)\u001b[0m  \u001b[1;31m# pylint: disable=not-callable\u001b[0m\u001b[1;33m\u001b[0m\u001b[1;33m\u001b[0m\u001b[0m\n\u001b[0m\u001b[0;32m    856\u001b[0m     \u001b[1;32melif\u001b[0m \u001b[0mself\u001b[0m\u001b[1;33m.\u001b[0m\u001b[0m_stateful_fn\u001b[0m \u001b[1;32mis\u001b[0m \u001b[1;32mnot\u001b[0m \u001b[1;32mNone\u001b[0m\u001b[1;33m:\u001b[0m\u001b[1;33m\u001b[0m\u001b[1;33m\u001b[0m\u001b[0m\n\u001b[0;32m    857\u001b[0m       \u001b[1;31m# Release the lock early so that multiple threads can perform the call\u001b[0m\u001b[1;33m\u001b[0m\u001b[1;33m\u001b[0m\u001b[1;33m\u001b[0m\u001b[0m\n",
      "\u001b[1;32mC:\\ProgramData\\Anaconda3\\lib\\site-packages\\tensorflow\\python\\eager\\function.py\u001b[0m in \u001b[0;36m__call__\u001b[1;34m(self, *args, **kwargs)\u001b[0m\n\u001b[0;32m   2940\u001b[0m       (graph_function,\n\u001b[0;32m   2941\u001b[0m        filtered_flat_args) = self._maybe_define_function(args, kwargs)\n\u001b[1;32m-> 2942\u001b[1;33m     return graph_function._call_flat(\n\u001b[0m\u001b[0;32m   2943\u001b[0m         filtered_flat_args, captured_inputs=graph_function.captured_inputs)  # pylint: disable=protected-access\n\u001b[0;32m   2944\u001b[0m \u001b[1;33m\u001b[0m\u001b[0m\n",
      "\u001b[1;32mC:\\ProgramData\\Anaconda3\\lib\\site-packages\\tensorflow\\python\\eager\\function.py\u001b[0m in \u001b[0;36m_call_flat\u001b[1;34m(self, args, captured_inputs, cancellation_manager)\u001b[0m\n\u001b[0;32m   1916\u001b[0m         and executing_eagerly):\n\u001b[0;32m   1917\u001b[0m       \u001b[1;31m# No tape is watching; skip to running the function.\u001b[0m\u001b[1;33m\u001b[0m\u001b[1;33m\u001b[0m\u001b[1;33m\u001b[0m\u001b[0m\n\u001b[1;32m-> 1918\u001b[1;33m       return self._build_call_outputs(self._inference_function.call(\n\u001b[0m\u001b[0;32m   1919\u001b[0m           ctx, args, cancellation_manager=cancellation_manager))\n\u001b[0;32m   1920\u001b[0m     forward_backward = self._select_forward_and_backward_functions(\n",
      "\u001b[1;32mC:\\ProgramData\\Anaconda3\\lib\\site-packages\\tensorflow\\python\\eager\\function.py\u001b[0m in \u001b[0;36mcall\u001b[1;34m(self, ctx, args, cancellation_manager)\u001b[0m\n\u001b[0;32m    553\u001b[0m       \u001b[1;32mwith\u001b[0m \u001b[0m_InterpolateFunctionError\u001b[0m\u001b[1;33m(\u001b[0m\u001b[0mself\u001b[0m\u001b[1;33m)\u001b[0m\u001b[1;33m:\u001b[0m\u001b[1;33m\u001b[0m\u001b[1;33m\u001b[0m\u001b[0m\n\u001b[0;32m    554\u001b[0m         \u001b[1;32mif\u001b[0m \u001b[0mcancellation_manager\u001b[0m \u001b[1;32mis\u001b[0m \u001b[1;32mNone\u001b[0m\u001b[1;33m:\u001b[0m\u001b[1;33m\u001b[0m\u001b[1;33m\u001b[0m\u001b[0m\n\u001b[1;32m--> 555\u001b[1;33m           outputs = execute.execute(\n\u001b[0m\u001b[0;32m    556\u001b[0m               \u001b[0mstr\u001b[0m\u001b[1;33m(\u001b[0m\u001b[0mself\u001b[0m\u001b[1;33m.\u001b[0m\u001b[0msignature\u001b[0m\u001b[1;33m.\u001b[0m\u001b[0mname\u001b[0m\u001b[1;33m)\u001b[0m\u001b[1;33m,\u001b[0m\u001b[1;33m\u001b[0m\u001b[1;33m\u001b[0m\u001b[0m\n\u001b[0;32m    557\u001b[0m               \u001b[0mnum_outputs\u001b[0m\u001b[1;33m=\u001b[0m\u001b[0mself\u001b[0m\u001b[1;33m.\u001b[0m\u001b[0m_num_outputs\u001b[0m\u001b[1;33m,\u001b[0m\u001b[1;33m\u001b[0m\u001b[1;33m\u001b[0m\u001b[0m\n",
      "\u001b[1;32mC:\\ProgramData\\Anaconda3\\lib\\site-packages\\tensorflow\\python\\eager\\execute.py\u001b[0m in \u001b[0;36mquick_execute\u001b[1;34m(op_name, num_outputs, inputs, attrs, ctx, name)\u001b[0m\n\u001b[0;32m     57\u001b[0m   \u001b[1;32mtry\u001b[0m\u001b[1;33m:\u001b[0m\u001b[1;33m\u001b[0m\u001b[1;33m\u001b[0m\u001b[0m\n\u001b[0;32m     58\u001b[0m     \u001b[0mctx\u001b[0m\u001b[1;33m.\u001b[0m\u001b[0mensure_initialized\u001b[0m\u001b[1;33m(\u001b[0m\u001b[1;33m)\u001b[0m\u001b[1;33m\u001b[0m\u001b[1;33m\u001b[0m\u001b[0m\n\u001b[1;32m---> 59\u001b[1;33m     tensors = pywrap_tfe.TFE_Py_Execute(ctx._handle, device_name, op_name,\n\u001b[0m\u001b[0;32m     60\u001b[0m                                         inputs, attrs, num_outputs)\n\u001b[0;32m     61\u001b[0m   \u001b[1;32mexcept\u001b[0m \u001b[0mcore\u001b[0m\u001b[1;33m.\u001b[0m\u001b[0m_NotOkStatusException\u001b[0m \u001b[1;32mas\u001b[0m \u001b[0me\u001b[0m\u001b[1;33m:\u001b[0m\u001b[1;33m\u001b[0m\u001b[1;33m\u001b[0m\u001b[0m\n",
      "\u001b[1;31mKeyboardInterrupt\u001b[0m: "
     ]
    }
   ],
   "source": [
    "nb_filter = 250\n",
    "filter_length = 3\n",
    "\n",
    "model = Sequential()\n",
    "model.add(Conv1D(filters=nb_filter, kernel_size=filter_length, padding='same', activation='tanh'))\n",
    "model.add(MaxPooling1D(pool_size=1))\n",
    "model.add(Conv1D(filters=nb_filter, kernel_size=filter_length, padding='same', activation='tanh'))\n",
    "model.add(MaxPooling1D(pool_size=1))\n",
    "model.add(Activation('softmax'))\n",
    "model.add(LSTM(17, return_sequences=True))\n",
    "model.add(LSTM(17, return_sequences=True))\n",
    "model.add(Dense(128, activation='tanh'))\n",
    "model.add(Dense(100, activation='tanh'))\n",
    "model.add(Dense(64, activation='tanh'))\n",
    "model.add(Dense(8,activation='softmax'))\n",
    "model.compile(loss='sparse_categorical_crossentropy', optimizer='adam', metrics=[\"accuracy\"])\n",
    "model.fit(trainX, trainY, epochs=35, batch_size=64, verbose=2, validation_data=(testX, testY))"
   ]
  },
  {
   "cell_type": "code",
   "execution_count": null,
   "metadata": {},
   "outputs": [],
   "source": [
    "loss, accuracy = model.evaluate(testX, testY)\n",
    "print(\"Loss:\" + str(loss))\n",
    "print(\"Accuracy:\" + str(accuracy))"
   ]
  }
 ],
 "metadata": {
  "kernelspec": {
   "display_name": "Python 3",
   "language": "python",
   "name": "python3"
  },
  "language_info": {
   "codemirror_mode": {
    "name": "ipython",
    "version": 3
   },
   "file_extension": ".py",
   "mimetype": "text/x-python",
   "name": "python",
   "nbconvert_exporter": "python",
   "pygments_lexer": "ipython3",
   "version": "3.8.8"
  }
 },
 "nbformat": 4,
 "nbformat_minor": 4
}
