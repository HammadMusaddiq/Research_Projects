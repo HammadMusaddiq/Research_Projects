{
 "cells": [
  {
   "cell_type": "code",
   "execution_count": 125,
   "metadata": {},
   "outputs": [],
   "source": [
    "import numpy as np\n",
    "import pandas as pd\n",
    "import seaborn as sns\n",
    "import matplotlib.pyplot as plt"
   ]
  },
  {
   "cell_type": "code",
   "execution_count": 126,
   "metadata": {},
   "outputs": [],
   "source": [
    "from sklearn.model_selection import train_test_split\n",
    "from sklearn.model_selection import cross_val_score\n",
    "from sklearn.model_selection import StratifiedKFold\n",
    "from sklearn.model_selection import cross_validate\n",
    "from sklearn.model_selection import cross_val_predict\n",
    "from sklearn.model_selection import KFold\n",
    "\n",
    "from sklearn.neural_network import MLPClassifier\n",
    "from sklearn.naive_bayes import GaussianNB\n",
    "from sklearn.ensemble import RandomForestClassifier\n",
    "from sklearn.svm import SVC\n",
    "from sklearn.tree import DecisionTreeClassifier\n",
    "\n",
    "from sklearn.preprocessing import OneHotEncoder \n",
    "from sklearn.compose import ColumnTransformer\n",
    "from sklearn.preprocessing import LabelEncoder\n",
    "\n",
    "from sklearn.metrics import confusion_matrix\n",
    "from sklearn.metrics import classification_report\n",
    "from sklearn.metrics import accuracy_score"
   ]
  },
  {
   "cell_type": "code",
   "execution_count": 127,
   "metadata": {},
   "outputs": [],
   "source": [
    "from sklearn.model_selection import GridSearchCV"
   ]
  },
  {
   "cell_type": "code",
   "execution_count": 128,
   "metadata": {},
   "outputs": [],
   "source": [
    "import warnings; warnings.simplefilter('ignore')"
   ]
  },
  {
   "cell_type": "code",
   "execution_count": 129,
   "metadata": {},
   "outputs": [],
   "source": [
    "# multi-class classification with Keras using sk-learn\n",
    "from keras.wrappers.scikit_learn import KerasClassifier\n",
    "\n",
    "import keras\n",
    "from keras.models import Sequential\n",
    "from keras.layers import Dense\n",
    "from keras.utils import np_utils\n",
    "\n",
    "import tensorflow as tf"
   ]
  },
  {
   "cell_type": "code",
   "execution_count": 130,
   "metadata": {},
   "outputs": [],
   "source": [
    "data= pd.read_csv('Final_Day_Wise.csv') "
   ]
  },
  {
   "cell_type": "code",
   "execution_count": 131,
   "metadata": {},
   "outputs": [
    {
     "data": {
      "text/html": [
       "<div>\n",
       "<style scoped>\n",
       "    .dataframe tbody tr th:only-of-type {\n",
       "        vertical-align: middle;\n",
       "    }\n",
       "\n",
       "    .dataframe tbody tr th {\n",
       "        vertical-align: top;\n",
       "    }\n",
       "\n",
       "    .dataframe thead th {\n",
       "        text-align: right;\n",
       "    }\n",
       "</style>\n",
       "<table border=\"1\" class=\"dataframe\">\n",
       "  <thead>\n",
       "    <tr style=\"text-align: right;\">\n",
       "      <th></th>\n",
       "      <th>Received_D</th>\n",
       "      <th>Disease_Label</th>\n",
       "      <th>Disease</th>\n",
       "      <th>RHC_BHU_Na</th>\n",
       "      <th>RHC_BHU_Ad</th>\n",
       "      <th>Location_Count</th>\n",
       "      <th>District</th>\n",
       "      <th>Lattitude</th>\n",
       "      <th>Longitude</th>\n",
       "      <th>Date_Time</th>\n",
       "      <th>...</th>\n",
       "      <th>AOD</th>\n",
       "      <th>AP</th>\n",
       "      <th>CO</th>\n",
       "      <th>NO2</th>\n",
       "      <th>O3</th>\n",
       "      <th>PM2.5</th>\n",
       "      <th>RH</th>\n",
       "      <th>SO2</th>\n",
       "      <th>Temp</th>\n",
       "      <th>WS</th>\n",
       "    </tr>\n",
       "  </thead>\n",
       "  <tbody>\n",
       "    <tr>\n",
       "      <th>0</th>\n",
       "      <td>23-11-17</td>\n",
       "      <td>1</td>\n",
       "      <td>ARI/Pneum &gt; 5 Yrs</td>\n",
       "      <td>Basic Health Unit SHUMAR (GUNJIAL) KHUSHAB</td>\n",
       "      <td>SHUMAR (GUNJIAL) KHUSHAB</td>\n",
       "      <td>1</td>\n",
       "      <td>KHUSHAB</td>\n",
       "      <td>32.334890</td>\n",
       "      <td>71.848239</td>\n",
       "      <td>03-04-18</td>\n",
       "      <td>...</td>\n",
       "      <td>0.3503</td>\n",
       "      <td>189.1250</td>\n",
       "      <td>91.211405</td>\n",
       "      <td>2.335950e+15</td>\n",
       "      <td>65.832864</td>\n",
       "      <td>0.000020</td>\n",
       "      <td>22.875</td>\n",
       "      <td>0.68</td>\n",
       "      <td>18.6460</td>\n",
       "      <td>2.75567</td>\n",
       "    </tr>\n",
       "    <tr>\n",
       "      <th>1</th>\n",
       "      <td>23-11-17</td>\n",
       "      <td>1</td>\n",
       "      <td>ARI/Pneum &gt; 5 Yrs</td>\n",
       "      <td>62 D CHAK 62 D TEHSIL PAKPATTAN PAKPATTAN</td>\n",
       "      <td>62 D CHAK 62 D TEHSIL PAKPATTAN PAKPATTAN</td>\n",
       "      <td>14</td>\n",
       "      <td>PAKPATTAN</td>\n",
       "      <td>30.540938</td>\n",
       "      <td>73.475297</td>\n",
       "      <td>14-03-18</td>\n",
       "      <td>...</td>\n",
       "      <td>0.4661</td>\n",
       "      <td>106.3750</td>\n",
       "      <td>94.820280</td>\n",
       "      <td>5.739270e+15</td>\n",
       "      <td>65.891072</td>\n",
       "      <td>0.000020</td>\n",
       "      <td>19.000</td>\n",
       "      <td>0.22</td>\n",
       "      <td>18.4878</td>\n",
       "      <td>3.21655</td>\n",
       "    </tr>\n",
       "    <tr>\n",
       "      <th>2</th>\n",
       "      <td>23-11-17</td>\n",
       "      <td>1</td>\n",
       "      <td>ARI/Pneum &gt; 5 Yrs</td>\n",
       "      <td>Basic Health Unit KUMHARIWALA PAKPATTAN</td>\n",
       "      <td>KUMHARIWALA PAKPATTAN</td>\n",
       "      <td>3</td>\n",
       "      <td>PAKPATTAN</td>\n",
       "      <td>30.378399</td>\n",
       "      <td>73.496829</td>\n",
       "      <td>17-03-18</td>\n",
       "      <td>...</td>\n",
       "      <td>0.4661</td>\n",
       "      <td>93.3125</td>\n",
       "      <td>92.841219</td>\n",
       "      <td>4.477190e+15</td>\n",
       "      <td>64.959750</td>\n",
       "      <td>0.000019</td>\n",
       "      <td>17.500</td>\n",
       "      <td>-0.08</td>\n",
       "      <td>18.4878</td>\n",
       "      <td>3.15340</td>\n",
       "    </tr>\n",
       "    <tr>\n",
       "      <th>3</th>\n",
       "      <td>23-11-17</td>\n",
       "      <td>1</td>\n",
       "      <td>ARI/Pneum &gt; 5 Yrs</td>\n",
       "      <td>Basic Health Unit KALYANA PAKPATTAN</td>\n",
       "      <td>KALYANA PAKPATTAN</td>\n",
       "      <td>8</td>\n",
       "      <td>PAKPATTAN</td>\n",
       "      <td>30.261263</td>\n",
       "      <td>73.226405</td>\n",
       "      <td>20-03-18</td>\n",
       "      <td>...</td>\n",
       "      <td>0.4661</td>\n",
       "      <td>93.3125</td>\n",
       "      <td>92.841219</td>\n",
       "      <td>4.483400e+15</td>\n",
       "      <td>64.959750</td>\n",
       "      <td>0.000020</td>\n",
       "      <td>17.500</td>\n",
       "      <td>-0.50</td>\n",
       "      <td>18.7967</td>\n",
       "      <td>2.83184</td>\n",
       "    </tr>\n",
       "    <tr>\n",
       "      <th>4</th>\n",
       "      <td>23-11-17</td>\n",
       "      <td>1</td>\n",
       "      <td>ARI/Pneum &gt; 5 Yrs</td>\n",
       "      <td>Basic Health Unit JAFFAR ALI SHAH PAKPATTAN</td>\n",
       "      <td>JAFFAR ALI SHAH PAKPATTAN</td>\n",
       "      <td>2</td>\n",
       "      <td>PAKPATTAN</td>\n",
       "      <td>30.495269</td>\n",
       "      <td>73.314006</td>\n",
       "      <td>20-04-18</td>\n",
       "      <td>...</td>\n",
       "      <td>0.4661</td>\n",
       "      <td>93.3125</td>\n",
       "      <td>92.841219</td>\n",
       "      <td>4.477190e+15</td>\n",
       "      <td>64.959750</td>\n",
       "      <td>0.000021</td>\n",
       "      <td>17.500</td>\n",
       "      <td>-0.08</td>\n",
       "      <td>18.9396</td>\n",
       "      <td>2.62127</td>\n",
       "    </tr>\n",
       "  </tbody>\n",
       "</table>\n",
       "<p>5 rows × 21 columns</p>\n",
       "</div>"
      ],
      "text/plain": [
       "  Received_D  Disease_Label            Disease  \\\n",
       "0   23-11-17              1  ARI/Pneum > 5 Yrs   \n",
       "1   23-11-17              1  ARI/Pneum > 5 Yrs   \n",
       "2   23-11-17              1  ARI/Pneum > 5 Yrs   \n",
       "3   23-11-17              1  ARI/Pneum > 5 Yrs   \n",
       "4   23-11-17              1  ARI/Pneum > 5 Yrs   \n",
       "\n",
       "                                    RHC_BHU_Na  \\\n",
       "0   Basic Health Unit SHUMAR (GUNJIAL) KHUSHAB   \n",
       "1    62 D CHAK 62 D TEHSIL PAKPATTAN PAKPATTAN   \n",
       "2      Basic Health Unit KUMHARIWALA PAKPATTAN   \n",
       "3          Basic Health Unit KALYANA PAKPATTAN   \n",
       "4  Basic Health Unit JAFFAR ALI SHAH PAKPATTAN   \n",
       "\n",
       "                                  RHC_BHU_Ad  Location_Count   District  \\\n",
       "0                   SHUMAR (GUNJIAL) KHUSHAB               1    KHUSHAB   \n",
       "1  62 D CHAK 62 D TEHSIL PAKPATTAN PAKPATTAN              14  PAKPATTAN   \n",
       "2                      KUMHARIWALA PAKPATTAN               3  PAKPATTAN   \n",
       "3                          KALYANA PAKPATTAN               8  PAKPATTAN   \n",
       "4                  JAFFAR ALI SHAH PAKPATTAN               2  PAKPATTAN   \n",
       "\n",
       "   Lattitude  Longitude Date_Time  ...     AOD        AP         CO  \\\n",
       "0  32.334890  71.848239  03-04-18  ...  0.3503  189.1250  91.211405   \n",
       "1  30.540938  73.475297  14-03-18  ...  0.4661  106.3750  94.820280   \n",
       "2  30.378399  73.496829  17-03-18  ...  0.4661   93.3125  92.841219   \n",
       "3  30.261263  73.226405  20-03-18  ...  0.4661   93.3125  92.841219   \n",
       "4  30.495269  73.314006  20-04-18  ...  0.4661   93.3125  92.841219   \n",
       "\n",
       "            NO2         O3     PM2.5      RH   SO2     Temp       WS  \n",
       "0  2.335950e+15  65.832864  0.000020  22.875  0.68  18.6460  2.75567  \n",
       "1  5.739270e+15  65.891072  0.000020  19.000  0.22  18.4878  3.21655  \n",
       "2  4.477190e+15  64.959750  0.000019  17.500 -0.08  18.4878  3.15340  \n",
       "3  4.483400e+15  64.959750  0.000020  17.500 -0.50  18.7967  2.83184  \n",
       "4  4.477190e+15  64.959750  0.000021  17.500 -0.08  18.9396  2.62127  \n",
       "\n",
       "[5 rows x 21 columns]"
      ]
     },
     "execution_count": 131,
     "metadata": {},
     "output_type": "execute_result"
    }
   ],
   "source": [
    "data.head(5)"
   ]
  },
  {
   "cell_type": "code",
   "execution_count": 132,
   "metadata": {},
   "outputs": [
    {
     "data": {
      "text/plain": [
       "(553, 21)"
      ]
     },
     "execution_count": 132,
     "metadata": {},
     "output_type": "execute_result"
    }
   ],
   "source": [
    "data.shape"
   ]
  },
  {
   "cell_type": "code",
   "execution_count": 133,
   "metadata": {},
   "outputs": [
    {
     "data": {
      "text/plain": [
       "Index(['Received_D', 'Disease_Label', 'Disease', 'RHC_BHU_Na', 'RHC_BHU_Ad',\n",
       "       'Location_Count', 'District', 'Lattitude', 'Longitude', 'Date_Time',\n",
       "       'Date_Count', 'AOD', 'AP', 'CO', 'NO2', 'O3', 'PM2.5', 'RH', 'SO2',\n",
       "       'Temp', 'WS'],\n",
       "      dtype='object')"
      ]
     },
     "execution_count": 133,
     "metadata": {},
     "output_type": "execute_result"
    }
   ],
   "source": [
    "data.columns"
   ]
  },
  {
   "cell_type": "code",
   "execution_count": 134,
   "metadata": {},
   "outputs": [
    {
     "data": {
      "text/plain": [
       "True"
      ]
     },
     "execution_count": 134,
     "metadata": {},
     "output_type": "execute_result"
    }
   ],
   "source": [
    "data.isnull().values.any()"
   ]
  },
  {
   "cell_type": "code",
   "execution_count": 135,
   "metadata": {},
   "outputs": [
    {
     "data": {
      "text/plain": [
       "<AxesSubplot:>"
      ]
     },
     "execution_count": 135,
     "metadata": {},
     "output_type": "execute_result"
    },
    {
     "data": {
      "image/png": "[encoded data removed]",
      "text/plain": [
       "<Figure size 432x288 with 1 Axes>"
      ]
     },
     "metadata": {
      "needs_background": "light"
     },
     "output_type": "display_data"
    }
   ],
   "source": [
    "sns.heatmap(data.isnull(), cbar=False)"
   ]
  },
  {
   "cell_type": "code",
   "execution_count": 136,
   "metadata": {},
   "outputs": [
    {
     "data": {
      "text/html": [
       "<div>\n",
       "<style scoped>\n",
       "    .dataframe tbody tr th:only-of-type {\n",
       "        vertical-align: middle;\n",
       "    }\n",
       "\n",
       "    .dataframe tbody tr th {\n",
       "        vertical-align: top;\n",
       "    }\n",
       "\n",
       "    .dataframe thead th {\n",
       "        text-align: right;\n",
       "    }\n",
       "</style>\n",
       "<table border=\"1\" class=\"dataframe\">\n",
       "  <thead>\n",
       "    <tr style=\"text-align: right;\">\n",
       "      <th></th>\n",
       "      <th>Disease_Label</th>\n",
       "      <th>Location_Count</th>\n",
       "      <th>Lattitude</th>\n",
       "      <th>Longitude</th>\n",
       "      <th>Date_Count</th>\n",
       "      <th>AOD</th>\n",
       "      <th>AP</th>\n",
       "      <th>CO</th>\n",
       "      <th>NO2</th>\n",
       "      <th>O3</th>\n",
       "      <th>PM2.5</th>\n",
       "      <th>RH</th>\n",
       "      <th>SO2</th>\n",
       "      <th>Temp</th>\n",
       "      <th>WS</th>\n",
       "    </tr>\n",
       "  </thead>\n",
       "  <tbody>\n",
       "    <tr>\n",
       "      <th>count</th>\n",
       "      <td>553.000000</td>\n",
       "      <td>553.000000</td>\n",
       "      <td>553.000000</td>\n",
       "      <td>553.000000</td>\n",
       "      <td>553.000000</td>\n",
       "      <td>159.000000</td>\n",
       "      <td>481.000000</td>\n",
       "      <td>456.000000</td>\n",
       "      <td>2.090000e+02</td>\n",
       "      <td>465.000000</td>\n",
       "      <td>552.000000</td>\n",
       "      <td>458.000000</td>\n",
       "      <td>188.00000</td>\n",
       "      <td>553.00000</td>\n",
       "      <td>548.000000</td>\n",
       "    </tr>\n",
       "    <tr>\n",
       "      <th>mean</th>\n",
       "      <td>0.643761</td>\n",
       "      <td>22.204340</td>\n",
       "      <td>31.257549</td>\n",
       "      <td>72.951641</td>\n",
       "      <td>908.338156</td>\n",
       "      <td>0.683618</td>\n",
       "      <td>139.683300</td>\n",
       "      <td>108.665388</td>\n",
       "      <td>3.811680e+15</td>\n",
       "      <td>58.979287</td>\n",
       "      <td>0.000044</td>\n",
       "      <td>21.391000</td>\n",
       "      <td>-0.10633</td>\n",
       "      <td>15.43407</td>\n",
       "      <td>3.622571</td>\n",
       "    </tr>\n",
       "    <tr>\n",
       "      <th>std</th>\n",
       "      <td>0.479321</td>\n",
       "      <td>17.158781</td>\n",
       "      <td>1.046057</td>\n",
       "      <td>1.181431</td>\n",
       "      <td>695.578632</td>\n",
       "      <td>0.430058</td>\n",
       "      <td>54.364615</td>\n",
       "      <td>7.689928</td>\n",
       "      <td>1.793017e+15</td>\n",
       "      <td>6.880281</td>\n",
       "      <td>0.000056</td>\n",
       "      <td>15.206496</td>\n",
       "      <td>0.59042</td>\n",
       "      <td>4.77658</td>\n",
       "      <td>1.099053</td>\n",
       "    </tr>\n",
       "    <tr>\n",
       "      <th>min</th>\n",
       "      <td>0.000000</td>\n",
       "      <td>1.000000</td>\n",
       "      <td>28.332020</td>\n",
       "      <td>70.116183</td>\n",
       "      <td>1.000000</td>\n",
       "      <td>0.000000</td>\n",
       "      <td>89.312500</td>\n",
       "      <td>87.660737</td>\n",
       "      <td>9.248780e+14</td>\n",
       "      <td>41.676685</td>\n",
       "      <td>0.000008</td>\n",
       "      <td>2.859380</td>\n",
       "      <td>-1.67000</td>\n",
       "      <td>7.76589</td>\n",
       "      <td>1.169440</td>\n",
       "    </tr>\n",
       "    <tr>\n",
       "      <th>25%</th>\n",
       "      <td>0.000000</td>\n",
       "      <td>5.000000</td>\n",
       "      <td>30.772300</td>\n",
       "      <td>72.332593</td>\n",
       "      <td>320.000000</td>\n",
       "      <td>0.425500</td>\n",
       "      <td>98.812500</td>\n",
       "      <td>103.478669</td>\n",
       "      <td>2.622550e+15</td>\n",
       "      <td>54.715201</td>\n",
       "      <td>0.000020</td>\n",
       "      <td>7.929688</td>\n",
       "      <td>-0.34000</td>\n",
       "      <td>12.85390</td>\n",
       "      <td>2.831840</td>\n",
       "    </tr>\n",
       "    <tr>\n",
       "      <th>50%</th>\n",
       "      <td>1.000000</td>\n",
       "      <td>21.000000</td>\n",
       "      <td>31.289634</td>\n",
       "      <td>73.041873</td>\n",
       "      <td>788.000000</td>\n",
       "      <td>0.503900</td>\n",
       "      <td>111.875000</td>\n",
       "      <td>108.848326</td>\n",
       "      <td>3.425900e+15</td>\n",
       "      <td>57.159923</td>\n",
       "      <td>0.000026</td>\n",
       "      <td>17.500000</td>\n",
       "      <td>-0.08500</td>\n",
       "      <td>14.20050</td>\n",
       "      <td>3.546430</td>\n",
       "    </tr>\n",
       "    <tr>\n",
       "      <th>75%</th>\n",
       "      <td>1.000000</td>\n",
       "      <td>37.000000</td>\n",
       "      <td>32.094217</td>\n",
       "      <td>73.712479</td>\n",
       "      <td>1593.000000</td>\n",
       "      <td>0.773800</td>\n",
       "      <td>194.875000</td>\n",
       "      <td>113.388524</td>\n",
       "      <td>4.448810e+15</td>\n",
       "      <td>63.795596</td>\n",
       "      <td>0.000039</td>\n",
       "      <td>29.625000</td>\n",
       "      <td>0.26000</td>\n",
       "      <td>16.22740</td>\n",
       "      <td>4.345575</td>\n",
       "    </tr>\n",
       "    <tr>\n",
       "      <th>max</th>\n",
       "      <td>1.000000</td>\n",
       "      <td>92.000000</td>\n",
       "      <td>33.957646</td>\n",
       "      <td>75.310606</td>\n",
       "      <td>2263.000000</td>\n",
       "      <td>2.809800</td>\n",
       "      <td>291.750000</td>\n",
       "      <td>130.734406</td>\n",
       "      <td>1.069450e+16</td>\n",
       "      <td>94.296411</td>\n",
       "      <td>0.000347</td>\n",
       "      <td>94.000000</td>\n",
       "      <td>1.45000</td>\n",
       "      <td>39.82000</td>\n",
       "      <td>8.938190</td>\n",
       "    </tr>\n",
       "  </tbody>\n",
       "</table>\n",
       "</div>"
      ],
      "text/plain": [
       "       Disease_Label  Location_Count   Lattitude   Longitude   Date_Count  \\\n",
       "count     553.000000      553.000000  553.000000  553.000000   553.000000   \n",
       "mean        0.643761       22.204340   31.257549   72.951641   908.338156   \n",
       "std         0.479321       17.158781    1.046057    1.181431   695.578632   \n",
       "min         0.000000        1.000000   28.332020   70.116183     1.000000   \n",
       "25%         0.000000        5.000000   30.772300   72.332593   320.000000   \n",
       "50%         1.000000       21.000000   31.289634   73.041873   788.000000   \n",
       "75%         1.000000       37.000000   32.094217   73.712479  1593.000000   \n",
       "max         1.000000       92.000000   33.957646   75.310606  2263.000000   \n",
       "\n",
       "              AOD          AP          CO           NO2          O3  \\\n",
       "count  159.000000  481.000000  456.000000  2.090000e+02  465.000000   \n",
       "mean     0.683618  139.683300  108.665388  3.811680e+15   58.979287   \n",
       "std      0.430058   54.364615    7.689928  1.793017e+15    6.880281   \n",
       "min      0.000000   89.312500   87.660737  9.248780e+14   41.676685   \n",
       "25%      0.425500   98.812500  103.478669  2.622550e+15   54.715201   \n",
       "50%      0.503900  111.875000  108.848326  3.425900e+15   57.159923   \n",
       "75%      0.773800  194.875000  113.388524  4.448810e+15   63.795596   \n",
       "max      2.809800  291.750000  130.734406  1.069450e+16   94.296411   \n",
       "\n",
       "            PM2.5          RH        SO2       Temp          WS  \n",
       "count  552.000000  458.000000  188.00000  553.00000  548.000000  \n",
       "mean     0.000044   21.391000   -0.10633   15.43407    3.622571  \n",
       "std      0.000056   15.206496    0.59042    4.77658    1.099053  \n",
       "min      0.000008    2.859380   -1.67000    7.76589    1.169440  \n",
       "25%      0.000020    7.929688   -0.34000   12.85390    2.831840  \n",
       "50%      0.000026   17.500000   -0.08500   14.20050    3.546430  \n",
       "75%      0.000039   29.625000    0.26000   16.22740    4.345575  \n",
       "max      0.000347   94.000000    1.45000   39.82000    8.938190  "
      ]
     },
     "execution_count": 136,
     "metadata": {},
     "output_type": "execute_result"
    }
   ],
   "source": [
    "data.describe()"
   ]
  },
  {
   "cell_type": "code",
   "execution_count": 137,
   "metadata": {},
   "outputs": [
    {
     "data": {
      "text/plain": [
       "Received_D         object\n",
       "Disease_Label       int64\n",
       "Disease            object\n",
       "RHC_BHU_Na         object\n",
       "RHC_BHU_Ad         object\n",
       "Location_Count      int64\n",
       "District           object\n",
       "Lattitude         float64\n",
       "Longitude         float64\n",
       "Date_Time          object\n",
       "Date_Count          int64\n",
       "AOD               float64\n",
       "AP                float64\n",
       "CO                float64\n",
       "NO2               float64\n",
       "O3                float64\n",
       "PM2.5             float64\n",
       "RH                float64\n",
       "SO2               float64\n",
       "Temp              float64\n",
       "WS                float64\n",
       "dtype: object"
      ]
     },
     "execution_count": 137,
     "metadata": {},
     "output_type": "execute_result"
    }
   ],
   "source": [
    "data.dtypes"
   ]
  },
  {
   "cell_type": "code",
   "execution_count": 150,
   "metadata": {},
   "outputs": [],
   "source": [
    "data1 = data.drop(['Received_D' ,'Disease', 'RHC_BHU_Na', 'District', 'Lattitude', 'Longitude',\\\n",
    "                 'Date_Time', 'Date_Count','Location_Count'], axis = 1)"
   ]
  },
  {
   "cell_type": "code",
   "execution_count": 151,
   "metadata": {},
   "outputs": [
    {
     "data": {
      "text/html": [
       "<div>\n",
       "<style scoped>\n",
       "    .dataframe tbody tr th:only-of-type {\n",
       "        vertical-align: middle;\n",
       "    }\n",
       "\n",
       "    .dataframe tbody tr th {\n",
       "        vertical-align: top;\n",
       "    }\n",
       "\n",
       "    .dataframe thead th {\n",
       "        text-align: right;\n",
       "    }\n",
       "</style>\n",
       "<table border=\"1\" class=\"dataframe\">\n",
       "  <thead>\n",
       "    <tr style=\"text-align: right;\">\n",
       "      <th></th>\n",
       "      <th>Disease_Label</th>\n",
       "      <th>RHC_BHU_Ad</th>\n",
       "      <th>AOD</th>\n",
       "      <th>AP</th>\n",
       "      <th>CO</th>\n",
       "      <th>NO2</th>\n",
       "      <th>O3</th>\n",
       "      <th>PM2.5</th>\n",
       "      <th>RH</th>\n",
       "      <th>SO2</th>\n",
       "      <th>Temp</th>\n",
       "      <th>WS</th>\n",
       "    </tr>\n",
       "  </thead>\n",
       "  <tbody>\n",
       "    <tr>\n",
       "      <th>0</th>\n",
       "      <td>1</td>\n",
       "      <td>SHUMAR (GUNJIAL) KHUSHAB</td>\n",
       "      <td>0.3503</td>\n",
       "      <td>189.1250</td>\n",
       "      <td>91.211405</td>\n",
       "      <td>2.335950e+15</td>\n",
       "      <td>65.832864</td>\n",
       "      <td>0.000020</td>\n",
       "      <td>22.875</td>\n",
       "      <td>0.68</td>\n",
       "      <td>18.6460</td>\n",
       "      <td>2.75567</td>\n",
       "    </tr>\n",
       "    <tr>\n",
       "      <th>1</th>\n",
       "      <td>1</td>\n",
       "      <td>62 D CHAK 62 D TEHSIL PAKPATTAN PAKPATTAN</td>\n",
       "      <td>0.4661</td>\n",
       "      <td>106.3750</td>\n",
       "      <td>94.820280</td>\n",
       "      <td>5.739270e+15</td>\n",
       "      <td>65.891072</td>\n",
       "      <td>0.000020</td>\n",
       "      <td>19.000</td>\n",
       "      <td>0.22</td>\n",
       "      <td>18.4878</td>\n",
       "      <td>3.21655</td>\n",
       "    </tr>\n",
       "    <tr>\n",
       "      <th>2</th>\n",
       "      <td>1</td>\n",
       "      <td>KUMHARIWALA PAKPATTAN</td>\n",
       "      <td>0.4661</td>\n",
       "      <td>93.3125</td>\n",
       "      <td>92.841219</td>\n",
       "      <td>4.477190e+15</td>\n",
       "      <td>64.959750</td>\n",
       "      <td>0.000019</td>\n",
       "      <td>17.500</td>\n",
       "      <td>-0.08</td>\n",
       "      <td>18.4878</td>\n",
       "      <td>3.15340</td>\n",
       "    </tr>\n",
       "    <tr>\n",
       "      <th>3</th>\n",
       "      <td>1</td>\n",
       "      <td>KALYANA PAKPATTAN</td>\n",
       "      <td>0.4661</td>\n",
       "      <td>93.3125</td>\n",
       "      <td>92.841219</td>\n",
       "      <td>4.483400e+15</td>\n",
       "      <td>64.959750</td>\n",
       "      <td>0.000020</td>\n",
       "      <td>17.500</td>\n",
       "      <td>-0.50</td>\n",
       "      <td>18.7967</td>\n",
       "      <td>2.83184</td>\n",
       "    </tr>\n",
       "    <tr>\n",
       "      <th>4</th>\n",
       "      <td>1</td>\n",
       "      <td>JAFFAR ALI SHAH PAKPATTAN</td>\n",
       "      <td>0.4661</td>\n",
       "      <td>93.3125</td>\n",
       "      <td>92.841219</td>\n",
       "      <td>4.477190e+15</td>\n",
       "      <td>64.959750</td>\n",
       "      <td>0.000021</td>\n",
       "      <td>17.500</td>\n",
       "      <td>-0.08</td>\n",
       "      <td>18.9396</td>\n",
       "      <td>2.62127</td>\n",
       "    </tr>\n",
       "  </tbody>\n",
       "</table>\n",
       "</div>"
      ],
      "text/plain": [
       "   Disease_Label                                 RHC_BHU_Ad     AOD        AP  \\\n",
       "0              1                   SHUMAR (GUNJIAL) KHUSHAB  0.3503  189.1250   \n",
       "1              1  62 D CHAK 62 D TEHSIL PAKPATTAN PAKPATTAN  0.4661  106.3750   \n",
       "2              1                      KUMHARIWALA PAKPATTAN  0.4661   93.3125   \n",
       "3              1                          KALYANA PAKPATTAN  0.4661   93.3125   \n",
       "4              1                  JAFFAR ALI SHAH PAKPATTAN  0.4661   93.3125   \n",
       "\n",
       "          CO           NO2         O3     PM2.5      RH   SO2     Temp  \\\n",
       "0  91.211405  2.335950e+15  65.832864  0.000020  22.875  0.68  18.6460   \n",
       "1  94.820280  5.739270e+15  65.891072  0.000020  19.000  0.22  18.4878   \n",
       "2  92.841219  4.477190e+15  64.959750  0.000019  17.500 -0.08  18.4878   \n",
       "3  92.841219  4.483400e+15  64.959750  0.000020  17.500 -0.50  18.7967   \n",
       "4  92.841219  4.477190e+15  64.959750  0.000021  17.500 -0.08  18.9396   \n",
       "\n",
       "        WS  \n",
       "0  2.75567  \n",
       "1  3.21655  \n",
       "2  3.15340  \n",
       "3  2.83184  \n",
       "4  2.62127  "
      ]
     },
     "execution_count": 151,
     "metadata": {},
     "output_type": "execute_result"
    }
   ],
   "source": [
    "data1.head()"
   ]
  },
  {
   "cell_type": "code",
   "execution_count": 152,
   "metadata": {},
   "outputs": [
    {
     "data": {
      "text/plain": [
       "(553, 12)"
      ]
     },
     "execution_count": 152,
     "metadata": {},
     "output_type": "execute_result"
    }
   ],
   "source": [
    "data1.shape"
   ]
  },
  {
   "cell_type": "code",
   "execution_count": 153,
   "metadata": {},
   "outputs": [
    {
     "data": {
      "text/plain": [
       "Disease_Label      0\n",
       "RHC_BHU_Ad         0\n",
       "AOD              394\n",
       "AP                72\n",
       "CO                97\n",
       "NO2              344\n",
       "O3                88\n",
       "PM2.5              1\n",
       "RH                95\n",
       "SO2              365\n",
       "Temp               0\n",
       "WS                 5\n",
       "dtype: int64"
      ]
     },
     "execution_count": 153,
     "metadata": {},
     "output_type": "execute_result"
    }
   ],
   "source": [
    "data1.isnull().sum()"
   ]
  },
  {
   "cell_type": "code",
   "execution_count": 154,
   "metadata": {},
   "outputs": [],
   "source": [
    "data2 = data1.fillna(data1.mean())"
   ]
  },
  {
   "cell_type": "code",
   "execution_count": 155,
   "metadata": {},
   "outputs": [
    {
     "data": {
      "text/plain": [
       "Disease_Label    0\n",
       "RHC_BHU_Ad       0\n",
       "AOD              0\n",
       "AP               0\n",
       "CO               0\n",
       "NO2              0\n",
       "O3               0\n",
       "PM2.5            0\n",
       "RH               0\n",
       "SO2              0\n",
       "Temp             0\n",
       "WS               0\n",
       "dtype: int64"
      ]
     },
     "execution_count": 155,
     "metadata": {},
     "output_type": "execute_result"
    }
   ],
   "source": [
    "data2.isnull().sum()"
   ]
  },
  {
   "cell_type": "code",
   "execution_count": 156,
   "metadata": {},
   "outputs": [
    {
     "name": "stdout",
     "output_type": "stream",
     "text": [
      "The number of values  for feature Disease_Label : 2 -- [0 1]\n",
      "The number of values  for feature RHC_BHU_Ad : 525\n",
      "The number of values  for feature AOD : 43\n",
      "The number of values  for feature AP : 137\n",
      "The number of values  for feature CO : 127\n",
      "The number of values  for feature NO2 : 138\n",
      "The number of values  for feature O3 : 135\n",
      "The number of values  for feature PM2.5 : 234\n",
      "The number of values  for feature RH : 124\n",
      "The number of values  for feature SO2 : 66\n",
      "The number of values  for feature Temp : 229\n",
      "The number of values  for feature WS : 228\n"
     ]
    }
   ],
   "source": [
    "for column in data2:\n",
    "    unique_vals = np.unique(data2[column])\n",
    "    nr_values = len(unique_vals)\n",
    "    if nr_values <= 12:\n",
    "        print('The number of values  for feature {} : {} -- {}'.format(column, nr_values,unique_vals))\n",
    "    else:\n",
    "        print('The number of values  for feature {} : {}'.format(column, nr_values))"
   ]
  },
  {
   "cell_type": "code",
   "execution_count": 157,
   "metadata": {},
   "outputs": [
    {
     "name": "stdout",
     "output_type": "stream",
     "text": [
      "(553, 12)\n",
      "(553, 1)\n",
      "(553, 525)\n"
     ]
    },
    {
     "data": {
      "text/html": [
       "<div>\n",
       "<style scoped>\n",
       "    .dataframe tbody tr th:only-of-type {\n",
       "        vertical-align: middle;\n",
       "    }\n",
       "\n",
       "    .dataframe tbody tr th {\n",
       "        vertical-align: top;\n",
       "    }\n",
       "\n",
       "    .dataframe thead th {\n",
       "        text-align: right;\n",
       "    }\n",
       "</style>\n",
       "<table border=\"1\" class=\"dataframe\">\n",
       "  <thead>\n",
       "    <tr style=\"text-align: right;\">\n",
       "      <th></th>\n",
       "      <th>RHC_BHU_Ad_1 WB VEHARI</th>\n",
       "      <th>RHC_BHU_Ad_221 Dooghra CHINIOT</th>\n",
       "      <th>RHC_BHU_Ad_267 EB VEHARI</th>\n",
       "      <th>RHC_BHU_Ad_41 WB VEHARI</th>\n",
       "      <th>RHC_BHU_Ad_453 GB FAISALABAD</th>\n",
       "      <th>RHC_BHU_Ad_477 EB VEHARI</th>\n",
       "      <th>RHC_BHU_Ad_490 GB 490 GB FAISALABAD</th>\n",
       "      <th>RHC_BHU_Ad_518-TDA MUZAFFARGARH</th>\n",
       "      <th>RHC_BHU_Ad_521 EB VEHARI</th>\n",
       "      <th>RHC_BHU_Ad_53 WB VEHARI</th>\n",
       "      <th>...</th>\n",
       "      <th>RHC_BHU_Ad_VANDALA NASIR KHAN SHEIKHUPURA</th>\n",
       "      <th>RHC_BHU_Ad_VARIO SIALKOT</th>\n",
       "      <th>RHC_BHU_Ad_VEERM CHAK 4 KASUR</th>\n",
       "      <th>RHC_BHU_Ad_VIJH SARGODHA</th>\n",
       "      <th>RHC_BHU_Ad_WAHEER KHUSHAB</th>\n",
       "      <th>RHC_BHU_Ad_WANDILA JAGHEER OKARA</th>\n",
       "      <th>RHC_BHU_Ad_WARA SEHRAN LAYYAH</th>\n",
       "      <th>RHC_BHU_Ad_WARSALKE SIALKOT</th>\n",
       "      <th>RHC_BHU_Ad_Wali Pur Bora NAROWAL</th>\n",
       "      <th>RHC_BHU_Ad_Wandhar MUZAFFARGARH</th>\n",
       "    </tr>\n",
       "  </thead>\n",
       "  <tbody>\n",
       "    <tr>\n",
       "      <th>0</th>\n",
       "      <td>0</td>\n",
       "      <td>0</td>\n",
       "      <td>0</td>\n",
       "      <td>0</td>\n",
       "      <td>0</td>\n",
       "      <td>0</td>\n",
       "      <td>0</td>\n",
       "      <td>0</td>\n",
       "      <td>0</td>\n",
       "      <td>0</td>\n",
       "      <td>...</td>\n",
       "      <td>0</td>\n",
       "      <td>0</td>\n",
       "      <td>0</td>\n",
       "      <td>0</td>\n",
       "      <td>0</td>\n",
       "      <td>0</td>\n",
       "      <td>0</td>\n",
       "      <td>0</td>\n",
       "      <td>0</td>\n",
       "      <td>0</td>\n",
       "    </tr>\n",
       "    <tr>\n",
       "      <th>1</th>\n",
       "      <td>0</td>\n",
       "      <td>0</td>\n",
       "      <td>0</td>\n",
       "      <td>0</td>\n",
       "      <td>0</td>\n",
       "      <td>0</td>\n",
       "      <td>0</td>\n",
       "      <td>0</td>\n",
       "      <td>0</td>\n",
       "      <td>0</td>\n",
       "      <td>...</td>\n",
       "      <td>0</td>\n",
       "      <td>0</td>\n",
       "      <td>0</td>\n",
       "      <td>0</td>\n",
       "      <td>0</td>\n",
       "      <td>0</td>\n",
       "      <td>0</td>\n",
       "      <td>0</td>\n",
       "      <td>0</td>\n",
       "      <td>0</td>\n",
       "    </tr>\n",
       "    <tr>\n",
       "      <th>2</th>\n",
       "      <td>0</td>\n",
       "      <td>0</td>\n",
       "      <td>0</td>\n",
       "      <td>0</td>\n",
       "      <td>0</td>\n",
       "      <td>0</td>\n",
       "      <td>0</td>\n",
       "      <td>0</td>\n",
       "      <td>0</td>\n",
       "      <td>0</td>\n",
       "      <td>...</td>\n",
       "      <td>0</td>\n",
       "      <td>0</td>\n",
       "      <td>0</td>\n",
       "      <td>0</td>\n",
       "      <td>0</td>\n",
       "      <td>0</td>\n",
       "      <td>0</td>\n",
       "      <td>0</td>\n",
       "      <td>0</td>\n",
       "      <td>0</td>\n",
       "    </tr>\n",
       "    <tr>\n",
       "      <th>3</th>\n",
       "      <td>0</td>\n",
       "      <td>0</td>\n",
       "      <td>0</td>\n",
       "      <td>0</td>\n",
       "      <td>0</td>\n",
       "      <td>0</td>\n",
       "      <td>0</td>\n",
       "      <td>0</td>\n",
       "      <td>0</td>\n",
       "      <td>0</td>\n",
       "      <td>...</td>\n",
       "      <td>0</td>\n",
       "      <td>0</td>\n",
       "      <td>0</td>\n",
       "      <td>0</td>\n",
       "      <td>0</td>\n",
       "      <td>0</td>\n",
       "      <td>0</td>\n",
       "      <td>0</td>\n",
       "      <td>0</td>\n",
       "      <td>0</td>\n",
       "    </tr>\n",
       "    <tr>\n",
       "      <th>4</th>\n",
       "      <td>0</td>\n",
       "      <td>0</td>\n",
       "      <td>0</td>\n",
       "      <td>0</td>\n",
       "      <td>0</td>\n",
       "      <td>0</td>\n",
       "      <td>0</td>\n",
       "      <td>0</td>\n",
       "      <td>0</td>\n",
       "      <td>0</td>\n",
       "      <td>...</td>\n",
       "      <td>0</td>\n",
       "      <td>0</td>\n",
       "      <td>0</td>\n",
       "      <td>0</td>\n",
       "      <td>0</td>\n",
       "      <td>0</td>\n",
       "      <td>0</td>\n",
       "      <td>0</td>\n",
       "      <td>0</td>\n",
       "      <td>0</td>\n",
       "    </tr>\n",
       "    <tr>\n",
       "      <th>...</th>\n",
       "      <td>...</td>\n",
       "      <td>...</td>\n",
       "      <td>...</td>\n",
       "      <td>...</td>\n",
       "      <td>...</td>\n",
       "      <td>...</td>\n",
       "      <td>...</td>\n",
       "      <td>...</td>\n",
       "      <td>...</td>\n",
       "      <td>...</td>\n",
       "      <td>...</td>\n",
       "      <td>...</td>\n",
       "      <td>...</td>\n",
       "      <td>...</td>\n",
       "      <td>...</td>\n",
       "      <td>...</td>\n",
       "      <td>...</td>\n",
       "      <td>...</td>\n",
       "      <td>...</td>\n",
       "      <td>...</td>\n",
       "      <td>...</td>\n",
       "    </tr>\n",
       "    <tr>\n",
       "      <th>548</th>\n",
       "      <td>0</td>\n",
       "      <td>0</td>\n",
       "      <td>0</td>\n",
       "      <td>0</td>\n",
       "      <td>0</td>\n",
       "      <td>0</td>\n",
       "      <td>0</td>\n",
       "      <td>0</td>\n",
       "      <td>0</td>\n",
       "      <td>0</td>\n",
       "      <td>...</td>\n",
       "      <td>0</td>\n",
       "      <td>0</td>\n",
       "      <td>0</td>\n",
       "      <td>0</td>\n",
       "      <td>0</td>\n",
       "      <td>0</td>\n",
       "      <td>0</td>\n",
       "      <td>0</td>\n",
       "      <td>0</td>\n",
       "      <td>0</td>\n",
       "    </tr>\n",
       "    <tr>\n",
       "      <th>549</th>\n",
       "      <td>0</td>\n",
       "      <td>0</td>\n",
       "      <td>0</td>\n",
       "      <td>0</td>\n",
       "      <td>0</td>\n",
       "      <td>0</td>\n",
       "      <td>0</td>\n",
       "      <td>0</td>\n",
       "      <td>0</td>\n",
       "      <td>0</td>\n",
       "      <td>...</td>\n",
       "      <td>0</td>\n",
       "      <td>0</td>\n",
       "      <td>0</td>\n",
       "      <td>0</td>\n",
       "      <td>0</td>\n",
       "      <td>0</td>\n",
       "      <td>0</td>\n",
       "      <td>0</td>\n",
       "      <td>0</td>\n",
       "      <td>0</td>\n",
       "    </tr>\n",
       "    <tr>\n",
       "      <th>550</th>\n",
       "      <td>0</td>\n",
       "      <td>0</td>\n",
       "      <td>0</td>\n",
       "      <td>0</td>\n",
       "      <td>0</td>\n",
       "      <td>0</td>\n",
       "      <td>0</td>\n",
       "      <td>0</td>\n",
       "      <td>0</td>\n",
       "      <td>0</td>\n",
       "      <td>...</td>\n",
       "      <td>0</td>\n",
       "      <td>0</td>\n",
       "      <td>0</td>\n",
       "      <td>0</td>\n",
       "      <td>0</td>\n",
       "      <td>0</td>\n",
       "      <td>0</td>\n",
       "      <td>0</td>\n",
       "      <td>0</td>\n",
       "      <td>0</td>\n",
       "    </tr>\n",
       "    <tr>\n",
       "      <th>551</th>\n",
       "      <td>0</td>\n",
       "      <td>0</td>\n",
       "      <td>0</td>\n",
       "      <td>0</td>\n",
       "      <td>0</td>\n",
       "      <td>0</td>\n",
       "      <td>0</td>\n",
       "      <td>0</td>\n",
       "      <td>0</td>\n",
       "      <td>0</td>\n",
       "      <td>...</td>\n",
       "      <td>0</td>\n",
       "      <td>0</td>\n",
       "      <td>0</td>\n",
       "      <td>0</td>\n",
       "      <td>0</td>\n",
       "      <td>0</td>\n",
       "      <td>0</td>\n",
       "      <td>0</td>\n",
       "      <td>0</td>\n",
       "      <td>0</td>\n",
       "    </tr>\n",
       "    <tr>\n",
       "      <th>552</th>\n",
       "      <td>0</td>\n",
       "      <td>0</td>\n",
       "      <td>0</td>\n",
       "      <td>0</td>\n",
       "      <td>0</td>\n",
       "      <td>0</td>\n",
       "      <td>0</td>\n",
       "      <td>0</td>\n",
       "      <td>0</td>\n",
       "      <td>0</td>\n",
       "      <td>...</td>\n",
       "      <td>0</td>\n",
       "      <td>0</td>\n",
       "      <td>0</td>\n",
       "      <td>0</td>\n",
       "      <td>0</td>\n",
       "      <td>0</td>\n",
       "      <td>0</td>\n",
       "      <td>0</td>\n",
       "      <td>0</td>\n",
       "      <td>0</td>\n",
       "    </tr>\n",
       "  </tbody>\n",
       "</table>\n",
       "<p>553 rows × 525 columns</p>\n",
       "</div>"
      ],
      "text/plain": [
       "     RHC_BHU_Ad_1 WB VEHARI  RHC_BHU_Ad_221 Dooghra CHINIOT  \\\n",
       "0                         0                               0   \n",
       "1                         0                               0   \n",
       "2                         0                               0   \n",
       "3                         0                               0   \n",
       "4                         0                               0   \n",
       "..                      ...                             ...   \n",
       "548                       0                               0   \n",
       "549                       0                               0   \n",
       "550                       0                               0   \n",
       "551                       0                               0   \n",
       "552                       0                               0   \n",
       "\n",
       "     RHC_BHU_Ad_267 EB VEHARI  RHC_BHU_Ad_41 WB VEHARI  \\\n",
       "0                           0                        0   \n",
       "1                           0                        0   \n",
       "2                           0                        0   \n",
       "3                           0                        0   \n",
       "4                           0                        0   \n",
       "..                        ...                      ...   \n",
       "548                         0                        0   \n",
       "549                         0                        0   \n",
       "550                         0                        0   \n",
       "551                         0                        0   \n",
       "552                         0                        0   \n",
       "\n",
       "     RHC_BHU_Ad_453 GB FAISALABAD  RHC_BHU_Ad_477 EB VEHARI  \\\n",
       "0                               0                         0   \n",
       "1                               0                         0   \n",
       "2                               0                         0   \n",
       "3                               0                         0   \n",
       "4                               0                         0   \n",
       "..                            ...                       ...   \n",
       "548                             0                         0   \n",
       "549                             0                         0   \n",
       "550                             0                         0   \n",
       "551                             0                         0   \n",
       "552                             0                         0   \n",
       "\n",
       "     RHC_BHU_Ad_490 GB 490 GB FAISALABAD  RHC_BHU_Ad_518-TDA MUZAFFARGARH  \\\n",
       "0                                      0                                0   \n",
       "1                                      0                                0   \n",
       "2                                      0                                0   \n",
       "3                                      0                                0   \n",
       "4                                      0                                0   \n",
       "..                                   ...                              ...   \n",
       "548                                    0                                0   \n",
       "549                                    0                                0   \n",
       "550                                    0                                0   \n",
       "551                                    0                                0   \n",
       "552                                    0                                0   \n",
       "\n",
       "     RHC_BHU_Ad_521 EB VEHARI  RHC_BHU_Ad_53 WB VEHARI  ...  \\\n",
       "0                           0                        0  ...   \n",
       "1                           0                        0  ...   \n",
       "2                           0                        0  ...   \n",
       "3                           0                        0  ...   \n",
       "4                           0                        0  ...   \n",
       "..                        ...                      ...  ...   \n",
       "548                         0                        0  ...   \n",
       "549                         0                        0  ...   \n",
       "550                         0                        0  ...   \n",
       "551                         0                        0  ...   \n",
       "552                         0                        0  ...   \n",
       "\n",
       "     RHC_BHU_Ad_VANDALA NASIR KHAN SHEIKHUPURA  RHC_BHU_Ad_VARIO SIALKOT  \\\n",
       "0                                            0                         0   \n",
       "1                                            0                         0   \n",
       "2                                            0                         0   \n",
       "3                                            0                         0   \n",
       "4                                            0                         0   \n",
       "..                                         ...                       ...   \n",
       "548                                          0                         0   \n",
       "549                                          0                         0   \n",
       "550                                          0                         0   \n",
       "551                                          0                         0   \n",
       "552                                          0                         0   \n",
       "\n",
       "     RHC_BHU_Ad_VEERM CHAK 4 KASUR  RHC_BHU_Ad_VIJH SARGODHA  \\\n",
       "0                                0                         0   \n",
       "1                                0                         0   \n",
       "2                                0                         0   \n",
       "3                                0                         0   \n",
       "4                                0                         0   \n",
       "..                             ...                       ...   \n",
       "548                              0                         0   \n",
       "549                              0                         0   \n",
       "550                              0                         0   \n",
       "551                              0                         0   \n",
       "552                              0                         0   \n",
       "\n",
       "     RHC_BHU_Ad_WAHEER KHUSHAB  RHC_BHU_Ad_WANDILA JAGHEER OKARA  \\\n",
       "0                            0                                 0   \n",
       "1                            0                                 0   \n",
       "2                            0                                 0   \n",
       "3                            0                                 0   \n",
       "4                            0                                 0   \n",
       "..                         ...                               ...   \n",
       "548                          0                                 0   \n",
       "549                          0                                 0   \n",
       "550                          0                                 0   \n",
       "551                          0                                 0   \n",
       "552                          0                                 0   \n",
       "\n",
       "     RHC_BHU_Ad_WARA SEHRAN LAYYAH  RHC_BHU_Ad_WARSALKE SIALKOT  \\\n",
       "0                                0                            0   \n",
       "1                                0                            0   \n",
       "2                                0                            0   \n",
       "3                                0                            0   \n",
       "4                                0                            0   \n",
       "..                             ...                          ...   \n",
       "548                              0                            0   \n",
       "549                              0                            0   \n",
       "550                              0                            0   \n",
       "551                              0                            0   \n",
       "552                              0                            0   \n",
       "\n",
       "     RHC_BHU_Ad_Wali Pur Bora NAROWAL  RHC_BHU_Ad_Wandhar MUZAFFARGARH  \n",
       "0                                   0                                0  \n",
       "1                                   0                                0  \n",
       "2                                   0                                0  \n",
       "3                                   0                                0  \n",
       "4                                   0                                0  \n",
       "..                                ...                              ...  \n",
       "548                                 0                                0  \n",
       "549                                 0                                0  \n",
       "550                                 0                                0  \n",
       "551                                 0                                0  \n",
       "552                                 0                                0  \n",
       "\n",
       "[553 rows x 525 columns]"
      ]
     },
     "execution_count": 157,
     "metadata": {},
     "output_type": "execute_result"
    }
   ],
   "source": [
    "# Making categorical variables into numeric representation\n",
    "sel_features = ['RHC_BHU_Ad']\n",
    "\n",
    "print(data2.shape)\n",
    "\n",
    "raw_data = data1[sel_features]\n",
    "print(raw_data.shape)\n",
    "\n",
    "# Making categorical variables into numeric representation\n",
    "new_raw_data = pd.get_dummies(raw_data, columns = sel_features)\n",
    "\n",
    "print(new_raw_data.shape)\n",
    "\n",
    "new_raw_data"
   ]
  },
  {
   "cell_type": "code",
   "execution_count": 158,
   "metadata": {},
   "outputs": [
    {
     "data": {
      "text/plain": [
       "(553, 537)"
      ]
     },
     "execution_count": 158,
     "metadata": {},
     "output_type": "execute_result"
    }
   ],
   "source": [
    "data3 = pd.concat([data2, new_raw_data], axis=1)\n",
    "data3.shape"
   ]
  },
  {
   "cell_type": "code",
   "execution_count": 192,
   "metadata": {},
   "outputs": [],
   "source": [
    "#data3.to_csv('DayDataCorrelation(Day).csv', index = False)"
   ]
  },
  {
   "cell_type": "code",
   "execution_count": 163,
   "metadata": {},
   "outputs": [
    {
     "data": {
      "text/plain": [
       "(553, 535)"
      ]
     },
     "execution_count": 163,
     "metadata": {},
     "output_type": "execute_result"
    }
   ],
   "source": [
    "X = data3.drop(['Disease_Label','RHC_BHU_Ad'], axis = 1)\n",
    "X = X.values\n",
    "X.shape"
   ]
  },
  {
   "cell_type": "code",
   "execution_count": 164,
   "metadata": {},
   "outputs": [
    {
     "data": {
      "text/plain": [
       "(553,)"
      ]
     },
     "execution_count": 164,
     "metadata": {},
     "output_type": "execute_result"
    }
   ],
   "source": [
    "y = data3['Disease_Label']\n",
    "y = y.values\n",
    "y.shape"
   ]
  },
  {
   "cell_type": "code",
   "execution_count": 165,
   "metadata": {},
   "outputs": [],
   "source": [
    "from sklearn.preprocessing import MinMaxScaler\n",
    "scaler = MinMaxScaler()\n",
    "X_sc = scaler.fit_transform(X)"
   ]
  },
  {
   "cell_type": "code",
   "execution_count": 166,
   "metadata": {},
   "outputs": [
    {
     "name": "stdout",
     "output_type": "stream",
     "text": [
      "(553, 535)\n",
      "(553,)\n"
     ]
    }
   ],
   "source": [
    "print(X_sc.shape)\n",
    "print(y.shape)"
   ]
  },
  {
   "cell_type": "code",
   "execution_count": 167,
   "metadata": {},
   "outputs": [],
   "source": [
    "from imblearn.over_sampling import SMOTE \n",
    "smote = SMOTE()\n",
    "from collections import Counter"
   ]
  },
  {
   "cell_type": "code",
   "execution_count": 168,
   "metadata": {},
   "outputs": [],
   "source": [
    "X_S, y_S = smote.fit_resample(X_sc,y)"
   ]
  },
  {
   "cell_type": "code",
   "execution_count": 169,
   "metadata": {},
   "outputs": [
    {
     "name": "stdout",
     "output_type": "stream",
     "text": [
      "(553, 535)\n",
      "(553,)\n"
     ]
    }
   ],
   "source": [
    "print(X.shape)\n",
    "print(y.shape)"
   ]
  },
  {
   "cell_type": "code",
   "execution_count": 170,
   "metadata": {},
   "outputs": [
    {
     "name": "stdout",
     "output_type": "stream",
     "text": [
      "(712, 535)\n",
      "(712,)\n"
     ]
    }
   ],
   "source": [
    "print(X_S.shape)\n",
    "print(y_S.shape)"
   ]
  },
  {
   "cell_type": "code",
   "execution_count": 171,
   "metadata": {},
   "outputs": [
    {
     "name": "stdout",
     "output_type": "stream",
     "text": [
      "Before Smote : Counter({1: 356, 0: 197})\n",
      "After Smote : Counter({1: 356, 0: 356})\n"
     ]
    }
   ],
   "source": [
    "print(\"Before Smote :\", Counter(y))\n",
    "print(\"After Smote :\", Counter(y_S))"
   ]
  },
  {
   "cell_type": "code",
   "execution_count": 172,
   "metadata": {},
   "outputs": [],
   "source": [
    "#Test Train Split\n",
    "X_train, X_test, y_train, y_test = train_test_split(X_sc, y, test_size = 0.20, random_state = 5)\n",
    "X_train_S, X_test_S, y_train_S, y_test_S = train_test_split(X_S, y_S, test_size = 0.20, random_state = 5)"
   ]
  },
  {
   "cell_type": "code",
   "execution_count": 174,
   "metadata": {},
   "outputs": [
    {
     "name": "stdout",
     "output_type": "stream",
     "text": [
      "(442, 535)\n",
      "(442,)\n",
      "(111, 535)\n",
      "(111,)\n"
     ]
    }
   ],
   "source": [
    "print(X_train.shape)\n",
    "print(y_train.shape)\n",
    "print(X_test.shape)\n",
    "print(y_test.shape)"
   ]
  },
  {
   "cell_type": "code",
   "execution_count": 175,
   "metadata": {},
   "outputs": [
    {
     "name": "stdout",
     "output_type": "stream",
     "text": [
      "(569, 535)\n",
      "(569,)\n",
      "(143, 535)\n",
      "(143,)\n"
     ]
    }
   ],
   "source": [
    "print(X_train_S.shape)\n",
    "print(y_train_S.shape)\n",
    "print(X_test_S.shape)\n",
    "print(y_test_S.shape)"
   ]
  },
  {
   "cell_type": "markdown",
   "metadata": {},
   "source": [
    "### SVM"
   ]
  },
  {
   "cell_type": "code",
   "execution_count": 176,
   "metadata": {},
   "outputs": [
    {
     "name": "stdout",
     "output_type": "stream",
     "text": [
      "Best Results with Grid Search:\n",
      "0.6742424242424242\n",
      "{'C': 1, 'gamma': 5, 'kernel': 'rbf'}\n",
      "\n",
      "Accuracy Score  on test data: 0.5225225225225225\n",
      "[[ 0 52]\n",
      " [ 1 58]]\n",
      "              precision    recall  f1-score   support\n",
      "\n",
      "           0       0.00      0.00      0.00        52\n",
      "           1       0.53      0.98      0.69        59\n",
      "\n",
      "    accuracy                           0.52       111\n",
      "   macro avg       0.26      0.49      0.34       111\n",
      "weighted avg       0.28      0.52      0.36       111\n",
      "\n"
     ]
    }
   ],
   "source": [
    "#without SMOTE\n",
    "model = SVC(random_state = 0) \n",
    "\n",
    "parameters = [{'C': [0.01,0.1,1,10,100], 'kernel': ['rbf', 'linear'], 'gamma':[0.01,0.5,1,5,10]}]\n",
    "\n",
    "grid_search = GridSearchCV(estimator = model,\n",
    "                           param_grid = parameters,\n",
    "                           scoring = 'accuracy',\n",
    "                           cv = 10, n_jobs = -1)\n",
    "\n",
    "grid_search = grid_search.fit(X_train, y_train)\n",
    "\n",
    "print('Best Results with Grid Search:')\n",
    "print(grid_search.best_score_)\n",
    "print(grid_search.best_params_)\n",
    "\n",
    "y_pred = grid_search.predict(X_test)\n",
    "\n",
    "print('\\nAccuracy Score  on test data: ' + str(accuracy_score(y_test, y_pred)))\n",
    "print(confusion_matrix(y_test,y_pred))\n",
    "print(classification_report(y_test,y_pred))"
   ]
  },
  {
   "cell_type": "code",
   "execution_count": 177,
   "metadata": {},
   "outputs": [
    {
     "name": "stdout",
     "output_type": "stream",
     "text": [
      "Best Results with Grid Search:\n",
      "0.8400062656641604\n",
      "{'C': 1, 'gamma': 0.01, 'kernel': 'linear'}\n",
      "\n",
      "Accuracy Score  on test data: 0.8951048951048951\n",
      "[[57 10]\n",
      " [ 5 71]]\n",
      "              precision    recall  f1-score   support\n",
      "\n",
      "           0       0.92      0.85      0.88        67\n",
      "           1       0.88      0.93      0.90        76\n",
      "\n",
      "    accuracy                           0.90       143\n",
      "   macro avg       0.90      0.89      0.89       143\n",
      "weighted avg       0.90      0.90      0.89       143\n",
      "\n"
     ]
    }
   ],
   "source": [
    "#With SMOTE\n",
    "model = SVC(random_state = 0) \n",
    "\n",
    "parameters = [{'C': [0.01,0.1,1,10,100], 'kernel': ['rbf', 'linear'], 'gamma':[0.01,0.5,1,5,10]}]\n",
    "\n",
    "grid_search = GridSearchCV(estimator = model,\n",
    "                           param_grid = parameters,\n",
    "                           scoring = 'accuracy',\n",
    "                           cv = 10, n_jobs = -1)\n",
    "\n",
    "grid_search = grid_search.fit(X_train_S, y_train_S)\n",
    "\n",
    "print('Best Results with Grid Search:')\n",
    "print(grid_search.best_score_)\n",
    "print(grid_search.best_params_)\n",
    "\n",
    "y_pred_S = grid_search.predict(X_test_S)\n",
    "\n",
    "print('\\nAccuracy Score  on test data: ' + str(accuracy_score(y_test_S, y_pred_S)))\n",
    "print(confusion_matrix(y_test_S,y_pred_S))\n",
    "print(classification_report(y_test_S,y_pred_S))"
   ]
  },
  {
   "cell_type": "code",
   "execution_count": null,
   "metadata": {},
   "outputs": [],
   "source": [
    "print('Test Accuracy with Grid Search CV:')\n",
    "print('>Accuracy Score  without SMOTE: %.3f' % (accuracy_score(y_test, y_pred)))\n",
    "print('>Accuracy Score  with SMOTE: %.3f' % (accuracy_score(y_test_S, y_pred_S)))"
   ]
  },
  {
   "cell_type": "code",
   "execution_count": 184,
   "metadata": {},
   "outputs": [
    {
     "name": "stdout",
     "output_type": "stream",
     "text": [
      ">Accuracy Score  without SMOTE: 0.532\n",
      ">Accuracy Score  with SMOTE: 0.832\n"
     ]
    }
   ],
   "source": [
    "model = SVC(random_state = 0) \n",
    "model.fit(X_train, y_train)\n",
    "y_pred = model.predict(X_test)\n",
    "print('>Accuracy Score  without SMOTE: %.3f' % (accuracy_score(y_test, y_pred)))\n",
    "    \n",
    "model = SVC(random_state = 0) \n",
    "model.fit(X_train_S, y_train_S)\n",
    "y_pred_S = model.predict(X_test_S)\n",
    "print('>Accuracy Score  with SMOTE: %.3f' % (accuracy_score(y_test_S, y_pred_S)))"
   ]
  },
  {
   "cell_type": "markdown",
   "metadata": {},
   "source": [
    "### DT "
   ]
  },
  {
   "cell_type": "code",
   "execution_count": 178,
   "metadata": {},
   "outputs": [
    {
     "name": "stdout",
     "output_type": "stream",
     "text": [
      "Best Results with Grid Search:\n",
      "0.6199999999999999\n",
      "{'criterion': 'entropy', 'min_samples_leaf': 1, 'min_samples_split': 10, 'splitter': 'random'}\n",
      "\n",
      "Accuracy Score  on test data: 0.5495495495495496\n",
      "[[13 39]\n",
      " [11 48]]\n",
      "              precision    recall  f1-score   support\n",
      "\n",
      "           0       0.54      0.25      0.34        52\n",
      "           1       0.55      0.81      0.66        59\n",
      "\n",
      "    accuracy                           0.55       111\n",
      "   macro avg       0.55      0.53      0.50       111\n",
      "weighted avg       0.55      0.55      0.51       111\n",
      "\n"
     ]
    }
   ],
   "source": [
    "#Without SMOTE\n",
    "model = DecisionTreeClassifier(random_state=0)\n",
    "\n",
    "parameters = [{'min_samples_split': [2,5,10], 'min_samples_leaf': [1,2,4], 'splitter': ['best','random'],\n",
    "              'criterion': ['gini', 'entropy']}]\n",
    "\n",
    "grid_search = GridSearchCV(estimator = model,\n",
    "                           param_grid = parameters,\n",
    "                           scoring = 'accuracy',\n",
    "                           cv = 10, n_jobs = -1)\n",
    "\n",
    "grid_search = grid_search.fit(X_train, y_train)\n",
    "\n",
    "print('Best Results with Grid Search:')\n",
    "print(grid_search.best_score_)\n",
    "print(grid_search.best_params_)\n",
    "\n",
    "y_pred = grid_search.predict(X_test)\n",
    "\n",
    "print('\\nAccuracy Score  on test data: ' + str(accuracy_score(y_test, y_pred)))\n",
    "print(confusion_matrix(y_test,y_pred))\n",
    "print(classification_report(y_test,y_pred))"
   ]
  },
  {
   "cell_type": "code",
   "execution_count": 179,
   "metadata": {},
   "outputs": [
    {
     "name": "stdout",
     "output_type": "stream",
     "text": [
      "Best Results with Grid Search:\n",
      "0.6765037593984962\n",
      "{'criterion': 'entropy', 'min_samples_leaf': 1, 'min_samples_split': 2, 'splitter': 'random'}\n",
      "\n",
      "Accuracy Score  on test data: 0.6853146853146853\n",
      "[[38 29]\n",
      " [16 60]]\n",
      "              precision    recall  f1-score   support\n",
      "\n",
      "           0       0.70      0.57      0.63        67\n",
      "           1       0.67      0.79      0.73        76\n",
      "\n",
      "    accuracy                           0.69       143\n",
      "   macro avg       0.69      0.68      0.68       143\n",
      "weighted avg       0.69      0.69      0.68       143\n",
      "\n"
     ]
    }
   ],
   "source": [
    "#With SMOTE\n",
    "model = DecisionTreeClassifier(random_state=0)\n",
    "\n",
    "parameters = [{'min_samples_split': [2,5,10], 'min_samples_leaf': [1,2,4], 'splitter': ['best','random'],\n",
    "              'criterion': ['gini', 'entropy']}]\n",
    "\n",
    "grid_search = GridSearchCV(estimator = model,\n",
    "                           param_grid = parameters,\n",
    "                           scoring = 'accuracy',\n",
    "                           cv = 10, n_jobs = -1)\n",
    "\n",
    "grid_search = grid_search.fit(X_train_S, y_train_S)\n",
    "\n",
    "print('Best Results with Grid Search:')\n",
    "print(grid_search.best_score_)\n",
    "print(grid_search.best_params_)\n",
    "\n",
    "y_pred_S = grid_search.predict(X_test_S)\n",
    "\n",
    "print('\\nAccuracy Score  on test data: ' + str(accuracy_score(y_test_S, y_pred_S)))\n",
    "print(confusion_matrix(y_test_S,y_pred_S))\n",
    "print(classification_report(y_test_S,y_pred_S))"
   ]
  },
  {
   "cell_type": "code",
   "execution_count": null,
   "metadata": {},
   "outputs": [],
   "source": [
    "print('Test Accuracy with Grid Search CV:')\n",
    "print('>Accuracy Score  without SMOTE: %.3f' % (accuracy_score(y_test, y_pred)))\n",
    "print('>Accuracy Score  with SMOTE: %.3f' % (accuracy_score(y_test_S, y_pred_S)))"
   ]
  },
  {
   "cell_type": "code",
   "execution_count": 185,
   "metadata": {},
   "outputs": [
    {
     "name": "stdout",
     "output_type": "stream",
     "text": [
      ">Accuracy Score  without SMOTE: 0.523\n",
      ">Accuracy Score  with SMOTE: 0.636\n"
     ]
    }
   ],
   "source": [
    "model = DecisionTreeClassifier(random_state=0)\n",
    "model.fit(X_train, y_train)\n",
    "y_pred = model.predict(X_test)\n",
    "print('>Accuracy Score  without SMOTE: %.3f' % (accuracy_score(y_test, y_pred)))\n",
    "    \n",
    "model = DecisionTreeClassifier(random_state=0)\n",
    "model.fit(X_train_S, y_train_S)\n",
    "y_pred_S = model.predict(X_test_S)\n",
    "print('>Accuracy Score  with SMOTE: %.3f' % (accuracy_score(y_test_S, y_pred_S)))"
   ]
  },
  {
   "cell_type": "markdown",
   "metadata": {},
   "source": [
    "### RF "
   ]
  },
  {
   "cell_type": "code",
   "execution_count": 181,
   "metadata": {},
   "outputs": [
    {
     "name": "stdout",
     "output_type": "stream",
     "text": [
      "Best Results with Grid Search:\n",
      "0.6719696969696969\n",
      "{'bootstrap': True, 'min_samples_leaf': 2, 'min_samples_split': 2, 'n_estimators': 50}\n",
      "\n",
      "Accuracy Score  on test data: 0.5315315315315315\n",
      "[[ 0 52]\n",
      " [ 0 59]]\n",
      "              precision    recall  f1-score   support\n",
      "\n",
      "           0       0.00      0.00      0.00        52\n",
      "           1       0.53      1.00      0.69        59\n",
      "\n",
      "    accuracy                           0.53       111\n",
      "   macro avg       0.27      0.50      0.35       111\n",
      "weighted avg       0.28      0.53      0.37       111\n",
      "\n"
     ]
    }
   ],
   "source": [
    "#Without SMOTE\n",
    "model = RandomForestClassifier(random_state=0)\n",
    "\n",
    "parameters = [{'n_estimators': [50, 100, 200, 500], 'min_samples_split':[2, 5, 10],\n",
    "              'min_samples_leaf':[1, 2, 4], 'bootstrap': [True, False]}]\n",
    "\n",
    "grid_search = GridSearchCV(estimator = model,\n",
    "                           param_grid = parameters,\n",
    "                           scoring = 'accuracy',\n",
    "                           cv = 10, n_jobs = -1)\n",
    "\n",
    "grid_search = grid_search.fit(X_train, y_train)\n",
    "\n",
    "print('Best Results with Grid Search:')\n",
    "print(grid_search.best_score_)\n",
    "print(grid_search.best_params_)\n",
    "\n",
    "y_pred = grid_search.predict(X_test)\n",
    "\n",
    "print('\\nAccuracy Score  on test data: ' + str(accuracy_score(y_test, y_pred)))\n",
    "print(confusion_matrix(y_test,y_pred))\n",
    "print(classification_report(y_test,y_pred))"
   ]
  },
  {
   "cell_type": "code",
   "execution_count": 180,
   "metadata": {},
   "outputs": [
    {
     "name": "stdout",
     "output_type": "stream",
     "text": [
      "Best Results with Grid Search:\n",
      "0.725845864661654\n",
      "{'bootstrap': False, 'min_samples_leaf': 1, 'min_samples_split': 5, 'n_estimators': 500}\n",
      "\n",
      "Accuracy Score  on test data: 0.6853146853146853\n",
      "[[42 25]\n",
      " [20 56]]\n",
      "              precision    recall  f1-score   support\n",
      "\n",
      "           0       0.68      0.63      0.65        67\n",
      "           1       0.69      0.74      0.71        76\n",
      "\n",
      "    accuracy                           0.69       143\n",
      "   macro avg       0.68      0.68      0.68       143\n",
      "weighted avg       0.68      0.69      0.68       143\n",
      "\n"
     ]
    }
   ],
   "source": [
    "#With SMOTE\n",
    "model = RandomForestClassifier(random_state=0)\n",
    "\n",
    "parameters = [{'n_estimators': [50, 100, 200, 500], 'min_samples_split':[2, 5, 10],\n",
    "              'min_samples_leaf':[1, 2, 4], 'bootstrap': [True, False]}]\n",
    "\n",
    "grid_search = GridSearchCV(estimator = model,\n",
    "                           param_grid = parameters,\n",
    "                           scoring = 'accuracy',\n",
    "                           cv = 10, n_jobs = -1)\n",
    "\n",
    "grid_search = grid_search.fit(X_train_S, y_train_S)\n",
    "\n",
    "print('Best Results with Grid Search:')\n",
    "print(grid_search.best_score_)\n",
    "print(grid_search.best_params_)\n",
    "\n",
    "y_pred_S = grid_search.predict(X_test_S)\n",
    "\n",
    "print('\\nAccuracy Score  on test data: ' + str(accuracy_score(y_test_S, y_pred_S)))\n",
    "print(confusion_matrix(y_test_S,y_pred_S))\n",
    "print(classification_report(y_test_S,y_pred_S))"
   ]
  },
  {
   "cell_type": "code",
   "execution_count": 182,
   "metadata": {},
   "outputs": [
    {
     "name": "stdout",
     "output_type": "stream",
     "text": [
      "Test Accuracy with Grid Search CV:\n",
      ">Accuracy Score  without SMOTE: 0.532\n",
      ">Accuracy Score  with SMOTE: 0.685\n"
     ]
    }
   ],
   "source": [
    "print('Test Accuracy with Grid Search CV:')\n",
    "print('>Accuracy Score  without SMOTE: %.3f' % (accuracy_score(y_test, y_pred)))\n",
    "print('>Accuracy Score  with SMOTE: %.3f' % (accuracy_score(y_test_S, y_pred_S)))"
   ]
  },
  {
   "cell_type": "code",
   "execution_count": 183,
   "metadata": {},
   "outputs": [
    {
     "name": "stdout",
     "output_type": "stream",
     "text": [
      ">Accuracy Score  without SMOTE: 0.505\n",
      ">Accuracy Score  with SMOTE: 0.664\n"
     ]
    }
   ],
   "source": [
    "model = RandomForestClassifier(random_state=0)\n",
    "model.fit(X_train, y_train)\n",
    "y_pred = model.predict(X_test)\n",
    "print('>Accuracy Score  without SMOTE: %.3f' % (accuracy_score(y_test, y_pred)))\n",
    "    \n",
    "model = RandomForestClassifier(random_state=0)\n",
    "model.fit(X_train_S, y_train_S)\n",
    "y_pred_S = model.predict(X_test_S)\n",
    "print('>Accuracy Score  with SMOTE: %.3f' % (accuracy_score(y_test_S, y_pred_S)))"
   ]
  },
  {
   "cell_type": "markdown",
   "metadata": {},
   "source": [
    "### NB "
   ]
  },
  {
   "cell_type": "markdown",
   "metadata": {},
   "source": [
    "GaussianNB only accepts priors (arrray-like, shape(n_classes)) as an argument so unless you have some priors to set for your model ahead of time you will have nothing to grid search over."
   ]
  },
  {
   "cell_type": "code",
   "execution_count": 186,
   "metadata": {},
   "outputs": [
    {
     "name": "stdout",
     "output_type": "stream",
     "text": [
      ">Accuracy Score  without SMOTE: 0.468\n",
      ">Accuracy Score  with SMOTE: 0.503\n"
     ]
    }
   ],
   "source": [
    "model = GaussianNB()\n",
    "model.fit(X_train, y_train)\n",
    "y_pred = model.predict(X_test)\n",
    "print('>Accuracy Score  without SMOTE: %.3f' % (accuracy_score(y_test, y_pred)))\n",
    "    \n",
    "model = GaussianNB()\n",
    "model.fit(X_train_S, y_train_S)\n",
    "y_pred_S = model.predict(X_test_S)\n",
    "print('>Accuracy Score  with SMOTE: %.3f' % (accuracy_score(y_test_S, y_pred_S)))"
   ]
  },
  {
   "cell_type": "markdown",
   "metadata": {},
   "source": [
    "### Neural Network"
   ]
  },
  {
   "cell_type": "markdown",
   "metadata": {},
   "source": [
    "##### Without SMOTE "
   ]
  },
  {
   "cell_type": "code",
   "execution_count": 187,
   "metadata": {},
   "outputs": [
    {
     "name": "stdout",
     "output_type": "stream",
     "text": [
      "Best Results with Grid Search:\n",
      "0.665151515151515\n",
      "{'hidden_layer_sizes': (10, 10, 10)}\n"
     ]
    }
   ],
   "source": [
    "#Perceptron Tuning\n",
    "model = MLPClassifier()\n",
    "parameters = {\n",
    "    'hidden_layer_sizes': [(5,5,5),(10,10,10),(15,15,15),(20,20,20),(25,25,25),(30,30,30),(35,35,35),(40,40,40),(45,45,45),(50,50,50),(55,55,55),(60,60,60),(65,65,65),(70,70,70),(75,75,75),(80,80,80),(85,85,85),(90,90,90),(95,95,95),(100,100,100)],\n",
    "    #'activation': ['relu'], default\n",
    "    #'solver': ['adam'], default\n",
    "    #'alpha': [0.0001], default\n",
    "    #'learning_rate': ['constant'], default\n",
    "    #'max_iter': [200], default\n",
    "}\n",
    "\n",
    "grid_search = GridSearchCV(estimator = model,\n",
    "                           param_grid = parameters,\n",
    "                           scoring = 'accuracy',\n",
    "                           cv = 10, n_jobs = -1)\n",
    "\n",
    "grid_search = grid_search.fit(X_train, y_train)\n",
    "\n",
    "print('Best Results with Grid Search:')\n",
    "print(grid_search.best_score_)\n",
    "print(grid_search.best_params_)\n",
    "\n",
    "means = grid_search.cv_results_['mean_test_score']\n",
    "stds = grid_search.cv_results_['std_test_score']"
   ]
  },
  {
   "cell_type": "code",
   "execution_count": 188,
   "metadata": {},
   "outputs": [],
   "source": [
    "xaxis_perceptrons = [5,10,15,20,25,30,35,40,45,50,55,60,65,70,75,80,85,90,95,100]"
   ]
  },
  {
   "cell_type": "code",
   "execution_count": 189,
   "metadata": {},
   "outputs": [
    {
     "data": {
      "image/png": "[encoded data removed]",
      "text/plain": [
       "<Figure size 432x288 with 1 Axes>"
      ]
     },
     "metadata": {
      "needs_background": "light"
     },
     "output_type": "display_data"
    }
   ],
   "source": [
    "plt.plot(xaxis_perceptrons,means,'.-')\n",
    "plt.ylabel('Accuracy')\n",
    "plt.xlabel('Number of Perceptrons')\n",
    "plt.grid()\n",
    "\n",
    "#plt.savefig(\"GridSearchCV Screenshots/Exp3/No.OfPerceptron.png\")\n",
    "plt.show()"
   ]
  },
  {
   "cell_type": "code",
   "execution_count": 190,
   "metadata": {},
   "outputs": [
    {
     "name": "stdout",
     "output_type": "stream",
     "text": [
      "Best Results with Grid Search:\n",
      "0.6674242424242424\n",
      "{'hidden_layer_sizes': (10, 10)}\n"
     ]
    }
   ],
   "source": [
    "#Layer Tuning\n",
    "model = MLPClassifier()\n",
    "parameters = {\n",
    "    'hidden_layer_sizes': [(10),(10,10),(10,10,10),(10,10,10,10),(10,10,10,10,10),(10,10,10,10,10,10),(10,10,10,10,10,10,10),(10,10,10,10,10,10,10,10),(10,10,10,10,10,10,10,10,10),(10,10,10,10,10,10,10,10,10,10),(10,10,10,10,10,10,10,10,10,10,10),(10,10,10,10,10,10,10,10,10,10,10,10)],\n",
    "    #'activation': ['relu'], default\n",
    "    #'solver': ['adam'], default\n",
    "    #'alpha': [0.0001], default\n",
    "    #'learning_rate': ['constant'], default\n",
    "    #'max_iter': [200], default\n",
    "}\n",
    "\n",
    "grid_search = GridSearchCV(estimator = model,\n",
    "                           param_grid = parameters,\n",
    "                           scoring = 'accuracy',\n",
    "                           cv = 10, n_jobs = -1)\n",
    "\n",
    "grid_search = grid_search.fit(X_train, y_train)\n",
    "\n",
    "print('Best Results with Grid Search:')\n",
    "print(grid_search.best_score_)\n",
    "print(grid_search.best_params_)\n",
    "\n",
    "means = grid_search.cv_results_['mean_test_score']\n",
    "stds = grid_search.cv_results_['std_test_score']"
   ]
  },
  {
   "cell_type": "code",
   "execution_count": 193,
   "metadata": {},
   "outputs": [],
   "source": [
    "xaxis_layers = [1,2,3,4,5,6,7,8,9,10,11,12]"
   ]
  },
  {
   "cell_type": "code",
   "execution_count": 194,
   "metadata": {},
   "outputs": [
    {
     "data": {
      "image/png": "[encoded data removed]",
      "text/plain": [
       "<Figure size 432x288 with 1 Axes>"
      ]
     },
     "metadata": {
      "needs_background": "light"
     },
     "output_type": "display_data"
    }
   ],
   "source": [
    "plt.plot(xaxis_layers,means,'.-')\n",
    "plt.ylabel('Accuracy')\n",
    "plt.xlabel('Number of Layers')\n",
    "plt.grid()\n",
    "\n",
    "#plt.savefig(\"GridSearchCV Screenshots/Exp3/No.OfLayers.png\")\n",
    "plt.show()"
   ]
  },
  {
   "cell_type": "code",
   "execution_count": 195,
   "metadata": {},
   "outputs": [
    {
     "name": "stdout",
     "output_type": "stream",
     "text": [
      "Best Results with Grid Search:\n",
      "0.6719696969696969\n",
      "{'activation': 'relu', 'alpha': 0.001, 'hidden_layer_sizes': (8, 8), 'max_iter': 100, 'solver': 'sgd'}\n",
      "\n",
      "Accuracy Score  on test data: 0.5315315315315315\n",
      "[[ 0 52]\n",
      " [ 0 59]]\n",
      "              precision    recall  f1-score   support\n",
      "\n",
      "           0       0.00      0.00      0.00        52\n",
      "           1       0.53      1.00      0.69        59\n",
      "\n",
      "    accuracy                           0.53       111\n",
      "   macro avg       0.27      0.50      0.35       111\n",
      "weighted avg       0.28      0.53      0.37       111\n",
      "\n"
     ]
    }
   ],
   "source": [
    "#Tuning with Grid Seaerch CV\n",
    "model = MLPClassifier(random_state=0)\n",
    "\n",
    "parameters = {\n",
    "    'hidden_layer_sizes': [(8,8), (10,10), (12,12)],\n",
    "    'activation': ['relu','tanh'], \n",
    "    'solver': ['adam','sgd'], \n",
    "    'alpha': [0.001,0.01,0.1],\n",
    "    'max_iter': [100,200]\n",
    "}\n",
    "\n",
    "grid_search = GridSearchCV(estimator = model,\n",
    "                           param_grid = parameters,\n",
    "                           scoring = 'accuracy',\n",
    "                           cv = 10, n_jobs = -1)\n",
    "\n",
    "grid_search = grid_search.fit(X_train, y_train)\n",
    "\n",
    "print('Best Results with Grid Search:')\n",
    "print(grid_search.best_score_)\n",
    "print(grid_search.best_params_)\n",
    "\n",
    "y_pred = grid_search.predict(X_test)\n",
    "\n",
    "print('\\nAccuracy Score  on test data: ' + str(accuracy_score(y_test, y_pred)))\n",
    "print(confusion_matrix(y_test,y_pred))\n",
    "print(classification_report(y_test,y_pred))"
   ]
  },
  {
   "cell_type": "code",
   "execution_count": 197,
   "metadata": {},
   "outputs": [
    {
     "data": {
      "image/png": "[encoded data removed]",
      "text/plain": [
       "<Figure size 432x288 with 1 Axes>"
      ]
     },
     "metadata": {
      "needs_background": "light"
     },
     "output_type": "display_data"
    }
   ],
   "source": [
    "from sklearn.metrics import roc_curve, auc\n",
    "\n",
    "mlp = MLPClassifier(solver='sgd', alpha=0.001, hidden_layer_sizes=[8,8], random_state=0, learning_rate='constant',activation='relu')\n",
    "\n",
    "mlp.fit(X_train, y_train)\n",
    "fpr2, tpr2, threshold = roc_curve(y_test, mlp.predict_proba(X_test)[:,1])\n",
    "roc_auc2 = auc(fpr2, tpr2)\n",
    "\n",
    "# image drawing\n",
    "plt.figure()\n",
    "plt.title('Receiver Operating Characteristic')\n",
    "#plt.plot(fpr, tpr, label = 'P AUC = %0.2f' % roc_auc)\n",
    "plt.plot(fpr2, tpr2, label = 'MLP AUC = %0.2f' % roc_auc2)\n",
    "plt.legend(loc = 'lower right')\n",
    "plt.plot([0, 1], [0, 1],'r--')\n",
    "plt.xlim([-0.1, 1])\n",
    "plt.ylim([0, 1.1])\n",
    "plt.ylabel('True Positive Rate')\n",
    "plt.xlabel('False Positive Rate')\n",
    "#plt.savefig(\"AUC.pdf\")\n",
    "plt.show()"
   ]
  },
  {
   "cell_type": "markdown",
   "metadata": {},
   "source": [
    "##### With SMOTE "
   ]
  },
  {
   "cell_type": "code",
   "execution_count": 198,
   "metadata": {},
   "outputs": [
    {
     "name": "stdout",
     "output_type": "stream",
     "text": [
      "Best Results with Grid Search:\n",
      "0.8277882205513784\n",
      "{'hidden_layer_sizes': (10, 10, 10)}\n"
     ]
    }
   ],
   "source": [
    "#With SMOTE\n",
    "model = MLPClassifier()\n",
    "parameters = {\n",
    "    'hidden_layer_sizes': [(5,5,5),(10,10,10),(15,15,15),(20,20,20),(25,25,25),(30,30,30),(35,35,35),(40,40,40),(45,45,45),(50,50,50),(55,55,55),(60,60,60),(65,65,65),(70,70,70),(75,75,75),(80,80,80),(85,85,85),(90,90,90),(95,95,95),(100,100,100)],\n",
    "    #'activation': ['relu'], default\n",
    "    #'solver': ['adam'], default\n",
    "    #'alpha': [0.0001], default\n",
    "    #'learning_rate': ['constant'], default\n",
    "    #'max_iter': [200], default\n",
    "}\n",
    "\n",
    "grid_search = GridSearchCV(estimator = model,\n",
    "                           param_grid = parameters,\n",
    "                           scoring = 'accuracy',\n",
    "                           cv = 10, n_jobs = -1)\n",
    "\n",
    "grid_search = grid_search.fit(X_train_S, y_train_S)\n",
    "\n",
    "print('Best Results with Grid Search:')\n",
    "print(grid_search.best_score_)\n",
    "print(grid_search.best_params_)\n",
    "\n",
    "means = grid_search.cv_results_['mean_test_score']\n",
    "stds = grid_search.cv_results_['std_test_score']"
   ]
  },
  {
   "cell_type": "code",
   "execution_count": 199,
   "metadata": {},
   "outputs": [
    {
     "data": {
      "image/png": "[encoded data removed]",
      "text/plain": [
       "<Figure size 432x288 with 1 Axes>"
      ]
     },
     "metadata": {
      "needs_background": "light"
     },
     "output_type": "display_data"
    }
   ],
   "source": [
    "plt.plot(xaxis_perceptrons,means,'.-')\n",
    "plt.ylabel('Accuracy')\n",
    "plt.xlabel('Number of Perceptrons')\n",
    "plt.grid()\n",
    "\n",
    "#plt.savefig(\"GridSearchCV Screenshots/Exp3/No.OfPerceptron_S.png\")\n",
    "plt.show()"
   ]
  },
  {
   "cell_type": "code",
   "execution_count": 200,
   "metadata": {},
   "outputs": [
    {
     "name": "stdout",
     "output_type": "stream",
     "text": [
      "Best Results with Grid Search:\n",
      "0.8417919799498748\n",
      "{'hidden_layer_sizes': 10}\n"
     ]
    }
   ],
   "source": [
    "#Layer Tuning\n",
    "model = MLPClassifier()\n",
    "parameters = {\n",
    "    'hidden_layer_sizes': [(10),(10,10),(10,10,10),(10,10,10,10),(10,10,10,10,10),(10,10,10,10,10,10),(10,10,10,10,10,10,10),(10,10,10,10,10,10,10,10),(10,10,10,10,10,10,10,10,10),(10,10,10,10,10,10,10,10,10,10),(10,10,10,10,10,10,10,10,10,10,10),(10,10,10,10,10,10,10,10,10,10,10,10)],\n",
    "    #'activation': ['relu'], default\n",
    "    #'solver': ['adam'], default\n",
    "    #'alpha': [0.0001], default\n",
    "    #'learning_rate': ['constant'], default\n",
    "    #'max_iter': [200], default\n",
    "}\n",
    "\n",
    "grid_search = GridSearchCV(estimator = model,\n",
    "                           param_grid = parameters,\n",
    "                           scoring = 'accuracy',\n",
    "                           cv = 10, n_jobs = -1)\n",
    "\n",
    "grid_search = grid_search.fit(X_train_S, y_train_S)\n",
    "\n",
    "print('Best Results with Grid Search:')\n",
    "print(grid_search.best_score_)\n",
    "print(grid_search.best_params_)\n",
    "\n",
    "means = grid_search.cv_results_['mean_test_score']\n",
    "stds = grid_search.cv_results_['std_test_score']"
   ]
  },
  {
   "cell_type": "code",
   "execution_count": 201,
   "metadata": {},
   "outputs": [
    {
     "data": {
      "image/png": "[encoded data removed]",
      "text/plain": [
       "<Figure size 432x288 with 1 Axes>"
      ]
     },
     "metadata": {
      "needs_background": "light"
     },
     "output_type": "display_data"
    }
   ],
   "source": [
    "plt.plot(xaxis_layers,means,'.-')\n",
    "plt.ylabel('Accuracy')\n",
    "plt.xlabel('Number of Layers')\n",
    "plt.grid()\n",
    "\n",
    "#plt.savefig(\"GridSearchCV Screenshots/Exp3/No.OfLayers_S.png\")\n",
    "plt.show()"
   ]
  },
  {
   "cell_type": "code",
   "execution_count": 202,
   "metadata": {},
   "outputs": [
    {
     "name": "stdout",
     "output_type": "stream",
     "text": [
      "Best Results with Grid Search:\n",
      "0.8417606516290727\n",
      "{'activation': 'relu', 'alpha': 0.001, 'hidden_layer_sizes': 8, 'max_iter': 200, 'solver': 'adam'}\n",
      "\n",
      "Accuracy Score  on test data: 0.8741258741258742\n",
      "[[57 10]\n",
      " [ 8 68]]\n",
      "              precision    recall  f1-score   support\n",
      "\n",
      "           0       0.88      0.85      0.86        67\n",
      "           1       0.87      0.89      0.88        76\n",
      "\n",
      "    accuracy                           0.87       143\n",
      "   macro avg       0.87      0.87      0.87       143\n",
      "weighted avg       0.87      0.87      0.87       143\n",
      "\n"
     ]
    }
   ],
   "source": [
    "#Tuning with Grid Seaerch CV\n",
    "model = MLPClassifier(random_state=0)\n",
    "\n",
    "parameters = {\n",
    "    'hidden_layer_sizes': [(8), (10), (12)],\n",
    "    'activation': ['relu','tanh'], \n",
    "    'solver': ['adam','sgd'], \n",
    "    'alpha': [0.001,0.01,0.1],\n",
    "    'max_iter': [100,200]\n",
    "}\n",
    "\n",
    "grid_search = GridSearchCV(estimator = model,\n",
    "                           param_grid = parameters,\n",
    "                           scoring = 'accuracy',\n",
    "                           cv = 10, n_jobs = -1)\n",
    "\n",
    "grid_search = grid_search.fit(X_train_S, y_train_S)\n",
    "\n",
    "print('Best Results with Grid Search:')\n",
    "print(grid_search.best_score_)\n",
    "print(grid_search.best_params_)\n",
    "\n",
    "y_pred_S = grid_search.predict(X_test_S)\n",
    "\n",
    "print('\\nAccuracy Score  on test data: ' + str(accuracy_score(y_test_S, y_pred_S)))\n",
    "print(confusion_matrix(y_test_S,y_pred_S))\n",
    "print(classification_report(y_test_S,y_pred_S))"
   ]
  },
  {
   "cell_type": "code",
   "execution_count": 204,
   "metadata": {},
   "outputs": [
    {
     "data": {
      "image/png": "[encoded data removed]",
      "text/plain": [
       "<Figure size 432x288 with 1 Axes>"
      ]
     },
     "metadata": {
      "needs_background": "light"
     },
     "output_type": "display_data"
    }
   ],
   "source": [
    "from sklearn.metrics import roc_curve, auc\n",
    "\n",
    "mlp = MLPClassifier(solver='adam', alpha=0.001, hidden_layer_sizes=[10], random_state=0, learning_rate='constant',activation='relu')\n",
    "\n",
    "mlp.fit(X_train_S, y_train_S)\n",
    "fpr2, tpr2, threshold = roc_curve(y_test_S, mlp.predict_proba(X_test_S)[:,1])\n",
    "roc_auc2 = auc(fpr2, tpr2)\n",
    "\n",
    "# image drawing\n",
    "plt.figure()\n",
    "plt.title('Receiver Operating Characteristic')\n",
    "#plt.plot(fpr, tpr, label = 'P AUC = %0.2f' % roc_auc)\n",
    "plt.plot(fpr2, tpr2, label = 'MLP AUC = %0.2f' % roc_auc2)\n",
    "plt.legend(loc = 'lower right')\n",
    "plt.plot([0, 1], [0, 1],'r--')\n",
    "plt.xlim([-0.1, 1])\n",
    "plt.ylim([0, 1.1])\n",
    "plt.ylabel('True Positive Rate')\n",
    "plt.xlabel('False Positive Rate')\n",
    "#plt.savefig(\"AUC_S.pdf\")\n",
    "plt.show()"
   ]
  },
  {
   "cell_type": "markdown",
   "metadata": {},
   "source": [
    "### Keras Classifier"
   ]
  },
  {
   "cell_type": "markdown",
   "metadata": {},
   "source": [
    "##### Without SMOTE"
   ]
  },
  {
   "cell_type": "code",
   "execution_count": 206,
   "metadata": {},
   "outputs": [
    {
     "name": "stdout",
     "output_type": "stream",
     "text": [
      "Best Results with Grid Search:\n",
      "0.5656565656565656\n",
      "{'batch_size': 5, 'epochs': 70, 'unit': 80}\n"
     ]
    }
   ],
   "source": [
    "#Perceptron Tuning\n",
    "\n",
    "def create_model(unit):\n",
    "    model = Sequential()\n",
    "    model.add(Dense(units=unit, input_dim = X_train.shape[1], activation='relu'))\n",
    "    model.add(Dense(units=unit, activation='relu'))\n",
    "    model.add(Dense(units=unit, activation='relu'))\n",
    "    model.add(Dense(1, activation='sigmoid'))\n",
    "    model.compile(loss='binary_crossentropy', optimizer='Adam', metrics=['accuracy'])\n",
    "    return model\n",
    "\n",
    "model = KerasClassifier(build_fn=create_model, verbose=0)\n",
    "\n",
    "parameters = {\n",
    "    'unit': [5,10,15,20,25,30,35,40,45,50,55,60,65,70,75,80,85,90,95,100],\n",
    "    #'activation': ['relu','tanh'], \n",
    "    #'solver': ['adam','sgd'], \n",
    "    #'last_act': ['sigmoid','softmax'],\n",
    "    'epochs': [70,100],\n",
    "    'batch_size': [5,10] \n",
    "}\n",
    "\n",
    "grid_search = GridSearchCV(estimator = model,\n",
    "                           param_grid = parameters,\n",
    "                           scoring = 'accuracy',\n",
    "                           cv = 10, n_jobs=-1)\n",
    "\n",
    "grid_search = grid_search.fit(X_train, y_train)\n",
    "\n",
    "print('Best Results with Grid Search:')\n",
    "print(grid_search.best_score_)\n",
    "print(grid_search.best_params_)\n",
    "\n",
    "means = grid_search.cv_results_['mean_test_score']\n",
    "stds = grid_search.cv_results_['std_test_score']"
   ]
  },
  {
   "cell_type": "code",
   "execution_count": 207,
   "metadata": {},
   "outputs": [
    {
     "data": {
      "image/png": "[encoded data removed]",
      "text/plain": [
       "<Figure size 432x288 with 1 Axes>"
      ]
     },
     "metadata": {
      "needs_background": "light"
     },
     "output_type": "display_data"
    }
   ],
   "source": [
    "#Results with 80 accuracies (20*2*2)\n",
    "plt.plot(means,'.-')\n",
    "plt.ylabel('Accuracy')\n",
    "plt.xlabel('Number of Perceptrons')\n",
    "plt.grid()\n",
    "\n",
    "plt.show()"
   ]
  },
  {
   "cell_type": "code",
   "execution_count": 209,
   "metadata": {},
   "outputs": [
    {
     "name": "stdout",
     "output_type": "stream",
     "text": [
      "Best Results with Grid Search:\n",
      "0.5674747474747475\n",
      "{'unit': 5}\n"
     ]
    }
   ],
   "source": [
    "#Perceptron Tuning\n",
    "\n",
    "def create_model(unit):\n",
    "    model = Sequential()\n",
    "    model.add(Dense(units=unit, input_dim = X_train.shape[1], activation='relu'))\n",
    "    model.add(Dense(units=unit, activation='relu'))\n",
    "    model.add(Dense(units=unit, activation='relu'))\n",
    "    model.add(Dense(1, activation='sigmoid'))\n",
    "    model.compile(loss='binary_crossentropy', optimizer='Adam', metrics=['accuracy'])\n",
    "    return model\n",
    "\n",
    "model = KerasClassifier(build_fn=create_model, verbose=0, epochs = 70, batch_size = 5)\n",
    "\n",
    "parameters = {\n",
    "    'unit': [5,10,15,20,25,30,35,40,45,50,55,60,65,70,75,80,85,90,95,100],\n",
    "    #'activation': ['relu','tanh'], \n",
    "    #'solver': ['adam','sgd'], \n",
    "    #'last_act': ['sigmoid','softmax'],\n",
    "    #'epochs': [70,100],\n",
    "    #'batch_size': [5,10] \n",
    "}\n",
    "\n",
    "grid_search = GridSearchCV(estimator = model,\n",
    "                           param_grid = parameters,\n",
    "                           scoring = 'accuracy',\n",
    "                           cv = 10, n_jobs=-1)\n",
    "\n",
    "grid_search = grid_search.fit(X_train, y_train)\n",
    "\n",
    "print('Best Results with Grid Search:')\n",
    "print(grid_search.best_score_)\n",
    "print(grid_search.best_params_)\n",
    "\n",
    "means = grid_search.cv_results_['mean_test_score']\n",
    "stds = grid_search.cv_results_['std_test_score']"
   ]
  },
  {
   "cell_type": "code",
   "execution_count": 210,
   "metadata": {},
   "outputs": [],
   "source": [
    "xaxis_perceptrons = [5,10,15,20,25,30,35,40,45,50,55,60,65,70,75,80,85,90,95,100]"
   ]
  },
  {
   "cell_type": "code",
   "execution_count": 211,
   "metadata": {},
   "outputs": [
    {
     "data": {
      "image/png": "[encoded data removed]",
      "text/plain": [
       "<Figure size 432x288 with 1 Axes>"
      ]
     },
     "metadata": {
      "needs_background": "light"
     },
     "output_type": "display_data"
    }
   ],
   "source": [
    "plt.plot(xaxis_perceptrons,means,'.-')\n",
    "plt.ylabel('Accuracy')\n",
    "plt.xlabel('Number of Perceptrons')\n",
    "plt.grid()\n",
    "\n",
    "#plt.savefig(\"GridSearchCV Screenshots/Exp3/No.OfPerceptron_K.png\")\n",
    "plt.show()"
   ]
  },
  {
   "cell_type": "code",
   "execution_count": 212,
   "metadata": {},
   "outputs": [
    {
     "name": "stdout",
     "output_type": "stream",
     "text": [
      "Best Results with Grid Search:\n",
      "0.6492929292929294\n",
      "{'No_Of_layers': 10}\n"
     ]
    }
   ],
   "source": [
    "#Layers Tuning\n",
    "\n",
    "def create_model(No_Of_layers):\n",
    "    model = Sequential()\n",
    "    # Add an input layer\n",
    "    model.add(Dense(units=5, input_dim = X_train.shape[1], activation='relu'))\n",
    "\n",
    "    for i in range(No_Of_layers-1):\n",
    "        model.add(Dense(units=5, activation='relu'))\n",
    "\n",
    "    # Add an output layer \n",
    "    model.add(Dense(1, activation='sigmoid'))\n",
    "    #compile model\n",
    "    model.compile(loss='binary_crossentropy', optimizer='Adam', metrics=['accuracy'])\n",
    "    return model\n",
    "\n",
    "model = KerasClassifier(build_fn=create_model, verbose=0, epochs = 70, batch_size = 5)\n",
    "\n",
    "parameters = {\n",
    "    #'unit': [5],\n",
    "    'No_Of_layers': [1,2,3,4,5,6,7,8,9,10,11,12]\n",
    "}\n",
    "\n",
    "grid_search = GridSearchCV(estimator = model,\n",
    "                           param_grid = parameters,\n",
    "                           scoring = 'accuracy',\n",
    "                           cv = 10, n_jobs=-1)\n",
    "\n",
    "grid_search = grid_search.fit(X_train, y_train)\n",
    "\n",
    "print('Best Results with Grid Search:')\n",
    "print(grid_search.best_score_)\n",
    "print(grid_search.best_params_)\n",
    "\n",
    "means = grid_search.cv_results_['mean_test_score']\n",
    "stds = grid_search.cv_results_['std_test_score']"
   ]
  },
  {
   "cell_type": "code",
   "execution_count": 213,
   "metadata": {},
   "outputs": [],
   "source": [
    "xaxis_layers = [1,2,3,4,5,6,7,8,9,10,11,12]"
   ]
  },
  {
   "cell_type": "code",
   "execution_count": 214,
   "metadata": {},
   "outputs": [
    {
     "data": {
      "image/png": "[encoded data removed]",
      "text/plain": [
       "<Figure size 432x288 with 1 Axes>"
      ]
     },
     "metadata": {
      "needs_background": "light"
     },
     "output_type": "display_data"
    }
   ],
   "source": [
    "plt.plot(xaxis_layers,means,'.-')\n",
    "plt.ylabel('Accuracy')\n",
    "plt.xlabel('Number of Layers')\n",
    "plt.grid()\n",
    "\n",
    "#plt.savefig(\"GridSearchCV Screenshots/Exp3/No.OfLayers_K.png\")\n",
    "plt.show()"
   ]
  },
  {
   "cell_type": "code",
   "execution_count": 215,
   "metadata": {},
   "outputs": [
    {
     "name": "stdout",
     "output_type": "stream",
     "text": [
      "Best Results with Grid Search:\n",
      "0.6492929292929293\n",
      "{'epochs': 50}\n"
     ]
    }
   ],
   "source": [
    "#Epochs Tuning\n",
    "\n",
    "def create_model():\n",
    "    model = Sequential()\n",
    "    # Add an input layer\n",
    "    model.add(Dense(units=5, input_dim = X_train.shape[1], activation='relu'))\n",
    "\n",
    "    for i in range(10-1):\n",
    "        model.add(Dense(units=5, activation='relu'))\n",
    "\n",
    "    # Add an output layer \n",
    "    model.add(Dense(1, activation='sigmoid'))\n",
    "    #compile model\n",
    "    model.compile(loss='binary_crossentropy', optimizer='Adam', metrics=['accuracy'])\n",
    "    return model\n",
    "\n",
    "model = KerasClassifier(build_fn=create_model, verbose=0, batch_size = 5)\n",
    "\n",
    "parameters = {\n",
    "    #'unit': [5],\n",
    "    'epochs': [30,40,50,60,70,80,90,100,110,120]\n",
    "}\n",
    "\n",
    "grid_search = GridSearchCV(estimator = model,\n",
    "                           param_grid = parameters,\n",
    "                           scoring = 'accuracy',\n",
    "                           cv = 10, n_jobs=-1)\n",
    "\n",
    "grid_search = grid_search.fit(X_train, y_train)\n",
    "\n",
    "print('Best Results with Grid Search:')\n",
    "print(grid_search.best_score_)\n",
    "print(grid_search.best_params_)\n",
    "\n",
    "means = grid_search.cv_results_['mean_test_score']\n",
    "stds = grid_search.cv_results_['std_test_score']"
   ]
  },
  {
   "cell_type": "code",
   "execution_count": 216,
   "metadata": {},
   "outputs": [],
   "source": [
    "xaxis_epochs = [30,40,50,60,70,80,90,100,110,120]"
   ]
  },
  {
   "cell_type": "code",
   "execution_count": 217,
   "metadata": {},
   "outputs": [
    {
     "data": {
      "image/png": "[encoded data removed]",
      "text/plain": [
       "<Figure size 432x288 with 1 Axes>"
      ]
     },
     "metadata": {
      "needs_background": "light"
     },
     "output_type": "display_data"
    }
   ],
   "source": [
    "plt.plot(xaxis_epochs,means,'.-')\n",
    "plt.ylabel('Accuracy')\n",
    "plt.xlabel('Number of Epochs')\n",
    "plt.grid()\n",
    "\n",
    "#plt.savefig(\"GridSearchCV Screenshots/Exp3/No.OfEpochs_K.png\")\n",
    "plt.show()"
   ]
  },
  {
   "cell_type": "code",
   "execution_count": 218,
   "metadata": {},
   "outputs": [
    {
     "name": "stdout",
     "output_type": "stream",
     "text": [
      "Best Results with Grid Search:\n",
      "0.6312626262626263\n",
      "{'batch_size': 20}\n"
     ]
    }
   ],
   "source": [
    "#Batch Size Tuning\n",
    "\n",
    "def create_model():\n",
    "    model = Sequential()\n",
    "    # Add an input layer\n",
    "    model.add(Dense(units=5, input_dim = X_train.shape[1], activation='relu'))\n",
    "\n",
    "    for i in range(10-1):\n",
    "        model.add(Dense(units=5, activation='relu'))\n",
    "\n",
    "    # Add an output layer \n",
    "    model.add(Dense(1, activation='sigmoid'))\n",
    "    #compile model\n",
    "    model.compile(loss='binary_crossentropy', optimizer='Adam', metrics=['accuracy'])\n",
    "    return model\n",
    "\n",
    "model = KerasClassifier(build_fn=create_model, verbose=0, epochs = 50)\n",
    "\n",
    "parameters = {\n",
    "    #'unit': [5],\n",
    "    'batch_size': [0,2,5,7,10,12,15,17,20]\n",
    "}\n",
    "\n",
    "grid_search = GridSearchCV(estimator = model,\n",
    "                           param_grid = parameters,\n",
    "                           scoring = 'accuracy',\n",
    "                           cv = 10, n_jobs=-1)\n",
    "\n",
    "grid_search = grid_search.fit(X_train, y_train)\n",
    "\n",
    "print('Best Results with Grid Search:')\n",
    "print(grid_search.best_score_)\n",
    "print(grid_search.best_params_)\n",
    "\n",
    "means = grid_search.cv_results_['mean_test_score']\n",
    "stds = grid_search.cv_results_['std_test_score']"
   ]
  },
  {
   "cell_type": "code",
   "execution_count": 219,
   "metadata": {},
   "outputs": [],
   "source": [
    "xaxis_batch = [0,2,5,7,10,12,15,17,20]"
   ]
  },
  {
   "cell_type": "code",
   "execution_count": 220,
   "metadata": {},
   "outputs": [
    {
     "data": {
      "image/png": "[encoded data removed]",
      "text/plain": [
       "<Figure size 432x288 with 1 Axes>"
      ]
     },
     "metadata": {
      "needs_background": "light"
     },
     "output_type": "display_data"
    }
   ],
   "source": [
    "plt.plot(xaxis_batch,means,'.-')\n",
    "plt.ylabel('Accuracy')\n",
    "plt.xlabel('Number of Batch SIze')\n",
    "plt.grid()\n",
    "\n",
    "#plt.savefig(\"GridSearchCV Screenshots/Exp3/No.OfBatch_K.png\")\n",
    "plt.show()"
   ]
  },
  {
   "cell_type": "code",
   "execution_count": 221,
   "metadata": {},
   "outputs": [
    {
     "name": "stdout",
     "output_type": "stream",
     "text": [
      "Best Results with Grid Search:\n",
      "0.6742929292929293\n",
      "{'activation': 'tanh', 'batch_size': 20, 'epochs': 50, 'last_act': 'sigmoid', 'solver': 'sgd', 'unit': 5}\n",
      "\n",
      "Accuracy Score  on test data: 0.5315315315315315\n",
      "[[ 0 52]\n",
      " [ 0 59]]\n",
      "              precision    recall  f1-score   support\n",
      "\n",
      "           0       0.00      0.00      0.00        52\n",
      "           1       0.53      1.00      0.69        59\n",
      "\n",
      "    accuracy                           0.53       111\n",
      "   macro avg       0.27      0.50      0.35       111\n",
      "weighted avg       0.28      0.53      0.37       111\n",
      "\n"
     ]
    }
   ],
   "source": [
    "#Tuning with Grid Seaerch CV\n",
    "\n",
    "def create_model(unit, activation, solver, last_act):\n",
    "    model = Sequential()\n",
    "    model.add(Dense(units=unit, input_dim = X_train.shape[1], activation=activation))\n",
    "    \n",
    "    for i in range(10-1):\n",
    "        model.add(Dense(units=unit, activation=activation))\n",
    "    \n",
    "    model.add(Dense(1, activation=last_act))\n",
    "    model.compile(loss='binary_crossentropy', optimizer=solver, metrics=['accuracy'])\n",
    "    return model\n",
    "\n",
    "model = KerasClassifier(build_fn=create_model, verbose=0)\n",
    "\n",
    "parameters = {\n",
    "    'unit': [5,10],\n",
    "    'activation': ['relu','tanh'], \n",
    "    'solver': ['adam','sgd'], \n",
    "    'last_act': ['sigmoid','softmax'],\n",
    "    'epochs': [50,80],\n",
    "    'batch_size': [12,20] \n",
    "}\n",
    "\n",
    "grid_search = GridSearchCV(estimator = model,\n",
    "                           param_grid = parameters,\n",
    "                           scoring = 'accuracy',\n",
    "                           cv = 10, n_jobs=-1)\n",
    "\n",
    "grid_search = grid_search.fit(X_train, y_train)\n",
    "\n",
    "print('Best Results with Grid Search:')\n",
    "print(grid_search.best_score_)\n",
    "print(grid_search.best_params_)\n",
    "\n",
    "y_pred = grid_search.predict(X_test)\n",
    "\n",
    "print('\\nAccuracy Score  on test data: ' + str(accuracy_score(y_test, y_pred)))\n",
    "print(confusion_matrix(y_test,y_pred))\n",
    "print(classification_report(y_test,y_pred))"
   ]
  },
  {
   "cell_type": "markdown",
   "metadata": {},
   "source": [
    "##### Without SMOTE "
   ]
  },
  {
   "cell_type": "code",
   "execution_count": null,
   "metadata": {},
   "outputs": [],
   "source": [
    "#Perceptron Tuning\n",
    "\n",
    "def create_model(unit):\n",
    "    model = Sequential()\n",
    "    model.add(Dense(units=unit, input_dim = X_train_S.shape[1], activation='relu'))\n",
    "    model.add(Dense(units=unit, activation='relu'))\n",
    "    model.add(Dense(units=unit, activation='relu'))\n",
    "    model.add(Dense(1, activation='sigmoid'))\n",
    "    model.compile(loss='binary_crossentropy', optimizer='Adam', metrics=['accuracy'])\n",
    "    return model\n",
    "\n",
    "model = KerasClassifier(build_fn=create_model, verbose=0)\n",
    "\n",
    "parameters = {\n",
    "    'unit': [5,10,15,20,25,30,35,40,45,50,55,60,65,70,75,80,85,90,95,100],\n",
    "    #'activation': ['relu','tanh'], \n",
    "    #'solver': ['adam','sgd'], \n",
    "    #'last_act': ['sigmoid','softmax'],\n",
    "    'epochs': [70,100],\n",
    "    'batch_size': [5,10] \n",
    "}\n",
    "\n",
    "grid_search = GridSearchCV(estimator = model,\n",
    "                           param_grid = parameters,\n",
    "                           scoring = 'accuracy',\n",
    "                           cv = 10, n_jobs=-1)\n",
    "\n",
    "grid_search = grid_search.fit(X_train_S, y_train_S)\n",
    "\n",
    "print('Best Results with Grid Search:')\n",
    "print(grid_search.best_score_)\n",
    "print(grid_search.best_params_)\n",
    "\n",
    "means = grid_search.cv_results_['mean_test_score']\n",
    "stds = grid_search.cv_results_['std_test_score']"
   ]
  },
  {
   "cell_type": "code",
   "execution_count": null,
   "metadata": {},
   "outputs": [],
   "source": [
    "#Results with 80 accuracies (20*2*2)\n",
    "plt.plot(means,'.-')\n",
    "plt.ylabel('Accuracy')\n",
    "plt.xlabel('Number of Perceptrons')\n",
    "plt.grid()\n",
    "\n",
    "plt.show()"
   ]
  },
  {
   "cell_type": "code",
   "execution_count": null,
   "metadata": {},
   "outputs": [],
   "source": [
    "#Perceptron Tuning\n",
    "\n",
    "def create_model(unit):\n",
    "    model = Sequential()\n",
    "    model.add(Dense(units=unit, input_dim = X_train_S.shape[1], activation='relu'))\n",
    "    model.add(Dense(units=unit, activation='relu'))\n",
    "    model.add(Dense(units=unit, activation='relu'))\n",
    "    model.add(Dense(1, activation='sigmoid'))\n",
    "    model.compile(loss='binary_crossentropy', optimizer='Adam', metrics=['accuracy'])\n",
    "    return model\n",
    "\n",
    "model = KerasClassifier(build_fn=create_model, verbose=0, epochs = 100, batch_size = 10)\n",
    "\n",
    "parameters = {\n",
    "    'unit': [5,10,15,20,25,30,35,40,45,50,55,60,65,70,75,80,85,90,95,100],\n",
    "    #'activation': ['relu','tanh'], \n",
    "    #'solver': ['adam','sgd'], \n",
    "    #'last_act': ['sigmoid','softmax'],\n",
    "    #'epochs': [70,100],\n",
    "    #'batch_size': [5,10] \n",
    "}\n",
    "\n",
    "grid_search = GridSearchCV(estimator = model,\n",
    "                           param_grid = parameters,\n",
    "                           scoring = 'accuracy',\n",
    "                           cv = 10, n_jobs=-1)\n",
    "\n",
    "grid_search = grid_search.fit(X_train_S, y_train_S)\n",
    "\n",
    "print('Best Results with Grid Search:')\n",
    "print(grid_search.best_score_)\n",
    "print(grid_search.best_params_)\n",
    "\n",
    "means = grid_search.cv_results_['mean_test_score']\n",
    "stds = grid_search.cv_results_['std_test_score']"
   ]
  },
  {
   "cell_type": "code",
   "execution_count": null,
   "metadata": {},
   "outputs": [],
   "source": [
    "plt.plot(xaxis_perceptrons,means,'.-')\n",
    "plt.ylabel('Accuracy')\n",
    "plt.xlabel('Number of Perceptrons')\n",
    "plt.grid()\n",
    "\n",
    "plt.savefig(\"GridSearchCV Screenshots/Exp3/No.OfPerceptron_K_S.png\")\n",
    "plt.show()"
   ]
  },
  {
   "cell_type": "code",
   "execution_count": null,
   "metadata": {},
   "outputs": [],
   "source": [
    "#Layers Tuning\n",
    "\n",
    "def create_model(No_Of_layers):\n",
    "    model = Sequential()\n",
    "    # Add an input layer\n",
    "    model.add(Dense(units=95, input_dim = X_train_S.shape[1], activation='relu'))\n",
    "\n",
    "    for i in range(No_Of_layers-1):\n",
    "        model.add(Dense(units=95, activation='relu'))\n",
    "\n",
    "    # Add an output layer \n",
    "    model.add(Dense(1, activation='sigmoid'))\n",
    "    #compile model\n",
    "    model.compile(loss='binary_crossentropy', optimizer='Adam', metrics=['accuracy'])\n",
    "    return model\n",
    "\n",
    "model = KerasClassifier(build_fn=create_model, verbose=0, epochs = 100, batch_size = 10)\n",
    "\n",
    "parameters = {\n",
    "    #'unit': [95],\n",
    "    'No_Of_layers': [1,2,3,4,5,6,7,8,9,10,11,12]\n",
    "}\n",
    "\n",
    "grid_search = GridSearchCV(estimator = model,\n",
    "                           param_grid = parameters,\n",
    "                           scoring = 'accuracy',\n",
    "                           cv = 10, n_jobs=-1)\n",
    "\n",
    "grid_search = grid_search.fit(X_train_S, y_train_S)\n",
    "\n",
    "print('Best Results with Grid Search:')\n",
    "print(grid_search.best_score_)\n",
    "print(grid_search.best_params_)\n",
    "\n",
    "means = grid_search.cv_results_['mean_test_score']\n",
    "stds = grid_search.cv_results_['std_test_score']"
   ]
  },
  {
   "cell_type": "code",
   "execution_count": null,
   "metadata": {},
   "outputs": [],
   "source": [
    "plt.plot(xaxis_layers,means,'.-')\n",
    "plt.ylabel('Accuracy')\n",
    "plt.xlabel('Number of Layers')\n",
    "plt.grid()\n",
    "\n",
    "plt.savefig(\"GridSearchCV Screenshots/Exp3/No.OfLayers_K_S.png\")\n",
    "plt.show()"
   ]
  },
  {
   "cell_type": "code",
   "execution_count": null,
   "metadata": {},
   "outputs": [],
   "source": [
    "#Epochs Tuning\n",
    "\n",
    "def create_model():\n",
    "    model = Sequential()\n",
    "    # Add an input layer\n",
    "    model.add(Dense(units=95, input_dim = X_train_S.shape[1], activation='relu'))\n",
    "\n",
    "    for i in range(3-1):\n",
    "        model.add(Dense(units=95, activation='relu'))\n",
    "\n",
    "    # Add an output layer \n",
    "    model.add(Dense(1, activation='sigmoid'))\n",
    "    #compile model\n",
    "    model.compile(loss='binary_crossentropy', optimizer='Adam', metrics=['accuracy'])\n",
    "    return model\n",
    "\n",
    "model = KerasClassifier(build_fn=create_model, verbose=0, batch_size = 10)\n",
    "\n",
    "parameters = {\n",
    "    #'unit': [95],\n",
    "    'epochs': [30,40,50,60,70,80,90,100,110,120]\n",
    "}\n",
    "\n",
    "grid_search = GridSearchCV(estimator = model,\n",
    "                           param_grid = parameters,\n",
    "                           scoring = 'accuracy',\n",
    "                           cv = 10, n_jobs=-1)\n",
    "\n",
    "grid_search = grid_search.fit(X_train_S, y_train_S)\n",
    "\n",
    "print('Best Results with Grid Search:')\n",
    "print(grid_search.best_score_)\n",
    "print(grid_search.best_params_)\n",
    "\n",
    "means = grid_search.cv_results_['mean_test_score']\n",
    "stds = grid_search.cv_results_['std_test_score']"
   ]
  },
  {
   "cell_type": "code",
   "execution_count": null,
   "metadata": {},
   "outputs": [],
   "source": [
    "plt.plot(xaxis_epochs,means,'.-')\n",
    "plt.ylabel('Accuracy')\n",
    "plt.xlabel('Number of Epochs')\n",
    "plt.grid()\n",
    "\n",
    "plt.savefig(\"GridSearchCV Screenshots/Exp3/No.OfEpochs_K_S.png\")\n",
    "plt.show()"
   ]
  },
  {
   "cell_type": "code",
   "execution_count": null,
   "metadata": {},
   "outputs": [],
   "source": [
    "#Batch Size Tuning\n",
    "\n",
    "def create_model():\n",
    "    model = Sequential()\n",
    "    # Add an input layer\n",
    "    model.add(Dense(units=95, input_dim = X_train_S.shape[1], activation='relu'))\n",
    "\n",
    "    for i in range(3-1):\n",
    "        model.add(Dense(units=95, activation='relu'))\n",
    "\n",
    "    # Add an output layer \n",
    "    model.add(Dense(1, activation='sigmoid'))\n",
    "    #compile model\n",
    "    model.compile(loss='binary_crossentropy', optimizer='Adam', metrics=['accuracy'])\n",
    "    return model\n",
    "\n",
    "model = KerasClassifier(build_fn=create_model, verbose=0, epochs = 110)\n",
    "\n",
    "parameters = {\n",
    "    #'unit': [95],\n",
    "    'batch_size': [0,2,5,7,10,12,15,17,20]\n",
    "}\n",
    "\n",
    "grid_search = GridSearchCV(estimator = model,\n",
    "                           param_grid = parameters,\n",
    "                           scoring = 'accuracy',\n",
    "                           cv = 10, n_jobs=-1)\n",
    "\n",
    "grid_search = grid_search.fit(X_train_S, y_train_S)\n",
    "\n",
    "print('Best Results with Grid Search:')\n",
    "print(grid_search.best_score_)\n",
    "print(grid_search.best_params_)\n",
    "\n",
    "means = grid_search.cv_results_['mean_test_score']\n",
    "stds = grid_search.cv_results_['std_test_score']"
   ]
  },
  {
   "cell_type": "code",
   "execution_count": null,
   "metadata": {},
   "outputs": [],
   "source": [
    "plt.plot(xaxis_batch,means,'.-')\n",
    "plt.ylabel('Accuracy')\n",
    "plt.xlabel('Number of Batch SIze')\n",
    "plt.grid()\n",
    "\n",
    "plt.savefig(\"GridSearchCV Screenshots/Exp3/No.OfBatch_K_S.png\")\n",
    "plt.show()"
   ]
  },
  {
   "cell_type": "code",
   "execution_count": null,
   "metadata": {},
   "outputs": [],
   "source": [
    "#Tuning with Grid Seaerch CV\n",
    "\n",
    "def create_model(unit,activation,solver,last_act):\n",
    "    model = Sequential()\n",
    "    model.add(Dense(units=unit, input_dim = X_train_S.shape[1], activation=activation))\n",
    "    \n",
    "    for i in range(3-1):\n",
    "        model.add(Dense(units=unit, activation=activation))\n",
    "    \n",
    "    model.add(Dense(1, activation=last_act))\n",
    "    model.compile(loss='binary_crossentropy', optimizer=solver, metrics=['accuracy'])\n",
    "    return model\n",
    "\n",
    "model = KerasClassifier(build_fn=create_model, verbose=0)\n",
    "\n",
    "parameters = {\n",
    "    'unit': [85,95],\n",
    "    'activation': ['relu','tanh'], \n",
    "    'solver': ['adam','sgd'], \n",
    "    'last_act': ['sigmoid','softmax'],\n",
    "    'epochs': [60,110],\n",
    "    'batch_size': [5,20]    \n",
    "}\n",
    "\n",
    "grid_search = GridSearchCV(estimator = model,\n",
    "                           param_grid = parameters,\n",
    "                           scoring = 'accuracy',\n",
    "                           cv = 10, n_jobs=-1)\n",
    "\n",
    "grid_search = grid_search.fit(X_train_S, y_train_S)\n",
    "\n",
    "print('Best Results with Grid Search:')\n",
    "print(grid_search.best_score_)\n",
    "print(grid_search.best_params_)\n",
    "\n",
    "y_pred_S = grid_search.predict(X_test_S)\n",
    "\n",
    "print('\\nAccuracy Score  on test data: ' + str(accuracy_score(y_test_S, y_pred_S)))\n",
    "print(confusion_matrix(y_test_S,y_pred_S))\n",
    "print(classification_report(y_test_S,y_pred_S))"
   ]
  },
  {
   "cell_type": "code",
   "execution_count": null,
   "metadata": {},
   "outputs": [],
   "source": [
    "print('Test Accuracy with Grid Search CV:')\n",
    "print('>Accuracy Score  without SMOTE: %.3f' % (accuracy_score(y_test, y_pred)))\n",
    "print('>Accuracy Score  with SMOTE: %.3f' % (accuracy_score(y_test_S, y_pred_S)))"
   ]
  }
 ],
 "metadata": {
  "kernelspec": {
   "display_name": "Python 3",
   "language": "python",
   "name": "python3"
  },
  "language_info": {
   "codemirror_mode": {
    "name": "ipython",
    "version": 3
   },
   "file_extension": ".py",
   "mimetype": "text/x-python",
   "name": "python",
   "nbconvert_exporter": "python",
   "pygments_lexer": "ipython3",
   "version": "3.8.5"
  }
 },
 "nbformat": 4,
 "nbformat_minor": 4
}
