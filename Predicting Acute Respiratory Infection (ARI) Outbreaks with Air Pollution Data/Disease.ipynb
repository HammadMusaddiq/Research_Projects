{
 "cells": [
  {
   "cell_type": "code",
   "execution_count": 1,
   "metadata": {},
   "outputs": [],
   "source": [
    "import os\n",
    "os.chdir('C:\\\\Users\\\\Hammad\\\\Desktop\\\\Talha Data\\\\')"
   ]
  },
  {
   "cell_type": "code",
   "execution_count": 2,
   "metadata": {},
   "outputs": [
    {
     "name": "stdout",
     "output_type": "stream",
     "text": [
      "0.21.3\n"
     ]
    }
   ],
   "source": [
    "import sklearn\n",
    "print(sklearn.__version__)"
   ]
  },
  {
   "cell_type": "code",
   "execution_count": 3,
   "metadata": {},
   "outputs": [
    {
     "data": {
      "text/plain": [
       "'C:\\\\Users\\\\Hammad\\\\Desktop\\\\Talha Data'"
      ]
     },
     "execution_count": 3,
     "metadata": {},
     "output_type": "execute_result"
    }
   ],
   "source": [
    "os.getcwd()"
   ]
  },
  {
   "cell_type": "code",
   "execution_count": 4,
   "metadata": {},
   "outputs": [],
   "source": [
    "import pandas as pd"
   ]
  },
  {
   "cell_type": "code",
   "execution_count": 5,
   "metadata": {},
   "outputs": [],
   "source": [
    "dataset=pd.read_csv('Sample.csv')"
   ]
  },
  {
   "cell_type": "code",
   "execution_count": 6,
   "metadata": {},
   "outputs": [
    {
     "data": {
      "text/html": [
       "<div>\n",
       "<style scoped>\n",
       "    .dataframe tbody tr th:only-of-type {\n",
       "        vertical-align: middle;\n",
       "    }\n",
       "\n",
       "    .dataframe tbody tr th {\n",
       "        vertical-align: top;\n",
       "    }\n",
       "\n",
       "    .dataframe thead th {\n",
       "        text-align: right;\n",
       "    }\n",
       "</style>\n",
       "<table border=\"1\" class=\"dataframe\">\n",
       "  <thead>\n",
       "    <tr style=\"text-align: right;\">\n",
       "      <th></th>\n",
       "      <th>Date</th>\n",
       "      <th>Disease</th>\n",
       "      <th>Case_no</th>\n",
       "      <th>Received_Date</th>\n",
       "      <th>Report_Time</th>\n",
       "      <th>Doctor's_Name</th>\n",
       "      <th>District</th>\n",
       "      <th>RHC/BHU_Name</th>\n",
       "      <th>RHC/BHU_Address</th>\n",
       "      <th>Date/Time</th>\n",
       "      <th>District_pakistan.District</th>\n",
       "      <th>District_pakistan.Latitude</th>\n",
       "      <th>District_pakistan.Longitude</th>\n",
       "    </tr>\n",
       "  </thead>\n",
       "  <tbody>\n",
       "    <tr>\n",
       "      <th>0</th>\n",
       "      <td>9</td>\n",
       "      <td>ARI/Pneum &gt; 5 Yrs</td>\n",
       "      <td>18</td>\n",
       "      <td>11-12-17 16:39</td>\n",
       "      <td>NaN</td>\n",
       "      <td>Shahid Munir</td>\n",
       "      <td>OKARA</td>\n",
       "      <td>Basic Health Unit ATARI OKARA</td>\n",
       "      <td>Machu Picchu Peru</td>\n",
       "      <td>09-05-18 7:44</td>\n",
       "      <td>OKARA</td>\n",
       "      <td>30.808500</td>\n",
       "      <td>73.459396</td>\n",
       "    </tr>\n",
       "    <tr>\n",
       "      <th>1</th>\n",
       "      <td>9</td>\n",
       "      <td>ARI/Pneum &lt; 5 Yrs</td>\n",
       "      <td>5</td>\n",
       "      <td>11-12-17 16:39</td>\n",
       "      <td>NaN</td>\n",
       "      <td>Shahid Munir</td>\n",
       "      <td>OKARA</td>\n",
       "      <td>Basic Health Unit ATARI OKARA</td>\n",
       "      <td>The Grand Canyon Arizona</td>\n",
       "      <td>09-05-18 7:44</td>\n",
       "      <td>OKARA</td>\n",
       "      <td>30.808500</td>\n",
       "      <td>73.459396</td>\n",
       "    </tr>\n",
       "    <tr>\n",
       "      <th>2</th>\n",
       "      <td>9</td>\n",
       "      <td>ARI/Pneum &gt; 5 Yrs</td>\n",
       "      <td>7</td>\n",
       "      <td>17-01-18 11:21</td>\n",
       "      <td>NaN</td>\n",
       "      <td>Amina Aslam</td>\n",
       "      <td>FAISALABAD</td>\n",
       "      <td>Basic Health Unit CHAK 594 GB FAISALABAD</td>\n",
       "      <td>Rome Italy</td>\n",
       "      <td>09-05-18 7:43</td>\n",
       "      <td>FAISALABAD</td>\n",
       "      <td>31.418715</td>\n",
       "      <td>73.079109</td>\n",
       "    </tr>\n",
       "    <tr>\n",
       "      <th>3</th>\n",
       "      <td>16</td>\n",
       "      <td>ARI/Pneum &gt; 5 Yrs</td>\n",
       "      <td>30</td>\n",
       "      <td>18-05-18 11:50</td>\n",
       "      <td>NaN</td>\n",
       "      <td>NUSRAT</td>\n",
       "      <td>FAISALABAD</td>\n",
       "      <td>Basic Health Unit CHAK 67 JB FAISALABAD</td>\n",
       "      <td>Maui Hawaii</td>\n",
       "      <td>09-05-18 7:38</td>\n",
       "      <td>FAISALABAD</td>\n",
       "      <td>31.418715</td>\n",
       "      <td>73.079109</td>\n",
       "    </tr>\n",
       "    <tr>\n",
       "      <th>4</th>\n",
       "      <td>16</td>\n",
       "      <td>ARI/Pneum &lt; 5 Yrs</td>\n",
       "      <td>8</td>\n",
       "      <td>18-05-18 11:50</td>\n",
       "      <td>NaN</td>\n",
       "      <td>NUSRAT</td>\n",
       "      <td>FAISALABAD</td>\n",
       "      <td>Basic Health Unit CHAK 67 JB FAISALABAD</td>\n",
       "      <td>Masai Mara Kenya</td>\n",
       "      <td>09-05-18 7:38</td>\n",
       "      <td>FAISALABAD</td>\n",
       "      <td>31.418715</td>\n",
       "      <td>73.079109</td>\n",
       "    </tr>\n",
       "    <tr>\n",
       "      <th>5</th>\n",
       "      <td>7</td>\n",
       "      <td>ARI/Pneum &gt; 5 Yrs</td>\n",
       "      <td>5</td>\n",
       "      <td>10-01-18 11:48</td>\n",
       "      <td>NaN</td>\n",
       "      <td>RUKHSANA ANWAR</td>\n",
       "      <td>FAISALABAD</td>\n",
       "      <td>Basic Health Unit CHAK 200 RB FAISALABAD</td>\n",
       "      <td>Montreal Canada</td>\n",
       "      <td>09-05-18 6:52</td>\n",
       "      <td>FAISALABAD</td>\n",
       "      <td>31.418715</td>\n",
       "      <td>73.079109</td>\n",
       "    </tr>\n",
       "    <tr>\n",
       "      <th>6</th>\n",
       "      <td>7</td>\n",
       "      <td>ARI/Pneum &lt; 5 Yrs</td>\n",
       "      <td>15</td>\n",
       "      <td>10-01-18 11:48</td>\n",
       "      <td>NaN</td>\n",
       "      <td>RUKHSANA ANWAR</td>\n",
       "      <td>FAISALABAD</td>\n",
       "      <td>Basic Health Unit CHAK 200 RB FAISALABAD</td>\n",
       "      <td>Istanbul Turkey</td>\n",
       "      <td>09-05-18 6:52</td>\n",
       "      <td>FAISALABAD</td>\n",
       "      <td>31.418715</td>\n",
       "      <td>73.079109</td>\n",
       "    </tr>\n",
       "    <tr>\n",
       "      <th>7</th>\n",
       "      <td>7</td>\n",
       "      <td>ARI/Pneum &gt; 5 Yrs</td>\n",
       "      <td>5</td>\n",
       "      <td>10-01-18 11:48</td>\n",
       "      <td>NaN</td>\n",
       "      <td>RUKHSANA ANWAR</td>\n",
       "      <td>FAISALABAD</td>\n",
       "      <td>Basic Health Unit CHAK 200 RB FAISALABAD</td>\n",
       "      <td>Angkor Wat Cambodia</td>\n",
       "      <td>09-05-18 6:51</td>\n",
       "      <td>FAISALABAD</td>\n",
       "      <td>31.418715</td>\n",
       "      <td>73.079109</td>\n",
       "    </tr>\n",
       "    <tr>\n",
       "      <th>8</th>\n",
       "      <td>7</td>\n",
       "      <td>ARI/Pneum &lt; 5 Yrs</td>\n",
       "      <td>15</td>\n",
       "      <td>10-01-18 11:48</td>\n",
       "      <td>NaN</td>\n",
       "      <td>RUKHSANA ANWAR</td>\n",
       "      <td>FAISALABAD</td>\n",
       "      <td>Basic Health Unit CHAK 200 RB FAISALABAD</td>\n",
       "      <td>London England</td>\n",
       "      <td>09-05-18 6:51</td>\n",
       "      <td>FAISALABAD</td>\n",
       "      <td>31.418715</td>\n",
       "      <td>73.079109</td>\n",
       "    </tr>\n",
       "    <tr>\n",
       "      <th>9</th>\n",
       "      <td>8</td>\n",
       "      <td>ARI/Pneum &gt; 5 Yrs</td>\n",
       "      <td>18</td>\n",
       "      <td>02-02-18 10:30</td>\n",
       "      <td>NaN</td>\n",
       "      <td>NAJMA SARWAR</td>\n",
       "      <td>FAISALABAD</td>\n",
       "      <td>Basic Health Unit CHAK 474 GB FAISALABAD</td>\n",
       "      <td>Manhattan New York</td>\n",
       "      <td>09-05-18 6:42</td>\n",
       "      <td>FAISALABAD</td>\n",
       "      <td>31.418715</td>\n",
       "      <td>73.079109</td>\n",
       "    </tr>\n",
       "  </tbody>\n",
       "</table>\n",
       "</div>"
      ],
      "text/plain": [
       "   Date            Disease  Case_no   Received_Date  Report_Time  \\\n",
       "0     9  ARI/Pneum > 5 Yrs       18  11-12-17 16:39          NaN   \n",
       "1     9  ARI/Pneum < 5 Yrs        5  11-12-17 16:39          NaN   \n",
       "2     9  ARI/Pneum > 5 Yrs        7  17-01-18 11:21          NaN   \n",
       "3    16  ARI/Pneum > 5 Yrs       30  18-05-18 11:50          NaN   \n",
       "4    16  ARI/Pneum < 5 Yrs        8  18-05-18 11:50          NaN   \n",
       "5     7  ARI/Pneum > 5 Yrs        5  10-01-18 11:48          NaN   \n",
       "6     7  ARI/Pneum < 5 Yrs       15  10-01-18 11:48          NaN   \n",
       "7     7  ARI/Pneum > 5 Yrs        5  10-01-18 11:48          NaN   \n",
       "8     7  ARI/Pneum < 5 Yrs       15  10-01-18 11:48          NaN   \n",
       "9     8  ARI/Pneum > 5 Yrs       18  02-02-18 10:30          NaN   \n",
       "\n",
       "    Doctor's_Name    District                              RHC/BHU_Name  \\\n",
       "0    Shahid Munir       OKARA             Basic Health Unit ATARI OKARA   \n",
       "1    Shahid Munir       OKARA             Basic Health Unit ATARI OKARA   \n",
       "2     Amina Aslam  FAISALABAD  Basic Health Unit CHAK 594 GB FAISALABAD   \n",
       "3          NUSRAT  FAISALABAD   Basic Health Unit CHAK 67 JB FAISALABAD   \n",
       "4          NUSRAT  FAISALABAD   Basic Health Unit CHAK 67 JB FAISALABAD   \n",
       "5  RUKHSANA ANWAR  FAISALABAD  Basic Health Unit CHAK 200 RB FAISALABAD   \n",
       "6  RUKHSANA ANWAR  FAISALABAD  Basic Health Unit CHAK 200 RB FAISALABAD   \n",
       "7  RUKHSANA ANWAR  FAISALABAD  Basic Health Unit CHAK 200 RB FAISALABAD   \n",
       "8  RUKHSANA ANWAR  FAISALABAD  Basic Health Unit CHAK 200 RB FAISALABAD   \n",
       "9    NAJMA SARWAR  FAISALABAD  Basic Health Unit CHAK 474 GB FAISALABAD   \n",
       "\n",
       "            RHC/BHU_Address      Date/Time District_pakistan.District  \\\n",
       "0         Machu Picchu Peru  09-05-18 7:44                      OKARA   \n",
       "1  The Grand Canyon Arizona  09-05-18 7:44                      OKARA   \n",
       "2                Rome Italy  09-05-18 7:43                 FAISALABAD   \n",
       "3               Maui Hawaii  09-05-18 7:38                 FAISALABAD   \n",
       "4          Masai Mara Kenya  09-05-18 7:38                 FAISALABAD   \n",
       "5           Montreal Canada  09-05-18 6:52                 FAISALABAD   \n",
       "6           Istanbul Turkey  09-05-18 6:52                 FAISALABAD   \n",
       "7       Angkor Wat Cambodia  09-05-18 6:51                 FAISALABAD   \n",
       "8            London England  09-05-18 6:51                 FAISALABAD   \n",
       "9        Manhattan New York  09-05-18 6:42                 FAISALABAD   \n",
       "\n",
       "   District_pakistan.Latitude  District_pakistan.Longitude  \n",
       "0                   30.808500                    73.459396  \n",
       "1                   30.808500                    73.459396  \n",
       "2                   31.418715                    73.079109  \n",
       "3                   31.418715                    73.079109  \n",
       "4                   31.418715                    73.079109  \n",
       "5                   31.418715                    73.079109  \n",
       "6                   31.418715                    73.079109  \n",
       "7                   31.418715                    73.079109  \n",
       "8                   31.418715                    73.079109  \n",
       "9                   31.418715                    73.079109  "
      ]
     },
     "execution_count": 6,
     "metadata": {},
     "output_type": "execute_result"
    }
   ],
   "source": [
    "dataset"
   ]
  },
  {
   "cell_type": "code",
   "execution_count": 7,
   "metadata": {},
   "outputs": [
    {
     "data": {
      "text/plain": [
       "(10, 13)"
      ]
     },
     "execution_count": 7,
     "metadata": {},
     "output_type": "execute_result"
    }
   ],
   "source": [
    "dataset.shape"
   ]
  },
  {
   "cell_type": "code",
   "execution_count": 8,
   "metadata": {},
   "outputs": [
    {
     "data": {
      "text/plain": [
       "array([[9, 'ARI/Pneum > 5 Yrs', 18, '11-12-17 16:39', nan,\n",
       "        'Shahid Munir', 'OKARA', 'Basic Health Unit ATARI OKARA',\n",
       "        'Machu Picchu Peru', '09-05-18 7:44', 'OKARA', 30.8085,\n",
       "        73.459396],\n",
       "       [9, 'ARI/Pneum < 5 Yrs', 5, '11-12-17 16:39', nan, 'Shahid Munir',\n",
       "        'OKARA', 'Basic Health Unit ATARI OKARA',\n",
       "        'The Grand Canyon Arizona', '09-05-18 7:44', 'OKARA', 30.8085,\n",
       "        73.459396],\n",
       "       [9, 'ARI/Pneum > 5 Yrs', 7, '17-01-18 11:21', nan, 'Amina Aslam',\n",
       "        'FAISALABAD', 'Basic Health Unit CHAK 594 GB FAISALABAD',\n",
       "        'Rome Italy', '09-05-18 7:43', 'FAISALABAD', 31.418715,\n",
       "        73.079109],\n",
       "       [16, 'ARI/Pneum > 5 Yrs', 30, '18-05-18 11:50', nan, 'NUSRAT',\n",
       "        'FAISALABAD', 'Basic Health Unit CHAK 67 JB FAISALABAD',\n",
       "        'Maui Hawaii', '09-05-18 7:38', 'FAISALABAD', 31.418715,\n",
       "        73.079109],\n",
       "       [16, 'ARI/Pneum < 5 Yrs', 8, '18-05-18 11:50', nan, 'NUSRAT',\n",
       "        'FAISALABAD', 'Basic Health Unit CHAK 67 JB FAISALABAD',\n",
       "        'Masai Mara Kenya', '09-05-18 7:38', 'FAISALABAD', 31.418715,\n",
       "        73.079109],\n",
       "       [7, 'ARI/Pneum > 5 Yrs', 5, '10-01-18 11:48', nan,\n",
       "        'RUKHSANA ANWAR', 'FAISALABAD',\n",
       "        'Basic Health Unit CHAK 200 RB FAISALABAD', 'Montreal Canada',\n",
       "        '09-05-18 6:52', 'FAISALABAD', 31.418715, 73.079109],\n",
       "       [7, 'ARI/Pneum < 5 Yrs', 15, '10-01-18 11:48', nan,\n",
       "        'RUKHSANA ANWAR', 'FAISALABAD',\n",
       "        'Basic Health Unit CHAK 200 RB FAISALABAD', 'Istanbul Turkey',\n",
       "        '09-05-18 6:52', 'FAISALABAD', 31.418715, 73.079109],\n",
       "       [7, 'ARI/Pneum > 5 Yrs', 5, '10-01-18 11:48', nan,\n",
       "        'RUKHSANA ANWAR', 'FAISALABAD',\n",
       "        'Basic Health Unit CHAK 200 RB FAISALABAD',\n",
       "        'Angkor Wat Cambodia', '09-05-18 6:51', 'FAISALABAD', 31.418715,\n",
       "        73.079109],\n",
       "       [7, 'ARI/Pneum < 5 Yrs', 15, '10-01-18 11:48', nan,\n",
       "        'RUKHSANA ANWAR', 'FAISALABAD',\n",
       "        'Basic Health Unit CHAK 200 RB FAISALABAD', 'London England',\n",
       "        '09-05-18 6:51', 'FAISALABAD', 31.418715, 73.079109],\n",
       "       [8, 'ARI/Pneum > 5 Yrs', 18, '02-02-18 10:30', nan,\n",
       "        'NAJMA SARWAR', 'FAISALABAD',\n",
       "        'Basic Health Unit CHAK 474 GB FAISALABAD', 'Manhattan New York',\n",
       "        '09-05-18 6:42', 'FAISALABAD', 31.418715, 73.079109]],\n",
       "      dtype=object)"
      ]
     },
     "execution_count": 8,
     "metadata": {},
     "output_type": "execute_result"
    }
   ],
   "source": [
    "data = dataset.values\n",
    "dataset.values"
   ]
  },
  {
   "cell_type": "code",
   "execution_count": 9,
   "metadata": {},
   "outputs": [
    {
     "data": {
      "text/plain": [
       "0           Machu Picchu Peru\n",
       "1    The Grand Canyon Arizona\n",
       "2                  Rome Italy\n",
       "3                 Maui Hawaii\n",
       "4            Masai Mara Kenya\n",
       "5             Montreal Canada\n",
       "6             Istanbul Turkey\n",
       "7         Angkor Wat Cambodia\n",
       "8              London England\n",
       "9          Manhattan New York\n",
       "Name: RHC/BHU_Address, dtype: object"
      ]
     },
     "execution_count": 9,
     "metadata": {},
     "output_type": "execute_result"
    }
   ],
   "source": [
    "arr=dataset['RHC/BHU_Address']\n",
    "dataset['RHC/BHU_Address']"
   ]
  },
  {
   "cell_type": "code",
   "execution_count": 10,
   "metadata": {},
   "outputs": [],
   "source": [
    "from geopy.geocoders import Nominatim\n",
    "#from geopandas. tools import geocode\n",
    "geolocator = Nominatim(user_agent=\"Disease\")"
   ]
  },
  {
   "cell_type": "code",
   "execution_count": 11,
   "metadata": {},
   "outputs": [
    {
     "data": {
      "text/plain": [
       "['Choropleth',\n",
       " 'Circle',\n",
       " 'CircleMarker',\n",
       " 'ClickForMarker',\n",
       " 'ColorLine',\n",
       " 'ColorMap',\n",
       " 'CssLink',\n",
       " 'CustomIcon',\n",
       " 'Div',\n",
       " 'DivIcon',\n",
       " 'Element',\n",
       " 'FeatureGroup',\n",
       " 'Figure',\n",
       " 'FitBounds',\n",
       " 'GeoJson',\n",
       " 'GeoJsonPopup',\n",
       " 'GeoJsonTooltip',\n",
       " 'Html',\n",
       " 'IFrame',\n",
       " 'Icon',\n",
       " 'JavascriptLink',\n",
       " 'LatLngPopup',\n",
       " 'LayerControl',\n",
       " 'LinearColormap',\n",
       " 'Link',\n",
       " 'MacroElement',\n",
       " 'Map',\n",
       " 'Marker',\n",
       " 'PolyLine',\n",
       " 'Polygon',\n",
       " 'Popup',\n",
       " 'Rectangle',\n",
       " 'RegularPolygonMarker',\n",
       " 'StepColormap',\n",
       " 'TileLayer',\n",
       " 'Tooltip',\n",
       " 'TopoJson',\n",
       " 'Vega',\n",
       " 'VegaLite',\n",
       " 'WmsTileLayer',\n",
       " '__all__',\n",
       " '__builtins__',\n",
       " '__cached__',\n",
       " '__doc__',\n",
       " '__file__',\n",
       " '__loader__',\n",
       " '__name__',\n",
       " '__package__',\n",
       " '__path__',\n",
       " '__spec__',\n",
       " '__version__',\n",
       " '_version',\n",
       " 'branca',\n",
       " 'features',\n",
       " 'folium',\n",
       " 'map',\n",
       " 'raster_layers',\n",
       " 'sys',\n",
       " 'utilities',\n",
       " 'vector_layers']"
      ]
     },
     "execution_count": 11,
     "metadata": {},
     "output_type": "execute_result"
    }
   ],
   "source": [
    "import folium\n",
    "dir(folium)"
   ]
  },
  {
   "cell_type": "code",
   "execution_count": 12,
   "metadata": {},
   "outputs": [
    {
     "data": {
      "text/plain": [
       "['AlgoliaPlaces',\n",
       " 'ArcGIS',\n",
       " 'AzureMaps',\n",
       " 'BANFrance',\n",
       " 'Baidu',\n",
       " 'BaiduV3',\n",
       " 'Bing',\n",
       " 'DataBC',\n",
       " 'GeoNames',\n",
       " 'GeocodeEarth',\n",
       " 'GeocodeFarm',\n",
       " 'Geolake',\n",
       " 'GoogleV3',\n",
       " 'Here',\n",
       " 'IGNFrance',\n",
       " 'LiveAddress',\n",
       " 'Location',\n",
       " 'MapBox',\n",
       " 'MapQuest',\n",
       " 'MapTiler',\n",
       " 'Nominatim',\n",
       " 'OpenCage',\n",
       " 'OpenMapQuest',\n",
       " 'Pelias',\n",
       " 'Photon',\n",
       " 'PickPoint',\n",
       " 'Point',\n",
       " 'Timezone',\n",
       " 'TomTom',\n",
       " 'What3Words',\n",
       " 'Yandex',\n",
       " '__builtins__',\n",
       " '__cached__',\n",
       " '__doc__',\n",
       " '__file__',\n",
       " '__loader__',\n",
       " '__name__',\n",
       " '__package__',\n",
       " '__path__',\n",
       " '__spec__',\n",
       " '__version__',\n",
       " '__version_info__',\n",
       " 'adapters',\n",
       " 'compat',\n",
       " 'exc',\n",
       " 'format',\n",
       " 'geocoders',\n",
       " 'get_geocoder_for_service',\n",
       " 'get_version',\n",
       " 'location',\n",
       " 'point',\n",
       " 'timezone',\n",
       " 'units',\n",
       " 'util']"
      ]
     },
     "execution_count": 12,
     "metadata": {},
     "output_type": "execute_result"
    }
   ],
   "source": [
    "import geopy\n",
    "dir(geopy)"
   ]
  },
  {
   "cell_type": "code",
   "execution_count": 31,
   "metadata": {},
   "outputs": [
    {
     "ename": "TypeError",
     "evalue": "'str' object does not support item assignment",
     "output_type": "error",
     "traceback": [
      "\u001b[1;31m---------------------------------------------------------------------------\u001b[0m",
      "\u001b[1;31mTypeError\u001b[0m                                 Traceback (most recent call last)",
      "\u001b[1;32m<ipython-input-31-0614ab565a14>\u001b[0m in \u001b[0;36m<module>\u001b[1;34m\u001b[0m\n\u001b[0;32m      1\u001b[0m \u001b[1;32mfor\u001b[0m \u001b[0mx\u001b[0m \u001b[1;32min\u001b[0m \u001b[0marr\u001b[0m\u001b[1;33m:\u001b[0m\u001b[1;33m\u001b[0m\u001b[1;33m\u001b[0m\u001b[0m\n\u001b[0;32m      2\u001b[0m     \u001b[0mlocation\u001b[0m \u001b[1;33m=\u001b[0m \u001b[0mgeolocator\u001b[0m\u001b[1;33m.\u001b[0m\u001b[0mgeocode\u001b[0m\u001b[1;33m(\u001b[0m\u001b[0mx\u001b[0m\u001b[1;33m)\u001b[0m\u001b[1;33m\u001b[0m\u001b[1;33m\u001b[0m\u001b[0m\n\u001b[1;32m----> 3\u001b[1;33m     \u001b[0maddresses\u001b[0m\u001b[1;33m[\u001b[0m\u001b[0mx\u001b[0m\u001b[1;33m]\u001b[0m \u001b[1;33m=\u001b[0m \u001b[0mlocation\u001b[0m\u001b[1;33m.\u001b[0m\u001b[0maddress\u001b[0m\u001b[1;33m\u001b[0m\u001b[1;33m\u001b[0m\u001b[0m\n\u001b[0m\u001b[0;32m      4\u001b[0m     \u001b[0mcoordinates\u001b[0m\u001b[1;33m[\u001b[0m\u001b[0mx\u001b[0m\u001b[1;33m]\u001b[0m \u001b[1;33m=\u001b[0m \u001b[0mlocation\u001b[0m\u001b[1;33m.\u001b[0m\u001b[0mlatitude\u001b[0m\u001b[1;33m,\u001b[0m \u001b[0mlocation\u001b[0m\u001b[1;33m.\u001b[0m\u001b[0mlongitude\u001b[0m\u001b[1;33m\u001b[0m\u001b[1;33m\u001b[0m\u001b[0m\n",
      "\u001b[1;31mTypeError\u001b[0m: 'str' object does not support item assignment"
     ]
    }
   ],
   "source": [
    "for x in arr:\n",
    "    location = geolocator.geocode(x)\n",
    "    addresses[x] = location.address\n",
    "    coordinates[x] = location.latitude, location.longitude"
   ]
  },
  {
   "cell_type": "code",
   "execution_count": 29,
   "metadata": {},
   "outputs": [
    {
     "name": "stdout",
     "output_type": "stream",
     "text": [
      "New York, 1884, 1st Avenue, Midtown East, Manhattan Community Board 6, Manhattan, New York County, New York, 10155, United States\n"
     ]
    }
   ],
   "source": [
    "print(addresses)"
   ]
  },
  {
   "cell_type": "code",
   "execution_count": 27,
   "metadata": {},
   "outputs": [
    {
     "data": {
      "text/plain": [
       "(40.7587979, -73.9623427)"
      ]
     },
     "execution_count": 27,
     "metadata": {},
     "output_type": "execute_result"
    }
   ],
   "source": [
    "coordinates"
   ]
  },
  {
   "cell_type": "code",
   "execution_count": 17,
   "metadata": {},
   "outputs": [
    {
     "name": "stdout",
     "output_type": "stream",
     "text": [
      "Chak 106 J.B Khichian, پنجاب, پاکستان\n",
      "(31.6087124, 73.12531974195113)\n",
      "{'place_id': 154049290, 'licence': 'Data © OpenStreetMap contributors, ODbL 1.0. https://osm.org/copyright', 'osm_type': 'way', 'osm_id': 250911351, 'boundingbox': ['31.6040432', '31.6130159', '73.1196275', '73.1310645'], 'lat': '31.6087124', 'lon': '73.12531974195113', 'display_name': 'Chak 106 J.B Khichian, پنجاب, پاکستان', 'class': 'landuse', 'type': 'residential', 'importance': 0.3723437491030711}\n"
     ]
    }
   ],
   "source": [
    "location = geolocator.geocode(\"CHAK 67 JB, Faisalabad, Punjab, Pakistan\")\n",
    "print(location.address)\n",
    "print((location.latitude, location.longitude))\n",
    "print(location.raw)"
   ]
  },
  {
   "cell_type": "code",
   "execution_count": 15,
   "metadata": {},
   "outputs": [
    {
     "data": {
      "text/plain": [
       "(40.7410861, -73.9896297241625)"
      ]
     },
     "execution_count": 15,
     "metadata": {},
     "output_type": "execute_result"
    }
   ],
   "source": [
    "(40.7410861, -73.9896297241625)"
   ]
  },
  {
   "cell_type": "code",
   "execution_count": 21,
   "metadata": {},
   "outputs": [
    {
     "ename": "TypeError",
     "evalue": "unsupported operand type(s) for +: 'int' and 'str'",
     "output_type": "error",
     "traceback": [
      "\u001b[1;31m---------------------------------------------------------------------------\u001b[0m",
      "\u001b[1;31mTypeError\u001b[0m                                 Traceback (most recent call last)",
      "\u001b[1;32m<ipython-input-21-c65b28d9feff>\u001b[0m in \u001b[0;36m<module>\u001b[1;34m\u001b[0m\n\u001b[0;32m      3\u001b[0m \u001b[1;32mwith\u001b[0m \u001b[0mopen\u001b[0m\u001b[1;33m(\u001b[0m\u001b[1;34m\"Sample.csv\"\u001b[0m\u001b[1;33m,\u001b[0m \u001b[1;34m\"r\"\u001b[0m\u001b[1;33m)\u001b[0m \u001b[1;32mas\u001b[0m \u001b[0mins\u001b[0m\u001b[1;33m:\u001b[0m\u001b[1;33m\u001b[0m\u001b[1;33m\u001b[0m\u001b[0m\n\u001b[0;32m      4\u001b[0m     \u001b[1;32mfor\u001b[0m \u001b[0mrow\u001b[0m \u001b[1;32min\u001b[0m \u001b[0mcsv\u001b[0m\u001b[1;33m.\u001b[0m\u001b[0mreader\u001b[0m\u001b[1;33m(\u001b[0m\u001b[0mins\u001b[0m\u001b[1;33m)\u001b[0m\u001b[1;33m:\u001b[0m\u001b[1;33m\u001b[0m\u001b[1;33m\u001b[0m\u001b[0m\n\u001b[1;32m----> 5\u001b[1;33m         \u001b[0mprint\u001b[0m\u001b[1;33m(\u001b[0m\u001b[0msum\u001b[0m\u001b[1;33m(\u001b[0m\u001b[0mmap\u001b[0m\u001b[1;33m(\u001b[0m\u001b[0mstr\u001b[0m\u001b[1;33m,\u001b[0m \u001b[0mrow\u001b[0m\u001b[1;33m)\u001b[0m\u001b[1;33m)\u001b[0m\u001b[1;33m)\u001b[0m\u001b[1;33m\u001b[0m\u001b[1;33m\u001b[0m\u001b[0m\n\u001b[0m",
      "\u001b[1;31mTypeError\u001b[0m: unsupported operand type(s) for +: 'int' and 'str'"
     ]
    }
   ],
   "source": [
    "import csv\n",
    "\n",
    "with open(\"Sample.csv\", \"r\") as ins:\n",
    "    for row in csv.reader(ins):\n",
    "        print(sum(map(str, row)))"
   ]
  },
  {
   "cell_type": "code",
   "execution_count": null,
   "metadata": {},
   "outputs": [],
   "source": []
  }
 ],
 "metadata": {
  "kernelspec": {
   "display_name": "Python 3",
   "language": "python",
   "name": "python3"
  },
  "language_info": {
   "codemirror_mode": {
    "name": "ipython",
    "version": 3
   },
   "file_extension": ".py",
   "mimetype": "text/x-python",
   "name": "python",
   "nbconvert_exporter": "python",
   "pygments_lexer": "ipython3",
   "version": "3.7.4"
  }
 },
 "nbformat": 4,
 "nbformat_minor": 2
}
